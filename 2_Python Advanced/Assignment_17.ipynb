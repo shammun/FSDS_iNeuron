{
 "cells": [
  {
   "cell_type": "markdown",
   "id": "05cd45e9",
   "metadata": {},
   "source": [
    "# Assignment 17"
   ]
  },
  {
   "cell_type": "markdown",
   "id": "3f5c31e5",
   "metadata": {},
   "source": [
    "## Question 1"
   ]
  },
  {
   "cell_type": "markdown",
   "id": "bcfcd840",
   "metadata": {},
   "source": [
    "Explain the difference between greedy and non-greedy syntax with visual terms in as few words as possible. What is the bare minimum effort required to transform a greedy pattern into a non-greedy one? What characters or characters can you introduce or change?"
   ]
  },
  {
   "cell_type": "markdown",
   "id": "16983ccc",
   "metadata": {},
   "source": [
    "## Answer to the Question 1"
   ]
  },
  {
   "cell_type": "markdown",
   "id": "81641e0a",
   "metadata": {},
   "source": [
    "Greedy syntax in regular expressions indicates that the pattern attempts to match as much text as possible, whereas non-greedy syntax means that the pattern attempts to match as little text as possible.\n",
    "\n",
    "For example, in the regular expression pattern `ab.*c`, the `.*` component is a greedy pattern that matches any amount of characters (even zero) between the letters `a` and `c`. Because the `.*` pattern matches as much text as possible, when the string `abcdefghhjjklkllbnjkabc` is matched against this pattern, the complete string `abcdefghhjjklkllbnjkabc` will be matched.\n",
    "\n",
    "To change a greedy pattern into a non-greedy pattern, use the `?` character after the quantifier, such as `.*?` instead of `.*`. This will switch the pattern from greedy to non-greedy, with the pattern attempting to match as little text as possible.\n",
    "\n",
    "For example, if we modify the pattern to `ab.*?c` and match it against the string `abcdefghhjjklkllbnjkabc` the pattern will only match the substring `abc`, because the `.*?` pattern matches the least amount of text while still allowing the pattern to match."
   ]
  },
  {
   "cell_type": "markdown",
   "id": "e3fd8ada",
   "metadata": {},
   "source": [
    "## Question 2"
   ]
  },
  {
   "cell_type": "markdown",
   "id": "a544247d",
   "metadata": {},
   "source": [
    "When exactly does greedy versus non-greedy make a difference?  What if you're looking for a non-greedy match but the only one available is greedy?"
   ]
  },
  {
   "cell_type": "markdown",
   "id": "512da666",
   "metadata": {},
   "source": [
    "## Answer to the Question 2"
   ]
  },
  {
   "cell_type": "markdown",
   "id": "fbde0563",
   "metadata": {},
   "source": [
    "A greedy match will match as many characters as possible while allowing the regex to match the complete text. The regular expression `.*`, for example, will match as much of the input string as possible.\n",
    "\n",
    "In contrast, a non-greedy match will match as little as possible while still allowing the regex to match the complete string. The regular expression `.*?`, for example, will match as little of the input string as possible.\n",
    "\n",
    "When the input string contains several overlapping matches, greedy and non-greedy matching make a difference. A greedy match will match the longest possible substring that satisfies the pattern in such instances, whereas a non-greedy match will match the shortest possible substring that satisfies the pattern."
   ]
  },
  {
   "cell_type": "markdown",
   "id": "18db1f75",
   "metadata": {},
   "source": [
    "## Question 3"
   ]
  },
  {
   "cell_type": "markdown",
   "id": "f290e655",
   "metadata": {},
   "source": [
    "In a simple match of a string, which looks only for one match and does not do any replacement, is the use of a nontagged group likely to make any practical difference?"
   ]
  },
  {
   "cell_type": "markdown",
   "id": "674b7495",
   "metadata": {},
   "source": [
    "## Answer to the Question 3"
   ]
  },
  {
   "cell_type": "markdown",
   "id": "c8b2defc",
   "metadata": {},
   "source": [
    "The usage of a nontagged group in a simple string match is unlikely to make a practical difference because the group will not be used for any replacement operations. A nontagged group's main purpose is to group together several patterns so that they can be utilized for more sophisticated operations, such as replacing multiple patterns with a single one."
   ]
  },
  {
   "cell_type": "markdown",
   "id": "d71aa5ec",
   "metadata": {},
   "source": [
    "## Question 4"
   ]
  },
  {
   "cell_type": "markdown",
   "id": "c8cf9d40",
   "metadata": {},
   "source": [
    "Describe a scenario in which using a nontagged category would have a significant impact on the program's outcomes."
   ]
  },
  {
   "cell_type": "markdown",
   "id": "a6b5d53e",
   "metadata": {},
   "source": [
    "## Answer to the Question 4"
   ]
  },
  {
   "cell_type": "markdown",
   "id": "865dedbe",
   "metadata": {},
   "source": [
    "When combined with a replacement operation, a nontagged group can have a considerable impact on program outcomes. For example, if we want to replace all occurrences of the word \"dog\" in a string with the word \"cat,\" we can build a nontagged group that contains \"dog\" and \"cat,\" and then use the group as the pattern in a regex replacement operation. This ensures that all instances of \"dog\" are replaced with \"cat,\" with no other words altered."
   ]
  },
  {
   "cell_type": "code",
   "execution_count": 1,
   "id": "e2da4878",
   "metadata": {},
   "outputs": [
    {
     "name": "stdout",
     "output_type": "stream",
     "text": [
      "The quick brown cat jumps over the lazy cat\n"
     ]
    }
   ],
   "source": [
    "import re\n",
    "\n",
    "text = \"The quick brown dog jumps over the lazy dog\"\n",
    "\n",
    "# Using a non-capturing group to replace all occurrences of \"dog\" with \"cat\"\n",
    "pattern = re.compile(\"(?:dog)\")\n",
    "new_text = re.sub(pattern, \"cat\", text)\n",
    "\n",
    "print(new_text)"
   ]
  },
  {
   "cell_type": "markdown",
   "id": "d6d5d9d1",
   "metadata": {},
   "source": [
    "## Question 5"
   ]
  },
  {
   "cell_type": "markdown",
   "id": "567a373b",
   "metadata": {},
   "source": [
    "Unlike a normal regex pattern, a look-ahead condition does not consume the characters it examines. Describe a situation in which this could make a difference in the results of your programme."
   ]
  },
  {
   "cell_type": "markdown",
   "id": "6b5251ea",
   "metadata": {},
   "source": [
    "## Answer to the Question 5"
   ]
  },
  {
   "cell_type": "markdown",
   "id": "19137df1",
   "metadata": {},
   "source": [
    "In a regular expression, a look-ahead assertion is a zero-width assertion that matches a pattern only if it is followed by another pattern. As you mentioned, the look-ahead assertion does not consume any characters, which can affect the program's output in some instances.\n",
    "\n",
    "When utilizing the pattern to match text that contains overlapping substrings, the zero-width property of a look-ahead assertion can make a difference. Imagine the following scenario:"
   ]
  },
  {
   "cell_type": "code",
   "execution_count": 4,
   "id": "39e7f17e",
   "metadata": {},
   "outputs": [
    {
     "name": "stdout",
     "output_type": "stream",
     "text": [
      "['', '']\n"
     ]
    }
   ],
   "source": [
    "import re\n",
    "\n",
    "text = \"abcababc\"\n",
    "pattern = re.compile(\"(?=abc)\")\n",
    "matches = pattern.findall(text)\n",
    "\n",
    "print(matches)"
   ]
  },
  {
   "cell_type": "markdown",
   "id": "f489fdd9",
   "metadata": {},
   "source": [
    "To match all occurrences of the string `abc` in the input string `abcababc`, we use a look-ahead assertion `(?=aaa)`. The `findall()` function searches the input string for all non-overlapping matches of the pattern. But the output is not what we are expecting. The regular expression pattern `(?=abc)` is a zero-width look-ahead assertion that matches a position in the input string if it is followed by the characters `abc`. This means that the regular expression engine will find all the positions in the input string where the string `abc` starts, but it won't consume the characters \"abc\" that follow. In the input string `abcababc`, there are two positions where \"abc\" starts: positions 0 and 5. The regular expression engine finds these positions using the look-ahead assertion and returns a list of empty strings `['', '']`, one for each position."
   ]
  },
  {
   "cell_type": "markdown",
   "id": "36d3477c",
   "metadata": {},
   "source": [
    "To capture the matched substrings, you would need to modify the pattern to use a capturing group, like this:"
   ]
  },
  {
   "cell_type": "code",
   "execution_count": 3,
   "id": "0511f872",
   "metadata": {},
   "outputs": [
    {
     "name": "stdout",
     "output_type": "stream",
     "text": [
      "['abc', 'abc']\n"
     ]
    }
   ],
   "source": [
    "import re\n",
    "\n",
    "text = \"abcababc\"\n",
    "pattern = re.compile(\"(abc)\")\n",
    "matches = pattern.findall(text)\n",
    "\n",
    "print(matches)"
   ]
  },
  {
   "cell_type": "markdown",
   "id": "0e03e0ba",
   "metadata": {},
   "source": [
    "In this modified example, the pattern `\"(abc)\"` is used to capture all occurrences of the string \"aaa\" in the input string `\"abcababc\"`. The `findall()` function is used to find all non-overlapping matches of the pattern in the input string."
   ]
  },
  {
   "cell_type": "markdown",
   "id": "90502bee",
   "metadata": {},
   "source": [
    "## Question 6"
   ]
  },
  {
   "cell_type": "markdown",
   "id": "fbc7edc1",
   "metadata": {},
   "source": [
    "In standard expressions, what is the difference between positive look-ahead and negative look-ahead?"
   ]
  },
  {
   "cell_type": "markdown",
   "id": "f9e512e8",
   "metadata": {},
   "source": [
    "## Answer to the Question 6"
   ]
  },
  {
   "cell_type": "markdown",
   "id": "ea1441bc",
   "metadata": {},
   "source": [
    "Look-ahead assertions in regular expressions are zero-width assertions that match a pattern only if it is followed by another pattern. Positive and negative look-ahead statements are available.\n",
    "\n",
    "Positive look-ahead assertions are denoted by `(?=pattern)` and match an input string position only if it is followed by the pattern pattern. If the pattern pattern is found after the position is matched, the positive look-ahead claim is regarded successful.\n",
    "\n",
    "For example, the regular expression `foo(?=bar)` would match the string `foo` only if it was followed by the string `bar`. The characters `bar` would not be included in the match because the look-ahead assertion is zero-width and does not consume any characters.\n",
    "\n",
    "Conversely, negative look-ahead assertions are expressed by `(?!pattern)` and match a location in the input string only if it is not followed by the pattern pattern. If the pattern pattern is not discovered after the position is matched, the negative look-ahead assertion is judged successful.\n",
    "\n",
    "For example, the regular expression `abc(?!def)` would match the text `abc` only if it was not followed by the string `def`. The characters `abc` would not be included in the match because the look-ahead assertion is zero-width and does not consume any characters."
   ]
  },
  {
   "cell_type": "markdown",
   "id": "28c550c6",
   "metadata": {},
   "source": [
    "## Question 7"
   ]
  },
  {
   "cell_type": "markdown",
   "id": "4c1203c9",
   "metadata": {},
   "source": [
    "What is the benefit of referring to groups by name rather than by number in a standard expression?"
   ]
  },
  {
   "cell_type": "markdown",
   "id": "d0122b7a",
   "metadata": {},
   "source": [
    "## Answer to the Question 7"
   ]
  },
  {
   "cell_type": "markdown",
   "id": "ce05670a",
   "metadata": {},
   "source": [
    "Capturing groups are used in regular expressions to extract elements of a match or to define which parts of the pattern should be repeated. Parentheses are used to identify capturing groups, and each group is allocated a number based on its position in the pattern.\n",
    "\n",
    "In addition to referring to groups by number, groups can also be referred to by name. The syntax `(?Pname>pattern)` is used to define a named group and `(?P=name)` to refer to that group later in the pattern.\n",
    "\n",
    "Using named groups in regular expressions has various advantages, including:\n",
    "\n",
    "* Increased readability: Using named groups makes the pattern more accessible and understandable, particularly for more complex regular expressions.\n",
    "\n",
    "* Increased maintainability: Because the names provide a clear indication of what each group represents, named groups make the pattern easier to maintain.\n",
    "\n",
    "* Easy extraction: When using named groups, the captured groups are easier to extract from a match object since the groups may be retrieved using the group name rather than the group number.\n",
    "\n",
    "* Reusability: Named groups can be reused inside the same pattern, making it easier to design complex patterns with recurring elements.\n",
    "\n",
    "Here's an example of a regular expression that extracts a date in the format `MM/DD/YYYY` by using named groups:"
   ]
  },
  {
   "cell_type": "code",
   "execution_count": 5,
   "id": "c69fb2ec",
   "metadata": {},
   "outputs": [
    {
     "name": "stdout",
     "output_type": "stream",
     "text": [
      "Month: 02\n",
      "Day: 20\n",
      "Year: 2023\n"
     ]
    }
   ],
   "source": [
    "import re\n",
    "\n",
    "text = \"Today's date is 02/20/2023\"\n",
    "pattern = re.compile(\"(?P<month>\\d{2})/(?P<day>\\d{2})/(?P<year>\\d{4})\")\n",
    "match = pattern.search(text)\n",
    "if match:\n",
    "    print(\"Month:\", match.group('month'))\n",
    "    print(\"Day:\", match.group('day'))\n",
    "    print(\"Year:\", match.group('year'))"
   ]
  },
  {
   "cell_type": "markdown",
   "id": "7a3051bb",
   "metadata": {},
   "source": [
    "In this example, we construct three named groups for the date's month, day, and year. These names are then used to extract the captured groups from the match object."
   ]
  },
  {
   "cell_type": "markdown",
   "id": "d8764e57",
   "metadata": {},
   "source": [
    "## Question 8"
   ]
  },
  {
   "cell_type": "markdown",
   "id": "d36f6e9b",
   "metadata": {},
   "source": [
    "Can you identify repeated items within a target string using named groups, as in \"The cow jumped over the moon\"?"
   ]
  },
  {
   "cell_type": "markdown",
   "id": "c91be4c8",
   "metadata": {},
   "source": [
    "## Answer to the Question 8"
   ]
  },
  {
   "cell_type": "code",
   "execution_count": 6,
   "id": "48c3a7f6",
   "metadata": {},
   "outputs": [
    {
     "data": {
      "text/plain": [
       "['The', 'the']"
      ]
     },
     "execution_count": 6,
     "metadata": {},
     "output_type": "execute_result"
    }
   ],
   "source": [
    "import re\n",
    "text = \"The cow jumped over the moon\"\n",
    "regobj=re.compile(r'(?P<w1>The)',re.I)\n",
    "regobj.findall(text)"
   ]
  },
  {
   "cell_type": "markdown",
   "id": "42250ef4",
   "metadata": {},
   "source": [
    "## Question 9"
   ]
  },
  {
   "cell_type": "markdown",
   "id": "cfd24504",
   "metadata": {},
   "source": [
    "When parsing a string, what is at least one thing that the Scanner interface does for you that the re.findall feature does not?"
   ]
  },
  {
   "cell_type": "markdown",
   "id": "b21782fd",
   "metadata": {},
   "source": [
    "## Answer to the Question 9"
   ]
  },
  {
   "cell_type": "markdown",
   "id": "69c38868",
   "metadata": {},
   "source": [
    "The Python Scanner interface allows you to parse a string and retrieve tokens using a set of regular expressions. The Scanner interface provides something that the re.findall functionality does not: it lets you define different regular expressions for different categories of tokens.\n",
    "\n",
    "For example, if we have a string with a mix of integers and floating-point numbers and wish to extract all of the numeric values. We might define two regular expressions using the Scanner interface: one for integers and one for floating-point numbers. The Scanner interface may then be used to extract all of the numeric values from the string, regardless of whether they are integers or floating-point numbers.\n",
    "\n",
    "On the other hand, the `re.findall` feature in Python can only match a single regular regular expression at a time, so we'd have to use a separate regular expression to match integers and floating-point values, and then combine the results of both matches.\n",
    "\n",
    "Another benefit of the Scanner interface is the ability to build a custom method to handle each token as it is found. If we need to execute further processing on the tokens as we extract them from the string, it can be handy. We'd have to extract all of the tokens first, then process them in a separate stage with `re.findall`."
   ]
  },
  {
   "cell_type": "markdown",
   "id": "90cb1ce6",
   "metadata": {},
   "source": [
    "## Question 10"
   ]
  },
  {
   "cell_type": "markdown",
   "id": "6babb769",
   "metadata": {},
   "source": [
    "Does a scanner object have to be named scanner?"
   ]
  },
  {
   "cell_type": "markdown",
   "id": "cdd1a1f4",
   "metadata": {},
   "source": [
    "## Answer to the Question 10"
   ]
  },
  {
   "cell_type": "markdown",
   "id": "7b0b9280",
   "metadata": {},
   "source": [
    "No, a scanner object doesn't have to be named scanner, it can havve any other name."
   ]
  },
  {
   "cell_type": "code",
   "execution_count": null,
   "id": "4ef082c3",
   "metadata": {},
   "outputs": [],
   "source": []
  }
 ],
 "metadata": {
  "kernelspec": {
   "display_name": "Python 3 (ipykernel)",
   "language": "python",
   "name": "python3"
  },
  "language_info": {
   "codemirror_mode": {
    "name": "ipython",
    "version": 3
   },
   "file_extension": ".py",
   "mimetype": "text/x-python",
   "name": "python",
   "nbconvert_exporter": "python",
   "pygments_lexer": "ipython3",
   "version": "3.9.13"
  }
 },
 "nbformat": 4,
 "nbformat_minor": 5
}
