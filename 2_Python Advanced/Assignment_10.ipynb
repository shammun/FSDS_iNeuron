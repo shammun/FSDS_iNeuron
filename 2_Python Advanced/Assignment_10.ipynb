{
 "cells": [
  {
   "cell_type": "markdown",
   "id": "05cd45e9",
   "metadata": {},
   "source": [
    "# Assignment 10"
   ]
  },
  {
   "cell_type": "markdown",
   "id": "3f5c31e5",
   "metadata": {},
   "source": [
    "## Question 1"
   ]
  },
  {
   "cell_type": "markdown",
   "id": "bcfcd840",
   "metadata": {},
   "source": [
    "What is the difference between `__getattr__` and `__getattribute__`?"
   ]
  },
  {
   "cell_type": "markdown",
   "id": "16983ccc",
   "metadata": {},
   "source": [
    "## Answer to the Question 1"
   ]
  },
  {
   "cell_type": "markdown",
   "id": "81641e0a",
   "metadata": {},
   "source": [
    "The primary distinction between `__getattr__` and `__getattribute__` is that the `__getattribute__` method is called whenever an attribute of an object is accessed, whereas the `__getattr__` method is only used when an attribute cannot be found."
   ]
  },
  {
   "cell_type": "code",
   "execution_count": 3,
   "id": "8c45e917",
   "metadata": {},
   "outputs": [],
   "source": [
    "# The code below is copied and modified from https://medium.com/@satishgoda/python-attribute-access-using-getattr-and-getattribute-6401f7425ce6\n",
    "class Person:\n",
    "    def __init__(self, name):\n",
    "        self.name = name\n",
    "    # Gets called when an attribute is accessed\n",
    "    def __getattribute__(self, item):\n",
    "        print('__getattribute__', item)\n",
    "        return super(Person, self).__getattribute__(item)\n",
    "    # Gets called when the item is not found via __getattribute__\n",
    "    def __getattr__(self, item):\n",
    "        print('__getattr__ ', item)\n",
    "        return super(Person, self).__setattr__(item, 'Not found')"
   ]
  },
  {
   "cell_type": "code",
   "execution_count": 8,
   "id": "db4b1015",
   "metadata": {},
   "outputs": [
    {
     "name": "stdout",
     "output_type": "stream",
     "text": [
      "__getattribute__ name\n"
     ]
    },
    {
     "data": {
      "text/plain": [
       "'Rahim'"
      ]
     },
     "execution_count": 8,
     "metadata": {},
     "output_type": "execute_result"
    }
   ],
   "source": [
    "p1 = Person('Rahim')\n",
    "p1.name"
   ]
  },
  {
   "cell_type": "code",
   "execution_count": 9,
   "id": "a288e1f3",
   "metadata": {},
   "outputs": [
    {
     "name": "stdout",
     "output_type": "stream",
     "text": [
      "__getattribute__ age\n",
      "__getattr__  age\n"
     ]
    }
   ],
   "source": [
    "p1.age"
   ]
  },
  {
   "cell_type": "code",
   "execution_count": 10,
   "id": "ae647e5a",
   "metadata": {},
   "outputs": [
    {
     "name": "stdout",
     "output_type": "stream",
     "text": [
      "__getattribute__ age\n"
     ]
    },
    {
     "data": {
      "text/plain": [
       "'Not found'"
      ]
     },
     "execution_count": 10,
     "metadata": {},
     "output_type": "execute_result"
    }
   ],
   "source": [
    "p1.age"
   ]
  },
  {
   "cell_type": "markdown",
   "id": "e3fd8ada",
   "metadata": {},
   "source": [
    "## Question 2"
   ]
  },
  {
   "cell_type": "markdown",
   "id": "a544247d",
   "metadata": {},
   "source": [
    "What is the difference between properties and descriptors?"
   ]
  },
  {
   "cell_type": "markdown",
   "id": "512da666",
   "metadata": {},
   "source": [
    "## Answer to the Question 2"
   ]
  },
  {
   "cell_type": "markdown",
   "id": "fbde0563",
   "metadata": {},
   "source": [
    "In Python, properties and descriptors have different features. Properties are a simple method for regulating and handling the traits of a class, while descriptors provide a more robust approach to managing and regulating a class's attributes. Properties enable easy definition of getters, setters, and deleters for class characteristics, while descriptors offer greater control over the class's attributes. Descriptors are useful for validating attributes, fetching and setting values from a data source, and limiting the visibility and accessibility of properties."
   ]
  },
  {
   "cell_type": "markdown",
   "id": "6ab9b726",
   "metadata": {},
   "source": [
    "Below is an example of how to use properties to define getters, setters, and deleters for class characteristics in Python:"
   ]
  },
  {
   "cell_type": "code",
   "execution_count": 12,
   "id": "96b4c691",
   "metadata": {},
   "outputs": [],
   "source": [
    "class TestClass:\n",
    "    def __init__(self, name):\n",
    "        self.__name = name\n",
    "    \n",
    "    @property\n",
    "    def name(self):\n",
    "        return self.__name\n",
    "    \n",
    "    @name.setter\n",
    "    def name(self, name):\n",
    "        self.__name = name\n",
    "    \n",
    "    @name.deleter\n",
    "    def name(self):\n",
    "        del self.__name"
   ]
  },
  {
   "cell_type": "markdown",
   "id": "97a527ff",
   "metadata": {},
   "source": [
    "Below is an example of how to use descriptors to control the attributes of a class:"
   ]
  },
  {
   "cell_type": "code",
   "execution_count": 21,
   "id": "f67ea2f1",
   "metadata": {},
   "outputs": [],
   "source": [
    "class SecondClass:\n",
    "    def __init__(self, name):\n",
    "        self.name = name\n",
    "    \n",
    "    class NameDescriptor:\n",
    "        def __get__(self, instance, owner):\n",
    "            return instance._name\n",
    "        \n",
    "        def __set__(self, instance, value):\n",
    "            if not isinstance(value, str):\n",
    "                raise TypeError('name must be a string')\n",
    "            instance._name = value\n",
    "            \n",
    "    name = NameDescriptor()"
   ]
  },
  {
   "cell_type": "code",
   "execution_count": 22,
   "id": "c830fed2",
   "metadata": {},
   "outputs": [
    {
     "name": "stdout",
     "output_type": "stream",
     "text": [
      "Madan Mohan\n"
     ]
    }
   ],
   "source": [
    "# Create an instance of MyClass and set its name using the descriptor\n",
    "obj = SecondClass(\"Madan Mohan\")\n",
    "print(obj.name)"
   ]
  },
  {
   "cell_type": "code",
   "execution_count": 23,
   "id": "ba907db0",
   "metadata": {},
   "outputs": [
    {
     "name": "stdout",
     "output_type": "stream",
     "text": [
      "Mr. Intrehal\n"
     ]
    }
   ],
   "source": [
    "obj.name = \"Mr. Intrehal\"\n",
    "print(obj.name)"
   ]
  },
  {
   "cell_type": "code",
   "execution_count": 25,
   "id": "158ea264",
   "metadata": {},
   "outputs": [
    {
     "name": "stdout",
     "output_type": "stream",
     "text": [
      "name must be a string\n"
     ]
    }
   ],
   "source": [
    "# Try to set the name to a non-string value, which should raise a TypeError\n",
    "try:\n",
    "    obj.name = 668754\n",
    "except TypeError as e:\n",
    "    print(e)"
   ]
  },
  {
   "cell_type": "markdown",
   "id": "549bd776",
   "metadata": {},
   "source": [
    "The `NameDescriptor` class is used in this example to regulate the name property of the `SecondClass` class. When the `name` property is set, the `NameDescriptor`'s `__set__` method is used to validate the value and set the instance's `name` attribute."
   ]
  },
  {
   "cell_type": "markdown",
   "id": "18db1f75",
   "metadata": {},
   "source": [
    "## Question 3"
   ]
  },
  {
   "cell_type": "markdown",
   "id": "f290e655",
   "metadata": {},
   "source": [
    "What are the key differences in functionality between `__getattr__` and `__getattribute__`, as well as properties and descriptors?"
   ]
  },
  {
   "cell_type": "markdown",
   "id": "674b7495",
   "metadata": {},
   "source": [
    "## Answer to the Question 3"
   ]
  },
  {
   "cell_type": "markdown",
   "id": "c8b2defc",
   "metadata": {},
   "source": [
    "In Python, the fundamental difference between the methods `__getattr__` and `__getattribute__` is that `__getattr__` is triggered only when a specific attribute is not found in an object, whereas `__getattribute__`is called on every attribute access.\n",
    "\n",
    "Descriptors are a type of class that can be used to modify the behavior of attribute access in Python. Properties, a specific kind of descriptor, permit a customized getter and setter to be used when accessing an attribute. On the other hand, descriptors offer a more generalized approach, and can be employed to customize the behavior of all attribute accesses, including those related to properties. Additionally, descriptors can be used to enforce specific values or data types on attributes or to supply supplementary methods for an attribute."
   ]
  },
  {
   "cell_type": "code",
   "execution_count": null,
   "id": "4ef082c3",
   "metadata": {},
   "outputs": [],
   "source": []
  }
 ],
 "metadata": {
  "kernelspec": {
   "display_name": "Python 3 (ipykernel)",
   "language": "python",
   "name": "python3"
  },
  "language_info": {
   "codemirror_mode": {
    "name": "ipython",
    "version": 3
   },
   "file_extension": ".py",
   "mimetype": "text/x-python",
   "name": "python",
   "nbconvert_exporter": "python",
   "pygments_lexer": "ipython3",
   "version": "3.9.13"
  }
 },
 "nbformat": 4,
 "nbformat_minor": 5
}
