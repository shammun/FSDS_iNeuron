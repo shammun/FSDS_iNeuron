{
 "cells": [
  {
   "cell_type": "markdown",
   "id": "05cd45e9",
   "metadata": {},
   "source": [
    "# Assignment 14"
   ]
  },
  {
   "cell_type": "markdown",
   "id": "3f5c31e5",
   "metadata": {},
   "source": [
    "## Question 1"
   ]
  },
  {
   "cell_type": "markdown",
   "id": "bcfcd840",
   "metadata": {},
   "source": [
    "Is an assignment operator like += only for show? Is it possible that it would lead to faster results at the runtime?"
   ]
  },
  {
   "cell_type": "markdown",
   "id": "16983ccc",
   "metadata": {},
   "source": [
    "## Answer to the Question 1"
   ]
  },
  {
   "cell_type": "markdown",
   "id": "81641e0a",
   "metadata": {},
   "source": [
    "An assignment operator such as `+=` isn't just for show. It can lead to faster results at run time as it decreases the number of operations that must be performed. For example, the `+=` operator is faster than the `+` operator since it only takes one assignment operation rather than two. Also, using the `+=` operator reduces the amount of code that must be written, which can result in faster results at run time."
   ]
  },
  {
   "cell_type": "markdown",
   "id": "e3fd8ada",
   "metadata": {},
   "source": [
    "## Question 2"
   ]
  },
  {
   "cell_type": "markdown",
   "id": "a544247d",
   "metadata": {},
   "source": [
    "What is the smallest number of statements you'd have to write in most programming languages to replace the Python expression a, b = a + b, a?"
   ]
  },
  {
   "cell_type": "markdown",
   "id": "512da666",
   "metadata": {},
   "source": [
    "## Answer to the Question 2"
   ]
  },
  {
   "cell_type": "markdown",
   "id": "fbde0563",
   "metadata": {},
   "source": [
    "The Python equation `a, b = a + b, a` swaps the values of a and b. In most programming languages, the smallest number of statements required to achieve the same result is two."
   ]
  },
  {
   "cell_type": "markdown",
   "id": "18db1f75",
   "metadata": {},
   "source": [
    "## Question 3"
   ]
  },
  {
   "cell_type": "markdown",
   "id": "f290e655",
   "metadata": {},
   "source": [
    "In Python, what is the most effective way to set a list of 100 integers to 0?"
   ]
  },
  {
   "cell_type": "markdown",
   "id": "674b7495",
   "metadata": {},
   "source": [
    "## Answer to the Question 3"
   ]
  },
  {
   "cell_type": "markdown",
   "id": "c8b2defc",
   "metadata": {},
   "source": [
    "Using either list comprehension or using `*`."
   ]
  },
  {
   "cell_type": "code",
   "execution_count": 1,
   "id": "df1e9c82",
   "metadata": {},
   "outputs": [
    {
     "name": "stdout",
     "output_type": "stream",
     "text": [
      "[0, 0, 0, 0, 0, 0, 0, 0, 0, 0, 0, 0, 0, 0, 0, 0, 0, 0, 0, 0, 0, 0, 0, 0, 0, 0, 0, 0, 0, 0, 0, 0, 0, 0, 0, 0, 0, 0, 0, 0, 0, 0, 0, 0, 0, 0, 0, 0, 0, 0, 0, 0, 0, 0, 0, 0, 0, 0, 0, 0, 0, 0, 0, 0, 0, 0, 0, 0, 0, 0, 0, 0, 0, 0, 0, 0, 0, 0, 0, 0, 0, 0, 0, 0, 0, 0, 0, 0, 0, 0, 0, 0, 0, 0, 0, 0, 0, 0, 0, 0]\n"
     ]
    }
   ],
   "source": [
    "lst1 = [0] * 100\n",
    "print(lst1)"
   ]
  },
  {
   "cell_type": "code",
   "execution_count": 2,
   "id": "746995fd",
   "metadata": {},
   "outputs": [
    {
     "name": "stdout",
     "output_type": "stream",
     "text": [
      "[0, 0, 0, 0, 0, 0, 0, 0, 0, 0, 0, 0, 0, 0, 0, 0, 0, 0, 0, 0, 0, 0, 0, 0, 0, 0, 0, 0, 0, 0, 0, 0, 0, 0, 0, 0, 0, 0, 0, 0, 0, 0, 0, 0, 0, 0, 0, 0, 0, 0, 0, 0, 0, 0, 0, 0, 0, 0, 0, 0, 0, 0, 0, 0, 0, 0, 0, 0, 0, 0, 0, 0, 0, 0, 0, 0, 0, 0, 0, 0, 0, 0, 0, 0, 0, 0, 0, 0, 0, 0, 0, 0, 0, 0, 0, 0, 0, 0, 0, 0]\n"
     ]
    }
   ],
   "source": [
    "lst2 = [0 for _ in range(100)]\n",
    "print(lst2)"
   ]
  },
  {
   "cell_type": "markdown",
   "id": "d71aa5ec",
   "metadata": {},
   "source": [
    "## Question 4"
   ]
  },
  {
   "cell_type": "markdown",
   "id": "c8cf9d40",
   "metadata": {},
   "source": [
    "What is the most effective way to initialise a list of 99 integers that repeats the sequence 1, 2, 3? S If necessary, show step-by-step instructions on how to accomplish this."
   ]
  },
  {
   "cell_type": "markdown",
   "id": "a6b5d53e",
   "metadata": {},
   "source": [
    "## Answer to the Question 4"
   ]
  },
  {
   "cell_type": "markdown",
   "id": "865dedbe",
   "metadata": {},
   "source": [
    "List comprehension with the modulo operator is the most efficient approach to begin a list of 99 integers that repeats the sequence 1, 2, 3. Here's a Python example:"
   ]
  },
  {
   "cell_type": "code",
   "execution_count": null,
   "id": "11902eb2",
   "metadata": {},
   "outputs": [],
   "source": [
    "lst = [i % 3 + 1 for i in range(99)]"
   ]
  },
  {
   "cell_type": "markdown",
   "id": "2bd96a10",
   "metadata": {},
   "source": [
    "This generates a list of 99 integers, with each element computed as `(i% 3) + 1`, resulting in the numbers 1, 2, 3 repeating in sequence. The range(99) function generates a series of integers ranging from 0 to 98 (a total of 99 numbers), and the `%` operator computes the remainder of each integer divided by 3. The resulting value is then added to one to obtain the final number. For `(i % 3)`, all the possible numbers are either 0, 1 or 2 and adding 1 using this expression `(i % 3) + 1` makes every number either 1, 2, or 3."
   ]
  },
  {
   "cell_type": "markdown",
   "id": "d6d5d9d1",
   "metadata": {},
   "source": [
    "## Question 5"
   ]
  },
  {
   "cell_type": "markdown",
   "id": "567a373b",
   "metadata": {},
   "source": [
    "If you're using IDLE to run a Python application, explain how to print a multidimensional list as efficiently?"
   ]
  },
  {
   "cell_type": "markdown",
   "id": "6b5251ea",
   "metadata": {},
   "source": [
    "## Answer to the Question 5"
   ]
  },
  {
   "cell_type": "markdown",
   "id": "19137df1",
   "metadata": {},
   "source": [
    "If you're running a Python application in IDLE, the pprint module provides the simplest way to print a multidimensional list. This module includes a `pprint()` function for printing a multidimensional list in a more legible and efficient manner. Here's an example of how to utilize this function:"
   ]
  },
  {
   "cell_type": "code",
   "execution_count": 3,
   "id": "a4eab72e",
   "metadata": {},
   "outputs": [
    {
     "name": "stdout",
     "output_type": "stream",
     "text": [
      "[[1, 2, 3], [4, 5, 6], [7, 8, 9]]\n"
     ]
    }
   ],
   "source": [
    "import pprint\n",
    "lst = [[1, 2, 3], [4, 5, 6], [7, 8, 9]]\n",
    "pprint.pprint(lst)"
   ]
  },
  {
   "cell_type": "markdown",
   "id": "9b8c6359",
   "metadata": {},
   "source": [
    "We can also simply print it."
   ]
  },
  {
   "cell_type": "code",
   "execution_count": 4,
   "id": "0635a4ee",
   "metadata": {},
   "outputs": [
    {
     "name": "stdout",
     "output_type": "stream",
     "text": [
      "[[1, 2, 3], [4, 5, 6], [7, 8, 9]]\n"
     ]
    }
   ],
   "source": [
    "print(lst)"
   ]
  },
  {
   "cell_type": "markdown",
   "id": "dc28d9cc",
   "metadata": {},
   "source": [
    "We can also use nested loop to print the elements of the list."
   ]
  },
  {
   "cell_type": "code",
   "execution_count": 7,
   "id": "f91af1c5",
   "metadata": {},
   "outputs": [
    {
     "name": "stdout",
     "output_type": "stream",
     "text": [
      "1 2 3 \n",
      "4 5 6 \n",
      "7 8 9 \n"
     ]
    }
   ],
   "source": [
    "my_list = [[1, 2, 3], [4, 5, 6], [7, 8, 9]]\n",
    "\n",
    "for ls1 in my_list:\n",
    "    # Iterate over each element in the sublist\n",
    "    for x in ls1:\n",
    "        # Print the element, followed by a space\n",
    "        print(x, end=\" \")\n",
    "    print()\n"
   ]
  },
  {
   "cell_type": "markdown",
   "id": "90502bee",
   "metadata": {},
   "source": [
    "## Question 6"
   ]
  },
  {
   "cell_type": "markdown",
   "id": "8789eac0",
   "metadata": {},
   "source": [
    "Is it possible to use list comprehension with a string? If so, how can you go about doing it?"
   ]
  },
  {
   "cell_type": "markdown",
   "id": "f9e512e8",
   "metadata": {},
   "source": [
    "## Answer to the Question 6"
   ]
  },
  {
   "cell_type": "markdown",
   "id": "ea1441bc",
   "metadata": {},
   "source": [
    "Indeed, list comprehension may be used with a string. For example, to convert a string to all upper cases, we can convert every character of a string to uppercase; make a list of these uppercase characters and finally join all of these uppercase characters. For instance, if you wanted to make a list of all the uppercase characters in a string, you could do the following:"
   ]
  },
  {
   "cell_type": "code",
   "execution_count": 15,
   "id": "1e3ea408",
   "metadata": {},
   "outputs": [
    {
     "data": {
      "text/plain": [
       "'HELLO, HOW ARE YOU?'"
      ]
     },
     "execution_count": 15,
     "metadata": {},
     "output_type": "execute_result"
    }
   ],
   "source": [
    "s = 'Hello, how are you?'\n",
    "uppercase_s = ''.join([c.upper() for c in list(s)])\n",
    "uppercase_s"
   ]
  },
  {
   "cell_type": "markdown",
   "id": "28c550c6",
   "metadata": {},
   "source": [
    "## Question 7"
   ]
  },
  {
   "cell_type": "markdown",
   "id": "c95185d8",
   "metadata": {},
   "source": [
    "From the command line, how do you get support with a user-written Python programme? Is this possible from inside IDLE?"
   ]
  },
  {
   "cell_type": "markdown",
   "id": "d0122b7a",
   "metadata": {},
   "source": [
    "## Answer to the Question 7"
   ]
  },
  {
   "cell_type": "markdown",
   "id": "ce05670a",
   "metadata": {},
   "source": [
    "To access help with a user-written Python program, use the `--help` or `-h` option to display the program's help documentation or usage instructions. Most Python applications will provide this option, which can be used to learn more about how the program works and which command line inputs it accepts.\n",
    "\n",
    "For example, if you have a Python program called `makeupper.py`, we can use the `--help` option to run it from the command line as follows:"
   ]
  },
  {
   "cell_type": "markdown",
   "id": "52ee160b",
   "metadata": {},
   "source": [
    "`python makeupper.py --help`"
   ]
  },
  {
   "cell_type": "markdown",
   "id": "d4ddad1e",
   "metadata": {},
   "source": [
    "It will display a list of available command line options and usages for our program."
   ]
  },
  {
   "cell_type": "markdown",
   "id": "f886abc3",
   "metadata": {},
   "source": [
    "IDLE can help you debug a user-written Python program by opening the program file in the editor and using the built-in debugger and other IDE tools to walk through the code. IDLE also has an in-built help system, which may be accessed by using the `F1` key or selecting `Python Documentation` from the `Help` menu. This allows you to look for certain functions, modules, or language features in the Python documentation."
   ]
  },
  {
   "cell_type": "markdown",
   "id": "d8764e57",
   "metadata": {},
   "source": [
    "## Question 8"
   ]
  },
  {
   "cell_type": "markdown",
   "id": "d36f6e9b",
   "metadata": {},
   "source": [
    "Functions are said to be “first-class objects” in Python but not in most other languages, such as C++ or Java. What can you do in Python with a function (callable object) that you can't do in C or C++?"
   ]
  },
  {
   "cell_type": "markdown",
   "id": "c91be4c8",
   "metadata": {},
   "source": [
    "## Answer to the Question 8"
   ]
  },
  {
   "cell_type": "markdown",
   "id": "3ec5976a",
   "metadata": {},
   "source": [
    "Functions are first-class objects in Python, which means they can be treated just like any other object in the language. This gives a number of capabilities not found in most other languages, such as C++ or Java.\n",
    "\n",
    "Here are some things that a Python function can accomplish that a C++ function cannot:\n",
    "\n",
    "1. **Assign a function to a variable:** Just like any other object, we can assign a function to a variable in Python. This enables the creation of higher-order functions that accept functions as arguments and return functions as results.\n",
    "\n",
    "2. **Pass a function as an argument to another function:** A function can be passed as an argument to another function in Python. This enables you to construct functions that may be tweaked by supplying different functions as arguments.\n",
    "\n",
    "3. **Return a function from another function:** You can return a function from another function in Python. This enables you to write factory functions that generate new functions with varying behaviour.\n",
    "\n",
    "4. **Storing functions in data structures:** In Python, functions can be stored in data structures such as lists, dictionaries, and sets. This enables us to build complicated data structures with functions as elements.\n",
    "\n",
    "5. **Use functions as decorators:** We can use functions as decorators in Python to change the behavior of other functions. This allows us to extend existing functions without affecting their code."
   ]
  },
  {
   "cell_type": "markdown",
   "id": "42250ef4",
   "metadata": {},
   "source": [
    "## Question 9"
   ]
  },
  {
   "cell_type": "markdown",
   "id": "cfd24504",
   "metadata": {},
   "source": [
    "How do you distinguish between a wrapper, a wrapped feature, and a decorator?"
   ]
  },
  {
   "cell_type": "markdown",
   "id": "b21782fd",
   "metadata": {},
   "source": [
    "## Answer to the Question 9"
   ]
  },
  {
   "cell_type": "markdown",
   "id": "69c38868",
   "metadata": {},
   "source": [
    "A wrapper, a wrapped feature, and a decorator are all connected concepts in Python, but they have  slight differences. A wrapper function is one that accepts another function as a parameter and adds functionality to it. The wrapped feature is the original function that is wrapped by a wrapper. The wrapper function can change the wrapped feature's parameters, return values, or behavior. Wrappers are often used in Python to implement programming features such as logging and caching. A decorator is a type of wrapper that modifies the functionality of a function or class by using the `@` symbol. A decorator is a type of syntactic sugar that allows you to change the behavior of a function or class without using explicit wrapper functions. A decorator is added to a function or class by inserting it on a line above the definition of the function or class. Decorators are often used in Python to implement common issues, such as adding authentication or authorisation to a web API."
   ]
  },
  {
   "cell_type": "markdown",
   "id": "90cb1ce6",
   "metadata": {},
   "source": [
    "## Question 10"
   ]
  },
  {
   "cell_type": "markdown",
   "id": "6babb769",
   "metadata": {},
   "source": [
    "If a function is a generator function, what does it return?"
   ]
  },
  {
   "cell_type": "markdown",
   "id": "cdd1a1f4",
   "metadata": {},
   "source": [
    "## Answer to the Question 10"
   ]
  },
  {
   "cell_type": "markdown",
   "id": "7b0b9280",
   "metadata": {},
   "source": [
    "A generator function does not return any results; instead, it returns an iterator object, which we can loop through to get values."
   ]
  },
  {
   "cell_type": "markdown",
   "id": "f1e5a0ff",
   "metadata": {},
   "source": [
    "## Question 11"
   ]
  },
  {
   "cell_type": "markdown",
   "id": "4d691bb0",
   "metadata": {},
   "source": [
    "What is the one improvement that must be made to a function in order for it to become a generator function in the Python language?"
   ]
  },
  {
   "cell_type": "markdown",
   "id": "1101e4c3",
   "metadata": {},
   "source": [
    "## Answer to the Question 11"
   ]
  },
  {
   "cell_type": "markdown",
   "id": "90845690",
   "metadata": {},
   "source": [
    "We need to use `yield` keyword instead of `return` to make a function generator function. Below is an example code:"
   ]
  },
  {
   "cell_type": "code",
   "execution_count": 14,
   "id": "e36b8d13",
   "metadata": {},
   "outputs": [
    {
     "name": "stdout",
     "output_type": "stream",
     "text": [
      "0\n",
      "1\n",
      "2\n",
      "3\n",
      "4\n",
      "5\n",
      "6\n",
      "7\n",
      "8\n",
      "9\n",
      "10\n"
     ]
    }
   ],
   "source": [
    "def number_generator(max):\n",
    "    # returns number sequentially up to but less than max\n",
    "    n = 0\n",
    "    while n <= max:\n",
    "        yield n\n",
    "        n += 1\n",
    "        \n",
    "for n in number_generator(10):\n",
    "    print(n)"
   ]
  },
  {
   "cell_type": "markdown",
   "id": "d556d4ef",
   "metadata": {},
   "source": [
    "## Question 12"
   ]
  },
  {
   "cell_type": "markdown",
   "id": "6d3a2572",
   "metadata": {},
   "source": [
    "Identify at least one benefit of generators."
   ]
  },
  {
   "cell_type": "markdown",
   "id": "2903537a",
   "metadata": {},
   "source": [
    "## Answer to the Question 12"
   ]
  },
  {
   "cell_type": "markdown",
   "id": "531becc6",
   "metadata": {},
   "source": [
    "One advantage of Python generators is that they can generate values on the fly rather than creating all of the data in advance and storing them in memory. Because generators only need to store a tiny amount of state at a time, rather than a complete sequence of values, they are particularly memory-efficient.\n",
    "\n",
    "This is especially handy when working with large or infinite sequences, because generating all of the values in advance is impractical or impossible. Generators enable you to generate values as needed, allowing you to work with sequences that are too lengthy to store into memory.\n",
    "\n",
    "Another advantage of generators is that they can be used to generate code that is more short and readable."
   ]
  },
  {
   "cell_type": "code",
   "execution_count": null,
   "id": "6b2dbc5e",
   "metadata": {},
   "outputs": [],
   "source": []
  }
 ],
 "metadata": {
  "kernelspec": {
   "display_name": "Python 3 (ipykernel)",
   "language": "python",
   "name": "python3"
  },
  "language_info": {
   "codemirror_mode": {
    "name": "ipython",
    "version": 3
   },
   "file_extension": ".py",
   "mimetype": "text/x-python",
   "name": "python",
   "nbconvert_exporter": "python",
   "pygments_lexer": "ipython3",
   "version": "3.9.13"
  }
 },
 "nbformat": 4,
 "nbformat_minor": 5
}
