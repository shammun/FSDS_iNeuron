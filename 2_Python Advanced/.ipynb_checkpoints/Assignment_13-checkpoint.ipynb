{
 "cells": [
  {
   "cell_type": "markdown",
   "id": "05cd45e9",
   "metadata": {},
   "source": [
    "# Assignment 13"
   ]
  },
  {
   "cell_type": "markdown",
   "id": "3f5c31e5",
   "metadata": {},
   "source": [
    "## Question 1"
   ]
  },
  {
   "cell_type": "markdown",
   "id": "bcfcd840",
   "metadata": {},
   "source": [
    "Can you create a programme or function that employs both positive and negative indexing? Is there any repercussion if you do so?"
   ]
  },
  {
   "cell_type": "markdown",
   "id": "16983ccc",
   "metadata": {},
   "source": [
    "## Answer to the Question 1"
   ]
  },
  {
   "cell_type": "markdown",
   "id": "81641e0a",
   "metadata": {},
   "source": [
    "Yes, we can write a Python application or function that uses both positive and negative indexing. Accessing elements of a sequence by their position from the beginning of the sequence is referred to as positive indexing, whereas accessing elements of a sequence by their position from the end of the sequence is referred to as negative indexing. Below is example code that uses both positive and negative indexing."
   ]
  },
  {
   "cell_type": "code",
   "execution_count": 1,
   "id": "0faeaa25",
   "metadata": {},
   "outputs": [
    {
     "name": "stdout",
     "output_type": "stream",
     "text": [
      "40\n"
     ]
    }
   ],
   "source": [
    "lst = [10, 20, 30, 40, 50, 60, 70]\n",
    "print(lst[3]) # prints 4th element"
   ]
  },
  {
   "cell_type": "code",
   "execution_count": 2,
   "id": "8b983f81",
   "metadata": {},
   "outputs": [
    {
     "name": "stdout",
     "output_type": "stream",
     "text": [
      "70\n"
     ]
    }
   ],
   "source": [
    "print(lst[-1]) # prints the last eloement in the list"
   ]
  },
  {
   "cell_type": "markdown",
   "id": "e3fd8ada",
   "metadata": {},
   "source": [
    "## Question 2"
   ]
  },
  {
   "cell_type": "markdown",
   "id": "a544247d",
   "metadata": {},
   "source": [
    "What is the most effective way of starting with 1,000 elements in a Python list? Assume that all elements should be set to the same value."
   ]
  },
  {
   "cell_type": "markdown",
   "id": "512da666",
   "metadata": {},
   "source": [
    "## Answer to the Question 2"
   ]
  },
  {
   "cell_type": "markdown",
   "id": "fbde0563",
   "metadata": {},
   "source": [
    "We can use list comprehension or `*` operator to start a Python list of 1000 elements. Below is an example of using list comprehension."
   ]
  },
  {
   "cell_type": "code",
   "execution_count": 3,
   "id": "648c3031",
   "metadata": {},
   "outputs": [],
   "source": [
    "lst = [0 for _ in range(1000)]"
   ]
  },
  {
   "cell_type": "markdown",
   "id": "eefa8797",
   "metadata": {},
   "source": [
    "We can also use `*` operator as following:"
   ]
  },
  {
   "cell_type": "code",
   "execution_count": 4,
   "id": "d31ecaa5",
   "metadata": {},
   "outputs": [],
   "source": [
    "lst = [0] * 1000"
   ]
  },
  {
   "cell_type": "markdown",
   "id": "7c2a9fca",
   "metadata": {},
   "source": [
    "Both of these approaches create a list of 1000 elements, each set to the value of 0."
   ]
  },
  {
   "cell_type": "markdown",
   "id": "18db1f75",
   "metadata": {},
   "source": [
    "## Question 3"
   ]
  },
  {
   "cell_type": "markdown",
   "id": "f290e655",
   "metadata": {},
   "source": [
    "How do you slice a list to get any other part while missing the rest? (For example, suppose you want to make a new list with the elements first, third, fifth, seventh, and so on.)"
   ]
  },
  {
   "cell_type": "markdown",
   "id": "674b7495",
   "metadata": {},
   "source": [
    "## Answer to the Question 3"
   ]
  },
  {
   "cell_type": "markdown",
   "id": "c8b2defc",
   "metadata": {},
   "source": [
    "You can use the slice notation with a step size of 2 to slice a list and get every other member (e.g., first, third, fifth, etc.).\n",
    "\n",
    "Here's how to make a new list from every other element in an existing list:"
   ]
  },
  {
   "cell_type": "code",
   "execution_count": 5,
   "id": "46c78146",
   "metadata": {},
   "outputs": [
    {
     "name": "stdout",
     "output_type": "stream",
     "text": [
      "[0, 20, 40, 60, 80, 100]\n"
     ]
    }
   ],
   "source": [
    "lst1 = [0, 10, 20, 30, 40, 50, 60, 70, 80, 90, 100]\n",
    "lst2 = lst1[::2]\n",
    "print(lst2)"
   ]
  },
  {
   "cell_type": "markdown",
   "id": "d71aa5ec",
   "metadata": {},
   "source": [
    "## Question 4"
   ]
  },
  {
   "cell_type": "markdown",
   "id": "c8cf9d40",
   "metadata": {},
   "source": [
    "Explain the distinctions between indexing and slicing."
   ]
  },
  {
   "cell_type": "markdown",
   "id": "a6b5d53e",
   "metadata": {},
   "source": [
    "## Answer to the Question 4"
   ]
  },
  {
   "cell_type": "markdown",
   "id": "865dedbe",
   "metadata": {},
   "source": [
    "In Python, indexing is used to obtain a single element from a data structure like a list, tuple, or string. It is accomplished by putting the required element's index in square brackets. Slicing, on the other hand, is a technique for retrieving a range of elements from a data structure. It is accomplished by specifying two indices separated by a colon, with the resulting range including the start index and going up to, but not including, the end index. For instance, if you have a list called `numbers` that contains the entries `[1, 3, 5, 6, 7]`, the expression `numbers[2:4]` will produce the items `[5, 6]`. A step size can also be specified using a third argument in slicing."
   ]
  },
  {
   "cell_type": "markdown",
   "id": "d6d5d9d1",
   "metadata": {},
   "source": [
    "## Question 5"
   ]
  },
  {
   "cell_type": "markdown",
   "id": "567a373b",
   "metadata": {},
   "source": [
    "What happens if one of the slicing expression's indexes is out of range?"
   ]
  },
  {
   "cell_type": "markdown",
   "id": "6b5251ea",
   "metadata": {},
   "source": [
    "## Answer to the Question 5"
   ]
  },
  {
   "cell_type": "markdown",
   "id": "19137df1",
   "metadata": {},
   "source": [
    "If one of the indices is out of range, the slicing process does not throw an error. In this case, slicing simply returns elements correponding to indexes that are not out of range as a list. It stops accessing elements when it reaches the end of the object."
   ]
  },
  {
   "cell_type": "code",
   "execution_count": 8,
   "id": "a1790bab",
   "metadata": {},
   "outputs": [
    {
     "name": "stdout",
     "output_type": "stream",
     "text": [
      "[80]\n"
     ]
    }
   ],
   "source": [
    "my_list = [3,5,7,8,9,10,17,22,33,44,50,60,70,80]\n",
    "print(my_list[13:20])"
   ]
  },
  {
   "cell_type": "markdown",
   "id": "90502bee",
   "metadata": {},
   "source": [
    "## Question 6"
   ]
  },
  {
   "cell_type": "markdown",
   "id": "c05adda3",
   "metadata": {},
   "source": [
    "If you pass a list to a function, and if you want the function to be able to change the values of the list—so that the list is different after the function returns—what action should you avoid?"
   ]
  },
  {
   "cell_type": "markdown",
   "id": "f9e512e8",
   "metadata": {},
   "source": [
    "## Answer to the Question 6"
   ]
  },
  {
   "cell_type": "markdown",
   "id": "ea1441bc",
   "metadata": {},
   "source": [
    "If we pass a list to a function, and if we want the function to be able to change the values of the list, we should modify the content in place. Here is an example code to show this."
   ]
  },
  {
   "cell_type": "code",
   "execution_count": 10,
   "id": "7b5c0a9f",
   "metadata": {},
   "outputs": [
    {
     "name": "stdout",
     "output_type": "stream",
     "text": [
      "[10, 20, 30, 40]\n"
     ]
    }
   ],
   "source": [
    "def modify(lst):\n",
    "    # modifies the list in place\n",
    "    lst[0] = 10\n",
    "    lst[1] = 20\n",
    "    lst[2] = 30\n",
    "    lst[3] = 40\n",
    "\n",
    "my_list = [0, 1, 2, 3]\n",
    "modify(my_list)\n",
    "print(my_list)"
   ]
  },
  {
   "cell_type": "markdown",
   "id": "28c550c6",
   "metadata": {},
   "source": [
    "## Question 7"
   ]
  },
  {
   "cell_type": "markdown",
   "id": "b2a7a4b4",
   "metadata": {},
   "source": [
    "What is the concept of an unbalanced matrix?"
   ]
  },
  {
   "cell_type": "markdown",
   "id": "d0122b7a",
   "metadata": {},
   "source": [
    "## Answer to the Question 7"
   ]
  },
  {
   "cell_type": "markdown",
   "id": "ce05670a",
   "metadata": {},
   "source": [
    "An unbalanced matrix in Python is one that has more rows than columns or more columns than rows. When dealing with data sets with a huge number of features or variables, this can occur. Unbalanced matrices can cause issues in some machine learning methods by causing an uneven distribution of data points, which can affect model accuracy. Techniques such as feature selection and dimensionality reduction can be used to reduce the number of features and generate a more balanced matrix to address this issue."
   ]
  },
  {
   "cell_type": "markdown",
   "id": "d8764e57",
   "metadata": {},
   "source": [
    "## Question 8"
   ]
  },
  {
   "cell_type": "markdown",
   "id": "d36f6e9b",
   "metadata": {},
   "source": [
    "Why is it necessary to use either list comprehension or a loop to create arbitrarily large matrices?"
   ]
  },
  {
   "cell_type": "markdown",
   "id": "c91be4c8",
   "metadata": {},
   "source": [
    "## Answer to the Question 8"
   ]
  },
  {
   "cell_type": "markdown",
   "id": "3ec5976a",
   "metadata": {},
   "source": [
    "To produce arbitrarily big matrices, it is necessary to use either list comprehension or a loop because these approaches allow you to generate a matrix with a variable number of rows and columns. List comprehension is a more efficient approach of building a matrix because it only requires one line of code. Loops, on the other hand, require more code and are less efficient, despite providing greater flexibility."
   ]
  },
  {
   "cell_type": "code",
   "execution_count": null,
   "id": "4ef082c3",
   "metadata": {},
   "outputs": [],
   "source": []
  }
 ],
 "metadata": {
  "kernelspec": {
   "display_name": "Python 3 (ipykernel)",
   "language": "python",
   "name": "python3"
  },
  "language_info": {
   "codemirror_mode": {
    "name": "ipython",
    "version": 3
   },
   "file_extension": ".py",
   "mimetype": "text/x-python",
   "name": "python",
   "nbconvert_exporter": "python",
   "pygments_lexer": "ipython3",
   "version": "3.9.13"
  }
 },
 "nbformat": 4,
 "nbformat_minor": 5
}
