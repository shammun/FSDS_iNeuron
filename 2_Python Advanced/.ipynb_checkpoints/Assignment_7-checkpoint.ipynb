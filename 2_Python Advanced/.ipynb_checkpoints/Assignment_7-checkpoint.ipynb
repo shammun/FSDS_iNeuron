{
 "cells": [
  {
   "cell_type": "markdown",
   "id": "05cd45e9",
   "metadata": {},
   "source": [
    "# Assignment 7"
   ]
  },
  {
   "cell_type": "markdown",
   "id": "3f5c31e5",
   "metadata": {},
   "source": [
    "## Question 1"
   ]
  },
  {
   "cell_type": "markdown",
   "id": "bcfcd840",
   "metadata": {},
   "source": [
    "What is the purpose of the try statement?"
   ]
  },
  {
   "cell_type": "markdown",
   "id": "16983ccc",
   "metadata": {},
   "source": [
    "## Answer to the Question 1"
   ]
  },
  {
   "cell_type": "markdown",
   "id": "81641e0a",
   "metadata": {},
   "source": [
    "The purpose of the `try` statement is to define a block of code to be tested for errors, and in the case of error in the execution of this block, `catch` block provides alternative things to try or execute."
   ]
  },
  {
   "cell_type": "markdown",
   "id": "e3fd8ada",
   "metadata": {},
   "source": [
    "## Question 2"
   ]
  },
  {
   "cell_type": "markdown",
   "id": "a544247d",
   "metadata": {},
   "source": [
    "What are the two most popular try statement variations?"
   ]
  },
  {
   "cell_type": "markdown",
   "id": "512da666",
   "metadata": {},
   "source": [
    "## Answer to the Question 2"
   ]
  },
  {
   "cell_type": "markdown",
   "id": "fbde0563",
   "metadata": {},
   "source": [
    "The two most popular try statement variations of try statements are:\n",
    "\n",
    "1. **try-catch:** This variation is used to handle errors or exceptions that arise when running a chunk of code. The code that might raise an exception is contained in the try block, and the catch block is used to handle the exception that is raised. The code in the catch block is run to handle any exceptions that are thrown in the try block. The catch block can handle various typoes of exceptions, and we can also use multiple catch blocks to handle various types of exceptions.\n",
    "\n",
    "2. **Try-finally:** This variant makes sure that a block of code is run regardless of whether an exception is thrown or not. The finally block contains the code that must always be executed, regardless of whether an exception is thrown or not. The finally block is often used to release resources that were acquired in the try block, such as shutting files or database connections."
   ]
  },
  {
   "cell_type": "markdown",
   "id": "18db1f75",
   "metadata": {},
   "source": [
    "## Question 3"
   ]
  },
  {
   "cell_type": "markdown",
   "id": "f290e655",
   "metadata": {},
   "source": [
    "What is the purpose of the raise statement?"
   ]
  },
  {
   "cell_type": "markdown",
   "id": "674b7495",
   "metadata": {},
   "source": [
    "## Answer to the Question 3"
   ]
  },
  {
   "cell_type": "markdown",
   "id": "c8b2defc",
   "metadata": {},
   "source": [
    "Raise statement is used to raise exception or error when there is an exception or error occurs in our program. The raise statement helps to terminate the normal flow of the program when an error occurs."
   ]
  },
  {
   "cell_type": "markdown",
   "id": "d71aa5ec",
   "metadata": {},
   "source": [
    "## Question 4"
   ]
  },
  {
   "cell_type": "markdown",
   "id": "c8cf9d40",
   "metadata": {},
   "source": [
    "What does the assert statement do, and what other statement is it like?"
   ]
  },
  {
   "cell_type": "markdown",
   "id": "a6b5d53e",
   "metadata": {},
   "source": [
    "## Answer to the Question 4"
   ]
  },
  {
   "cell_type": "markdown",
   "id": "865dedbe",
   "metadata": {},
   "source": [
    "The assert statement is used to determine whether a condition is true at a specific time in the execution of a program. The program continues to run normally if the condition is satisfied. An `AssertionError` is produced and the program terminates if the condition is false. The assert statement can be helpful in catching programming flaws and defects early on during development and testing. It is frequently used to verify that particular program state assumptions are accurate or to make sure that function inputs are valid."
   ]
  },
  {
   "cell_type": "markdown",
   "id": "b2761d2a",
   "metadata": {},
   "source": [
    "Similar to the if statement, the assert statement enables you to test a condition and run alternative code depending on whether it is true or false. The if statement is used more frequently for making decisions based on conditions, but the assert statement is used exclusively for testing and debugging."
   ]
  },
  {
   "cell_type": "markdown",
   "id": "d6d5d9d1",
   "metadata": {},
   "source": [
    "## Question 5"
   ]
  },
  {
   "cell_type": "markdown",
   "id": "567a373b",
   "metadata": {},
   "source": [
    "What is the purpose of the with/as argument, and what other statement is it like?"
   ]
  },
  {
   "cell_type": "markdown",
   "id": "6b5251ea",
   "metadata": {},
   "source": [
    "## Answer to the Question 5"
   ]
  },
  {
   "cell_type": "markdown",
   "id": "19137df1",
   "metadata": {},
   "source": [
    "In Python, the with/as statement is used to safely and automatically manage the acquisition and release of resources. Resources include anything that needs to be initialized before use and cleaned up afterward, including file handles, network sockets, database connections, and other objects."
   ]
  },
  {
   "cell_type": "markdown",
   "id": "9d2fa58b",
   "metadata": {},
   "source": [
    "If we want to read a file and print the content of it, we can usse the following code:"
   ]
  },
  {
   "cell_type": "code",
   "execution_count": 1,
   "id": "4ef082c3",
   "metadata": {},
   "outputs": [
    {
     "name": "stdout",
     "output_type": "stream",
     "text": [
      "Hi\n",
      "\n",
      "Hello\n",
      "\n",
      "I\n",
      "\n",
      "\n",
      "am\n",
      "\n",
      "Good\n"
     ]
    }
   ],
   "source": [
    "with open('file.txt', 'r') as f:\n",
    "    contents = f.read()\n",
    "    print(contents)"
   ]
  },
  {
   "cell_type": "markdown",
   "id": "1a031fca",
   "metadata": {},
   "source": [
    "In this example, a file object is created using the `open()` function and then supplied to the `with` statement. Whether or not an exception is raised, the file object is immediately closed when the `with` block is terminated."
   ]
  },
  {
   "cell_type": "code",
   "execution_count": null,
   "id": "7e15885e",
   "metadata": {},
   "outputs": [],
   "source": []
  }
 ],
 "metadata": {
  "kernelspec": {
   "display_name": "Python 3 (ipykernel)",
   "language": "python",
   "name": "python3"
  },
  "language_info": {
   "codemirror_mode": {
    "name": "ipython",
    "version": 3
   },
   "file_extension": ".py",
   "mimetype": "text/x-python",
   "name": "python",
   "nbconvert_exporter": "python",
   "pygments_lexer": "ipython3",
   "version": "3.9.13"
  }
 },
 "nbformat": 4,
 "nbformat_minor": 5
}
