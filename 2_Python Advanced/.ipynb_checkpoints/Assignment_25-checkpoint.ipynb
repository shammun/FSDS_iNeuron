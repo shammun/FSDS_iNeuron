{
 "cells": [
  {
   "cell_type": "markdown",
   "id": "05cd45e9",
   "metadata": {},
   "source": [
    "# Assignment 25"
   ]
  },
  {
   "cell_type": "markdown",
   "id": "3f5c31e5",
   "metadata": {},
   "source": [
    "## Question 1"
   ]
  },
  {
   "cell_type": "markdown",
   "id": "bcfcd840",
   "metadata": {},
   "source": [
    "What is the distinction between a numpy array and a pandas data frame? Is there a way to convert between the two if there is?"
   ]
  },
  {
   "cell_type": "markdown",
   "id": "16983ccc",
   "metadata": {},
   "source": [
    "## Answer to the Question 1"
   ]
  },
  {
   "cell_type": "markdown",
   "id": "81641e0a",
   "metadata": {},
   "source": [
    "The fundamental difference between a NumPy array and a Pandas DataFrame is that a NumPy array is a more basic structure, with all members of the same data type and a fixed size, whereas a Pandas DataFrame is more complex, with diverse data types and a dynamic size.\n",
    "\n",
    "We can also convert from one to another. To convert a Pandas DataFrame to a NumPy array, use `to_numpy()`, or use the `Pandas.DataFrame()` constructor to convert a NumPy array to a Pandas DataFrame."
   ]
  },
  {
   "cell_type": "markdown",
   "id": "e3fd8ada",
   "metadata": {},
   "source": [
    "## Question 2"
   ]
  },
  {
   "cell_type": "markdown",
   "id": "a544247d",
   "metadata": {},
   "source": [
    "What can go wrong when an user enters in a stock-ticker symbol, and how do you handle it?"
   ]
  },
  {
   "cell_type": "markdown",
   "id": "512da666",
   "metadata": {},
   "source": [
    "## Answer to the Question 2"
   ]
  },
  {
   "cell_type": "markdown",
   "id": "fbde0563",
   "metadata": {},
   "source": [
    "When a user enters a stock-ticker symbol, there are several things that can go wrong, including:\n",
    "\n",
    "Entering an incorrect symbol: Users may accidentally enter an incorrect ticker symbol for the company they are searching for. This can lead to inaccurate or irrelevant information being displayed, which can be frustrating for the user.\n",
    "\n",
    "Outdated information: Sometimes the information associated with a particular ticker symbol may be outdated or inaccurate. This can be due to factors such as a merger or acquisition, changes in the company's financial performance, or changes in the industry.\n",
    "\n",
    "Technical issues: Technical issues, such as connectivity problems or website outages, can also prevent users from accessing the information they need.\n",
    "\n",
    "To handle these issues, there are a few best practices you can follow:\n",
    "\n",
    "Validate user input: To prevent users from entering incorrect ticker symbols, you can use input validation to ensure that the symbol entered is valid.\n",
    "\n",
    "Display clear error messages: If a user enters an invalid symbol or if there is an issue with the system, display a clear error message that explains the issue and provides guidance on how to proceed.\n",
    "\n",
    "Use real-time data: To avoid outdated information, you can use real-time data sources to ensure that the information displayed is accurate and up-to-date.\n",
    "\n",
    "Have a backup plan: In case of technical issues, have a backup plan in place, such as a secondary data source or a way to alert users of the issue and provide an estimated timeframe for when it will be resolved."
   ]
  },
  {
   "cell_type": "markdown",
   "id": "18db1f75",
   "metadata": {},
   "source": [
    "## Question 3"
   ]
  },
  {
   "cell_type": "markdown",
   "id": "f290e655",
   "metadata": {},
   "source": [
    "Identify some of the plotting techniques that are used to produce a stock-market chart."
   ]
  },
  {
   "cell_type": "markdown",
   "id": "674b7495",
   "metadata": {},
   "source": [
    "## Answer to the Question 3"
   ]
  },
  {
   "cell_type": "markdown",
   "id": "c8b2defc",
   "metadata": {},
   "source": [
    "We can use line chart, bar chart, point chart, point-and-figure chart and candlestick chart."
   ]
  },
  {
   "cell_type": "markdown",
   "id": "d71aa5ec",
   "metadata": {},
   "source": [
    "## Question 4"
   ]
  },
  {
   "cell_type": "markdown",
   "id": "c8cf9d40",
   "metadata": {},
   "source": [
    "Why is it essential to print a legend on a stock market chart?"
   ]
  },
  {
   "cell_type": "markdown",
   "id": "a6b5d53e",
   "metadata": {},
   "source": [
    "## Answer to the Question 4"
   ]
  },
  {
   "cell_type": "markdown",
   "id": "865dedbe",
   "metadata": {},
   "source": [
    "Legends make it easier to visualize the trend of data in relation to different features. It shows different trends in various colors, indicating which trends belong to particular features."
   ]
  },
  {
   "cell_type": "markdown",
   "id": "d6d5d9d1",
   "metadata": {},
   "source": [
    "## Question 5"
   ]
  },
  {
   "cell_type": "markdown",
   "id": "567a373b",
   "metadata": {},
   "source": [
    "What is the best way to limit the length of a pandas data frame to less than a year?"
   ]
  },
  {
   "cell_type": "markdown",
   "id": "6b5251ea",
   "metadata": {},
   "source": [
    "## Answer to the Question 5"
   ]
  },
  {
   "cell_type": "markdown",
   "id": "19137df1",
   "metadata": {},
   "source": [
    "For this, we can use the start and end arguments. At the beginning, we write the date from which we are starting, and at the end, we write the end date. Thus we can limit the duration inside this range. We can also utilize parameters such as periods to specify how much times we require the duration, as well as the frequency parameter."
   ]
  },
  {
   "cell_type": "markdown",
   "id": "90502bee",
   "metadata": {},
   "source": [
    "## Question 6"
   ]
  },
  {
   "cell_type": "markdown",
   "id": "fbc7edc1",
   "metadata": {},
   "source": [
    "What is the definition of a 180-day moving average?"
   ]
  },
  {
   "cell_type": "markdown",
   "id": "f9e512e8",
   "metadata": {},
   "source": [
    "## Answer to the Question 6"
   ]
  },
  {
   "cell_type": "markdown",
   "id": "ea1441bc",
   "metadata": {},
   "source": [
    "A moving average is a statistical computation that is used to examine data points by calculating a series of averages of different subsets of the entire data set. 180-day moving average is a simple arithmetic average of prices over 180 days. Moving averages are used to determine the trend direction of a stock or its support and resistance levels. \n",
    "\n",
    "While a moving average can be calculated for any time period, the 180-day moving average represents half a year and generally considered long enough to capture trends while remaining short enough to represent useful data for current trading."
   ]
  },
  {
   "cell_type": "markdown",
   "id": "28c550c6",
   "metadata": {},
   "source": [
    "## Question 7"
   ]
  },
  {
   "cell_type": "markdown",
   "id": "4c1203c9",
   "metadata": {},
   "source": [
    "Did the chapter's final example use \"indirect\" importing? If so, how exactly do you do it?"
   ]
  },
  {
   "cell_type": "markdown",
   "id": "d0122b7a",
   "metadata": {},
   "source": [
    "## Answer to the Question 7"
   ]
  },
  {
   "cell_type": "markdown",
   "id": "ce05670a",
   "metadata": {},
   "source": [
    "Yes. \n",
    "\n",
    "In Python, there are a few ways to perform indirect imports, which allow you to import a module or package indirectly by using a string or variable instead of directly importing it by name. Here are a few methods you can use:\n",
    "\n",
    "1. **Using the importlib module:** To import a module indirectly, we can use the `importlib.import module()` function. This function accepts a string argument representing the name of the module to import and returns its object. Suppose we have a string variable called module name that contains the name of the module we want to import. We can import it indirectly by doing the following:\n",
    "\n",
    "`import importlib \n",
    "module_name = \"square\"\n",
    "imported_module = importlib.import module(module_name)`\n",
    "\n",
    "2. **Using the __import__() function:** We can also use the built-in `__import__()` function to perform an indirect import. This function takes a string argument representing the name of the module we want to import, and returns the module object. For example:\n",
    "\n",
    "`module_name = \"square\"\n",
    "imported_module = __import__(module_name)\n",
    "`\n",
    "\n",
    "3. **Using the exec() function:** We can also use the `exec()` function to execute a string containing an import statement. For example, suppose you have a string variable module_name that contains the name of the module you want to import. You can import it indirectly like this:\n",
    "\n",
    "`module_name = \"my_module\"\n",
    "exec(f\"import {module_name}\")\n",
    "my_module = sys.modules[module_name]\n",
    "`\n",
    "\n",
    "Note that using exec() to execute arbitrary code can be a security risk, so use it with caution and only with trusted code."
   ]
  },
  {
   "cell_type": "markdown",
   "id": "cc068124",
   "metadata": {},
   "source": []
  },
  {
   "cell_type": "markdown",
   "id": "52ee160b",
   "metadata": {},
   "source": []
  },
  {
   "cell_type": "markdown",
   "id": "1ac3ec59",
   "metadata": {},
   "source": []
  },
  {
   "cell_type": "markdown",
   "id": "30027fc5",
   "metadata": {},
   "source": []
  }
 ],
 "metadata": {
  "kernelspec": {
   "display_name": "Python 3 (ipykernel)",
   "language": "python",
   "name": "python3"
  },
  "language_info": {
   "codemirror_mode": {
    "name": "ipython",
    "version": 3
   },
   "file_extension": ".py",
   "mimetype": "text/x-python",
   "name": "python",
   "nbconvert_exporter": "python",
   "pygments_lexer": "ipython3",
   "version": "3.9.13"
  }
 },
 "nbformat": 4,
 "nbformat_minor": 5
}
