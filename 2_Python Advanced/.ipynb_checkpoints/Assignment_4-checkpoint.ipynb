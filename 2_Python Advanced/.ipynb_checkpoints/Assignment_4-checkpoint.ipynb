{
 "cells": [
  {
   "cell_type": "markdown",
   "id": "05cd45e9",
   "metadata": {},
   "source": [
    "# Assignment 1"
   ]
  },
  {
   "cell_type": "markdown",
   "id": "3f5c31e5",
   "metadata": {},
   "source": [
    "## Question 1"
   ]
  },
  {
   "cell_type": "markdown",
   "id": "bcfcd840",
   "metadata": {},
   "source": [
    "Which two operator overloading methods can you use in your classes to support iteration?"
   ]
  },
  {
   "cell_type": "markdown",
   "id": "16983ccc",
   "metadata": {},
   "source": [
    "## Answer to the Question 1"
   ]
  },
  {
   "cell_type": "markdown",
   "id": "81641e0a",
   "metadata": {},
   "source": [
    "We can use two operator overloading methods `__iter__` and `__next__` to support iteration. `__iter__` method is used to make an object iterable. When an object is initilized for iteration, this method is called and returns an iterator object. An iterator object implements the `__next__` method which defines the iterator behavior. It returns the next value in the iterator sequence and is called for each iteration. When there is no item to iterate over, the `__next__` method raises the `StopIteration` exception to signal the end  of iteration sequence. Below is an example code:"
   ]
  },
  {
   "cell_type": "code",
   "execution_count": 1,
   "id": "a1e4cfb2",
   "metadata": {},
   "outputs": [],
   "source": [
    "class MyIterable:\n",
    "    def __init__(self, data):\n",
    "        self.data = data\n",
    "        self.index = 0\n",
    "\n",
    "    def __iter__(self):\n",
    "        return self\n",
    "\n",
    "    def __next__(self):\n",
    "        if self.index >= len(self.data):\n",
    "            raise StopIteration\n",
    "        result = self.data[self.index]\n",
    "        self.index += 1\n",
    "        return result\n"
   ]
  },
  {
   "cell_type": "code",
   "execution_count": 2,
   "id": "068ca22f",
   "metadata": {},
   "outputs": [
    {
     "name": "stdout",
     "output_type": "stream",
     "text": [
      "10\n",
      "20\n",
      "30\n",
      "40\n",
      "50\n"
     ]
    }
   ],
   "source": [
    "# Create an instance of MyIterable with some data\n",
    "my_iterable = MyIterable([10, 20, 30, 40, 50])\n",
    "\n",
    "# Use a for loop to iterate over the object\n",
    "for item in my_iterable:\n",
    "    print(item)"
   ]
  },
  {
   "cell_type": "markdown",
   "id": "cc451b60",
   "metadata": {},
   "source": [
    "In the example above, we create an oinstance of MyIterable class and pass a list of integers as data. Then, when we iterate over the object, which implicitly calls the `__iter__` method to get an iterator object and it then calls the `__next__` method on the iterator until the `StopIteration` exception is raised."
   ]
  },
  {
   "cell_type": "markdown",
   "id": "e3fd8ada",
   "metadata": {},
   "source": [
    "## Question 2"
   ]
  },
  {
   "cell_type": "markdown",
   "id": "a544247d",
   "metadata": {},
   "source": [
    "In what contexts do the two operator overloading methods manage printing?"
   ]
  },
  {
   "cell_type": "markdown",
   "id": "512da666",
   "metadata": {},
   "source": [
    "## Answer to the Question 2"
   ]
  },
  {
   "cell_type": "markdown",
   "id": "fbde0563",
   "metadata": {},
   "source": [
    "The two operator overloading methods in Python, `__str__` and `__repr__`, are frequently used for printing. Depending on the intended usage of the string representation, these methods are used to specify how an object should be represented as a string and can be applied in a variety of situations.\n",
    "\n",
    "For printing or displaying an object to end users, the `__str__` method is used to define a \"user-friendly\" string representation of the object. This method should return a string that can accurately and succinctly describes the object. Python will fall back to the `__repr__` method if `__str__` is not defined.\n",
    "\n",
    "On the other hand, the `__repr__` method is used to define a string representation of an object that is meant for developers or for debugging. In addition to the object's type and any pertinent state details, this function returns a string that contains as much information as feasible about the object. Python will default to using a string representation of the object's type and memory address if `__repr__` is not defined.\n",
    "\n",
    "Below is an example of using these:"
   ]
  },
  {
   "cell_type": "code",
   "execution_count": 7,
   "id": "bef21e6d",
   "metadata": {},
   "outputs": [],
   "source": [
    "class Employee:\n",
    "    def __init__(self, name, department):\n",
    "        self.name = name\n",
    "        self.department = department\n",
    "        \n",
    "    def __str__(self):\n",
    "        return f\"Employee({self.name, self.department})\"\n",
    "    \n",
    "    def __repr__(self):\n",
    "        return f\"__repr__ form : Employee({self.name, self.department})\""
   ]
  },
  {
   "cell_type": "code",
   "execution_count": 8,
   "id": "9e0b3f38",
   "metadata": {},
   "outputs": [
    {
     "name": "stdout",
     "output_type": "stream",
     "text": [
      "Employee(('Rahim', 'Sales'))\n"
     ]
    }
   ],
   "source": [
    "employee1 = Employee(\"Rahim\", \"Sales\")\n",
    "print(str(employee1))"
   ]
  },
  {
   "cell_type": "code",
   "execution_count": 9,
   "id": "4799a6e2",
   "metadata": {},
   "outputs": [
    {
     "name": "stdout",
     "output_type": "stream",
     "text": [
      "Employee(('Rahim', 'Sales'))\n"
     ]
    }
   ],
   "source": [
    "print(employee1)"
   ]
  },
  {
   "cell_type": "code",
   "execution_count": 10,
   "id": "b0097c51",
   "metadata": {},
   "outputs": [
    {
     "data": {
      "text/plain": [
       "__repr__ form : Employee(('Rahim', 'Sales'))"
      ]
     },
     "execution_count": 10,
     "metadata": {},
     "output_type": "execute_result"
    }
   ],
   "source": [
    "employee1"
   ]
  },
  {
   "cell_type": "code",
   "execution_count": 11,
   "id": "4c20ea97",
   "metadata": {},
   "outputs": [
    {
     "name": "stdout",
     "output_type": "stream",
     "text": [
      "__repr__ form : Employee(('Rahim', 'Sales'))\n"
     ]
    }
   ],
   "source": [
    "print(repr(employee1))"
   ]
  },
  {
   "cell_type": "markdown",
   "id": "18db1f75",
   "metadata": {},
   "source": [
    "## Question 3"
   ]
  },
  {
   "cell_type": "markdown",
   "id": "f290e655",
   "metadata": {},
   "source": [
    "In a class, how do you intercept slice operations?"
   ]
  },
  {
   "cell_type": "markdown",
   "id": "674b7495",
   "metadata": {},
   "source": [
    "## Answer to the Question 3"
   ]
  },
  {
   "cell_type": "markdown",
   "id": "c8b2defc",
   "metadata": {},
   "source": [
    "By defining the `__getitem__` special function in Python and passing a slice object as an argument, you can stop slice operations in a class.\n",
    "\n",
    "When an object is accessed using the bracket notation, such as my `object[index]`, the `__getitem__` method is used to specify how the object should behave. The `__getitem__` method is called with a slice object as the argument when a slice operation is performed on the object, such as my `object[start:end:step]`."
   ]
  },
  {
   "cell_type": "code",
   "execution_count": 18,
   "id": "71da8d5e",
   "metadata": {},
   "outputs": [],
   "source": [
    "class MyList:\n",
    "    def __init__(self, data):\n",
    "        self.data = data\n",
    "\n",
    "    def __getitem__(self, index):\n",
    "        if isinstance(index, slice):\n",
    "            start = index.start or 0\n",
    "            stop = index.stop or len(self.data)\n",
    "            step = index.step or 1\n",
    "            return self.data[start:stop:step]\n",
    "        else:\n",
    "            return self.data[index]"
   ]
  },
  {
   "cell_type": "markdown",
   "id": "eaf755d4",
   "metadata": {},
   "source": [
    "In the examplke above, the `__getitem__` method, accepting a list of data as input, is implemented by the `MyList` class to allow slicing. Using the `start`, `stop`, and `step` characteristics of the slice object, `__getitem__` retrieves the necessary elements from the data list when it is called. The sliced data is then used to generate and return a new MyList object."
   ]
  },
  {
   "cell_type": "markdown",
   "id": "f43442c2",
   "metadata": {},
   "source": [
    "Now, we can use this class like a regular list with the added functionality of slicing it like below:"
   ]
  },
  {
   "cell_type": "code",
   "execution_count": 19,
   "id": "21cac833",
   "metadata": {},
   "outputs": [
    {
     "name": "stdout",
     "output_type": "stream",
     "text": [
      "[2, 3, 4]\n"
     ]
    }
   ],
   "source": [
    "my_list = MyList([1, 2, 3, 4, 5])\n",
    "print(my_list[1:4])"
   ]
  },
  {
   "cell_type": "markdown",
   "id": "d71aa5ec",
   "metadata": {},
   "source": [
    "## Question 4"
   ]
  },
  {
   "cell_type": "markdown",
   "id": "c8cf9d40",
   "metadata": {},
   "source": [
    "In a class, how do you capture in-place addition?"
   ]
  },
  {
   "cell_type": "markdown",
   "id": "a6b5d53e",
   "metadata": {},
   "source": [
    "## Answer to the Question 4"
   ]
  },
  {
   "cell_type": "markdown",
   "id": "865dedbe",
   "metadata": {},
   "source": [
    "You can implement the `__iadd__` method in a class to capture in-place adding . This method should modify the object on the fly and return the modified object when the `+=` operator is used on an instance of your class."
   ]
  },
  {
   "cell_type": "code",
   "execution_count": 20,
   "id": "2a0ca40b",
   "metadata": {},
   "outputs": [],
   "source": [
    "class Test:\n",
    "    def __init__(self, value=0):\n",
    "        self.value = value\n",
    "        \n",
    "    def __iadd__(self, other):\n",
    "        self.value += other\n",
    "        return self"
   ]
  },
  {
   "cell_type": "code",
   "execution_count": 21,
   "id": "3c75b28c",
   "metadata": {},
   "outputs": [
    {
     "name": "stdout",
     "output_type": "stream",
     "text": [
      "15\n"
     ]
    }
   ],
   "source": [
    "val1 = Test(10)\n",
    "val1 += 5\n",
    "print(val1.value)"
   ]
  },
  {
   "cell_type": "markdown",
   "id": "45e1bedd",
   "metadata": {},
   "source": [
    "In the example above, the `Test` class has an `__iadd__`  method that updates the `value` attribute of the object in place when the `+=` operator is used. "
   ]
  },
  {
   "cell_type": "markdown",
   "id": "d6d5d9d1",
   "metadata": {},
   "source": [
    "## Question 5"
   ]
  },
  {
   "cell_type": "markdown",
   "id": "567a373b",
   "metadata": {},
   "source": [
    "When is it appropriate to use operator overloading?"
   ]
  },
  {
   "cell_type": "markdown",
   "id": "6b5251ea",
   "metadata": {},
   "source": [
    "## Answer to the Question 5"
   ]
  },
  {
   "cell_type": "markdown",
   "id": "19137df1",
   "metadata": {},
   "source": [
    "If you want to make your class more user-friendly and intuitive, operator overloading may be a good choice. For example, when designing a class that can represent a complex number that allows addition and subtraction of complex numbers, we might want to overload the `+` and `-` operators. Here is an example:"
   ]
  },
  {
   "cell_type": "code",
   "execution_count": 28,
   "id": "52192918",
   "metadata": {},
   "outputs": [],
   "source": [
    "class ComplexNumber:\n",
    "    def __init__(self, real=0, im=0):\n",
    "        self.real = real\n",
    "        self.im = im\n",
    "\n",
    "    def __add__(self, other):\n",
    "        return ComplexNumber(self.real + other.real, self.im + other.im)\n",
    "\n",
    "    def __sub__(self, other):\n",
    "        return ComplexNumber(self.real - other.real, self.im - other.im)"
   ]
  },
  {
   "cell_type": "markdown",
   "id": "4a2a085e",
   "metadata": {},
   "source": [
    "Now, we can add and subtract complex numbers using this `ComplexNumber` class."
   ]
  },
  {
   "cell_type": "code",
   "execution_count": 30,
   "id": "4ef082c3",
   "metadata": {},
   "outputs": [
    {
     "name": "stdout",
     "output_type": "stream",
     "text": [
      "For c (adding a and b):The real part is 14 and the imaginary part is 8\n",
      "For d (subtracting b from a):The real part is 6 and the imaginary part is -2\n"
     ]
    }
   ],
   "source": [
    "a = ComplexNumber(4, 5)\n",
    "b = ComplexNumber(10, 3)\n",
    "c = a + b\n",
    "d = b - a\n",
    "print(f\"For c (adding a and b):The real part is {c.real} and the imaginary part is {c.im}\")\n",
    "print(f\"For d (subtracting b from a):The real part is {d.real} and the imaginary part is {d.im}\")"
   ]
  },
  {
   "cell_type": "code",
   "execution_count": null,
   "id": "245748b3",
   "metadata": {},
   "outputs": [],
   "source": []
  }
 ],
 "metadata": {
  "kernelspec": {
   "display_name": "Python 3 (ipykernel)",
   "language": "python",
   "name": "python3"
  },
  "language_info": {
   "codemirror_mode": {
    "name": "ipython",
    "version": 3
   },
   "file_extension": ".py",
   "mimetype": "text/x-python",
   "name": "python",
   "nbconvert_exporter": "python",
   "pygments_lexer": "ipython3",
   "version": "3.9.13"
  }
 },
 "nbformat": 4,
 "nbformat_minor": 5
}
