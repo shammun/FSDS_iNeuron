{
 "cells": [
  {
   "cell_type": "markdown",
   "id": "05cd45e9",
   "metadata": {},
   "source": [
    "# Assignment 19"
   ]
  },
  {
   "cell_type": "markdown",
   "id": "3f5c31e5",
   "metadata": {},
   "source": [
    "## Question 1"
   ]
  },
  {
   "cell_type": "markdown",
   "id": "bcfcd840",
   "metadata": {},
   "source": [
    "Define the relationship between a class and its instances. Is it a one-to-one or a one-to-many partnership, for example?"
   ]
  },
  {
   "cell_type": "markdown",
   "id": "16983ccc",
   "metadata": {},
   "source": [
    "## Answer to the Question 1"
   ]
  },
  {
   "cell_type": "markdown",
   "id": "81641e0a",
   "metadata": {},
   "source": [
    "A class's relationship with its instances is a one-to-many partnership. A class is simply a template that defines the characteristics and behaviors of its instances, which are objects that are constructed from it. A class can have multiple instances, each of which is a different object with the same characteristics and behaviors described by the class."
   ]
  },
  {
   "cell_type": "markdown",
   "id": "e3fd8ada",
   "metadata": {},
   "source": [
    "## Question 2"
   ]
  },
  {
   "cell_type": "markdown",
   "id": "a544247d",
   "metadata": {},
   "source": [
    "What kind of data is held only in an instance?"
   ]
  },
  {
   "cell_type": "markdown",
   "id": "512da666",
   "metadata": {},
   "source": [
    "## Answer to the Question 2"
   ]
  },
  {
   "cell_type": "markdown",
   "id": "fbde0563",
   "metadata": {},
   "source": [
    "Instance data is the data that is only stored in one instance of a class object. This comprises data that is unique to a single instance and is not shared with other instances. Instance data examples include instance-specific setup settings and instance variables (data associated with the instance). Instance data is saved in memory and is not persistent through restarts or other changes in the instance lifecycle."
   ]
  },
  {
   "cell_type": "markdown",
   "id": "18db1f75",
   "metadata": {},
   "source": [
    "## Question 3"
   ]
  },
  {
   "cell_type": "markdown",
   "id": "f290e655",
   "metadata": {},
   "source": [
    "What kind of knowledge is stored in a class?"
   ]
  },
  {
   "cell_type": "markdown",
   "id": "674b7495",
   "metadata": {},
   "source": [
    "## Answer to the Question 3"
   ]
  },
  {
   "cell_type": "markdown",
   "id": "c8b2defc",
   "metadata": {},
   "source": [
    "Classes are used in object-oriented programming (OOP) to store and organize information about objects. This information includes the object's data, or attributes, as well as any methods or functions for interacting with the object. Furthermore, the class can keep track of the object's relationships with other objects, such as inheritance, composition, and aggregation."
   ]
  },
  {
   "cell_type": "markdown",
   "id": "d71aa5ec",
   "metadata": {},
   "source": [
    "## Question 4"
   ]
  },
  {
   "cell_type": "markdown",
   "id": "c8cf9d40",
   "metadata": {},
   "source": [
    "What exactly is a method, and how is it different from a regular function?"
   ]
  },
  {
   "cell_type": "markdown",
   "id": "a6b5d53e",
   "metadata": {},
   "source": [
    "## Answer to the Question 4"
   ]
  },
  {
   "cell_type": "markdown",
   "id": "865dedbe",
   "metadata": {},
   "source": [
    "A method is a function that is linked to an object, which means it has access to the object's data and properties. A method differs from a typical function in that it is not self-contained and can only be used with the object with which it is associated with. Also, when a method is called, the object is implicitly supplied as an argument, so there is no need to explicitly pass it in the arguments list. Finally, methods can be used to ensure encapsulation by defining access controls for the object's data."
   ]
  },
  {
   "cell_type": "markdown",
   "id": "d6d5d9d1",
   "metadata": {},
   "source": [
    "## Question 5"
   ]
  },
  {
   "cell_type": "markdown",
   "id": "567a373b",
   "metadata": {},
   "source": [
    "Is inheritance supported in Python, and if so, what is the syntax?"
   ]
  },
  {
   "cell_type": "markdown",
   "id": "6b5251ea",
   "metadata": {},
   "source": [
    "## Answer to the Question 5"
   ]
  },
  {
   "cell_type": "markdown",
   "id": "19137df1",
   "metadata": {},
   "source": [
    "Indeed, Python supports inheritance. The inheritance syntax is \"class `DerivedClassName(BaseClassName):`, where `DerivedClassName` is the name of the class inheriting from the `BaseClassName` class. For example, if we wanted to build a class called `DerivedClass` that inherits from another class called `BaseClass`, you would use the notation `class DerivedClass(BaseClass):`."
   ]
  },
  {
   "cell_type": "markdown",
   "id": "90502bee",
   "metadata": {},
   "source": [
    "## Question 6"
   ]
  },
  {
   "cell_type": "markdown",
   "id": "fbc7edc1",
   "metadata": {},
   "source": [
    "How much encapsulation (making instance or class variables private) does Python support?"
   ]
  },
  {
   "cell_type": "markdown",
   "id": "f9e512e8",
   "metadata": {},
   "source": [
    "## Answer to the Question 6"
   ]
  },
  {
   "cell_type": "markdown",
   "id": "ea1441bc",
   "metadata": {},
   "source": [
    "The underscore character `_` is used in Python to allow data encapsulation. Variables beginning with an underscore `_` are normally considered private, which means they should not be accessed or modified directly from outside the class. This enables classes to limit data access and prevent unexpected changes to their internal state."
   ]
  },
  {
   "cell_type": "markdown",
   "id": "28c550c6",
   "metadata": {},
   "source": [
    "## Question 7"
   ]
  },
  {
   "cell_type": "markdown",
   "id": "4c1203c9",
   "metadata": {},
   "source": [
    "How do you distinguish between a class variable and an instance variable?"
   ]
  },
  {
   "cell_type": "markdown",
   "id": "d0122b7a",
   "metadata": {},
   "source": [
    "## Answer to the Question 7"
   ]
  },
  {
   "cell_type": "markdown",
   "id": "ce05670a",
   "metadata": {},
   "source": [
    "The main difference between a class variable and an instance variable is the manner in which they are declared and accessed. Class variables are declared within the class definition and can be accessed directly from the class, whereas instance variables are declared within a class but outside of a method, constructor, or block and can only be accessible from a class instance. Another distinction is that class variables are shared by all instances of the class, whereas instance variables are unique to each instance and are destroyed when the instance is destroyed."
   ]
  },
  {
   "cell_type": "markdown",
   "id": "d8764e57",
   "metadata": {},
   "source": [
    "## Question 8"
   ]
  },
  {
   "cell_type": "markdown",
   "id": "d36f6e9b",
   "metadata": {},
   "source": [
    "When, if ever, can self be included in a class's method definitions?"
   ]
  },
  {
   "cell_type": "markdown",
   "id": "c91be4c8",
   "metadata": {},
   "source": [
    "## Answer to the Question 8"
   ]
  },
  {
   "cell_type": "markdown",
   "id": "3ec5976a",
   "metadata": {},
   "source": [
    "In Python, self must be included in all method definitions within a class. The self parameter refers to the class instance and allows the class to access its own attributes and methods. Also, when invoking a class method, the object must be passed as the first argument, which happens automatically when the self parameter is used."
   ]
  },
  {
   "cell_type": "markdown",
   "id": "42250ef4",
   "metadata": {},
   "source": [
    "## Question 9"
   ]
  },
  {
   "cell_type": "markdown",
   "id": "cfd24504",
   "metadata": {},
   "source": [
    "What is the difference between the _ _add_ _ and the _ _radd_ _ methods?"
   ]
  },
  {
   "cell_type": "markdown",
   "id": "b21782fd",
   "metadata": {},
   "source": [
    "## Answer to the Question 9"
   ]
  },
  {
   "cell_type": "markdown",
   "id": "69c38868",
   "metadata": {},
   "source": [
    "The fundamental distinction between the `__add__` and `__radd__` methods is that `__add__` is used for addition when the left and right objects are of the same type, whereas `__radd__` is used for addition when the left and right objects are of different types. When both objects are of the same type, add is called, while `__radd__` is called when the left object does not have an `__add__` method that can combine the two objects. The radd method is also known as the \"reflected\" or \"reverse\" add method."
   ]
  },
  {
   "cell_type": "markdown",
   "id": "90cb1ce6",
   "metadata": {},
   "source": [
    "## Question 10"
   ]
  },
  {
   "cell_type": "markdown",
   "id": "6babb769",
   "metadata": {},
   "source": [
    "When is it necessary to use a reflection method? When do you not need it, even though you support the operation in question?"
   ]
  },
  {
   "cell_type": "markdown",
   "id": "cdd1a1f4",
   "metadata": {},
   "source": [
    "## Answer to the Question 10"
   ]
  },
  {
   "cell_type": "markdown",
   "id": "7b0b9280",
   "metadata": {},
   "source": [
    "In Python, reflection refers to an object's ability to observe its own properties during runtime. Reflection can be handy when you need to access an object's properties dynamically, such as when working with libraries that provide extensibility points.\n",
    "\n",
    "Reflection is possible in Python by using built-in functions such as `dir()`, `getattr()`, and `setattr()`, which allow you to access an object's properties by name.\n",
    "\n",
    "With Python, there is no hard and fast rule for when you should utilize reflection. In general, you should utilize reflection when you need to dynamically access an object's properties or when you need to develop more flexible code that can function with a range of different object types.\n",
    "\n",
    "In some circumstances, however, using reflection may be unnecessary or even bad. For example, if you know the exact type of an object and the attributes it supports, you can use typical object-oriented programming approaches to directly access those features.\n",
    "\n",
    "Furthermore, some libraries and frameworks may provide more specific APIs for working with their objects that are easier to use and less error-prone than reflection.\n",
    "\n",
    "Some example codes are provided below:"
   ]
  },
  {
   "cell_type": "markdown",
   "id": "698abbdf",
   "metadata": {},
   "source": [
    "1. Using `dir()` to list an object's properties:"
   ]
  },
  {
   "cell_type": "code",
   "execution_count": 4,
   "id": "b3caa546",
   "metadata": {},
   "outputs": [
    {
     "name": "stdout",
     "output_type": "stream",
     "text": [
      "['__class__', '__delattr__', '__dict__', '__dir__', '__doc__', '__eq__', '__format__', '__ge__', '__getattribute__', '__gt__', '__hash__', '__init__', '__init_subclass__', '__le__', '__lt__', '__module__', '__ne__', '__new__', '__reduce__', '__reduce_ex__', '__repr__', '__setattr__', '__sizeof__', '__str__', '__subclasshook__', '__weakref__', 'x', 'y', 'zxx']\n"
     ]
    }
   ],
   "source": [
    "class MyClass:\n",
    "    def __init__(self):\n",
    "        self.x = 10\n",
    "        self.y = 20\n",
    "        self.zxx = 30\n",
    "        \n",
    "my_obj = MyClass()\n",
    "\n",
    "print(dir(my_obj))"
   ]
  },
  {
   "cell_type": "markdown",
   "id": "edea95df",
   "metadata": {},
   "source": [
    "2. Using getattr() to get an object's property dynamically:"
   ]
  },
  {
   "cell_type": "code",
   "execution_count": 2,
   "id": "d6a41523",
   "metadata": {},
   "outputs": [
    {
     "name": "stdout",
     "output_type": "stream",
     "text": [
      "20\n"
     ]
    }
   ],
   "source": [
    "class MyClass:\n",
    "    def __init__(self):\n",
    "        self.x = 10\n",
    "        self.y = 20\n",
    "        self.zxx = 30\n",
    "        \n",
    "my_obj = MyClass()\n",
    "\n",
    "property_y = \"y\"\n",
    "property_value = getattr(my_obj, property_y)\n",
    "print(property_value)"
   ]
  },
  {
   "cell_type": "markdown",
   "id": "22765112",
   "metadata": {},
   "source": [
    "3. Using setattr() to set an object's property dynamically:"
   ]
  },
  {
   "cell_type": "code",
   "execution_count": 3,
   "id": "ac88b6aa",
   "metadata": {},
   "outputs": [
    {
     "name": "stdout",
     "output_type": "stream",
     "text": [
      "50\n"
     ]
    }
   ],
   "source": [
    "class MyClass:\n",
    "    def __init__(self):\n",
    "        self.x = 10\n",
    "        self.y = 20\n",
    "        self.zxx = 30\n",
    "        \n",
    "my_obj = MyClass()\n",
    "\n",
    "property_y = \"y\"\n",
    "new_property_value = 50\n",
    "setattr(my_obj, property_y, new_property_value)\n",
    "print(my_obj.y)"
   ]
  },
  {
   "cell_type": "markdown",
   "id": "6cfd1e6d",
   "metadata": {},
   "source": [
    "## Question 11"
   ]
  },
  {
   "cell_type": "markdown",
   "id": "6810259a",
   "metadata": {},
   "source": [
    "What is the _ _iadd_ _ method called?"
   ]
  },
  {
   "cell_type": "markdown",
   "id": "2aa6c5ae",
   "metadata": {},
   "source": [
    "## Answer to the Question 11"
   ]
  },
  {
   "cell_type": "markdown",
   "id": "3dfbcaa9",
   "metadata": {},
   "source": [
    "The iadd method is a unique technique for implementing the extended assignment operator \" += \". It is called when an object on the operator's left side is added to an object on the operator's right side. It's also known as the \"in-place addition\" or \"in-place enhanced assignment\" technique.\n",
    "\n",
    "Below is an exampple code on implementing the iadd method:\n",
    "\n",
    "class Data: def init(self, n): self.n = n\n",
    "\n",
    "def __iadd__(self, other):\n",
    "    self.n += other.n\n",
    "    return self\n",
    "data1 = Data(5) data2 = Data(10)\n",
    "\n",
    "data1 += data2\n",
    "\n",
    "print(data1.n) # Output: 15"
   ]
  },
  {
   "cell_type": "code",
   "execution_count": 7,
   "id": "49248218",
   "metadata": {},
   "outputs": [
    {
     "name": "stdout",
     "output_type": "stream",
     "text": [
      "70\n"
     ]
    }
   ],
   "source": [
    "class test():\n",
    "    def __init__(self, n):\n",
    "        self.n = n\n",
    "        \n",
    "    def __iadd__(self, other):\n",
    "        self.n  += other.n\n",
    "        return self\n",
    "        \n",
    "first = test(50)\n",
    "second = test(20)\n",
    "first += second\n",
    "print(first.n)"
   ]
  },
  {
   "cell_type": "markdown",
   "id": "c588d48e",
   "metadata": {},
   "source": [
    "## Question 12"
   ]
  },
  {
   "cell_type": "markdown",
   "id": "1493ab91",
   "metadata": {},
   "source": [
    "Is the _ _init_ _ method inherited by subclasses? What do you do if you need to customize its behavior within a subclass?"
   ]
  },
  {
   "cell_type": "markdown",
   "id": "a3bbf7bd",
   "metadata": {},
   "source": [
    "## Answer to the Question 12"
   ]
  },
  {
   "cell_type": "markdown",
   "id": "10f2b312",
   "metadata": {},
   "source": [
    "Yes, subclasses inherit the `__init__` method, however the method's behavior can be modified within a subclass. To accomplish this, the subclass must define its own `__init__` method that implements the desired behavior. To ensure that all of the parent class's initialization is completed before the subclass's initialization, the new `__init__` function should call the parent class's `__init__` method. This is accomplished by using the `super()` function, which allows the subclass to call the `__init__` method of the parent class."
   ]
  },
  {
   "cell_type": "code",
   "execution_count": null,
   "id": "9149fe3d",
   "metadata": {},
   "outputs": [],
   "source": []
  }
 ],
 "metadata": {
  "kernelspec": {
   "display_name": "Python 3 (ipykernel)",
   "language": "python",
   "name": "python3"
  },
  "language_info": {
   "codemirror_mode": {
    "name": "ipython",
    "version": 3
   },
   "file_extension": ".py",
   "mimetype": "text/x-python",
   "name": "python",
   "nbconvert_exporter": "python",
   "pygments_lexer": "ipython3",
   "version": "3.9.13"
  }
 },
 "nbformat": 4,
 "nbformat_minor": 5
}
