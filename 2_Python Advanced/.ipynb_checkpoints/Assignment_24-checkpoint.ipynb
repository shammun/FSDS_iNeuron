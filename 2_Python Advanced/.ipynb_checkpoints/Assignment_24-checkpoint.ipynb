{
 "cells": [
  {
   "cell_type": "markdown",
   "id": "05cd45e9",
   "metadata": {},
   "source": [
    "# Assignment 24"
   ]
  },
  {
   "cell_type": "markdown",
   "id": "3f5c31e5",
   "metadata": {},
   "source": [
    "## Question 1"
   ]
  },
  {
   "cell_type": "markdown",
   "id": "bcfcd840",
   "metadata": {},
   "source": [
    "Is it permissible to use several import statements to import the same module? What would the goal be? Can you think of a situation where it would be beneficial?"
   ]
  },
  {
   "cell_type": "markdown",
   "id": "16983ccc",
   "metadata": {},
   "source": [
    "## Answer to the Question 1"
   ]
  },
  {
   "cell_type": "markdown",
   "id": "81641e0a",
   "metadata": {},
   "source": [
    "It is usually acceptable to use multiple import statements in a Python program to import the same module. When you import a module in Python, the interpreter first checks to see if it has already been imported, and if it has, it reuses the existing module object rather than creating a new one.\n",
    "\n",
    "Several import statements for the same module may be used to provide more convenient or intuitive access to its contents, or to provide an alias for the module or its contents. For example, if a module's name is large or complex, we can import it under a shorter or more recognizable name to make it easier to utilize in our code. Instead, if a module contains a large number of functions or classes, we may want to import only the required ones to prevent cluttering up our namespace.\n",
    "\n",
    "Below is an example code:"
   ]
  },
  {
   "cell_type": "code",
   "execution_count": 1,
   "id": "654d1d62",
   "metadata": {},
   "outputs": [],
   "source": [
    "# Import the 'numpy' module under the alias 'np'\n",
    "import numpy as np\n",
    "\n",
    "# Import the 'array' function from the 'numpy' module\n",
    "from numpy import array\n",
    "\n",
    "# Use the imported functions and modules\n",
    "a = np.array([15, 20, 25, 30, 35])\n",
    "b = array([1, 2, 3, 4, 5]) "
   ]
  },
  {
   "cell_type": "markdown",
   "id": "da6888ed",
   "metadata": {},
   "source": [
    "In this example, we first imported the numpy module under the alias np, using the `import numpy as np` syntax. We then imported the array function from the numpy module directly, using the `from numpy import array` syntax. Then we used both of these to create two numpy arrays."
   ]
  },
  {
   "cell_type": "markdown",
   "id": "e3fd8ada",
   "metadata": {},
   "source": [
    "## Question 2"
   ]
  },
  {
   "cell_type": "markdown",
   "id": "a544247d",
   "metadata": {},
   "source": [
    "What are some of a module's characteristics? (Name at least one)"
   ]
  },
  {
   "cell_type": "markdown",
   "id": "512da666",
   "metadata": {},
   "source": [
    "## Answer to the Question 2"
   ]
  },
  {
   "cell_type": "markdown",
   "id": "fbde0563",
   "metadata": {},
   "source": [
    "A module in Python is defined as a file containing Python code that may be imported and used in other Python programs. A module can contain functions, classes, variables, and other things that other modules or programs that import it can access.\n",
    "\n",
    "When we import a module, Python runs the code in the module file and generates a new module object that we can use to access the module's contents. We can reuse code, divide large programs into smaller, more manageable components, and allow code sharing and cooperation among numerous developers by importing modules into our applications.\n",
    "\n",
    "Another feature of Python modules is that they can be arranged into packages, which are directories that contain one or more modules as well as a `__init .py` file. Packages enable us to arrange relevant modules together, making large codebases easier to organize and maintain."
   ]
  },
  {
   "cell_type": "markdown",
   "id": "18db1f75",
   "metadata": {},
   "source": [
    "## Question 3"
   ]
  },
  {
   "cell_type": "markdown",
   "id": "f290e655",
   "metadata": {},
   "source": [
    "Circular importing, such as when two modules import each other, can lead to dependencies and bugs that aren't visible. How can you go about creating a program that avoids mutual importing?"
   ]
  },
  {
   "cell_type": "markdown",
   "id": "674b7495",
   "metadata": {},
   "source": [
    "## Answer to the Question 3"
   ]
  },
  {
   "cell_type": "markdown",
   "id": "c8b2defc",
   "metadata": {},
   "source": [
    "With Python, you can utilize a dependency injection technique to avoid mutual importing. This allows you to express an object's dependencies as needed, rather than hard-coding them into the object itself. Furthermore, it enables you to simply replace dependencies with alternative ones in the future. A hierarchical approach is another option to avoid mutual importing. This entails breaking complex procedures down into smaller, more manageable activities and just loading the modules required for each job. This makes it easier to detect dependencies and import only the modules that are required. We can break circular dependency using interfaces An interface is a simple, abstract definition of a module's behavior that other modules can use to interact with it. We  can limit the scope of cross-dependencies and reduce the complexity of our code by designing interfaces. We can also develop a third module that both modules can import and that includes the functionality that both modules require. This helps to break the circular dependency and eliminates the necessity for module cross-importing."
   ]
  },
  {
   "cell_type": "markdown",
   "id": "d71aa5ec",
   "metadata": {},
   "source": [
    "## Question 4"
   ]
  },
  {
   "cell_type": "markdown",
   "id": "c8cf9d40",
   "metadata": {},
   "source": [
    "Why is  `_ _all_ _` in Python?"
   ]
  },
  {
   "cell_type": "markdown",
   "id": "a6b5d53e",
   "metadata": {},
   "source": [
    "## Answer to the Question 4"
   ]
  },
  {
   "cell_type": "markdown",
   "id": "865dedbe",
   "metadata": {},
   "source": [
    "In Python, `__all__` is a string list that is used to control which names are imported when the `from <module> import *` command is used. It is used to prevent certain names from being imported because they may conflict with names already in use in the current namespace. For example, if a module contains a function named `func` and we don't want it to be imported when we use the `from <module> import *` command, we can add `func` to the `__all__` list. This prevents the function from being imported and from being used in the current namespace."
   ]
  },
  {
   "cell_type": "code",
   "execution_count": 2,
   "id": "6a437dba",
   "metadata": {},
   "outputs": [],
   "source": [
    "def func():\n",
    "    pass\n",
    "\n",
    "__all__ = ['func']"
   ]
  },
  {
   "cell_type": "markdown",
   "id": "d6d5d9d1",
   "metadata": {},
   "source": [
    "## Question 5"
   ]
  },
  {
   "cell_type": "markdown",
   "id": "567a373b",
   "metadata": {},
   "source": [
    "In what situation is it useful to refer to the `_ _name_ _` attribute or the string `_ _main_ _`?"
   ]
  },
  {
   "cell_type": "markdown",
   "id": "6b5251ea",
   "metadata": {},
   "source": [
    "## Answer to the Question 5"
   ]
  },
  {
   "cell_type": "markdown",
   "id": "19137df1",
   "metadata": {},
   "source": [
    "In Python, the `__name__` attribute and the string `__main__` are useful for creating a module that can be used as a standalone application as well as a module that can be imported into other programs.\n",
    "\n",
    "When you import a module into another program, Python sets the imported module's `__name__` property to the name of the module itself. When you run a module as a standalone program, Python sets the main module's `__name__` property to the string `__main__`. Below is an example code to make a module standalone program:"
   ]
  },
  {
   "cell_type": "code",
   "execution_count": 4,
   "id": "3f396645",
   "metadata": {},
   "outputs": [
    {
     "name": "stdout",
     "output_type": "stream",
     "text": [
      "Running the test() function now\n",
      "This is a standalone program\n"
     ]
    }
   ],
   "source": [
    "# test.py\n",
    "\n",
    "def test():\n",
    "    print(\"This is a standalone program\")\n",
    "\n",
    "if __name__ == \"__main__\":\n",
    "    # This code will be executed when the module is run as a standalone program\n",
    "    print(\"Running the test() function now\")\n",
    "    test()"
   ]
  },
  {
   "cell_type": "markdown",
   "id": "90502bee",
   "metadata": {},
   "source": [
    "## Question 6"
   ]
  },
  {
   "cell_type": "markdown",
   "id": "fbc7edc1",
   "metadata": {},
   "source": [
    "What are some of the benefits of attaching a program counter to the RPN interpreter application, which interprets an RPN script line by line?"
   ]
  },
  {
   "cell_type": "markdown",
   "id": "f9e512e8",
   "metadata": {},
   "source": [
    "## Answer to the Question 6"
   ]
  },
  {
   "cell_type": "markdown",
   "id": "ea1441bc",
   "metadata": {},
   "source": [
    "Attaching a program counter to the RPN interpreter application can provide several advantages.   To begin with, it can aid in determining which line of the script is now being executed, allowing for more efficient debugging. Second, it can allow the application to jump to other areas of the script, enabling operations like looping and conditionals. Finally, it can assist in tracking the progress of the script and calculating the number of operations completed, allowing for improved performance optimization."
   ]
  },
  {
   "cell_type": "markdown",
   "id": "28c550c6",
   "metadata": {},
   "source": [
    "## Question 7"
   ]
  },
  {
   "cell_type": "markdown",
   "id": "4c1203c9",
   "metadata": {},
   "source": [
    "What are the minimum expressions or statements (or both) that you'd need to render a basic programming language like RPN primitive but complete— that is, capable of carrying out any computerised task theoretically possible?"
   ]
  },
  {
   "cell_type": "markdown",
   "id": "d0122b7a",
   "metadata": {},
   "source": [
    "## Answer to the Question 7"
   ]
  },
  {
   "cell_type": "markdown",
   "id": "ce05670a",
   "metadata": {},
   "source": [
    "Variables, arithmetic operations, conditional statements, looping, and functions are the minimum expressions or statements required to render a basic programming language like RPN simple yet complete. Variables allow data to be stored and manipulated, arithmetic operations allow values to be compared and manipulated, conditional statements allow certain operations to be executed based on certain condition, looping allows operations to be repeated until a specific condition is met, and functions allow complex operations to be executed. A programming language can theoretically be used to carry out any computerized task with these basic elements."
   ]
  }
 ],
 "metadata": {
  "kernelspec": {
   "display_name": "Python 3 (ipykernel)",
   "language": "python",
   "name": "python3"
  },
  "language_info": {
   "codemirror_mode": {
    "name": "ipython",
    "version": 3
   },
   "file_extension": ".py",
   "mimetype": "text/x-python",
   "name": "python",
   "nbconvert_exporter": "python",
   "pygments_lexer": "ipython3",
   "version": "3.9.13"
  }
 },
 "nbformat": 4,
 "nbformat_minor": 5
}
