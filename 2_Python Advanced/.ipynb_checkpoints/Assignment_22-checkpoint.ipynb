{
 "cells": [
  {
   "cell_type": "markdown",
   "id": "05cd45e9",
   "metadata": {},
   "source": [
    "# Assignment 22"
   ]
  },
  {
   "cell_type": "markdown",
   "id": "3f5c31e5",
   "metadata": {},
   "source": [
    "## Question 1"
   ]
  },
  {
   "cell_type": "markdown",
   "id": "bcfcd840",
   "metadata": {},
   "source": [
    "What are the benefits of the built-in array package, if any?"
   ]
  },
  {
   "cell_type": "markdown",
   "id": "16983ccc",
   "metadata": {},
   "source": [
    "## Answer to the Question 1"
   ]
  },
  {
   "cell_type": "markdown",
   "id": "81641e0a",
   "metadata": {},
   "source": [
    "Python's built-in array package makes it easy to store and handle fundamental data types including integers, characters, and floating point numbers. It enables for the efficient shrinking and expanding of arrays, as well as the ability to work with array elements via indexing and slicing. The array package also includes functions for searching, sorting, and reversing arrays. Finally, the array package saves memory and can be used instead of regular lists and tuples when space is limited."
   ]
  },
  {
   "cell_type": "markdown",
   "id": "e3fd8ada",
   "metadata": {},
   "source": [
    "## Question 2"
   ]
  },
  {
   "cell_type": "markdown",
   "id": "a544247d",
   "metadata": {},
   "source": [
    "What are some of the array package's limitations?"
   ]
  },
  {
   "cell_type": "markdown",
   "id": "512da666",
   "metadata": {},
   "source": [
    "## Answer to the Question 2"
   ]
  },
  {
   "cell_type": "markdown",
   "id": "fbde0563",
   "metadata": {},
   "source": [
    "The array library in Python has limited ability in working with sophisticated data types like objects and dictionaries. Furthermore, because the array package does not handle multidimensional arrays, it cannot store matrices or higher-dimensional data. Because the array package does not permit dynamic resizing, the array's size must be given at the time of creation. Finally, the array package lacks any built-in sorting or searching algorithms, and so they have to be developed manually."
   ]
  },
  {
   "cell_type": "markdown",
   "id": "18db1f75",
   "metadata": {},
   "source": [
    "## Question 3"
   ]
  },
  {
   "cell_type": "markdown",
   "id": "f290e655",
   "metadata": {},
   "source": [
    "Describe the main differences between the array and numpy packages."
   ]
  },
  {
   "cell_type": "markdown",
   "id": "674b7495",
   "metadata": {},
   "source": [
    "## Answer to the Question 3"
   ]
  },
  {
   "cell_type": "markdown",
   "id": "c8b2defc",
   "metadata": {},
   "source": [
    "The array and NumPy packages differ as the array module can only store basic data data types such as integers, characters, and floating point numbers, while NumPy can store more complicated data types such as objects and dictionaries. Furthermore, whereas NumPy supports multidimensional arrays, the array package does not. Finally, unlike NumPy, the array package does not support dynamic scaling. NumPy also contains array searching, sorting, and reversing functions, as well as matrix operations such as determining the inverse of a matrix."
   ]
  },
  {
   "cell_type": "markdown",
   "id": "d71aa5ec",
   "metadata": {},
   "source": [
    "## Question 4"
   ]
  },
  {
   "cell_type": "markdown",
   "id": "c8cf9d40",
   "metadata": {},
   "source": [
    "Explain the distinctions between the empty, ones, and zeros functions."
   ]
  },
  {
   "cell_type": "markdown",
   "id": "a6b5d53e",
   "metadata": {},
   "source": [
    "## Answer to the Question 4"
   ]
  },
  {
   "cell_type": "markdown",
   "id": "865dedbe",
   "metadata": {},
   "source": [
    "The main difference between the functions `empty()`, `ones()`, and `zeros()` is that `empty()` does not set the array values to any specific value, whereas `ones()` assigns values of 1 to all the members in the array and `zeros()` assigns values of 0 to all the elements in the array. Furthermore, while `empty()` is faster than both `ones()` and `zeros()`, it requires the user to manually assign values to the array's entries. `ones()` and `zeros()`, on the other hand, are both slower than `empty()` but provide the convenience of automatically updating the values of array components."
   ]
  },
  {
   "cell_type": "markdown",
   "id": "d6d5d9d1",
   "metadata": {},
   "source": [
    "## Question 5"
   ]
  },
  {
   "cell_type": "markdown",
   "id": "567a373b",
   "metadata": {},
   "source": [
    "In the fromfunction function, which is used to construct new arrays, what is the role of the callable argument?"
   ]
  },
  {
   "cell_type": "markdown",
   "id": "6b5251ea",
   "metadata": {},
   "source": [
    "## Answer to the Question 5"
   ]
  },
  {
   "cell_type": "markdown",
   "id": "19137df1",
   "metadata": {},
   "source": [
    "The callable argument in NumPy's fromfunction function is a function or callable object that is utilized to generate the values for the new array.\n",
    "\n",
    "The form and callable arguments are required by the fromfunction function. The shape argument is a tuple that describes the shape of the newly created array. The callable argument is a function or callable object that takes the array indices as input and returns the value to be placed in the array.\n",
    "\n",
    "The callable function is called with a tuple of indices corresponding to the position of each array element. For example, f or a two-dimensional array, if the shape argument is (3, 3), the callable function will be called with tuples (0, 0), (0, 1), (0, 2), (1, 0), (1, 1), (1, 2), (2, 0), (2, 1), and (2, 2).\n",
    "\n",
    "The values returned by the callable function are utilized to populate the relevant element in the new array. The newly created array is then returned by the fromfunction function.\n",
    "\n",
    "Below is an example code illustrating the use of `fromfunction`"
   ]
  },
  {
   "cell_type": "code",
   "execution_count": 1,
   "id": "317869b8",
   "metadata": {},
   "outputs": [
    {
     "name": "stdout",
     "output_type": "stream",
     "text": [
      "[[0. 1. 2.]\n",
      " [1. 2. 3.]\n",
      " [2. 3. 4.]]\n"
     ]
    }
   ],
   "source": [
    "import numpy as np\n",
    "\n",
    "def my_func(x, y):\n",
    "    return x + y\n",
    "\n",
    "arr = np.fromfunction(my_func, (3, 3))\n",
    "\n",
    "print(arr)"
   ]
  },
  {
   "cell_type": "markdown",
   "id": "90502bee",
   "metadata": {},
   "source": [
    "## Question 6"
   ]
  },
  {
   "cell_type": "markdown",
   "id": "fbc7edc1",
   "metadata": {},
   "source": [
    "What happens when a numpy array is combined with a single-value operand (a scalar, such as an int or a floating-point value) through addition, as in the expression A + n?"
   ]
  },
  {
   "cell_type": "markdown",
   "id": "f9e512e8",
   "metadata": {},
   "source": [
    "## Answer to the Question 6"
   ]
  },
  {
   "cell_type": "markdown",
   "id": "ea1441bc",
   "metadata": {},
   "source": [
    "When a NumPy array is added to a single-value operand (a scalar such as an int or a floating-point value) using addition, the scalar is added to each element of the array. For example, if A is a one-dimensional array, A + n creates a new one-dimensional array by increasing each element of A by n. Similarly, if A is a two-dimensional array, A + n creates a new two-dimensional array by increasing each element of A by n."
   ]
  },
  {
   "cell_type": "markdown",
   "id": "28c550c6",
   "metadata": {},
   "source": [
    "## Question 7"
   ]
  },
  {
   "cell_type": "markdown",
   "id": "4c1203c9",
   "metadata": {},
   "source": [
    "Can array-to-scalar operations use combined operation-assign operators (such as += or *=)? What is the outcome?"
   ]
  },
  {
   "cell_type": "markdown",
   "id": "d0122b7a",
   "metadata": {},
   "source": [
    "## Answer to the Question 7"
   ]
  },
  {
   "cell_type": "markdown",
   "id": "ce05670a",
   "metadata": {},
   "source": [
    "Yes, in Python, array-to-scalar operations can use combined operation-assign operators like `+=` or `*=`. T he value of the array element will be increased or reduced by the value of the scalar. For example, if `array[0]` is 5 and the combination operator is `+= 3`, the value of `array[0]` will be 8 as a result of the operation."
   ]
  },
  {
   "cell_type": "markdown",
   "id": "d8764e57",
   "metadata": {},
   "source": [
    "## Question 8"
   ]
  },
  {
   "cell_type": "markdown",
   "id": "d36f6e9b",
   "metadata": {},
   "source": [
    "Does a numpy array contain fixed-length strings? What happens if you allocate a longer string to one of these arrays?"
   ]
  },
  {
   "cell_type": "markdown",
   "id": "c91be4c8",
   "metadata": {},
   "source": [
    "## Answer to the Question 8"
   ]
  },
  {
   "cell_type": "markdown",
   "id": "3ec5976a",
   "metadata": {},
   "source": [
    "Fixed-length strings do not exist in NumPy arrays. If you try to assign a longer string to one of these arrays, we will get a ValueError since the array cannot store strings of varying lengths. With the object data type, it is feasible to store strings of varying lengths in a two-dimensional array."
   ]
  },
  {
   "cell_type": "markdown",
   "id": "42250ef4",
   "metadata": {},
   "source": [
    "## Question 9"
   ]
  },
  {
   "cell_type": "markdown",
   "id": "cfd24504",
   "metadata": {},
   "source": [
    "What happens when you combine two numpy arrays using an operation like addition (+) or multiplication (*)? What are the conditions for combining two numpy arrays?"
   ]
  },
  {
   "cell_type": "markdown",
   "id": "b21782fd",
   "metadata": {},
   "source": [
    "## Answer to the Question 9"
   ]
  },
  {
   "cell_type": "markdown",
   "id": "69c38868",
   "metadata": {},
   "source": [
    "When you combine two NumPy arrays using an operation like addition `+` or multiplication `*`, the arrays must be of the same shape for the operation to work. A `ValueError` will be thrown if the arrays have different shapes. Furthermore, both arrays must have the elements of the same data type, or a `TypeError` will be thrown."
   ]
  },
  {
   "cell_type": "markdown",
   "id": "90cb1ce6",
   "metadata": {},
   "source": [
    "## Question 10"
   ]
  },
  {
   "cell_type": "markdown",
   "id": "6babb769",
   "metadata": {},
   "source": [
    "What is the best way to use a Boolean array to mask another array?"
   ]
  },
  {
   "cell_type": "markdown",
   "id": "cdd1a1f4",
   "metadata": {},
   "source": [
    "## Answer to the Question 10"
   ]
  },
  {
   "cell_type": "markdown",
   "id": "7b0b9280",
   "metadata": {},
   "source": [
    "In NumPy, one of the most common and effective uses of a Boolean array is as a mask for another array. This entails picking elements from an array depending on a Boolean condition defined in a second Boolean array. Below is an example code:"
   ]
  },
  {
   "cell_type": "code",
   "execution_count": 3,
   "id": "3d8d9dc0",
   "metadata": {},
   "outputs": [
    {
     "name": "stdout",
     "output_type": "stream",
     "text": [
      "[10 20 30 40 50]\n"
     ]
    }
   ],
   "source": [
    "import numpy as np\n",
    "\n",
    "arr = np.array([10, 15, 20, 25, 30, 35, 40, 45, 50])\n",
    "\n",
    "# Create a Boolean mask to select even numbers\n",
    "mask = arr % 2 == 0\n",
    "\n",
    "# Use the mask to select only even numbers from the array\n",
    "result = arr[mask]\n",
    "\n",
    "# Print the result\n",
    "print(result)"
   ]
  },
  {
   "cell_type": "markdown",
   "id": "169fc17d",
   "metadata": {},
   "source": [
    "## Question 11"
   ]
  },
  {
   "cell_type": "markdown",
   "id": "f65ca090",
   "metadata": {},
   "source": [
    "What are three different ways to get the standard deviation of a wide collection of data using both standard Python and its packages? Sort the three of them by how quickly they execute."
   ]
  },
  {
   "cell_type": "markdown",
   "id": "180550cc",
   "metadata": {},
   "source": [
    "## Answer to the Question 11"
   ]
  },
  {
   "cell_type": "markdown",
   "id": "a544fb7b",
   "metadata": {},
   "source": [
    "Following are the three ways which we can use to get the standard deviation.\n",
    "\n",
    "1. **Using NumPy:** The standard deviation function in NumPy provides the quickest way to calculate the standard deviation of a large collection of data. The syntax is `np.std(data)`, where data is an array of data points.\n",
    "\n",
    "2. **Using the statistics module:** Python's statistics module includes an extremely fast `stdev()` function. For data array, we can use `statistics.stdev(data)` to calculate this.\n",
    "\n",
    "3. **Using a for loop:** This is the most time-consuming method because it entails iterating through the data points, summing them, determining the mean, and finally calculating the standard deviation."
   ]
  },
  {
   "cell_type": "markdown",
   "id": "d8061193",
   "metadata": {},
   "source": [
    "## Question 12"
   ]
  },
  {
   "cell_type": "markdown",
   "id": "f9eda7cc",
   "metadata": {},
   "source": [
    "What is the dimensionality of a Boolean mask-generated array?"
   ]
  },
  {
   "cell_type": "markdown",
   "id": "9a0b32a2",
   "metadata": {},
   "source": [
    "## Answer to the Question 12"
   ]
  },
  {
   "cell_type": "markdown",
   "id": "ffaf48e3",
   "metadata": {},
   "source": [
    "The dimensionality of a Boolean mask generateed array is determined by the shape of the input array and the shape of the Boolean mask.\n",
    "\n",
    "When a Boolean mask is applied to an array, the resulting array has the same dimensions as the original array. However, because only components that match the criterion given in the mask are maintained, the size of the resulting array along the masked axis may be reduced."
   ]
  },
  {
   "cell_type": "code",
   "execution_count": null,
   "id": "b1da8718",
   "metadata": {},
   "outputs": [],
   "source": []
  }
 ],
 "metadata": {
  "kernelspec": {
   "display_name": "Python 3 (ipykernel)",
   "language": "python",
   "name": "python3"
  },
  "language_info": {
   "codemirror_mode": {
    "name": "ipython",
    "version": 3
   },
   "file_extension": ".py",
   "mimetype": "text/x-python",
   "name": "python",
   "nbconvert_exporter": "python",
   "pygments_lexer": "ipython3",
   "version": "3.9.13"
  }
 },
 "nbformat": 4,
 "nbformat_minor": 5
}
