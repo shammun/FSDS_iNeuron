{
 "cells": [
  {
   "cell_type": "markdown",
   "id": "05cd45e9",
   "metadata": {},
   "source": [
    "# Assignment 1"
   ]
  },
  {
   "cell_type": "markdown",
   "id": "3f5c31e5",
   "metadata": {},
   "source": [
    "## Question 1"
   ]
  },
  {
   "cell_type": "markdown",
   "id": "bcfcd840",
   "metadata": {},
   "source": [
    "What are the two latest user-defined exception constraints in Python 3.X?"
   ]
  },
  {
   "cell_type": "markdown",
   "id": "16983ccc",
   "metadata": {},
   "source": [
    "## Answer to the Question 1"
   ]
  },
  {
   "cell_type": "markdown",
   "id": "81641e0a",
   "metadata": {},
   "source": [
    "The following are the two latest user-defined exception constraints in Python 3.X:\n",
    "\n",
    "* You can construct a user-defined exception class by inheriting from the built-in Exception class.\n",
    "* You can define a user-defined generic type by including a Generic base class."
   ]
  },
  {
   "cell_type": "markdown",
   "id": "e3fd8ada",
   "metadata": {},
   "source": [
    "## Question 2"
   ]
  },
  {
   "cell_type": "markdown",
   "id": "a544247d",
   "metadata": {},
   "source": [
    "How are class-based exceptions that have been raised matched to handlers?"
   ]
  },
  {
   "cell_type": "markdown",
   "id": "512da666",
   "metadata": {},
   "source": [
    "## Answer to the Question 2"
   ]
  },
  {
   "cell_type": "markdown",
   "id": "fbde0563",
   "metadata": {},
   "source": [
    "In Python, class-based exceptions are matched to handlers using the try-except statement. The try-except statement lets you specify a class of exceptions to catch, and if a match is detected, the code in the except block is performed."
   ]
  },
  {
   "cell_type": "markdown",
   "id": "18db1f75",
   "metadata": {},
   "source": [
    "## Question 3"
   ]
  },
  {
   "cell_type": "markdown",
   "id": "f290e655",
   "metadata": {},
   "source": [
    "Describe two methods for attaching context information to exception artefacts."
   ]
  },
  {
   "cell_type": "markdown",
   "id": "674b7495",
   "metadata": {},
   "source": [
    "## Answer to the Question 3"
   ]
  },
  {
   "cell_type": "markdown",
   "id": "c8b2defc",
   "metadata": {},
   "source": [
    "There are two main techniques to attach context information to exceptions in Python:\n",
    "\n",
    "1. The first method is to add the context information directly to the exception object. This is accomplished by setting the exception object's context attribute to a dictionary providing the necessary information. Below is example code on this:"
   ]
  },
  {
   "cell_type": "markdown",
   "id": "7372a23b",
   "metadata": {},
   "source": [
    "`\n",
    "try:\n",
    "    10 / 0\n",
    "except Exception as e:\n",
    "    # create a new exception object with context information\n",
    "    new_e = Exception(str(e), {'user_id': \"xxxx\", 'request_id': 'invalid_123'})\n",
    "    raise new_e`"
   ]
  },
  {
   "cell_type": "markdown",
   "id": "d764c7ca",
   "metadata": {},
   "source": [
    "We can see that in this new version, the original exception's message `str(e)` and any additional context information are used to generate a new Exception object, which is then raised."
   ]
  },
  {
   "cell_type": "markdown",
   "id": "d71aa5ec",
   "metadata": {},
   "source": [
    "## Question 4"
   ]
  },
  {
   "cell_type": "markdown",
   "id": "c8cf9d40",
   "metadata": {},
   "source": [
    "Describe two methods for specifying the text of an exception object's error message."
   ]
  },
  {
   "cell_type": "markdown",
   "id": "a6b5d53e",
   "metadata": {},
   "source": [
    "## Answer to the Question 4"
   ]
  },
  {
   "cell_type": "markdown",
   "id": "865dedbe",
   "metadata": {},
   "source": [
    "In Python, you can specify the text of an exception object's error message in at least two ways:\n",
    "\n",
    "1. **Passing a string input to the exception constructor:** When creating an exception instance, we can pass error message as string argument. For example, to throw a ValueError exception with a custom error message, we could execute the following:"
   ]
  },
  {
   "cell_type": "markdown",
   "id": "3043af81",
   "metadata": {},
   "source": [
    "`raise ValueError(\"Invalid input: value must be a positive integer\")`"
   ]
  },
  {
   "cell_type": "markdown",
   "id": "ce03def5",
   "metadata": {},
   "source": [
    "2. **Using variables to format a string and provide it to the exception constructor:** We can also use variables to prepare a string and provide it to the exception constructor. This allows for a personalized error message with more information. As an example:"
   ]
  },
  {
   "cell_type": "markdown",
   "id": "ee48537f",
   "metadata": {},
   "source": [
    "`value = -1\n",
    "raise ValueError(f\"Invalid input: {value} must be a positive integer\")`"
   ]
  },
  {
   "cell_type": "markdown",
   "id": "d6d5d9d1",
   "metadata": {},
   "source": [
    "## Question 5"
   ]
  },
  {
   "cell_type": "markdown",
   "id": "567a373b",
   "metadata": {},
   "source": [
    "Why do you no longer use string-based exceptions?"
   ]
  },
  {
   "cell_type": "markdown",
   "id": "6b5251ea",
   "metadata": {},
   "source": [
    "## Answer to the Question 5"
   ]
  },
  {
   "cell_type": "markdown",
   "id": "19137df1",
   "metadata": {},
   "source": [
    "String-based exceptions were used in older versions of Python to raise exceptions by passing a string representing the error message. \n",
    "\n",
    "1. **Lack of specificity:** When raising an exception with a string, it can be difficult to tell the type of exception and its source, making debugging the code more complex.\n",
    "\n",
    "2. **Less flexible error management:** String-based exceptions do not allow you to attach additional information or metadata to the exception object, which might be beneficial for addressing errors in a more fine-grained manner.\n",
    "\n",
    "3. **More verbose code:** Using an exception class can make your code more legible and expressive since it allows you to clearly declare the type of exception and provide more context and information about the error."
   ]
  },
  {
   "cell_type": "markdown",
   "id": "9d2fa58b",
   "metadata": {},
   "source": []
  },
  {
   "cell_type": "code",
   "execution_count": null,
   "id": "4ef082c3",
   "metadata": {},
   "outputs": [],
   "source": []
  }
 ],
 "metadata": {
  "kernelspec": {
   "display_name": "Python 3 (ipykernel)",
   "language": "python",
   "name": "python3"
  },
  "language_info": {
   "codemirror_mode": {
    "name": "ipython",
    "version": 3
   },
   "file_extension": ".py",
   "mimetype": "text/x-python",
   "name": "python",
   "nbconvert_exporter": "python",
   "pygments_lexer": "ipython3",
   "version": "3.9.13"
  }
 },
 "nbformat": 4,
 "nbformat_minor": 5
}
