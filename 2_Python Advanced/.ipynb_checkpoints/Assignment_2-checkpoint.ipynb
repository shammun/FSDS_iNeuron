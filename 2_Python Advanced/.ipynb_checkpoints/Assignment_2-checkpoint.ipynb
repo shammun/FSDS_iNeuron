{
 "cells": [
  {
   "cell_type": "markdown",
   "id": "05cd45e9",
   "metadata": {},
   "source": [
    "# Assignment 2"
   ]
  },
  {
   "cell_type": "markdown",
   "id": "3f5c31e5",
   "metadata": {},
   "source": [
    "## Question 1"
   ]
  },
  {
   "cell_type": "markdown",
   "id": "bcfcd840",
   "metadata": {},
   "source": [
    "What is the relationship between classes and modules?"
   ]
  },
  {
   "cell_type": "markdown",
   "id": "16983ccc",
   "metadata": {},
   "source": [
    "## Answer to the Question 1"
   ]
  },
  {
   "cell_type": "markdown",
   "id": "81641e0a",
   "metadata": {},
   "source": [
    "A class is used to define objects and their properties and it is a template for creating objects. This is a blueprint for creating objects with properties and methods. This is not itself executable but provides blueprint as code blocks. "
   ]
  },
  {
   "cell_type": "markdown",
   "id": "3a0d23f9",
   "metadata": {},
   "source": [
    "A module contains one or more functions, variables, codes and also classes. Modules are used to organize related code and classes are used to define objects. A module is saved in a Python file. A module is imported in another Python file using the `import` statement. "
   ]
  },
  {
   "cell_type": "markdown",
   "id": "e3fd8ada",
   "metadata": {},
   "source": [
    "## Question 2"
   ]
  },
  {
   "cell_type": "markdown",
   "id": "a544247d",
   "metadata": {},
   "source": [
    "How do you make instances and classes?"
   ]
  },
  {
   "cell_type": "markdown",
   "id": "512da666",
   "metadata": {},
   "source": [
    "## Answer to the Question 2"
   ]
  },
  {
   "cell_type": "markdown",
   "id": "fbde0563",
   "metadata": {},
   "source": [
    "A class instance can be created by instatntiating an object from the class. This can be done by calling the class with the arguments mentioned in the constructor (without `self`) and then assigning the object to a variable. The syntax will be something similar to the following:\n",
    "\n",
    "`variableName = ClassName(arguments)`"
   ]
  },
  {
   "cell_type": "markdown",
   "id": "f57639ba",
   "metadata": {},
   "source": [
    "To create a class in Python, we must use the keyword `class` followed by the class name. Then we can define the class attributes and methods insdie the class name. We can also use `__init__` to define the constructor of a class so that some default attributes and setup actions are done each time an instance of this class is created. Below is an exampel of creating class and then making instance of that class."
   ]
  },
  {
   "cell_type": "markdown",
   "id": "4ef7ed17",
   "metadata": {},
   "source": [
    "Example of creating a class:"
   ]
  },
  {
   "cell_type": "code",
   "execution_count": 1,
   "id": "8312ed82",
   "metadata": {},
   "outputs": [],
   "source": [
    "class MyClass:\n",
    "    def __init__(self, x, y, z):\n",
    "        self.x = x\n",
    "        self.y = y\n",
    "        self.z = z\n",
    "    def print_values(self):\n",
    "        print(self.x, self.y, self.z)"
   ]
  },
  {
   "cell_type": "markdown",
   "id": "57927f46",
   "metadata": {},
   "source": [
    "Example of creating instance of a class:"
   ]
  },
  {
   "cell_type": "code",
   "execution_count": 9,
   "id": "cbc93c5e",
   "metadata": {},
   "outputs": [],
   "source": [
    "obj1 = MyClass(2, 3, 4) # obj1 is an instance of the class MyClass()"
   ]
  },
  {
   "cell_type": "markdown",
   "id": "18db1f75",
   "metadata": {},
   "source": [
    "## Question 3"
   ]
  },
  {
   "cell_type": "markdown",
   "id": "f290e655",
   "metadata": {},
   "source": [
    "Where and how should be class attributes created?"
   ]
  },
  {
   "cell_type": "markdown",
   "id": "674b7495",
   "metadata": {},
   "source": [
    "## Answer to the Question 3"
   ]
  },
  {
   "cell_type": "markdown",
   "id": "c8b2defc",
   "metadata": {},
   "source": [
    "Class attributes should be created inside the class body outside any method definition, usually at the top. Class attributes are shared by all the instances of a class. Below, `class_var` is a class attribute."
   ]
  },
  {
   "cell_type": "code",
   "execution_count": null,
   "id": "73e1baaa",
   "metadata": {},
   "outputs": [],
   "source": [
    "class MyClass:\n",
    "    class_var = \"It's a class attribute\"\n",
    "    def __init__(self, x, y, z):\n",
    "        self.x = x\n",
    "        self.y = y\n",
    "        self.z = z\n",
    "    def print_values(self):\n",
    "        print(self.x, self.y, self.z)"
   ]
  },
  {
   "cell_type": "markdown",
   "id": "d71aa5ec",
   "metadata": {},
   "source": [
    "## Question 4"
   ]
  },
  {
   "cell_type": "markdown",
   "id": "c8cf9d40",
   "metadata": {},
   "source": [
    "Where and how are instance attributes created?"
   ]
  },
  {
   "cell_type": "markdown",
   "id": "a6b5d53e",
   "metadata": {},
   "source": [
    "## Answer to the Question 4"
   ]
  },
  {
   "cell_type": "markdown",
   "id": "865dedbe",
   "metadata": {},
   "source": [
    "Instance attributes are created inside the `__init__` method or constructor. These are not shared by objects and are created when an instance of the class is instantiated according to the value provided as arguments inside the `Class()` when it is called. Below is an example:"
   ]
  },
  {
   "cell_type": "code",
   "execution_count": 10,
   "id": "c7d364fa",
   "metadata": {},
   "outputs": [],
   "source": [
    "class MyClass:\n",
    "    def __init__(self, x, y, z):\n",
    "        self.x = x\n",
    "        self.y = y\n",
    "        self.z = z\n",
    "    def print_values(self):\n",
    "        print(self.x, self.y, self.z)"
   ]
  },
  {
   "cell_type": "code",
   "execution_count": 5,
   "id": "e84de183",
   "metadata": {},
   "outputs": [
    {
     "data": {
      "text/plain": [
       "2"
      ]
     },
     "execution_count": 5,
     "metadata": {},
     "output_type": "execute_result"
    }
   ],
   "source": [
    "obj1 = MyClass(2, 3, 4) # obj1 is an instance of the class MyClass()\n",
    "obj1.x # Here x is an instance attribute of obj1"
   ]
  },
  {
   "cell_type": "code",
   "execution_count": 6,
   "id": "2132b491",
   "metadata": {},
   "outputs": [
    {
     "data": {
      "text/plain": [
       "20"
      ]
     },
     "execution_count": 6,
     "metadata": {},
     "output_type": "execute_result"
    }
   ],
   "source": [
    "obj2 = MyClass(20, 30, 40) # obj2 is an instance of the class MyClass()\n",
    "obj2.x # Here x is an instance attribute of obj2"
   ]
  },
  {
   "cell_type": "markdown",
   "id": "d6d5d9d1",
   "metadata": {},
   "source": [
    "## Question 5"
   ]
  },
  {
   "cell_type": "markdown",
   "id": "567a373b",
   "metadata": {},
   "source": [
    "What does the term \"self\" in a Python class mean?"
   ]
  },
  {
   "cell_type": "markdown",
   "id": "6b5251ea",
   "metadata": {},
   "source": [
    "## Answer to the Question 5"
   ]
  },
  {
   "cell_type": "markdown",
   "id": "19137df1",
   "metadata": {},
   "source": [
    "`self` refers to the instance of the class from which the method is called; it is used to indicate the current object. When a method is called on an instance of a class, Python automatically passes the instance as the first argument to the method."
   ]
  },
  {
   "cell_type": "markdown",
   "id": "9d2fa58b",
   "metadata": {},
   "source": [
    "The first argument in a class's method function is named `self` conventionally. It is convention to use `self` to indicate that it represents current object but we can use any other name also."
   ]
  },
  {
   "cell_type": "markdown",
   "id": "3c48f3ed",
   "metadata": {},
   "source": [
    "`self` parameter is the first parameter in all the class methods including the `__init__` method."
   ]
  },
  {
   "cell_type": "code",
   "execution_count": 8,
   "id": "bc44340c",
   "metadata": {},
   "outputs": [
    {
     "name": "stdout",
     "output_type": "stream",
     "text": [
      "2 3 4\n"
     ]
    }
   ],
   "source": [
    "class MyClass:\n",
    "    def __init__(self, x, y, z):\n",
    "        self.x = x\n",
    "        self.y = y\n",
    "        self.z = z\n",
    "    def print_values(self):\n",
    "        print(self.x, self.y, self.z)\n",
    "obj1 = MyClass(2, 3, 4)\n",
    "obj1.print_values()"
   ]
  },
  {
   "cell_type": "markdown",
   "id": "18ba7ff1",
   "metadata": {},
   "source": [
    "When an instance of the `MyClass` class is created and the `print_values` method is called on it, the instance is automatically passed as the self argument to the method. Here, `obj1` is an instance of the `MyClass` class with x set to 2, y set to 3, and z set to 4. When we call `obj1.print_values()`, `self` in the `print_values` method refers to obj1, so the method is able to access `obj1`'s x, y, and z attributes to print them."
   ]
  },
  {
   "cell_type": "markdown",
   "id": "90502bee",
   "metadata": {},
   "source": [
    "## Question 6"
   ]
  },
  {
   "cell_type": "markdown",
   "id": "d8a8e7d7",
   "metadata": {},
   "source": [
    "How does a Python class handle operator overloading?"
   ]
  },
  {
   "cell_type": "markdown",
   "id": "f9e512e8",
   "metadata": {},
   "source": [
    "## Answer to the Question 6"
   ]
  },
  {
   "cell_type": "markdown",
   "id": "ea1441bc",
   "metadata": {},
   "source": [
    "Operator overloding allows classes to define their own behavior for different built-in operators such as `+`, `-`, `*`, `/`, `%` etc. For example, addition operator `+` works differently when it is used with numeric values against when it is used with string values. For example, `2 + 3` evaluates to 5 whereas `\"2\" + \"3\"` evaluates to `\"23\"`"
   ]
  },
  {
   "cell_type": "markdown",
   "id": "28c550c6",
   "metadata": {},
   "source": [
    "## Question 7"
   ]
  },
  {
   "cell_type": "markdown",
   "id": "f098f5e1",
   "metadata": {},
   "source": [
    "When do you consider allowing operator overloading of your classes?"
   ]
  },
  {
   "cell_type": "markdown",
   "id": "d0122b7a",
   "metadata": {},
   "source": [
    "## Answer to the Question 7"
   ]
  },
  {
   "cell_type": "markdown",
   "id": "ce05670a",
   "metadata": {},
   "source": [
    "Operator overloading allows us to define custom behaviors for built-in operators like `+`, `-`, `*`, `/`, `%` etc. By using this, we can perform operations on our custom objects."
   ]
  },
  {
   "cell_type": "markdown",
   "id": "52ee160b",
   "metadata": {},
   "source": [
    "We can consider allowing operator overloading in our classes for the following situations."
   ]
  },
  {
   "cell_type": "markdown",
   "id": "59761572",
   "metadata": {},
   "source": [
    "1. If your class represents a data type that has a clear mathematical interpretation or can be operated on using built-in Python operators, then allowing operator overloading in your class can help make your code more intuitive and expressive.\n",
    "\n",
    "2. We can make our code more concise and readable by defining custom behavior of operators. For example, by defining the behavior of `/` operator for our class, we can write class1 / class2, instead of calling a method like class1.divide(class2). Similarly, the `+` operator's behavior can also be defined.\n",
    "\n",
    "3. When the class we are writing is part of a larger library or framework that uses operator overloading, it might be useful to allow operator overloading in our classes."
   ]
  },
  {
   "cell_type": "markdown",
   "id": "d8764e57",
   "metadata": {},
   "source": [
    "## Question 8"
   ]
  },
  {
   "cell_type": "markdown",
   "id": "d36f6e9b",
   "metadata": {},
   "source": [
    "What is the most popular form of operator overloading?"
   ]
  },
  {
   "cell_type": "markdown",
   "id": "c91be4c8",
   "metadata": {},
   "source": [
    "## Answer to the Question 8"
   ]
  },
  {
   "cell_type": "markdown",
   "id": "3ec5976a",
   "metadata": {},
   "source": [
    "There are many operators for which operator overloading could be considered. But, perhaps, due to its usefulness, the most popular form of operator overloading is `+` that allows custom objects to define the be havior of this operator differently."
   ]
  },
  {
   "cell_type": "markdown",
   "id": "42250ef4",
   "metadata": {},
   "source": [
    "## Question 9"
   ]
  },
  {
   "cell_type": "markdown",
   "id": "cfd24504",
   "metadata": {},
   "source": [
    "What are the two most important concepts to grasp in order to comprehend Python OOP code?"
   ]
  },
  {
   "cell_type": "markdown",
   "id": "b21782fd",
   "metadata": {},
   "source": [
    "## Answer to the Question 9"
   ]
  },
  {
   "cell_type": "markdown",
   "id": "69c38868",
   "metadata": {},
   "source": [
    "The two most important concepts to grasp in order to comprehend Python OOP code are:\n",
    "\n",
    "1. Classes and objects: The concepts of classes and objects are essential to object-oriented programming in Python. A class can be thought of as a blueprint or design that specifies the properties and methods of objects, while objects are the actual instances that are created based on that blueprint/design. Since each object has its own unique set of property values, understanding how to create and manipulate classes and objects is fundamental to building effective object-oriented code in Python.\n",
    "\n",
    "2. Inheritance: In OOP with Python, inheritance is a key concept that empowers us to construct novel classes that leverage or build on the existing ones. When we develop a new class that inherits from an existing class (also called the base or superclass), it is referred to as a subclass or derived class. In this way, the subclass inherits all the attributes and methods of the superclass, facilitating the reuse of code and the reduction of code duplication. Further, we can define new attributes and methods for the subclass, and if needed, we can also modify the existing methods in the superclass. Understanding how inheritance functions in Python is a critical prerequisite for creating sophisticated and complex object-oriented applications that are both easy to maintain and scale."
   ]
  },
  {
   "cell_type": "code",
   "execution_count": null,
   "id": "3d8d9dc0",
   "metadata": {},
   "outputs": [],
   "source": []
  },
  {
   "cell_type": "code",
   "execution_count": null,
   "id": "4ef082c3",
   "metadata": {},
   "outputs": [],
   "source": []
  }
 ],
 "metadata": {
  "kernelspec": {
   "display_name": "Python 3 (ipykernel)",
   "language": "python",
   "name": "python3"
  },
  "language_info": {
   "codemirror_mode": {
    "name": "ipython",
    "version": 3
   },
   "file_extension": ".py",
   "mimetype": "text/x-python",
   "name": "python",
   "nbconvert_exporter": "python",
   "pygments_lexer": "ipython3",
   "version": "3.9.13"
  }
 },
 "nbformat": 4,
 "nbformat_minor": 5
}
