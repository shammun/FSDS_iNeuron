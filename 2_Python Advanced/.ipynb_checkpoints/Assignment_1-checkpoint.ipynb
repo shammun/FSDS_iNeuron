{
 "cells": [
  {
   "cell_type": "markdown",
   "id": "05cd45e9",
   "metadata": {},
   "source": [
    "# Assignment 1"
   ]
  },
  {
   "cell_type": "markdown",
   "id": "3f5c31e5",
   "metadata": {},
   "source": [
    "## Question 1"
   ]
  },
  {
   "cell_type": "markdown",
   "id": "bcfcd840",
   "metadata": {},
   "source": [
    "What is the purpose of Python's OOP?"
   ]
  },
  {
   "cell_type": "markdown",
   "id": "16983ccc",
   "metadata": {},
   "source": [
    "## Answer to the Question 1"
   ]
  },
  {
   "cell_type": "markdown",
   "id": "81641e0a",
   "metadata": {},
   "source": [
    "The purpose of Python's OOP (object-oriented programming) is to allow creating and using objects that can represent real-world entities. Objects have both properties and behaviors where properties can be considered as data and behaviors can be thought of as the functions to be used with this data. A class is a collection of objects where an object can represent an entity like car with properties such as color, brand_name, miles per gallon and functions or methods such as break, move, accelerate, refuel etc."
   ]
  },
  {
   "cell_type": "markdown",
   "id": "c8b42c04",
   "metadata": {},
   "source": [
    "Using OOP, it becomes easier to maintain and modify the code in the future. Further, OOP in Python allows for code reusabillity. This is because objects can be inherited and modified using the exisitng class definition and allows us to write less code."
   ]
  },
  {
   "cell_type": "markdown",
   "id": "e3fd8ada",
   "metadata": {},
   "source": [
    "## Question 2"
   ]
  },
  {
   "cell_type": "markdown",
   "id": "a544247d",
   "metadata": {},
   "source": [
    "Where does an inheritance search look for an attribute?"
   ]
  },
  {
   "cell_type": "markdown",
   "id": "512da666",
   "metadata": {},
   "source": [
    "## Answer to the Question 2"
   ]
  },
  {
   "cell_type": "markdown",
   "id": "fbde0563",
   "metadata": {},
   "source": [
    "An inheritance search looks for an attribute first in the instance object and if it is found, the search is stopped. If it is not found, then it is searched in the class from which it was created. If it is not found there, then it is searched in the higher superclass, from left to right. Thesearch is stopped the moment it is found."
   ]
  },
  {
   "cell_type": "markdown",
   "id": "18db1f75",
   "metadata": {},
   "source": [
    "## Question 3"
   ]
  },
  {
   "cell_type": "markdown",
   "id": "f290e655",
   "metadata": {},
   "source": [
    "How do you distinguish between a class object and an instance object?"
   ]
  },
  {
   "cell_type": "markdown",
   "id": "674b7495",
   "metadata": {},
   "source": [
    "## Answer to the Question 3"
   ]
  },
  {
   "cell_type": "markdown",
   "id": "c8b2defc",
   "metadata": {},
   "source": [
    "Whenever a class is created, a class object is also created at the same time. Inside this, we can have static member or class-level variables. Class objects can be accessed using class names."
   ]
  },
  {
   "cell_type": "markdown",
   "id": "322b0481",
   "metadata": {},
   "source": [
    "An instance object is the initialization of the class and there could be many instance objects of a same class. Whenever we create an instance object, constructor of the class is automatically called which is not the case for class object."
   ]
  },
  {
   "cell_type": "markdown",
   "id": "d71aa5ec",
   "metadata": {},
   "source": [
    "## Question 4"
   ]
  },
  {
   "cell_type": "markdown",
   "id": "c8cf9d40",
   "metadata": {},
   "source": [
    "What makes the first argument in a class’s method function special?"
   ]
  },
  {
   "cell_type": "markdown",
   "id": "a6b5d53e",
   "metadata": {},
   "source": [
    "## Answer to the Question 4"
   ]
  },
  {
   "cell_type": "markdown",
   "id": "865dedbe",
   "metadata": {},
   "source": [
    "The first argument in a class's method function is named `self` conventionally. It is convention to use `self` to indicate that it represents current object but we can use any other name also. `self` refers to the instance of the class from which the method is called; it is used to indicate the current object. When a method is called on an instance of a class, Python automatically passes the instance as the first argument to the method."
   ]
  },
  {
   "cell_type": "markdown",
   "id": "d6d5d9d1",
   "metadata": {},
   "source": [
    "## Question 5"
   ]
  },
  {
   "cell_type": "markdown",
   "id": "567a373b",
   "metadata": {},
   "source": [
    "What is the purpose of the `__init__` method?"
   ]
  },
  {
   "cell_type": "markdown",
   "id": "6b5251ea",
   "metadata": {},
   "source": [
    "## Answer to the Question 5"
   ]
  },
  {
   "cell_type": "markdown",
   "id": "19137df1",
   "metadata": {},
   "source": [
    "The `__init__` method is a special method in Python that is used for initializing an object when it is created. It is a constructor method that sets the initial state of an object. Using it, the attributes of the object are initialized with the passed argument values. Along with this, it can also do other setup actions for the object needed at the initialization of an object."
   ]
  },
  {
   "cell_type": "code",
   "execution_count": 2,
   "id": "ff7ca885",
   "metadata": {},
   "outputs": [],
   "source": [
    "class MyClass:\n",
    "    def __init__(self, x, y, z):\n",
    "        self.x = x\n",
    "        self.y = y\n",
    "        self.z = x"
   ]
  },
  {
   "cell_type": "markdown",
   "id": "f9ca821d",
   "metadata": {},
   "source": [
    "Here `__init__` part is the constructor part and it sets three attributes `x`, `y` and `z` set to the argument values passed inside the constructor method."
   ]
  },
  {
   "cell_type": "markdown",
   "id": "90502bee",
   "metadata": {},
   "source": [
    "## Question 6"
   ]
  },
  {
   "cell_type": "markdown",
   "id": "066c14ea",
   "metadata": {},
   "source": [
    "What is the process for creating a class instance?"
   ]
  },
  {
   "cell_type": "markdown",
   "id": "f9e512e8",
   "metadata": {},
   "source": [
    "## Answer to the Question 6"
   ]
  },
  {
   "cell_type": "markdown",
   "id": "ea1441bc",
   "metadata": {},
   "source": [
    "A class instance can be created by instatntiating an object from the class. This can be done by calling the class with the arguments mentioned in the constructor (without `self`) and then assigning the object to a variable. The syntax will be something similar to the following:\n",
    "\n",
    "`variableName = ClassName(arguments)`"
   ]
  },
  {
   "cell_type": "markdown",
   "id": "63e4c585",
   "metadata": {},
   "source": [
    "Suppose we have `MyClass` class object that is defined as the following:"
   ]
  },
  {
   "cell_type": "code",
   "execution_count": 4,
   "id": "a4e10ecc",
   "metadata": {},
   "outputs": [],
   "source": [
    "class MyClass:\n",
    "    def __init__(self, x, y, z):\n",
    "        self.x = x\n",
    "        self.y = y\n",
    "        self.z = x"
   ]
  },
  {
   "cell_type": "markdown",
   "id": "5d47a688",
   "metadata": {},
   "source": [
    "We can now call it as following to create an instance of the class."
   ]
  },
  {
   "cell_type": "code",
   "execution_count": 5,
   "id": "96c29d38",
   "metadata": {},
   "outputs": [],
   "source": [
    "my_instance = MyClass(2, 3, 4)"
   ]
  },
  {
   "cell_type": "markdown",
   "id": "28c550c6",
   "metadata": {},
   "source": [
    "## Question 7"
   ]
  },
  {
   "cell_type": "raw",
   "id": "159ef8ee",
   "metadata": {},
   "source": [
    "What is the process for creating a class?"
   ]
  },
  {
   "cell_type": "markdown",
   "id": "d0122b7a",
   "metadata": {},
   "source": [
    "## Answer to the Question 7"
   ]
  },
  {
   "cell_type": "markdown",
   "id": "ce05670a",
   "metadata": {},
   "source": [
    "To create a class in Python, we must use the keyword `class` followed by the class name. Then we can define the class attributes and methods insdie the class name. We can also use `__init__` to define the constructor of a class so that some default attributes and setup actions are done each time an instance of this class is created. Below is an exampel of creating class and then making instance of that class."
   ]
  },
  {
   "cell_type": "code",
   "execution_count": 11,
   "id": "e2518cbd",
   "metadata": {},
   "outputs": [],
   "source": [
    "class MyClass:\n",
    "    def __init__(self, x, y, z):\n",
    "        self.x = x\n",
    "        self.y = y\n",
    "        self.z = z\n",
    "    def print_values(self):\n",
    "        print(self.x, self.y, self.z)"
   ]
  },
  {
   "cell_type": "code",
   "execution_count": 12,
   "id": "e7210570",
   "metadata": {},
   "outputs": [
    {
     "name": "stdout",
     "output_type": "stream",
     "text": [
      "2 3 4\n"
     ]
    }
   ],
   "source": [
    "obj1 = MyClass(2, 3, 4)\n",
    "obj1.print_values()"
   ]
  },
  {
   "cell_type": "markdown",
   "id": "d8764e57",
   "metadata": {},
   "source": [
    "## Question 8"
   ]
  },
  {
   "cell_type": "markdown",
   "id": "d36f6e9b",
   "metadata": {},
   "source": [
    "How would you define the superclasses of a class?"
   ]
  },
  {
   "cell_type": "markdown",
   "id": "c91be4c8",
   "metadata": {},
   "source": [
    "## Answer to the Question 8"
   ]
  },
  {
   "cell_type": "markdown",
   "id": "3ec5976a",
   "metadata": {},
   "source": [
    "A superclass is a class from which other classes, or subclasses, are derived, in other words, subclasses inherir from superclass or superclasses. To create a superclass, we first need to create a class, say, `A ` and then use the keyword `extends` to create a new subclass `B` like this:\n",
    "\n",
    "`class B extends A{\n",
    "    // class attributes and methods\n",
    "}`\n",
    "\n",
    "This will make class A superclass and class B subclass. Instead of a single subclass extending the superclass A, we can make multiple subclasses as we need by using syntax similar to the above. A subclass can alsop modify and extend the behaviors or methods present in the superclass. It can also add new attributes and methods if required."
   ]
  },
  {
   "cell_type": "code",
   "execution_count": null,
   "id": "4ef082c3",
   "metadata": {},
   "outputs": [],
   "source": []
  }
 ],
 "metadata": {
  "kernelspec": {
   "display_name": "Python 3 (ipykernel)",
   "language": "python",
   "name": "python3"
  },
  "language_info": {
   "codemirror_mode": {
    "name": "ipython",
    "version": 3
   },
   "file_extension": ".py",
   "mimetype": "text/x-python",
   "name": "python",
   "nbconvert_exporter": "python",
   "pygments_lexer": "ipython3",
   "version": "3.9.13"
  }
 },
 "nbformat": 4,
 "nbformat_minor": 5
}
