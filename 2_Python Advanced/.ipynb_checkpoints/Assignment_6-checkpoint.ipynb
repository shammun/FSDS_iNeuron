{
 "cells": [
  {
   "cell_type": "markdown",
   "id": "05cd45e9",
   "metadata": {},
   "source": [
    "# Assignment 6"
   ]
  },
  {
   "cell_type": "markdown",
   "id": "3f5c31e5",
   "metadata": {},
   "source": [
    "## Question 1"
   ]
  },
  {
   "cell_type": "markdown",
   "id": "bcfcd840",
   "metadata": {},
   "source": [
    "Describe three applications for exception processing."
   ]
  },
  {
   "cell_type": "markdown",
   "id": "16983ccc",
   "metadata": {},
   "source": [
    "## Answer to the Question 1"
   ]
  },
  {
   "cell_type": "markdown",
   "id": "81641e0a",
   "metadata": {},
   "source": [
    "With the aid of exception processing, we can deal with errors and other unexpected circumstances in a more controlled and organized manner. Here are three typical application areas for exception processing:\n",
    "\n",
    "1. Error handing: Error handling is the most typical application of exception processing. When a program encounters an error, it can raise or throw an exception that is caught by an exception handler. The exception handler can then take the necessary action, such as logging the error, informing the user of it, or making an effort to fix it.\n",
    "\n",
    "2. Resource management is another use case  for exception handling. In order to make sure that a resource, such as a file, network connection, or database connection is properly acquired and released, exception processing could be used. If there is a problem when utilizing the resource, the exception handler can make sure that it is released correctly and that any pending operations are rolled back.\n",
    "\n",
    "3. Control flow: Another use case could be control flow. For example, a program might utilize an exception to indicate the occurrence of a specific circumstance so that the exception handler can respond accordingly. This can be used to build complex control flow, such as handling complex user interactions or implementing a state machine."
   ]
  },
  {
   "cell_type": "markdown",
   "id": "e3fd8ada",
   "metadata": {},
   "source": [
    "## Question 2"
   ]
  },
  {
   "cell_type": "markdown",
   "id": "a544247d",
   "metadata": {},
   "source": [
    "What happens if you don't do something extra to treat an exception?"
   ]
  },
  {
   "cell_type": "markdown",
   "id": "512da666",
   "metadata": {},
   "source": [
    "## Answer to the Question 2"
   ]
  },
  {
   "cell_type": "markdown",
   "id": "fbde0563",
   "metadata": {},
   "source": [
    "If you don't deal with exceptions in your code, they will propagate up the call stack until they are handled, or until they reach the top level of your program and cause it to crash. In this case, many things can happen, such as the program might display an error message, the program might terminate unexpectedly, the program might leave resources in an inconsistent state which could result in data corruption or other errors in the future, the program might cause resource leaks and other problems.  "
   ]
  },
  {
   "cell_type": "markdown",
   "id": "18db1f75",
   "metadata": {},
   "source": [
    "## Question 3"
   ]
  },
  {
   "cell_type": "markdown",
   "id": "f290e655",
   "metadata": {},
   "source": [
    "What are your options for recovering from an exception in your script?"
   ]
  },
  {
   "cell_type": "markdown",
   "id": "674b7495",
   "metadata": {},
   "source": [
    "## Answer to the Question 3"
   ]
  },
  {
   "cell_type": "markdown",
   "id": "c8b2defc",
   "metadata": {},
   "source": [
    "There are various ways to recover from exceptions and carry on with a Python script's execution after they are raised. Here are a few typical methods for recovering from an exception. We can catch the exception and continue by logging the error, displaying a message to the user, or retrying the operation that caused the exception. We can also catch the exception, display an error message to the user and then exit. We can also let the exception propagate up the call stack to a higher level where it can be addressed if you don't know how to handle it at the current level of the code. You could, for instance, handle any exceptions in a main function that calls other functions while allowing any unhandled exceptions to propagate to the script's top level. "
   ]
  },
  {
   "cell_type": "markdown",
   "id": "d71aa5ec",
   "metadata": {},
   "source": [
    "## Question 4"
   ]
  },
  {
   "cell_type": "markdown",
   "id": "c8cf9d40",
   "metadata": {},
   "source": [
    "Describe two methods for triggering exceptions in your script."
   ]
  },
  {
   "cell_type": "markdown",
   "id": "a6b5d53e",
   "metadata": {},
   "source": [
    "## Answer to the Question 4"
   ]
  },
  {
   "cell_type": "markdown",
   "id": "865dedbe",
   "metadata": {},
   "source": [
    "We can trigger exceptions in our script in various ways. Two of them are mentioned below:\n",
    "\n",
    "1. **Using raise statement:** The raise statement can be used to raise an exception. You can now directly raise an exception at any time in your code thanks to this. Any object that inherits from the BaseException class can be passed as the parameter to the raise statement.\n",
    "\n",
    "2. **Using built-in exceptions:** We can raise exceptions in our code by using one of the built-in exception classes such as ValueError, TypeError, and IndexError. These exceptions can be raised by using the raise command and the exception class argument."
   ]
  },
  {
   "cell_type": "markdown",
   "id": "d6d5d9d1",
   "metadata": {},
   "source": [
    "## Question 5"
   ]
  },
  {
   "cell_type": "markdown",
   "id": "567a373b",
   "metadata": {},
   "source": [
    "Identify two methods for specifying actions to be executed at termination time, regardless of whether or not an exception exists."
   ]
  },
  {
   "cell_type": "markdown",
   "id": "6b5251ea",
   "metadata": {},
   "source": [
    "## Answer to the Question 5"
   ]
  },
  {
   "cell_type": "markdown",
   "id": "19137df1",
   "metadata": {},
   "source": [
    "Regardless of whether an exception exists, Python allows you to declare whether or not certain actions should be carried out at termination time.\n",
    "\n",
    "1. **The `finally` clause:** The `finally` clause in a try statement specifies a block of code that will always be run, regardless of whether an exception occurred or not. For example, this is helpful for clearing out resources and releasing locks. The `finally` block comes a fter the try and except clauses, which guarantees the execution of any statements included inside."
   ]
  },
  {
   "cell_type": "code",
   "execution_count": 1,
   "id": "05623265",
   "metadata": {},
   "outputs": [
    {
     "name": "stdout",
     "output_type": "stream",
     "text": [
      "Cannot divide by zero\n",
      "Finished executing the try-except block\n"
     ]
    }
   ],
   "source": [
    "try:\n",
    "    x = 1 / 0\n",
    "except ZeroDivisionError:\n",
    "    print(\"Cannot divide by zero\")\n",
    "finally:\n",
    "    print(\"Finished executing the try-except block\")"
   ]
  },
  {
   "cell_type": "markdown",
   "id": "1e32f0ca",
   "metadata": {},
   "source": [
    "2. **The atexit module:** The atexit module offers a method to register functions to be called at program termination irrespective of whether or not an exception occurred. To register a function to be invoked at program exit, use the `atexit.register()` function. This is helpful for releasing resources or preserving data before the application ends."
   ]
  },
  {
   "cell_type": "code",
   "execution_count": null,
   "id": "352f1bed",
   "metadata": {},
   "outputs": [],
   "source": []
  }
 ],
 "metadata": {
  "kernelspec": {
   "display_name": "Python 3 (ipykernel)",
   "language": "python",
   "name": "python3"
  },
  "language_info": {
   "codemirror_mode": {
    "name": "ipython",
    "version": 3
   },
   "file_extension": ".py",
   "mimetype": "text/x-python",
   "name": "python",
   "nbconvert_exporter": "python",
   "pygments_lexer": "ipython3",
   "version": "3.9.13"
  }
 },
 "nbformat": 4,
 "nbformat_minor": 5
}
