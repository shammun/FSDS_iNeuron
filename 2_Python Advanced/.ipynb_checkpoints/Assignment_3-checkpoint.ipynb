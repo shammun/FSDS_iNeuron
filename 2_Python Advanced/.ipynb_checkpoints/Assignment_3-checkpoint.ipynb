{
 "cells": [
  {
   "cell_type": "markdown",
   "id": "05cd45e9",
   "metadata": {},
   "source": [
    "# Assignment 3"
   ]
  },
  {
   "cell_type": "markdown",
   "id": "3f5c31e5",
   "metadata": {},
   "source": [
    "## Question 1"
   ]
  },
  {
   "cell_type": "markdown",
   "id": "bcfcd840",
   "metadata": {},
   "source": [
    "What is the concept of an abstract superclass?"
   ]
  },
  {
   "cell_type": "markdown",
   "id": "16983ccc",
   "metadata": {},
   "source": [
    "## Answer to the Question 1"
   ]
  },
  {
   "cell_type": "markdown",
   "id": "81641e0a",
   "metadata": {},
   "source": [
    "An abstract superclass is a class in Python that is meant to be inherited by other classes. It acts as a template or blueprint for its subclasses, and can't be instantiated on its own. It defines a set of common attributes and behaviors that have to be implemented by the subclasses. This allows to have more flexibility and extensibility of the code, as new subclass now can create its own implementation of the superclass's behaviors."
   ]
  },
  {
   "cell_type": "markdown",
   "id": "986596a3",
   "metadata": {},
   "source": [
    "Using abc (Abstract Bases Classes) module, we can create abstract superclass in Python. It provides ABC (abstract base class) mechanism, using which abstract methods and properties can be defined for later implementation by the subclasses."
   ]
  },
  {
   "cell_type": "code",
   "execution_count": 1,
   "id": "2eec2618",
   "metadata": {},
   "outputs": [],
   "source": [
    "from abc import ABC, abstractmethod\n",
    "\n",
    "class Shape(ABC):\n",
    "    @abstractmethod\n",
    "    def area(self):\n",
    "        pass\n",
    "    \n",
    "class Circle(Shape):\n",
    "    def __init__(self, radius):\n",
    "        self.radius = radius\n",
    "        \n",
    "    def area(self):\n",
    "        return 3.14 * self.aradius ** 2\n",
    "    \n",
    "class Square(Shape):\n",
    "    def __init__(self, side):\n",
    "        self.side = side\n",
    "        \n",
    "    def area(self):\n",
    "        return self.side ** 2"
   ]
  },
  {
   "cell_type": "markdown",
   "id": "315958b3",
   "metadata": {},
   "source": [
    "Here, `Shape` is an abstract superclass and it has one abstract method `area` taht has no implementation. `Circle` and `Square` subclasses provide the implementation of the `area` method defined in the abstract superclass `Shape`."
   ]
  },
  {
   "cell_type": "markdown",
   "id": "e3fd8ada",
   "metadata": {},
   "source": [
    "## Question 2"
   ]
  },
  {
   "cell_type": "markdown",
   "id": "a544247d",
   "metadata": {},
   "source": [
    "What happens when a class statement's top level contains a basic assignment statement?"
   ]
  },
  {
   "cell_type": "markdown",
   "id": "512da666",
   "metadata": {},
   "source": [
    "## Answer to the Question 2"
   ]
  },
  {
   "cell_type": "markdown",
   "id": "fbde0563",
   "metadata": {},
   "source": [
    "When a class statement's top level contains a basic assignment statement, the assignemetn statement is executed as soon as the class is defined. This assignment at the top is called class-level data or class attribute. Consider the following code: "
   ]
  },
  {
   "cell_type": "code",
   "execution_count": 2,
   "id": "c298005f",
   "metadata": {},
   "outputs": [],
   "source": [
    "class Employee:\n",
    "    minimum_slary = 20000\n",
    "    \n",
    "    def set_salary(self, salary):\n",
    "        if minimum_salary < salary:\n",
    "            self.salary = minimum_salary\n",
    "        else:\n",
    "            self.salary = salary"
   ]
  },
  {
   "cell_type": "markdown",
   "id": "ecee4a87",
   "metadata": {},
   "source": [
    "Whe the class `Employee` is defined, the assignment statement `minimum_slary = 20000` is executed and 20000 is stored as class attribute."
   ]
  },
  {
   "cell_type": "markdown",
   "id": "18db1f75",
   "metadata": {},
   "source": [
    "## Question 3"
   ]
  },
  {
   "cell_type": "markdown",
   "id": "f290e655",
   "metadata": {},
   "source": [
    "Why does a class need to manually call a superclass's `__init__` method?"
   ]
  },
  {
   "cell_type": "markdown",
   "id": "674b7495",
   "metadata": {},
   "source": [
    "## Answer to the Question 3"
   ]
  },
  {
   "cell_type": "markdown",
   "id": "c8b2defc",
   "metadata": {},
   "source": [
    "By calling superclass's `__init__` method, we can innitialize the superclass's attributes and other behaviors defined inside the superclass's `__init__` method.\n",
    "\n",
    "Subclasses inherit attributes and methods from the superclass while it can also have additional attributes and methods. Subclass executes superclass's initialization logic, by calling the latter's `__init__` method. Afthr then, call the `__init__` method of the subclass and define any new attribute or method specific to it. Below is an example code:"
   ]
  },
  {
   "cell_type": "code",
   "execution_count": 4,
   "id": "1037aea1",
   "metadata": {},
   "outputs": [],
   "source": [
    "class Employee:\n",
    "    def __init__(self, name):\n",
    "        self.name = name\n",
    "        \n",
    "class Executives(Employee):\n",
    "    def __init__(self, name, emp_type):\n",
    "        Employee.__init__(self, name)\n",
    "        self.emp_type = emp_type "
   ]
  },
  {
   "cell_type": "markdown",
   "id": "d71aa5ec",
   "metadata": {},
   "source": [
    "## Question 4"
   ]
  },
  {
   "cell_type": "markdown",
   "id": "c8cf9d40",
   "metadata": {},
   "source": [
    "How can you augment, instead of completely replacing, an inherited method?"
   ]
  },
  {
   "cell_type": "markdown",
   "id": "a6b5d53e",
   "metadata": {},
   "source": [
    "## Answer to the Question 4"
   ]
  },
  {
   "cell_type": "markdown",
   "id": "865dedbe",
   "metadata": {},
   "source": [
    "We can augment, instead of completely replacing an inherited method by using the `super()` function to call the superclass method. This function `super()` provides access to superclass's method.\n",
    "\n",
    "We can call the superclass method using `super()` and then we can add new behavior to the subclass. Below is an example code:"
   ]
  },
  {
   "cell_type": "code",
   "execution_count": 13,
   "id": "45b0637f",
   "metadata": {},
   "outputs": [],
   "source": [
    "class Employee:\n",
    "    def __init__(self, name,  salary):\n",
    "        self.name = name\n",
    "        self.salary = salary\n",
    "        \n",
    "    def get_salary(self):\n",
    "        print(self.salary) \n",
    "        \n",
    "class Executives(Employee):\n",
    "    def __init__(self, name, salary, emp_type):\n",
    "        super().__init__(name, salary)\n",
    "        self.emp_type = emp_type \n",
    "        \n",
    "    def get_salary(self):\n",
    "        super().get_salary() # call superclass method get_salary\n",
    "        print(self.emp_type) # Add this additional functionality"
   ]
  },
  {
   "cell_type": "code",
   "execution_count": 14,
   "id": "3cf94a32",
   "metadata": {},
   "outputs": [
    {
     "name": "stdout",
     "output_type": "stream",
     "text": [
      "200000\n",
      "Manager\n"
     ]
    }
   ],
   "source": [
    "exec1 = Executives(\"Milon\", 200000, \"Manager\")\n",
    "exec1.get_salary()"
   ]
  },
  {
   "cell_type": "markdown",
   "id": "d06f4796",
   "metadata": {},
   "source": [
    "In the code above, `get_salary` method defined in the `Employee` class is augmented in the inherited class `Executives` by using `super()`. By writing `super().get_salary()` we get the functionality of this method `get_salary` defined first inside `Employee` and then the immediate next line `print(self.emp_type)`adds additional functionality."
   ]
  },
  {
   "cell_type": "markdown",
   "id": "d6d5d9d1",
   "metadata": {},
   "source": [
    "## Question 5"
   ]
  },
  {
   "cell_type": "markdown",
   "id": "567a373b",
   "metadata": {},
   "source": [
    "How is the local scope of a class different from that of a function?"
   ]
  },
  {
   "cell_type": "markdown",
   "id": "6b5251ea",
   "metadata": {},
   "source": [
    "## Answer to the Question 5"
   ]
  },
  {
   "cell_type": "markdown",
   "id": "19137df1",
   "metadata": {},
   "source": [
    "There are a couple of ways local scope of a class different from that of a function. Some of these are mentioned below:"
   ]
  },
  {
   "cell_type": "markdown",
   "id": "9d2fa58b",
   "metadata": {},
   "source": [
    "1. When defining a class in Python, the class scope is created. In contrast, the function scope is created only when the function is executed. As a result, the class scope remains available throughout the lifetime of the program, while the function scope is only present during the execution of the function."
   ]
  },
  {
   "cell_type": "markdown",
   "id": "b8c933be",
   "metadata": {},
   "source": [
    "2. In Python, variables defined in the class scope can be accessed by all methods within that class, whereas variables defined in the function scope are only accessible within that particular function."
   ]
  },
  {
   "cell_type": "markdown",
   "id": "aa856afa",
   "metadata": {},
   "source": [
    "3. When variables are defined at the class level in Python, they are considered class variables and can be accessed using either the class name or any instance of the class. On the other hand, variables defined within a function are considered local variables and can only be accessed within that specific function."
   ]
  },
  {
   "cell_type": "code",
   "execution_count": null,
   "id": "d23e2603",
   "metadata": {},
   "outputs": [],
   "source": []
  }
 ],
 "metadata": {
  "kernelspec": {
   "display_name": "Python 3 (ipykernel)",
   "language": "python",
   "name": "python3"
  },
  "language_info": {
   "codemirror_mode": {
    "name": "ipython",
    "version": 3
   },
   "file_extension": ".py",
   "mimetype": "text/x-python",
   "name": "python",
   "nbconvert_exporter": "python",
   "pygments_lexer": "ipython3",
   "version": "3.9.13"
  }
 },
 "nbformat": 4,
 "nbformat_minor": 5
}
