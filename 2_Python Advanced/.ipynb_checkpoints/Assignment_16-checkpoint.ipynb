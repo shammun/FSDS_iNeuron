{
 "cells": [
  {
   "cell_type": "markdown",
   "id": "05cd45e9",
   "metadata": {},
   "source": [
    "# Assignment 16"
   ]
  },
  {
   "cell_type": "markdown",
   "id": "3f5c31e5",
   "metadata": {},
   "source": [
    "## Question 1"
   ]
  },
  {
   "cell_type": "markdown",
   "id": "bcfcd840",
   "metadata": {},
   "source": [
    "What is the benefit of regular expressions?"
   ]
  },
  {
   "cell_type": "markdown",
   "id": "16983ccc",
   "metadata": {},
   "source": [
    "## Answer to the Question 1"
   ]
  },
  {
   "cell_type": "markdown",
   "id": "81641e0a",
   "metadata": {},
   "source": [
    "Using regular expression, we can see if a text has certain pattern or subtexta nd returns those portion of text that matches the pattern. This is both time saving and efficient to search matched patterns in a text."
   ]
  },
  {
   "cell_type": "markdown",
   "id": "e3fd8ada",
   "metadata": {},
   "source": [
    "## Question 2"
   ]
  },
  {
   "cell_type": "markdown",
   "id": "a544247d",
   "metadata": {},
   "source": [
    "Describe the difference between the effects of \"(ab)c+\" and \"a(bc)+.\" Which of these, if any, is the unqualified pattern \"abc+\"?"
   ]
  },
  {
   "cell_type": "markdown",
   "id": "512da666",
   "metadata": {},
   "source": [
    "## Answer to the Question 2"
   ]
  },
  {
   "cell_type": "markdown",
   "id": "fbde0563",
   "metadata": {},
   "source": [
    "In Python regular expressions, `\"(ab)c+\"` and `\"a(bc)+\"` are both patterns that match strings that contain one or more repetitions of the substrings \"ab\" and `\"bc\"` respectively.\n",
    "\n",
    "The pattern `\"(ab)c+\"` matches strings that begin with the substring \"ab\", followed by one or more instances of the substring `\"c\"`. It would, for example, match `\"abc\"`, `\"abcc\"`, `\"abccc\"`, and so on, but not `\"ab\"`, `\"bc\"` or `\"ac\"`.\n",
    "\n",
    "The pattern `\"a(bc)+\"` matches strings that start with the substring `\"a\"`, followed by one or more repetitions of the substring `\"bc\"`. For example, it would match `\"abc\"`, `\"abcbc\"`, `\"abcbcbc\"`, and so on, but not `\"bc\"` or `\"ac\"`."
   ]
  },
  {
   "cell_type": "code",
   "execution_count": 7,
   "id": "89b71841",
   "metadata": {},
   "outputs": [
    {
     "name": "stdout",
     "output_type": "stream",
     "text": [
      "abccc\n",
      "abcbcbc\n"
     ]
    }
   ],
   "source": [
    "import re\n",
    "\n",
    "match1 = re.search(r'(ab)c+',\"abccc\")\n",
    "match2 = re.search(r'a(bc)+',\"abcbcbc\")\n",
    "\n",
    "print(match1.group())\n",
    "\n",
    "print(match2.group())"
   ]
  },
  {
   "cell_type": "code",
   "execution_count": 8,
   "id": "fc21dd90",
   "metadata": {},
   "outputs": [
    {
     "name": "stdout",
     "output_type": "stream",
     "text": [
      "abc\n"
     ]
    }
   ],
   "source": [
    "match3 = re.search(r'abc+',\"abcabcabc\")\n",
    "print(match3.group())"
   ]
  },
  {
   "cell_type": "markdown",
   "id": "18db1f75",
   "metadata": {},
   "source": [
    "## Question 3"
   ]
  },
  {
   "cell_type": "markdown",
   "id": "f290e655",
   "metadata": {},
   "source": [
    "How much do you need to use the following sentence while using regular expressions?\n",
    "\n",
    "\n",
    "\n",
    "import re\n"
   ]
  },
  {
   "cell_type": "markdown",
   "id": "674b7495",
   "metadata": {},
   "source": [
    "## Answer to the Question 3"
   ]
  },
  {
   "cell_type": "markdown",
   "id": "c8b2defc",
   "metadata": {},
   "source": [
    "We must utilize it every time we use the module re's functionalities."
   ]
  },
  {
   "cell_type": "markdown",
   "id": "d71aa5ec",
   "metadata": {},
   "source": [
    "## Question 4"
   ]
  },
  {
   "cell_type": "markdown",
   "id": "c8cf9d40",
   "metadata": {},
   "source": [
    "Which characters have special significance in square brackets when expressing a range, and under what circumstances?"
   ]
  },
  {
   "cell_type": "markdown",
   "id": "a6b5d53e",
   "metadata": {},
   "source": [
    "## Answer to the Question 4"
   ]
  },
  {
   "cell_type": "markdown",
   "id": "865dedbe",
   "metadata": {},
   "source": [
    "Square brackets `[]` are used in Python regular expressions to define a character class that matches any single character in the class. Some characters within square brackets have unique meaning when used to define a range. These are the characters:\n",
    "\n",
    "1. `-` **The hyphen character:** The character `-` (hyphen) is used to denote a range of characters. `[a-z]`, for example, matches any lowercase letter from `a` to `z` inclusive. If a hyphen appears as the first or last character within the brackets, it is interpreted as a literal character rather than a range indicator.\n",
    "\n",
    "2. `^` **The caret character:** When `^` is used as the initial character within the brackets, it negates the character class, matching any character that is not in the class. `[a-z]` matches any character that is not a lowercase letter, for example.\n",
    "\n",
    "3. `]` **Closing square bracket:** When `]` is used as the first character within the brackets, it is treated as a literal character and not as a closing bracket. In all other cases, it must be escaped with a backslash `\\]` to be treated as a literal character.\n",
    "\n",
    "4. `\\` **Backslash character:** `\\` is used to escape any special characters that have a special meaning within square brackets. To match a literal hyphen within the brackets, for example, it must be escaped with a backslash `\\-`."
   ]
  },
  {
   "cell_type": "markdown",
   "id": "d6d5d9d1",
   "metadata": {},
   "source": [
    "## Question 5"
   ]
  },
  {
   "cell_type": "markdown",
   "id": "567a373b",
   "metadata": {},
   "source": [
    "How does compiling a regular-expression object benefit you?"
   ]
  },
  {
   "cell_type": "markdown",
   "id": "6b5251ea",
   "metadata": {},
   "source": [
    "## Answer to the Question 5"
   ]
  },
  {
   "cell_type": "markdown",
   "id": "19137df1",
   "metadata": {},
   "source": [
    "Compiling a regular-expression object in Python has various advantages. Firstly, it enables the reuse of the same regular expression object multiple times, which can increase efficiency because the regular expression only needs to be compiled once. Furthermore, compiling the regular expression enables you to utilize the same object with different flags, allowing you to use more powerful regular expressions as necessary. Lastly, compiling the regular expression allows you to utilize the object with various search functions, such as `findall()`, which increases the search's flexibility."
   ]
  },
  {
   "cell_type": "markdown",
   "id": "90502bee",
   "metadata": {},
   "source": [
    "## Question 6"
   ]
  },
  {
   "cell_type": "markdown",
   "id": "806d53d4",
   "metadata": {},
   "source": [
    "What are some examples of how to use the match object returned by re.match and re.search?"
   ]
  },
  {
   "cell_type": "markdown",
   "id": "f9e512e8",
   "metadata": {},
   "source": [
    "## Answer to the Question 6"
   ]
  },
  {
   "cell_type": "markdown",
   "id": "ea1441bc",
   "metadata": {},
   "source": [
    "The match object returned by `re.match` and `re.search` can be used to obtain the matched text as well as other match-related information. You can, for example, use the `group()` method to retrieve the matched text, the `start()` and `end()` methods to obtain the start and end indices of the match, and the span() method to get the start and end indices in a single call. In addition, the groups() function returns all captured groups, the `groupdict()` method returns a dictionary of named groups, and the `expand()` method returns backreferences in the matched text. Here's an example of using the match object:"
   ]
  },
  {
   "cell_type": "code",
   "execution_count": 11,
   "id": "e3a8bcab",
   "metadata": {},
   "outputs": [
    {
     "name": "stdout",
     "output_type": "stream",
     "text": [
      "quick brown\n",
      "4\n",
      "19\n",
      "(4, 19)\n"
     ]
    }
   ],
   "source": [
    "import re\n",
    "\n",
    "text = \"The quick brown fox jumps over the lazy dog\"\n",
    "match = re.search(r\"(?P<word>\\w+\\s\\w+)\\s+fox\", text)\n",
    "if match:\n",
    "    print(match.group('word')) # prints 'quick'\n",
    "    print(match.start())\n",
    "    print(match.end())\n",
    "    print(match.span())"
   ]
  },
  {
   "cell_type": "markdown",
   "id": "28c550c6",
   "metadata": {},
   "source": [
    "## Question 7"
   ]
  },
  {
   "cell_type": "markdown",
   "id": "5397a9ae",
   "metadata": {},
   "source": [
    "What is the difference between using a vertical bar (|) as an alteration and using square brackets as a character set?"
   ]
  },
  {
   "cell_type": "markdown",
   "id": "d0122b7a",
   "metadata": {},
   "source": [
    "## Answer to the Question 7"
   ]
  },
  {
   "cell_type": "markdown",
   "id": "ce05670a",
   "metadata": {},
   "source": [
    "In Python regex, the difference between using a vertical bar `|` as an alteration and using square brackets as a character set is that a vertical bar `|` is used to separate two or more choices, implying that one of the options must be matched for the expression to be successful. Square brackets are used to match one of the characters from the set. For example, the pattern `is/are` will match any of `is` or `are` and `^[^abc]` would match any of string that doesn't start with either `a`, `b`, or `c`."
   ]
  },
  {
   "cell_type": "code",
   "execution_count": 17,
   "id": "9fc15ba3",
   "metadata": {},
   "outputs": [
    {
     "name": "stdout",
     "output_type": "stream",
     "text": [
      "['are']\n",
      "['I']\n"
     ]
    }
   ],
   "source": [
    "import re\n",
    "print(re.findall(\"is|are\", \"You are a great man\"))\n",
    "print(re.findall(r\"^[^abc]\", \"I am a human\"))"
   ]
  },
  {
   "cell_type": "markdown",
   "id": "d8764e57",
   "metadata": {},
   "source": [
    "## Question 8"
   ]
  },
  {
   "cell_type": "markdown",
   "id": "d36f6e9b",
   "metadata": {},
   "source": [
    "In regular-expression search patterns, why is it necessary to use the raw-string indicator (r)? in replacement strings?"
   ]
  },
  {
   "cell_type": "markdown",
   "id": "c91be4c8",
   "metadata": {},
   "source": [
    "## Answer to the Question 8"
   ]
  },
  {
   "cell_type": "markdown",
   "id": "3ec5976a",
   "metadata": {},
   "source": [
    "The symbol r indicates that the characters ahead are individual characters, not escape characters. It modifies the way the string literal is interpreted. Such literals are saved when they appear."
   ]
  },
  {
   "cell_type": "markdown",
   "id": "06bb1cd7",
   "metadata": {},
   "source": []
  },
  {
   "cell_type": "code",
   "execution_count": null,
   "id": "4ef082c3",
   "metadata": {},
   "outputs": [],
   "source": []
  }
 ],
 "metadata": {
  "kernelspec": {
   "display_name": "Python 3 (ipykernel)",
   "language": "python",
   "name": "python3"
  },
  "language_info": {
   "codemirror_mode": {
    "name": "ipython",
    "version": 3
   },
   "file_extension": ".py",
   "mimetype": "text/x-python",
   "name": "python",
   "nbconvert_exporter": "python",
   "pygments_lexer": "ipython3",
   "version": "3.9.13"
  }
 },
 "nbformat": 4,
 "nbformat_minor": 5
}
