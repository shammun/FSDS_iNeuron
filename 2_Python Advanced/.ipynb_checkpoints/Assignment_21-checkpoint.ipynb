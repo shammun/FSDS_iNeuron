{
 "cells": [
  {
   "cell_type": "markdown",
   "id": "05cd45e9",
   "metadata": {},
   "source": [
    "# Assignment 21"
   ]
  },
  {
   "cell_type": "markdown",
   "id": "3f5c31e5",
   "metadata": {},
   "source": [
    "## Question 1"
   ]
  },
  {
   "cell_type": "markdown",
   "id": "bcfcd840",
   "metadata": {},
   "source": [
    "What is a probability distribution, exactly? If the values are meant to be random, how can you predict them at all?"
   ]
  },
  {
   "cell_type": "markdown",
   "id": "16983ccc",
   "metadata": {},
   "source": [
    "## Answer to the Question 1"
   ]
  },
  {
   "cell_type": "markdown",
   "id": "81641e0a",
   "metadata": {},
   "source": [
    "A probability distribution is a mathematical function that describes the likelihood of a random variable having a particular value or range of values. It is used to model the probability of a random variable taking on any particular value, and it is important in predicting the probability of certain events occurring. Several fields of mathematics use probability distributions, including statistics, probability theory, and machine learning. To predict the values of a random variable, the probability distribution associated with it must first be determined. The probability distribution can then be used to calculate the likelihood of a specific value occurring or the expected value of a random variable."
   ]
  },
  {
   "cell_type": "markdown",
   "id": "e3fd8ada",
   "metadata": {},
   "source": [
    "## Question 2"
   ]
  },
  {
   "cell_type": "markdown",
   "id": "a544247d",
   "metadata": {},
   "source": [
    "Is there a distinction between true random numbers and pseudo-random numbers, if there is one? Why are the latter considered “good enough”?"
   ]
  },
  {
   "cell_type": "markdown",
   "id": "512da666",
   "metadata": {},
   "source": [
    "## Answer to the Question 2"
   ]
  },
  {
   "cell_type": "markdown",
   "id": "fbde0563",
   "metadata": {},
   "source": [
    "Yes, there is a distinction between true random numbers and pseudo-random numbers. Real random numbers are generated based on some form of physical phenomenon, such as atmospheric noise or radioactive decay. A computer algorithm generates pseudo-random numbers, which are not always actually random. They are deemed \"good enough\" because the method used to create them generates numbers that appear random to the user, despite the fact that they may not be genuinely random. Furthermore, the techniques for generating pseudo-random numbers are far faster and more efficient than those for generating actual random numbers."
   ]
  },
  {
   "cell_type": "markdown",
   "id": "18db1f75",
   "metadata": {},
   "source": [
    "## Question 3"
   ]
  },
  {
   "cell_type": "markdown",
   "id": "f290e655",
   "metadata": {},
   "source": [
    "What are the two main factors that influence the behaviour of a \"normal\" probability distribution?"
   ]
  },
  {
   "cell_type": "markdown",
   "id": "674b7495",
   "metadata": {},
   "source": [
    "## Answer to the Question 3"
   ]
  },
  {
   "cell_type": "markdown",
   "id": "c8b2defc",
   "metadata": {},
   "source": [
    "The mean, which is the average value of all the values in the distribution, and the standard deviation, which is a measure of how far the values in the distribution differ from the mean, are the two key elements that determine the behavior of a \"normal\" probability distribution. The form of the probability distribution is determined by the mean and the standard deviation, with bigger standard deviations generating distributions with wider tails. The normal probability distribution is also affected by other factors, such as the skewness, which defines the asymmetry of the distribution, and the kurtosis, which is a measure of the \"peakedness\" of the distribution."
   ]
  },
  {
   "cell_type": "markdown",
   "id": "d71aa5ec",
   "metadata": {},
   "source": [
    "## Question 4"
   ]
  },
  {
   "cell_type": "markdown",
   "id": "c8cf9d40",
   "metadata": {},
   "source": [
    "Provide a real-life example of a normal distribution."
   ]
  },
  {
   "cell_type": "markdown",
   "id": "a6b5d53e",
   "metadata": {},
   "source": [
    "## Answer to the Question 4"
   ]
  },
  {
   "cell_type": "markdown",
   "id": "865dedbe",
   "metadata": {},
   "source": [
    "The height of adult males is one example of a real-life normal distribution. Adult males have an average height of around 5 feet 6 inches, with a standard deviation of about 3 inches. This suggests that the bulk of adult males are between 5'3\" and 5'9\", with a few outliers on either side. This has a normal distribution, with the majority of the values concentrated around the mean."
   ]
  },
  {
   "cell_type": "markdown",
   "id": "d6d5d9d1",
   "metadata": {},
   "source": [
    "## Question 5"
   ]
  },
  {
   "cell_type": "markdown",
   "id": "567a373b",
   "metadata": {},
   "source": [
    "In the short term, how can you expect a probability distribution to behave? What do you think will happen as the number of trials grows?"
   ]
  },
  {
   "cell_type": "markdown",
   "id": "6b5251ea",
   "metadata": {},
   "source": [
    "## Answer to the Question 5"
   ]
  },
  {
   "cell_type": "markdown",
   "id": "19137df1",
   "metadata": {},
   "source": [
    "A probability distribution is expected to behave randomly in the short run. This means that the likelihood of particular values occuring varies from trial to trial, and the distribution may not always follow the expected pattern. Yet, as the number of trials increases, the probability distribution is expected to become more stable, and the probability of certain values occurring will become more and more consistent. This is due to the rule of large numbers, which states that in the long term, the average of a large number of independent trials will converge towards the expected value."
   ]
  },
  {
   "cell_type": "markdown",
   "id": "90502bee",
   "metadata": {},
   "source": [
    "## Question 6"
   ]
  },
  {
   "cell_type": "markdown",
   "id": "fbc7edc1",
   "metadata": {},
   "source": [
    "What kind of object can be shuffled by using random.shuffle?"
   ]
  },
  {
   "cell_type": "markdown",
   "id": "f9e512e8",
   "metadata": {},
   "source": [
    "## Answer to the Question 6"
   ]
  },
  {
   "cell_type": "markdown",
   "id": "ea1441bc",
   "metadata": {},
   "source": [
    "In Python, we can use random.shuffle() to shuffle any list or sequence of objects, including strings, tuples, and lists. Because the shuffled list or sequence is returned as a new object without altering the original object. It is better to send a Random object as a parameter to the shuffle function to ensure that the shuffle is random and not based on a predetermined seed."
   ]
  },
  {
   "cell_type": "markdown",
   "id": "28c550c6",
   "metadata": {},
   "source": [
    "## Question 7"
   ]
  },
  {
   "cell_type": "markdown",
   "id": "4c1203c9",
   "metadata": {},
   "source": [
    " Describe the math package's general categories of functions."
   ]
  },
  {
   "cell_type": "markdown",
   "id": "d0122b7a",
   "metadata": {},
   "source": [
    "## Answer to the Question 7"
   ]
  },
  {
   "cell_type": "markdown",
   "id": "ce05670a",
   "metadata": {},
   "source": [
    "Python's math package includes functions for performing mathematical operations such as fundamental arithmetic, trigonometry, and matrix operations. Basic arithmetic, algebraic functions, calculus, trigonometric functions, hyperbolic functions, statistical functions, and linear algebra functions are among the functions classified. Fundamental arithmetic operations include addition, subtraction, multiplication, and division, as well as exponentiation and square root. Algebraic functions include polynomial operations like computing roots and finding the derivative. Integrals, derivatives, and limits are examples of calculus functions. Sine, cosine, tangent, and their inverses are trigonometric functions. Hyperbolic functions include hyperbolic sine, cosine, and tangent, as well as their inverses. Statistical functions include mean and variance calculations, and linear algebra functions include matrix operations such as computing the inverse of a matrix."
   ]
  },
  {
   "cell_type": "markdown",
   "id": "d8764e57",
   "metadata": {},
   "source": [
    "## Question 8"
   ]
  },
  {
   "cell_type": "markdown",
   "id": "d36f6e9b",
   "metadata": {},
   "source": [
    "What is the relationship between exponentiation and logarithms?"
   ]
  },
  {
   "cell_type": "markdown",
   "id": "c91be4c8",
   "metadata": {},
   "source": [
    "## Answer to the Question 8"
   ]
  },
  {
   "cell_type": "markdown",
   "id": "3ec5976a",
   "metadata": {},
   "source": [
    "Exponentiation and logarithms are related in that exponents tell you how many times you need to multiply a value, whereas logarithms ask what exponent you need to produce a specific number. Consider the equation `x = a^y`, where a is an integer and y is an exponent. This equation can be written as `y = log a(x)`, which is its logarithmic version. This demonstrates the inverse relationship between exponential and logarithmic functions."
   ]
  },
  {
   "cell_type": "markdown",
   "id": "42250ef4",
   "metadata": {},
   "source": [
    "## Question 9"
   ]
  },
  {
   "cell_type": "markdown",
   "id": "cfd24504",
   "metadata": {},
   "source": [
    "What are the three logarithmic functions that Python supports?"
   ]
  },
  {
   "cell_type": "markdown",
   "id": "b21782fd",
   "metadata": {},
   "source": [
    "## Answer to the Question 9"
   ]
  },
  {
   "cell_type": "markdown",
   "id": "69c38868",
   "metadata": {},
   "source": [
    "Python has three logarithmic functions: `log()`, `log2()`, and `log10()`. `Log()` returns the natural logarithm (base e) of a number, `log2()` returns the logarithm (base 2) of a number, and `log10()` returns the logarithm (base 10) of a number."
   ]
  }
 ],
 "metadata": {
  "kernelspec": {
   "display_name": "Python 3 (ipykernel)",
   "language": "python",
   "name": "python3"
  },
  "language_info": {
   "codemirror_mode": {
    "name": "ipython",
    "version": 3
   },
   "file_extension": ".py",
   "mimetype": "text/x-python",
   "name": "python",
   "nbconvert_exporter": "python",
   "pygments_lexer": "ipython3",
   "version": "3.9.13"
  }
 },
 "nbformat": 4,
 "nbformat_minor": 5
}
