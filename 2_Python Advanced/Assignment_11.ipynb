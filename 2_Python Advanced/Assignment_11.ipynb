{
 "cells": [
  {
   "cell_type": "markdown",
   "id": "05cd45e9",
   "metadata": {},
   "source": [
    "# Assignment 11"
   ]
  },
  {
   "cell_type": "markdown",
   "id": "3f5c31e5",
   "metadata": {},
   "source": [
    "## Question 1"
   ]
  },
  {
   "cell_type": "markdown",
   "id": "bcfcd840",
   "metadata": {},
   "source": [
    "What is the concept of a metaclass?"
   ]
  },
  {
   "cell_type": "markdown",
   "id": "16983ccc",
   "metadata": {},
   "source": [
    "## Answer to the Question 1"
   ]
  },
  {
   "cell_type": "markdown",
   "id": "81641e0a",
   "metadata": {},
   "source": [
    "A metaclass in Python is a class that specifies how other classes should behave. This class builds other classes. Python uses a metaclass when you create a class to build that class. The type metaclass is the default metaclass in Python. When a class is defined,  Python makes an object of the type metaclass, and that object then makes an object of the class.\n",
    "\n",
    "We can develop our own metaclass by subclassing the type metaclass or another metaclass.  We can change how classes are formed by doing this. For instance, we can provide unique class formation behaviors, including adding methods or attributes to the class or changing the class hierarchy. Here is an example code:"
   ]
  },
  {
   "cell_type": "code",
   "execution_count": 1,
   "id": "2be8a773",
   "metadata": {},
   "outputs": [
    {
     "name": "stdout",
     "output_type": "stream",
     "text": [
      "Creating a new class: MyClass\n",
      "42\n"
     ]
    }
   ],
   "source": [
    "class TestMetaClass(type):\n",
    "    def __new__(cls, name, bases, attrs):\n",
    "        print(\"Creating a new class:\", name)\n",
    "        return super().__new__(cls, name, bases, attrs)\n",
    "\n",
    "class TestClass(metaclass=MyMetaClass):\n",
    "    def __init__(self, value):\n",
    "        self.value = value\n",
    "\n",
    "obj = TestClass(42)\n",
    "print(obj.value)"
   ]
  },
  {
   "cell_type": "markdown",
   "id": "d4d9912f",
   "metadata": {},
   "source": [
    "The `TestMetaClass` metaclass is defined in this example with a `__new__` method that prints a message each time a new class is created. As `TestClass` is defined with the `metaclass` argument set to `TestMetaClass`, the `__new__` function of `TestMetaClass` will be invoked everytime the `TestClass` class is created. "
   ]
  },
  {
   "cell_type": "markdown",
   "id": "e3fd8ada",
   "metadata": {},
   "source": [
    "## Question 2"
   ]
  },
  {
   "cell_type": "markdown",
   "id": "a544247d",
   "metadata": {},
   "source": [
    "What is the best way to declare a class's metaclass?"
   ]
  },
  {
   "cell_type": "markdown",
   "id": "512da666",
   "metadata": {},
   "source": [
    "## Answer to the Question 2"
   ]
  },
  {
   "cell_type": "markdown",
   "id": "fbde0563",
   "metadata": {},
   "source": [
    " To define a class's metaclass in Python, we can use the metaclass argument when defining the class. For example:"
   ]
  },
  {
   "cell_type": "code",
   "execution_count": 2,
   "id": "f1b64894",
   "metadata": {},
   "outputs": [],
   "source": [
    "class TestMetaClass(type):\n",
    "    def __new__(cls, name, bases, attrs):\n",
    "        return super().__new__(cls, name, bases, attrs)\n",
    "\n",
    "class TestClass(metaclass=TestMetaClass):\n",
    "    pass"
   ]
  },
  {
   "cell_type": "markdown",
   "id": "18bb0c18",
   "metadata": {},
   "source": [
    "In this example, the metaclass `TestMetaClass` is defined with a `__new__` method that is called when the class `TestClass` is created. The `metaclass` argument of the `TestClass` class is set to `TestMetaClass`, which means that `TestMetaClass.__new__` will be called to create the class. This example defines the `__new__` method of the metaclass `TestMetaClass`, which is invoked when the class `TestClass` is formed. "
   ]
  },
  {
   "cell_type": "markdown",
   "id": "18db1f75",
   "metadata": {},
   "source": [
    "## Question 3"
   ]
  },
  {
   "cell_type": "markdown",
   "id": "f290e655",
   "metadata": {},
   "source": [
    "How do class decorators overlap with metaclasses for handling classes?"
   ]
  },
  {
   "cell_type": "markdown",
   "id": "674b7495",
   "metadata": {},
   "source": [
    "## Answer to the Question 3"
   ]
  },
  {
   "cell_type": "markdown",
   "id": "c8b2defc",
   "metadata": {},
   "source": [
    "In Python, class behavior can be customized using both class decorators and metaclasses, although these two tools work at different levels of abstraction and offer different features. A class decorator is a function that accepts a class as an input and produces a new class as a result, frequently by adding new members to the original class or changing its properties.\n",
    "\n",
    "On the other hand, metaclasses are classes that specify the process for developing new classes. They can customize the construction of classes in a variety of ways, such as by adding new methods or attributes, modifying the class's base classes, or updating the class's attributes before they are set."
   ]
  },
  {
   "cell_type": "markdown",
   "id": "d71aa5ec",
   "metadata": {},
   "source": [
    "## Question 4"
   ]
  },
  {
   "cell_type": "markdown",
   "id": "c8cf9d40",
   "metadata": {},
   "source": [
    "How do class decorators overlap with metaclasses for handling instances?"
   ]
  },
  {
   "cell_type": "markdown",
   "id": "a6b5d53e",
   "metadata": {},
   "source": [
    "## Answer to the Question 4"
   ]
  },
  {
   "cell_type": "markdown",
   "id": "865dedbe",
   "metadata": {},
   "source": [
    "Class decorators are applied to specific classes and modify their behavior. They are triggered whenever a class is defined and have the power to modify the class definition (e.g., by adding or replacing methods, properties, or instance variables). The actions of the underlying metaclass are unaffected by class decorators.\n",
    "\n",
    "Metaclasses provide a means to customize the behavior of all classes that are created using that metaclass.  When a class is defined, metaclasses are called and have the ability to change both the definition of the class (by adding or replacing methods, properties, or instance variables) and the behavior of class instances. In addition, metaclasses can impact the behavior of not only the class they are defined for, but also its subclasses."
   ]
  },
  {
   "cell_type": "code",
   "execution_count": null,
   "id": "4ef082c3",
   "metadata": {},
   "outputs": [],
   "source": []
  }
 ],
 "metadata": {
  "kernelspec": {
   "display_name": "Python 3 (ipykernel)",
   "language": "python",
   "name": "python3"
  },
  "language_info": {
   "codemirror_mode": {
    "name": "ipython",
    "version": 3
   },
   "file_extension": ".py",
   "mimetype": "text/x-python",
   "name": "python",
   "nbconvert_exporter": "python",
   "pygments_lexer": "ipython3",
   "version": "3.9.13"
  }
 },
 "nbformat": 4,
 "nbformat_minor": 5
}
