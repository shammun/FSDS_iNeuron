{
 "cells": [
  {
   "cell_type": "markdown",
   "id": "05cd45e9",
   "metadata": {},
   "source": [
    "# Assignment 15"
   ]
  },
  {
   "cell_type": "markdown",
   "id": "3f5c31e5",
   "metadata": {},
   "source": [
    "## Question 1"
   ]
  },
  {
   "cell_type": "markdown",
   "id": "bcfcd840",
   "metadata": {},
   "source": [
    "What are the new features added in Python 3.8 version?"
   ]
  },
  {
   "cell_type": "markdown",
   "id": "16983ccc",
   "metadata": {},
   "source": [
    "## Answer to the Question 1"
   ]
  },
  {
   "cell_type": "markdown",
   "id": "81641e0a",
   "metadata": {},
   "source": [
    "Python 3.8 was released on October 14, 2019, with a number of new features and enhancements. Here are a few of the most important:\n",
    "\n",
    "1. **Assignment Expressions (the \"Walrus Operator\"):** The Walrus Operator (:=) was added in Python 3.8. It is an assignment expression operator that allows you to assign values to variables as part of a larger expression. It is intended to reduce the amount of code required to assign complex values to variables, resulting in more understandable and efficient code. For example, this code:"
   ]
  },
  {
   "cell_type": "code",
   "execution_count": 2,
   "id": "d7652531",
   "metadata": {},
   "outputs": [
    {
     "name": "stdout",
     "output_type": "stream",
     "text": [
      "The length is greater than 5 (8).\n"
     ]
    }
   ],
   "source": [
    "x = 'hello'\n",
    "y = 'how'\n",
    "if (n := len(x + y)) > 5:\n",
    "    print(f'The length is greater than 5 ({n}).')"
   ]
  },
  {
   "cell_type": "markdown",
   "id": "83dbeafb",
   "metadata": {},
   "source": [
    "can be used instead of the code below:"
   ]
  },
  {
   "cell_type": "code",
   "execution_count": 4,
   "id": "86b9739b",
   "metadata": {},
   "outputs": [
    {
     "name": "stdout",
     "output_type": "stream",
     "text": [
      "The length is greater than 5 (8).\n"
     ]
    }
   ],
   "source": [
    "x = 'hello'\n",
    "y = 'how'\n",
    "n = len(x + y)\n",
    "if n > 5:\n",
    "    print(f'The length is greater than 5 ({n}).')"
   ]
  },
  {
   "cell_type": "markdown",
   "id": "a335f38c",
   "metadata": {},
   "source": [
    "2. **Positional-only Parameters:** This feature allows you to specify function parameters that can only be provided positionally, rather than by keyword. This makes functions easy to use and comprehend.\n",
    "\n",
    "3. **f-strings support \"=\":** In Python 3.8, a new f-string specifier, `=`, was introduced, allowing you to format numbers with thousands separators and align strings to the left or right.\n",
    "\n",
    "4. **Improved performance:** Python 3.8 offers a variety of speed enhancements, including faster startup times, efficient dictionary lookups, and enhanced garbage collection.\n",
    "\n",
    "5. **Vectorcall:** A novel calling protocol that speeds up function calls by eliminating the requirement to build and unpack a tuple of arguments.\n",
    "\n",
    "6. **Debugging and Profiling:** Python 3.8 includes new debugging and profiling capabilities, such as a new breakpoint() function for more flexible debugging and a new cProfile module for more detailed profiling information.\n",
    "\n",
    "7. **Typing Enhancements:** Python 3.8 introduces new typing capabilities such as TypedDict, Final, and Literal types, as well as updates to the TypeVar and Protocol classes."
   ]
  },
  {
   "cell_type": "markdown",
   "id": "e3fd8ada",
   "metadata": {},
   "source": [
    "## Question 2"
   ]
  },
  {
   "cell_type": "markdown",
   "id": "a544247d",
   "metadata": {},
   "source": [
    "What is monkey patching in Python?"
   ]
  },
  {
   "cell_type": "markdown",
   "id": "512da666",
   "metadata": {},
   "source": [
    "## Answer to the Question 2"
   ]
  },
  {
   "cell_type": "markdown",
   "id": "fbde0563",
   "metadata": {},
   "source": [
    "Monkey patching in Python refers to run-time adjustments to a class or module. We can change the behavior of code in Python during runtime. Monkey patching can be used to change the functionality of a piece of code at runtime by replacing or changing existing functions or classes. This technique can be used to correct errors, introduce new features, or improve existing code performance. However, we need to keep in mind that monkey patching is risky and should only be performed when absolutely required."
   ]
  },
  {
   "cell_type": "markdown",
   "id": "18db1f75",
   "metadata": {},
   "source": [
    "## Question 3"
   ]
  },
  {
   "cell_type": "markdown",
   "id": "f290e655",
   "metadata": {},
   "source": [
    "What is the difference between a shallow copy and deep copy?"
   ]
  },
  {
   "cell_type": "markdown",
   "id": "674b7495",
   "metadata": {},
   "source": [
    "## Answer to the Question 3"
   ]
  },
  {
   "cell_type": "markdown",
   "id": "c8b2defc",
   "metadata": {},
   "source": [
    "In Python, the difference between shallow and deep copies is that a shallow copy only copies an object's reference, whereas a deep copy creates a copy of the object itself. A shallow copy makes a new compound object and then adds a reference to the original object, whereas a deep copy makes a new compound object and then copies the value of each object in the original. This means that modifications to the original object have no effect on the deep copy, whereas changes to the shallow copy have an effect on the original."
   ]
  },
  {
   "cell_type": "markdown",
   "id": "d71aa5ec",
   "metadata": {},
   "source": [
    "## Question 4"
   ]
  },
  {
   "cell_type": "markdown",
   "id": "c8cf9d40",
   "metadata": {},
   "source": [
    "What is the maximum possible length of an identifier?"
   ]
  },
  {
   "cell_type": "markdown",
   "id": "a6b5d53e",
   "metadata": {},
   "source": [
    "## Answer to the Question 4"
   ]
  },
  {
   "cell_type": "markdown",
   "id": "865dedbe",
   "metadata": {},
   "source": [
    "The maximum length of an identifier in Python is 79 characters. This is due to implementation-specific constraints, such as the maximum amount of bytes allowed in a single line of code."
   ]
  },
  {
   "cell_type": "markdown",
   "id": "d6d5d9d1",
   "metadata": {},
   "source": [
    "## Question 5"
   ]
  },
  {
   "cell_type": "markdown",
   "id": "567a373b",
   "metadata": {},
   "source": [
    "What is generator comprehension?|"
   ]
  },
  {
   "cell_type": "markdown",
   "id": "6b5251ea",
   "metadata": {},
   "source": [
    "## Answer to the Question 5"
   ]
  },
  {
   "cell_type": "markdown",
   "id": "19137df1",
   "metadata": {},
   "source": [
    "In Python, a generator comprehension is a concise, one-line specification that defines a generator. It is similar to list comprehension, but instead of constructing a list, it creates a generator object that can be iterated over to generate sequence of values. An expression is followed by a for clause and any number of optional for or if clauses to form a generator comprehension. The result is a generator object that may be iterated over to provide the comprehension results. It is also memory-efficient for large sequences.\n",
    "\n",
    "The following generator comprehension, for example, generates a generator object that returns the squares of values ranging from 1 to 7."
   ]
  },
  {
   "cell_type": "code",
   "execution_count": 7,
   "id": "7d36edfb",
   "metadata": {},
   "outputs": [],
   "source": [
    "squares = (x**2 for x in range(1, 6))"
   ]
  },
  {
   "cell_type": "code",
   "execution_count": 8,
   "id": "4ef082c3",
   "metadata": {},
   "outputs": [
    {
     "name": "stdout",
     "output_type": "stream",
     "text": [
      "1\n",
      "4\n",
      "9\n",
      "16\n",
      "25\n"
     ]
    }
   ],
   "source": [
    "for number in squares:\n",
    "    print(number)"
   ]
  },
  {
   "cell_type": "code",
   "execution_count": null,
   "id": "7955ecda",
   "metadata": {},
   "outputs": [],
   "source": []
  }
 ],
 "metadata": {
  "kernelspec": {
   "display_name": "Python 3 (ipykernel)",
   "language": "python",
   "name": "python3"
  },
  "language_info": {
   "codemirror_mode": {
    "name": "ipython",
    "version": 3
   },
   "file_extension": ".py",
   "mimetype": "text/x-python",
   "name": "python",
   "nbconvert_exporter": "python",
   "pygments_lexer": "ipython3",
   "version": "3.9.13"
  }
 },
 "nbformat": 4,
 "nbformat_minor": 5
}
