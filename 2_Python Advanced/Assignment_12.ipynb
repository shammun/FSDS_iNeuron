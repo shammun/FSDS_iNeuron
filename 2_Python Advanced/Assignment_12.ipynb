{
 "cells": [
  {
   "cell_type": "markdown",
   "id": "05cd45e9",
   "metadata": {},
   "source": [
    "# Assignment 12"
   ]
  },
  {
   "cell_type": "markdown",
   "id": "3f5c31e5",
   "metadata": {},
   "source": [
    "## Question 1"
   ]
  },
  {
   "cell_type": "markdown",
   "id": "bcfcd840",
   "metadata": {},
   "source": [
    "Does assigning a value to a string's indexed character violate Python's string immutability?"
   ]
  },
  {
   "cell_type": "markdown",
   "id": "16983ccc",
   "metadata": {},
   "source": [
    "## Answer to the Question 1"
   ]
  },
  {
   "cell_type": "markdown",
   "id": "81641e0a",
   "metadata": {},
   "source": [
    "Strings in Python are immutable, which means that you cannot change a string's contents after it has been formed. As a result, giving a value to a string's index character violates this rule.\n",
    "\n",
    "The Python language will generate a TypeError with the message \"'str' object does not support item assignment\" if you try to assign a value to a string's index character. Python does not enable you to directly alter the characters in a string, which leads to this error."
   ]
  },
  {
   "cell_type": "markdown",
   "id": "e3fd8ada",
   "metadata": {},
   "source": [
    "## Question 2"
   ]
  },
  {
   "cell_type": "markdown",
   "id": "a544247d",
   "metadata": {},
   "source": [
    "Does using the += operator to concatenate strings violate Python's string immutability? Why or why not?"
   ]
  },
  {
   "cell_type": "markdown",
   "id": "512da666",
   "metadata": {},
   "source": [
    "## Answer to the Question 2"
   ]
  },
  {
   "cell_type": "markdown",
   "id": "fbde0563",
   "metadata": {},
   "source": [
    "As the `+=` operator does not change the original string, it does not go against Python's string immutability. Instead, a fresh string object is created and assigned to the variable to the left of the operator. Python produces a new string object with the concatenated string and assigns it to the variable on the left when we use the `+=` operator to combine strings. The new string object is a brand-new instance of a string, while the original string is still present."
   ]
  },
  {
   "cell_type": "code",
   "execution_count": 2,
   "id": "8219aee8",
   "metadata": {},
   "outputs": [
    {
     "name": "stdout",
     "output_type": "stream",
     "text": [
      "I am\n"
     ]
    }
   ],
   "source": [
    "string = \"I\"\n",
    "string += \" am\"\n",
    "print(string)"
   ]
  },
  {
   "cell_type": "markdown",
   "id": "18db1f75",
   "metadata": {},
   "source": [
    "## Question 3"
   ]
  },
  {
   "cell_type": "markdown",
   "id": "f290e655",
   "metadata": {},
   "source": [
    "In Python, how many different ways are there to index a character?"
   ]
  },
  {
   "cell_type": "markdown",
   "id": "674b7495",
   "metadata": {},
   "source": [
    "## Answer to the Question 3"
   ]
  },
  {
   "cell_type": "markdown",
   "id": "c8b2defc",
   "metadata": {},
   "source": [
    "There is only one way to index a character within a string in Python. The most popular method for indexing a character within a string is to surround the character's index with square brackets `[]`."
   ]
  },
  {
   "cell_type": "code",
   "execution_count": 3,
   "id": "984e9bf9",
   "metadata": {},
   "outputs": [
    {
     "data": {
      "text/plain": [
       "'m'"
      ]
     },
     "execution_count": 3,
     "metadata": {},
     "output_type": "execute_result"
    }
   ],
   "source": [
    "string = \"Shammunul\"\n",
    "string[3]"
   ]
  },
  {
   "cell_type": "markdown",
   "id": "d71aa5ec",
   "metadata": {},
   "source": [
    "## Question 4"
   ]
  },
  {
   "cell_type": "markdown",
   "id": "c8cf9d40",
   "metadata": {},
   "source": [
    "What is the relationship between indexing and slicing?"
   ]
  },
  {
   "cell_type": "markdown",
   "id": "a6b5d53e",
   "metadata": {},
   "source": [
    "## Answer to the Question 4"
   ]
  },
  {
   "cell_type": "markdown",
   "id": "865dedbe",
   "metadata": {},
   "source": [
    "Slicing and indexing are related terms in Python when dealing with sequences like strings, lists, and tuples. Slicing is a method for retrieving a range of items from a sequence, as opposed to indexing, which is used to obtain a single item from a sequence."
   ]
  },
  {
   "cell_type": "markdown",
   "id": "d6d5d9d1",
   "metadata": {},
   "source": [
    "## Question 5"
   ]
  },
  {
   "cell_type": "markdown",
   "id": "567a373b",
   "metadata": {},
   "source": [
    "What is an indexed character's exact data type? What is the data form of a slicing-generated substring?"
   ]
  },
  {
   "cell_type": "markdown",
   "id": "6b5251ea",
   "metadata": {},
   "source": [
    "## Answer to the Question 5"
   ]
  },
  {
   "cell_type": "markdown",
   "id": "19137df1",
   "metadata": {},
   "source": [
    "An indexed character in a string in Python has the data type of string of length one. As a result, if you use indexing to obtain a character from a string, you will receive a string of length one that contains the character positioned in that string. Similarly,  substring  produced by slicing also has the data type of string. Likewise, when we use slicing to extract a specified range of characters from a string, we will receive a new string containing the characters in the requested range ."
   ]
  },
  {
   "cell_type": "markdown",
   "id": "90502bee",
   "metadata": {},
   "source": [
    "## Question 6"
   ]
  },
  {
   "cell_type": "markdown",
   "id": "53c02380",
   "metadata": {},
   "source": [
    "What is the relationship between string and character \"types\" in Python?"
   ]
  },
  {
   "cell_type": "markdown",
   "id": "f9e512e8",
   "metadata": {},
   "source": [
    "## Answer to the Question 6"
   ]
  },
  {
   "cell_type": "markdown",
   "id": "ea1441bc",
   "metadata": {},
   "source": [
    "A character and a string are not different types in Python. A string is a collection of characters, where each character is represented by a string of length 1. Hence, a string can be thought of as a group of characters, where each character is represented by a string."
   ]
  },
  {
   "cell_type": "markdown",
   "id": "28c550c6",
   "metadata": {},
   "source": [
    "## Question 7"
   ]
  },
  {
   "cell_type": "markdown",
   "id": "3dd7bd46",
   "metadata": {},
   "source": [
    "Identify at least two operators and one method that allow you to combine one or more smaller strings to create a larger string."
   ]
  },
  {
   "cell_type": "markdown",
   "id": "d0122b7a",
   "metadata": {},
   "source": [
    "## Answer to the Question 7"
   ]
  },
  {
   "cell_type": "markdown",
   "id": "ce05670a",
   "metadata": {},
   "source": [
    "The  following are the two ways to combine smaller strings into a larger string:"
   ]
  },
  {
   "cell_type": "markdown",
   "id": "52ee160b",
   "metadata": {},
   "source": [
    "1. **String concatenation with the + operator:** The `+` operator can be used to add one or more strings to another string to create a longer string. For instance:"
   ]
  },
  {
   "cell_type": "code",
   "execution_count": 4,
   "id": "42c8d6bd",
   "metadata": {},
   "outputs": [
    {
     "name": "stdout",
     "output_type": "stream",
     "text": [
      "Hello! how are you\n"
     ]
    }
   ],
   "source": [
    "first = \"Hello! \"\n",
    "second = \"how are you\"\n",
    "all_text = first + second\n",
    "print(all_text)"
   ]
  },
  {
   "cell_type": "markdown",
   "id": "15f8ab37",
   "metadata": {},
   "source": [
    "2. **String concatenation with the join() method:** The `join()` method can be used to join a sequence of strings inside a list into a larger string. For example:"
   ]
  },
  {
   "cell_type": "code",
   "execution_count": 6,
   "id": "131bb95a",
   "metadata": {},
   "outputs": [
    {
     "name": "stdout",
     "output_type": "stream",
     "text": [
      "Hello! how are you\n"
     ]
    }
   ],
   "source": [
    "list_of_strings = [\"Hello! \", \"how are you\"]\n",
    "all_text = \"\".join(list_of_strings)\n",
    "print(all_text)"
   ]
  },
  {
   "cell_type": "markdown",
   "id": "d8764e57",
   "metadata": {},
   "source": [
    "## Question 8"
   ]
  },
  {
   "cell_type": "markdown",
   "id": "d36f6e9b",
   "metadata": {},
   "source": [
    "What is the benefit of first checking the target string with in or not in before using the index method to find a substring?"
   ]
  },
  {
   "cell_type": "markdown",
   "id": "c91be4c8",
   "metadata": {},
   "source": [
    "## Answer to the Question 8"
   ]
  },
  {
   "cell_type": "markdown",
   "id": "3ec5976a",
   "metadata": {},
   "source": [
    "We can use the `in` and `not` in operators to determine whether a substring is contained within a larger string. These operators yield a boolean value that indicates whether or not the smaller string contains the substring. The position of a substring within a longer string can also be found using the `index` method. However, the `index` method will throw a `ValueError` if the substring is missing from the longer string. As a result, it is a good idea to utilize the `in` or `not in` operators before utilizing the `index` method to determine whether the substring is present in the bigger string. By doing this, we can avoid the `ValueError` in case the substring checked for is not present in a string. Here is an example code:"
   ]
  },
  {
   "cell_type": "code",
   "execution_count": 8,
   "id": "82783022",
   "metadata": {},
   "outputs": [
    {
     "name": "stdout",
     "output_type": "stream",
     "text": [
      "The substring 'how' found at index: 7\n"
     ]
    }
   ],
   "source": [
    "my_string = \"Hello, how are you?\"\n",
    "substring = \"how\"\n",
    "if substring in my_string:\n",
    "    index = my_string.index(substring)\n",
    "    print(f\"The substring '{substring}' found at index: {index}\")\n",
    "else:\n",
    "    print(f\"Substring '{substring}' not found\")"
   ]
  },
  {
   "cell_type": "markdown",
   "id": "42250ef4",
   "metadata": {},
   "source": [
    "## Question 9"
   ]
  },
  {
   "cell_type": "markdown",
   "id": "cfd24504",
   "metadata": {},
   "source": [
    "Which operators and built-in string methods produce simple Boolean (true/false) results?"
   ]
  },
  {
   "cell_type": "markdown",
   "id": "b21782fd",
   "metadata": {},
   "source": [
    "## Answer to the Question 9"
   ]
  },
  {
   "cell_type": "markdown",
   "id": "69c38868",
   "metadata": {},
   "source": [
    "There are several operators and built-in string methods to produce simple Boolean (true/false) results. These are discussed below:"
   ]
  },
  {
   "cell_type": "markdown",
   "id": "5c487ed8",
   "metadata": {},
   "source": [
    "1. **Comparison operators:** We can compare strings and get a Boolean response by using comparison operators like `==`,`!=`, `>`, `<`, `<=`, and `>=`.\n",
    "\n",
    "2. **The in and not in operators:** Can be used to check whether a substring exists within a larger string.\n",
    "\n",
    "3. **The startswith() and endswith() methods:** We can use these to test whether a string starts or ends with a particular substring.\n",
    "\n",
    "4. **The isalpha(), isdigit(), and isalnum() methods:** These are used to test whether a string contains only alphabetic letters, only numeric characters, or both alphabetic and numeric characters."
   ]
  },
  {
   "cell_type": "code",
   "execution_count": null,
   "id": "4ef082c3",
   "metadata": {},
   "outputs": [],
   "source": []
  }
 ],
 "metadata": {
  "kernelspec": {
   "display_name": "Python 3 (ipykernel)",
   "language": "python",
   "name": "python3"
  },
  "language_info": {
   "codemirror_mode": {
    "name": "ipython",
    "version": 3
   },
   "file_extension": ".py",
   "mimetype": "text/x-python",
   "name": "python",
   "nbconvert_exporter": "python",
   "pygments_lexer": "ipython3",
   "version": "3.9.13"
  }
 },
 "nbformat": 4,
 "nbformat_minor": 5
}
