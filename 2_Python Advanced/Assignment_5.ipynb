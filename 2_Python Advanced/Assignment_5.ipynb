{
 "cells": [
  {
   "cell_type": "markdown",
   "id": "05cd45e9",
   "metadata": {},
   "source": [
    "# Assignment 1"
   ]
  },
  {
   "cell_type": "markdown",
   "id": "3f5c31e5",
   "metadata": {},
   "source": [
    "## Question 1"
   ]
  },
  {
   "cell_type": "markdown",
   "id": "bcfcd840",
   "metadata": {},
   "source": [
    "What is the meaning of multiple inheritance?"
   ]
  },
  {
   "cell_type": "markdown",
   "id": "16983ccc",
   "metadata": {},
   "source": [
    "## Answer to the Question 1"
   ]
  },
  {
   "cell_type": "markdown",
   "id": "81641e0a",
   "metadata": {},
   "source": [
    "When a class is derived from one or more parent classes, resulting in the class inheriting properties and methods from these one or multiple base classes. To implement multiple inheritance, write the name of the classes from which we want to inherit the attributes and methods."
   ]
  },
  {
   "cell_type": "code",
   "execution_count": 5,
   "id": "0445e815",
   "metadata": {},
   "outputs": [
    {
     "name": "stdout",
     "output_type": "stream",
     "text": [
      "From class A\n"
     ]
    }
   ],
   "source": [
    "class A:\n",
    "    def m1(self):\n",
    "        print(\"From class A\")\n",
    "        \n",
    "class B:\n",
    "    def m2(self):\n",
    "        print(\"From Class B\")\n",
    "        \n",
    "class C(A, B):\n",
    "    def m3(self):\n",
    "        print(\"From class C\")\n",
    "        \n",
    "obj = C()"
   ]
  },
  {
   "cell_type": "code",
   "execution_count": 8,
   "id": "cf078bcd",
   "metadata": {},
   "outputs": [
    {
     "name": "stdout",
     "output_type": "stream",
     "text": [
      "From class A\n"
     ]
    }
   ],
   "source": [
    "obj.m1()"
   ]
  },
  {
   "cell_type": "code",
   "execution_count": 6,
   "id": "ca06bb44",
   "metadata": {},
   "outputs": [
    {
     "name": "stdout",
     "output_type": "stream",
     "text": [
      "From Class B\n"
     ]
    }
   ],
   "source": [
    "obj.m2()"
   ]
  },
  {
   "cell_type": "code",
   "execution_count": 7,
   "id": "9e03b394",
   "metadata": {},
   "outputs": [
    {
     "name": "stdout",
     "output_type": "stream",
     "text": [
      "From class C\n"
     ]
    }
   ],
   "source": [
    "obj.m3()"
   ]
  },
  {
   "cell_type": "markdown",
   "id": "e3fd8ada",
   "metadata": {},
   "source": [
    "## Question 2"
   ]
  },
  {
   "cell_type": "markdown",
   "id": "a544247d",
   "metadata": {},
   "source": [
    "What is the concept of delegation?"
   ]
  },
  {
   "cell_type": "markdown",
   "id": "512da666",
   "metadata": {},
   "source": [
    "## Answer to the Question 2"
   ]
  },
  {
   "cell_type": "markdown",
   "id": "fbde0563",
   "metadata": {},
   "source": [
    "In Python, delegation refers to the technique of sending method calls or attribute access to another object. Delegation is helpful when you want to give a straightforward or abstract interface to a complicated or low-level implementation. A common way to implement delegation in Python is by creating a new class that includes an instance of a different class and then by passing method calls or attribute access to the underlying object. Here's an illustration:"
   ]
  },
  {
   "cell_type": "code",
   "execution_count": 11,
   "id": "0601181a",
   "metadata": {},
   "outputs": [
    {
     "name": "stdout",
     "output_type": "stream",
     "text": [
      "this is printed by a call to class A\n"
     ]
    }
   ],
   "source": [
    "class A:\n",
    "    def print_something(self):\n",
    "        print(\"this is printed by a call to class A\")\n",
    "\n",
    "class B:\n",
    "    def __init__(self):\n",
    "        self.a = A()\n",
    "\n",
    "    def print_something(self):\n",
    "        self.a.print_something()\n",
    "\n",
    "b = B()\n",
    "b.print_something()"
   ]
  },
  {
   "cell_type": "markdown",
   "id": "5b501121",
   "metadata": {},
   "source": [
    "In this example, the B class contains an instance of the A class, and defines a `print_something` method that forwards the call to the `print_something` method of the underlying A object. This allows users of the B class to call `print_something` on a B object as if it were a method of B, while still delegating the actual implementation to A.\n",
    "\n",
    "In this illustration, the `B` class contains an instance of the `A` class and has a method named `print_something` that sends calls to `print_something` method of the `A` object. This allows to call print something on a `B` object as if it were a method of `B`, allthough the  implementation is delegated to `A`` ."
   ]
  },
  {
   "cell_type": "markdown",
   "id": "18db1f75",
   "metadata": {},
   "source": [
    "## Question 3"
   ]
  },
  {
   "cell_type": "markdown",
   "id": "f290e655",
   "metadata": {},
   "source": [
    "What is the concept of composition?"
   ]
  },
  {
   "cell_type": "markdown",
   "id": "674b7495",
   "metadata": {},
   "source": [
    "## Answer to the Question 3"
   ]
  },
  {
   "cell_type": "markdown",
   "id": "c8b2defc",
   "metadata": {},
   "source": [
    "Composition in Python refers to the process of combining various objects to produce a new object with more complex behavior or capabilities. It is a  key idea in object-oriented programming that enables us to write more modular, adaptable, and reusable code. A common way to implement composition in Python is by creating a new class that includes instances of other classes, and that delegates method calls or attribute access to the underlying objects. Following is an example code:"
   ]
  },
  {
   "cell_type": "code",
   "execution_count": 17,
   "id": "35f15289",
   "metadata": {},
   "outputs": [
    {
     "name": "stdout",
     "output_type": "stream",
     "text": [
      "Mr. Abu Hena\n",
      "\n",
      "Name: 86\n",
      "Age: Male\n",
      "Race: Asian\n"
     ]
    }
   ],
   "source": [
    "class Characteristics:\n",
    "    def __init__(self, age, sex, race):\n",
    "        self.age = age\n",
    "        self.sex = sex\n",
    "        self.race = race\n",
    "\n",
    "    def __str__(self):\n",
    "        return f\"Name: {self.age}\\nAge: {self.sex}\\nRace: {self.race}\"\n",
    "\n",
    "class Person:\n",
    "    def __init__(self, name, characteristics):\n",
    "        self.name = name\n",
    "        self.characteristics = characteristics\n",
    "\n",
    "    def __str__(self):\n",
    "        return f\"{self.name}\\n\\n{self.characteristics}\"\n",
    "\n",
    "info = Characteristics(86, \"Male\", \"Asian\")\n",
    "person = Person(\"Mr. Abu Hena\", info)\n",
    "print(person)"
   ]
  },
  {
   "cell_type": "markdown",
   "id": "d71aa5ec",
   "metadata": {},
   "source": [
    "## Question 4"
   ]
  },
  {
   "cell_type": "markdown",
   "id": "c8cf9d40",
   "metadata": {},
   "source": [
    "What are bound methods and how do we use them?"
   ]
  },
  {
   "cell_type": "markdown",
   "id": "a6b5d53e",
   "metadata": {},
   "source": [
    "## Answer to the Question 4"
   ]
  },
  {
   "cell_type": "markdown",
   "id": "865dedbe",
   "metadata": {},
   "source": [
    "In Python, a method that is bound to a class instance is referred to as a bound method. When we call a method on an instance of a class, the instance is automatically passed as the first argument to the method, which is named conventionally as `__self__`. It is this tying of the method to the instance that distinguishes it as a bound method. For example, to illustrate this we need to define a class with a method as following:"
   ]
  },
  {
   "cell_type": "code",
   "execution_count": 18,
   "id": "4ee6238d",
   "metadata": {},
   "outputs": [],
   "source": [
    "class Characteristics:\n",
    "    def __init__(self, age, sex, race):\n",
    "        self.age = age\n",
    "        self.sex = sex\n",
    "        self.race = race\n",
    "        \n",
    "    def print_info(self):\n",
    "        print(f\"Name: {self.age}\\nAge: {self.sex}\\nRace: {self.race}\")"
   ]
  },
  {
   "cell_type": "markdown",
   "id": "e3c11084",
   "metadata": {},
   "source": [
    "Now, we can create an instance of the class and call the method on it."
   ]
  },
  {
   "cell_type": "code",
   "execution_count": 19,
   "id": "094981fa",
   "metadata": {},
   "outputs": [
    {
     "name": "stdout",
     "output_type": "stream",
     "text": [
      "Name: 86\n",
      "Age: Male\n",
      "Race: Asian\n"
     ]
    }
   ],
   "source": [
    "info = Characteristics(86, \"Male\", \"Asian\")\n",
    "info.print_info()"
   ]
  },
  {
   "cell_type": "markdown",
   "id": "b782f94f",
   "metadata": {},
   "source": [
    "Here, `print_info` method is automatically bound to `info` object, as it is implicitly passed as the `self` argument."
   ]
  },
  {
   "cell_type": "markdown",
   "id": "d6d5d9d1",
   "metadata": {},
   "source": [
    "## Question 5"
   ]
  },
  {
   "cell_type": "markdown",
   "id": "567a373b",
   "metadata": {},
   "source": [
    "What is the purpose of pseudoprivate attributes?"
   ]
  },
  {
   "cell_type": "markdown",
   "id": "6b5251ea",
   "metadata": {},
   "source": [
    "## Answer to the Question 5"
   ]
  },
  {
   "cell_type": "markdown",
   "id": "19137df1",
   "metadata": {},
   "source": [
    "In Python, pseudoprivate attributes are a convention used to make an instance variable \"private\", meaning that it should not be accessed or changed outside of the class, but still permits access to the variable from inside the class.\n",
    "Python does not include a real \"private\" access specifier. Instance variables that are meant to be private, however, are typically prefixed with a double underscore, such as `__x` variable. Inn such case, variable name is mangled by the Python interpreter making it inaccessible to users outside of the class. Below is an example:"
   ]
  },
  {
   "cell_type": "code",
   "execution_count": 20,
   "id": "904b5b14",
   "metadata": {},
   "outputs": [
    {
     "name": "stdout",
     "output_type": "stream",
     "text": [
      "42\n"
     ]
    }
   ],
   "source": [
    "class Test2:\n",
    "    def __init__(self):\n",
    "        self.__x = 42\n",
    "\n",
    "    def getter(self):\n",
    "        return self.__x\n",
    "\n",
    "instance = Test2()\n",
    "print(instance.getter())"
   ]
  },
  {
   "cell_type": "markdown",
   "id": "c65e2c9a",
   "metadata": {},
   "source": [
    "In this instance, `__x` is not directly available from outside the class, therefore attempting to access it as `instance.__x` will result in an `AttributeError`. The `getter` method, which is a class method, can still access and return the private variable."
   ]
  },
  {
   "cell_type": "code",
   "execution_count": null,
   "id": "8d955bd9",
   "metadata": {},
   "outputs": [],
   "source": []
  }
 ],
 "metadata": {
  "kernelspec": {
   "display_name": "Python 3 (ipykernel)",
   "language": "python",
   "name": "python3"
  },
  "language_info": {
   "codemirror_mode": {
    "name": "ipython",
    "version": 3
   },
   "file_extension": ".py",
   "mimetype": "text/x-python",
   "name": "python",
   "nbconvert_exporter": "python",
   "pygments_lexer": "ipython3",
   "version": "3.9.13"
  }
 },
 "nbformat": 4,
 "nbformat_minor": 5
}
