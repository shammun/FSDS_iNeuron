{
 "cells": [
  {
   "cell_type": "markdown",
   "id": "05cd45e9",
   "metadata": {},
   "source": [
    "# Assignment 25"
   ]
  },
  {
   "cell_type": "markdown",
   "id": "3f5c31e5",
   "metadata": {},
   "source": [
    "## Question 1"
   ]
  },
  {
   "cell_type": "markdown",
   "id": "bcfcd840",
   "metadata": {},
   "source": [
    "What is the distinction between a numpy array and a pandas data frame? Is there a way to convert between the two if there is?"
   ]
  },
  {
   "cell_type": "markdown",
   "id": "16983ccc",
   "metadata": {},
   "source": [
    "## Answer to the Question 1"
   ]
  },
  {
   "cell_type": "markdown",
   "id": "81641e0a",
   "metadata": {},
   "source": [
    "The fundamental difference between a NumPy array and a Pandas DataFrame is that a NumPy array is a more basic structure, with all members of the same data type and a fixed size, whereas a Pandas DataFrame is more complex, with diverse data types and a dynamic size.\n",
    "\n",
    "We can also convert from one to another. To convert a Pandas DataFrame to a NumPy array, use `to_numpy()`, or use the `Pandas.DataFrame()` constructor to convert a NumPy array to a Pandas DataFrame."
   ]
  },
  {
   "cell_type": "markdown",
   "id": "e3fd8ada",
   "metadata": {},
   "source": [
    "## Question 2"
   ]
  },
  {
   "cell_type": "markdown",
   "id": "a544247d",
   "metadata": {},
   "source": [
    "What can go wrong when an user enters in a stock-ticker symbol, and how do you handle it?"
   ]
  },
  {
   "cell_type": "markdown",
   "id": "512da666",
   "metadata": {},
   "source": [
    "## Answer to the Question 2"
   ]
  },
  {
   "cell_type": "markdown",
   "id": "fbde0563",
   "metadata": {},
   "source": [
    "When a user enters a stock-ticker symbol, there are several things that can go wrong, including:\n",
    "\n",
    "1. **Entering an incorrect symbol:** Users may mistakenly input an incorrect ticker symbol for the company they are looking for. This can result in the display of erroneous or irrelevant information, which can be frustrating for the user.\n",
    "\n",
    "2. **Outdated information:** Information connected with a specific ticker symbol may be outdated or wrong at times. \n",
    "\n",
    "3. **Technical issues:** Users may also be unable to access information due to technical reasons such as connectivity issues or website outages.\n",
    "\n",
    "To handle these issues, these are some of the steps that you can take:\n",
    "\n",
    "1. **Validate user input:** Use input validation to guarantee that the symbol entered is valid preventing users from submitting inaccurate ticker symbols.\n",
    "\n",
    "2. **Use real-time data:** You can avoid outdated information by using real-time data sources, which ensure that the information provided is accurate and up to date.\n",
    "\n",
    "3. **Display clear error messages:** Whenever a user inputs an incorrect symbol or there is a problem with the system, display a clear error message that describes the problem and gives instructions on how to proceed.\n",
    "\n",
    "4. **Have a backup plan:** In case of a technical issue, have a backup plan in place, such as an alternative data source or a method to notify users of the problem and provide an approximate timeline for its resolution."
   ]
  },
  {
   "cell_type": "markdown",
   "id": "18db1f75",
   "metadata": {},
   "source": [
    "## Question 3"
   ]
  },
  {
   "cell_type": "markdown",
   "id": "f290e655",
   "metadata": {},
   "source": [
    "Identify some of the plotting techniques that are used to produce a stock-market chart."
   ]
  },
  {
   "cell_type": "markdown",
   "id": "674b7495",
   "metadata": {},
   "source": [
    "## Answer to the Question 3"
   ]
  },
  {
   "cell_type": "markdown",
   "id": "c8b2defc",
   "metadata": {},
   "source": [
    "We can use several plotting techniques to produce a stock-market chart. Some of them are mentioned below:\n",
    "\n",
    "1. **Line chart:** This is a simple graph that displays the closing prices of a stock over time. Each data point is connected by a line, and the resulting plot depicts the price trend of the stock.\n",
    "\n",
    "2. **Bar chart:** A bar chart displays a stock's open, high, low, and closing prices. Each day is shown by a vertical bar indicating the price range between open and close, and horizontal lines indicating high and low values.\n",
    "\n",
    "3. **Point-and-figure chart:** A point and figure chart also known as a \"point chart\" is a stock market chart that plots price fluctuations over time. It is distinct in that it use Xs and Os rather than typical price bars or candlesticks.\n",
    "\n",
    "4. **Candlestick chart:** This sort of chart is typically used to display a stock's open, high, low, and closing prices. Each day is depicted by a rectangular \"candlestick\" that shows the difference in price between open and close, as well as high and low.\n",
    "\n",
    "5. **Area chart:** An area chart is similar to a line chart, but it includes the area below the line. It is useful for displaying the magnitude of price fluctuations in a stock over time.\n",
    "\n",
    "6. **Scatter plot:** A scatter plot can be used to demonstrate the relationship between two variables, such as the stock price and political condition indicator. Each data point is represented on the plot by a dot, and the resulting pattern can aid in the detection of trends or relationships.\n",
    "\n",
    "7. **Heatmap:** A heatmap is a graphical representation of data in which different colors reflect different values. It can be used to display the performance of numerous stocks over time, with the intensity of the color representing the magnitude of change."
   ]
  },
  {
   "cell_type": "markdown",
   "id": "d71aa5ec",
   "metadata": {},
   "source": [
    "## Question 4"
   ]
  },
  {
   "cell_type": "markdown",
   "id": "c8cf9d40",
   "metadata": {},
   "source": [
    "Why is it essential to print a legend on a stock market chart?"
   ]
  },
  {
   "cell_type": "markdown",
   "id": "a6b5d53e",
   "metadata": {},
   "source": [
    "## Answer to the Question 4"
   ]
  },
  {
   "cell_type": "markdown",
   "id": "865dedbe",
   "metadata": {},
   "source": [
    "It is essential to print a legend on a stock market chart as it provides critical information on the chart contents. It is usually a small box locaated on the chart that identifies different elements that are plotted. Following are some of the reasons why using this in stock market chart is essential:\n",
    "\n",
    "1. **Easier to detect and interpret:** Legends make it easier to visualize the trend of data in relation to different features. It shows different trends in various colors, indicating which trends belong to particular features.\n",
    "\n",
    "2. **Avoids confusion:** It makes the chart more clear to the user and make it easy to understand for the viewers what is actually plotted and what elements are there in the graph.\n",
    "\n",
    "3. **Helps in analysis:** It helps in analyzing stock market by informing viewers on how different factors are affecting price.\n",
    "\n",
    "4. **Helps in communication:** Legend helps in communicating information top others as users of these charts can share information, findings and ideas using these to others in a in a simple and concise manner."
   ]
  },
  {
   "cell_type": "markdown",
   "id": "d6d5d9d1",
   "metadata": {},
   "source": [
    "## Question 5"
   ]
  },
  {
   "cell_type": "markdown",
   "id": "567a373b",
   "metadata": {},
   "source": [
    "What is the best way to limit the length of a pandas data frame to less than a year?"
   ]
  },
  {
   "cell_type": "markdown",
   "id": "6b5251ea",
   "metadata": {},
   "source": [
    "## Answer to the Question 5"
   ]
  },
  {
   "cell_type": "markdown",
   "id": "19137df1",
   "metadata": {},
   "source": [
    "For this, we can use the start and end arguments. At the beginning, we write the date from which we are starting, and at the end, we write the end date. Thus we can limit the duration inside this range. We can also utilize parameters such as periods to specify how much times we require the duration, as well as the frequency parameter.\n",
    "\n",
    "We can also use the Pandas `loc` or `iloc` method to filter the data by date to limit the length of a Pandas data frame to less than a year.\n",
    "\n",
    "If our data frame contains a datetime column, you can limit the length to less than a year by doing the following:"
   ]
  },
  {
   "cell_type": "code",
   "execution_count": 5,
   "id": "35b3a8b9",
   "metadata": {},
   "outputs": [],
   "source": [
    "import pandas as pd\n",
    "from datetime import datetime, timedelta\n",
    "\n",
    "# create a sample data frame\n",
    "df = pd.DataFrame({'date': pd.date_range(start='2020-01-01', end='2023-02-21'),\n",
    "                   'value': range(1148)})\n",
    "\n",
    "today = datetime.today()\n",
    "\n",
    "one_year_ago = today - timedelta(days=365)\n",
    "\n",
    "# filter the data frame by date\n",
    "filtered_df = df.loc[df['date'] >= one_year_ago]"
   ]
  },
  {
   "cell_type": "code",
   "execution_count": 7,
   "id": "ba212dd8",
   "metadata": {},
   "outputs": [
    {
     "data": {
      "text/html": [
       "<div>\n",
       "<style scoped>\n",
       "    .dataframe tbody tr th:only-of-type {\n",
       "        vertical-align: middle;\n",
       "    }\n",
       "\n",
       "    .dataframe tbody tr th {\n",
       "        vertical-align: top;\n",
       "    }\n",
       "\n",
       "    .dataframe thead th {\n",
       "        text-align: right;\n",
       "    }\n",
       "</style>\n",
       "<table border=\"1\" class=\"dataframe\">\n",
       "  <thead>\n",
       "    <tr style=\"text-align: right;\">\n",
       "      <th></th>\n",
       "      <th>date</th>\n",
       "      <th>value</th>\n",
       "    </tr>\n",
       "  </thead>\n",
       "  <tbody>\n",
       "    <tr>\n",
       "      <th>783</th>\n",
       "      <td>2022-02-22</td>\n",
       "      <td>783</td>\n",
       "    </tr>\n",
       "    <tr>\n",
       "      <th>784</th>\n",
       "      <td>2022-02-23</td>\n",
       "      <td>784</td>\n",
       "    </tr>\n",
       "    <tr>\n",
       "      <th>785</th>\n",
       "      <td>2022-02-24</td>\n",
       "      <td>785</td>\n",
       "    </tr>\n",
       "    <tr>\n",
       "      <th>786</th>\n",
       "      <td>2022-02-25</td>\n",
       "      <td>786</td>\n",
       "    </tr>\n",
       "    <tr>\n",
       "      <th>787</th>\n",
       "      <td>2022-02-26</td>\n",
       "      <td>787</td>\n",
       "    </tr>\n",
       "    <tr>\n",
       "      <th>...</th>\n",
       "      <td>...</td>\n",
       "      <td>...</td>\n",
       "    </tr>\n",
       "    <tr>\n",
       "      <th>1143</th>\n",
       "      <td>2023-02-17</td>\n",
       "      <td>1143</td>\n",
       "    </tr>\n",
       "    <tr>\n",
       "      <th>1144</th>\n",
       "      <td>2023-02-18</td>\n",
       "      <td>1144</td>\n",
       "    </tr>\n",
       "    <tr>\n",
       "      <th>1145</th>\n",
       "      <td>2023-02-19</td>\n",
       "      <td>1145</td>\n",
       "    </tr>\n",
       "    <tr>\n",
       "      <th>1146</th>\n",
       "      <td>2023-02-20</td>\n",
       "      <td>1146</td>\n",
       "    </tr>\n",
       "    <tr>\n",
       "      <th>1147</th>\n",
       "      <td>2023-02-21</td>\n",
       "      <td>1147</td>\n",
       "    </tr>\n",
       "  </tbody>\n",
       "</table>\n",
       "<p>365 rows × 2 columns</p>\n",
       "</div>"
      ],
      "text/plain": [
       "           date  value\n",
       "783  2022-02-22    783\n",
       "784  2022-02-23    784\n",
       "785  2022-02-24    785\n",
       "786  2022-02-25    786\n",
       "787  2022-02-26    787\n",
       "...         ...    ...\n",
       "1143 2023-02-17   1143\n",
       "1144 2023-02-18   1144\n",
       "1145 2023-02-19   1145\n",
       "1146 2023-02-20   1146\n",
       "1147 2023-02-21   1147\n",
       "\n",
       "[365 rows x 2 columns]"
      ]
     },
     "execution_count": 7,
     "metadata": {},
     "output_type": "execute_result"
    }
   ],
   "source": [
    "filtered_df"
   ]
  },
  {
   "cell_type": "markdown",
   "id": "90502bee",
   "metadata": {},
   "source": [
    "## Question 6"
   ]
  },
  {
   "cell_type": "markdown",
   "id": "fbc7edc1",
   "metadata": {},
   "source": [
    "What is the definition of a 180-day moving average?"
   ]
  },
  {
   "cell_type": "markdown",
   "id": "f9e512e8",
   "metadata": {},
   "source": [
    "## Answer to the Question 6"
   ]
  },
  {
   "cell_type": "markdown",
   "id": "ea1441bc",
   "metadata": {},
   "source": [
    "A moving average is a statistical computation that is used to examine data points by calculating a series of averages of different subsets of the entire data set. It is used to analyze a security's price over a 180-day period. 180-day moving average is a simple arithmetic average of prices over 180 days. Moving averages are used to determine the trend direction of a stock or its support and resistance levels. \n",
    "\n",
    "The 180-day moving average is designed to assist traders and investors in determining the overall direction of a security's price trend over a longer time period. It's a long-term indicator that can tell investors whether an asset is in an uptrend or decline."
   ]
  },
  {
   "cell_type": "markdown",
   "id": "28c550c6",
   "metadata": {},
   "source": [
    "## Question 7"
   ]
  },
  {
   "cell_type": "markdown",
   "id": "4c1203c9",
   "metadata": {},
   "source": [
    "Did the chapter's final example use \"indirect\" importing? If so, how exactly do you do it?"
   ]
  },
  {
   "cell_type": "markdown",
   "id": "d0122b7a",
   "metadata": {},
   "source": [
    "## Answer to the Question 7"
   ]
  },
  {
   "cell_type": "markdown",
   "id": "ce05670a",
   "metadata": {},
   "source": [
    "Yes. \n",
    "\n",
    "In Python, there are a few ways to perform indirect imports, which allow you to import a module or package indirectly by using a string or variable instead of directly importing it by name. Here are a few methods you can use:\n",
    "\n",
    "1. **Using the importlib module:** To import a module indirectly, we can use the `importlib.import module()` function. This function accepts a string argument representing the name of the module to import and returns its object. Suppose we have a string variable called module name that contains the name of the module we want to import. We can import it indirectly by doing the following:\n",
    "\n",
    "`import importlib \n",
    "module_name = \"square\"\n",
    "imported_module = importlib.import module(module_name)`\n",
    "\n",
    "2. **Using the __import__() function:** To do an indirect import, we can alternatively use the built-in `__import__()` function. This function accepts a string parameter providing the name of the module to import and returns its object. As an example:\n",
    "\n",
    "`module_name = \"square\"\n",
    "imported_module = __import__(module_name)\n",
    "`\n",
    "\n",
    "It should be noted that the `__import__()` function is low-level function and should not be used in general.\n",
    "\n",
    "3. **Using the exec() function:** We may also use the 'exec()' function to execute a string that contains an import statement. Suppose we have a string variable called `module_name` that contains the name of the module you want to import. We can import it indirectly like this:\n",
    "\n",
    "`module_name = \"square\"\n",
    "exec(f\"import {module_name}\")\n",
    "my_module = sys.modules[module_name]\n",
    "`\n",
    "Though we need to be cautious in using `exec()` for executing arbitrary code as it can pose security risk."
   ]
  }
 ],
 "metadata": {
  "kernelspec": {
   "display_name": "Python 3 (ipykernel)",
   "language": "python",
   "name": "python3"
  },
  "language_info": {
   "codemirror_mode": {
    "name": "ipython",
    "version": 3
   },
   "file_extension": ".py",
   "mimetype": "text/x-python",
   "name": "python",
   "nbconvert_exporter": "python",
   "pygments_lexer": "ipython3",
   "version": "3.9.13"
  }
 },
 "nbformat": 4,
 "nbformat_minor": 5
}
