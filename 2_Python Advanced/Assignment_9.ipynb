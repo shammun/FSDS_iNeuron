{
 "cells": [
  {
   "cell_type": "markdown",
   "id": "05cd45e9",
   "metadata": {},
   "source": [
    "# Assignment 9"
   ]
  },
  {
   "cell_type": "markdown",
   "id": "3f5c31e5",
   "metadata": {},
   "source": [
    "## Question 1"
   ]
  },
  {
   "cell_type": "markdown",
   "id": "bcfcd840",
   "metadata": {},
   "source": [
    "In Python 3.X, what are the names and functions of string object types?"
   ]
  },
  {
   "cell_type": "markdown",
   "id": "16983ccc",
   "metadata": {},
   "source": [
    "## Answer to the Question 1"
   ]
  },
  {
   "cell_type": "markdown",
   "id": "81641e0a",
   "metadata": {},
   "source": [
    "In Python 3.X, there are several string object types with unique names and functionalities. `str`, `bytes`, `bytearray`, and `memoryview` are the most often used string object types."
   ]
  },
  {
   "cell_type": "markdown",
   "id": "e3fd8ada",
   "metadata": {},
   "source": [
    "## Question 2"
   ]
  },
  {
   "cell_type": "markdown",
   "id": "a544247d",
   "metadata": {},
   "source": [
    "How do the string forms in Python 3.X vary in terms of operations?"
   ]
  },
  {
   "cell_type": "markdown",
   "id": "512da666",
   "metadata": {},
   "source": [
    "## Answer to the Question 2"
   ]
  },
  {
   "cell_type": "markdown",
   "id": "fbde0563",
   "metadata": {},
   "source": [
    "The main operational differences between Python 3.x string types are linked to their intended use cases. Because `str` objects are intended to represent text, they provide a wide range of string-specific actions and methods. Because `bytes` and `bytearray` objects are intended to represent binary data, they support a relatively limited set of string operations and methods. `Memoryview` objects let you to interact directly with the memory buffer of a bytes or `bytearray` object, which can be handy for high-performance handling of large amounts of binary data."
   ]
  },
  {
   "cell_type": "markdown",
   "id": "18db1f75",
   "metadata": {},
   "source": [
    "## Question 3"
   ]
  },
  {
   "cell_type": "markdown",
   "id": "f290e655",
   "metadata": {},
   "source": [
    "In 3.X, how do you put non-ASCII Unicode characters in a string?"
   ]
  },
  {
   "cell_type": "markdown",
   "id": "674b7495",
   "metadata": {},
   "source": [
    "## Answer to the Question 3"
   ]
  },
  {
   "cell_type": "markdown",
   "id": "c8b2defc",
   "metadata": {},
   "source": [
    "To put a Unicode character into a string in Python 3.X, we can use the `\\u` escape sequence. You could, for example, use `\\u00E9` to represent the character `é`. You can also enter a character by its Unicode name using the `\\N{LATIN SMALL LETTER E WITH ACUTE}`, for `é`."
   ]
  },
  {
   "cell_type": "markdown",
   "id": "d71aa5ec",
   "metadata": {},
   "source": [
    "## Question 4"
   ]
  },
  {
   "cell_type": "markdown",
   "id": "c8cf9d40",
   "metadata": {},
   "source": [
    "In Python 3.X, what are the key differences between text-mode and binary-mode files?"
   ]
  },
  {
   "cell_type": "markdown",
   "id": "a6b5d53e",
   "metadata": {},
   "source": [
    "## Answer to the Question 4"
   ]
  },
  {
   "cell_type": "markdown",
   "id": "865dedbe",
   "metadata": {},
   "source": [
    "In Python 3.x, files can be opened in two modes: text mode and binary mode. The primary distinctions between the two are as follows:\n",
    "\n",
    "1. **Encoding:** Text mode treats data as a sequence of Unicode characters, and the file is opened with a specific encoding (such as UTF-8). In binary mode, data is viewed as a sequence of bytes with no encoding.\n",
    "\n",
    "2. **Line Endings:** In text mode, Python handles various line endings (such as `\\n` on Unix systems and `\\r\\n` on Windows systems) and transforms them to the `\"\\n\"` character automatically. Line ends are not translated in binary mode.\n",
    "\n",
    "3. **Reading and Writing:** In text mode, the \"read\" and \"write\" operations deal with Unicode strings, but in binary mode, the actions deal with bytes. This means that in text mode, the \"read\" method returns  a string, whereas in binary mode, it returns bytes. Similarly, in text mode, the \"write\" method takes a string, whereas in binary mode, it takes bytes.\n",
    "\n",
    "4. **Text Manipulation:** Because the file content is considered as a string in text mode, text manipulation methods such as \"split\" and \"join\" can be used on it. These methods are inapplicable in binary mode since the data is a sequence of bytes."
   ]
  },
  {
   "cell_type": "markdown",
   "id": "d6d5d9d1",
   "metadata": {},
   "source": [
    "## Question 5"
   ]
  },
  {
   "cell_type": "markdown",
   "id": "567a373b",
   "metadata": {},
   "source": [
    "How can you interpret a Unicode text file containing text encoded in a different encoding than your platform's default?"
   ]
  },
  {
   "cell_type": "markdown",
   "id": "6b5251ea",
   "metadata": {},
   "source": [
    "## Answer to the Question 5"
   ]
  },
  {
   "cell_type": "markdown",
   "id": "19137df1",
   "metadata": {},
   "source": [
    "If we have a Unicode text file that is encoded in a different encoding than the one used by your platform, we can correctly understand it by providing the appropriate encoding when reading the file. With Python, you can perform the following:\n",
    "\n",
    "1. To determine the file's encoding, open it in binary mode and read the first few bytes. The encoding can be indicated by common byte-order markers (BOMs) at the beginning of a file.\n",
    "\n",
    "2. If the file lacks a BOM or you are unable to determine the encoding from the BOM, try guessing the encoding based on the file's content. Certain libraries, like chardet, can assist with this.\n",
    "\n",
    "3. When we have identified the right encoding, open the file in text mode and use the open() function's encoding parameter to indicate it. For instance, we may use the following code to open a file encoded in UTF-8:"
   ]
  },
  {
   "cell_type": "markdown",
   "id": "f42c82ad",
   "metadata": {},
   "source": [
    "`with open('file.txt', 'r', encoding='utf-16') as file:\n",
    "    content = file.read()`"
   ]
  },
  {
   "cell_type": "markdown",
   "id": "90502bee",
   "metadata": {},
   "source": [
    "## Question 6"
   ]
  },
  {
   "cell_type": "markdown",
   "id": "2b63288e",
   "metadata": {},
   "source": [
    "What is the best way to make a Unicode text file in a particular encoding format?"
   ]
  },
  {
   "cell_type": "markdown",
   "id": "f9e512e8",
   "metadata": {},
   "source": [
    "## Answer to the Question 6"
   ]
  },
  {
   "cell_type": "markdown",
   "id": "ea1441bc",
   "metadata": {},
   "source": [
    "The `open()` function with an appropriate encoding argument is the best technique to create a Unicode text file in a certain encoding format. To write a Unicode text file in `UTF-8` encoding, for example, use the following code:"
   ]
  },
  {
   "cell_type": "markdown",
   "id": "6b61c7a3",
   "metadata": {},
   "source": [
    "`with open('file.txt', 'w', encoding='utf-8') as f:\n",
    "  f.write('Something is better than nothing.')`"
   ]
  },
  {
   "cell_type": "markdown",
   "id": "28c550c6",
   "metadata": {},
   "source": [
    "## Question 7"
   ]
  },
  {
   "cell_type": "markdown",
   "id": "9b0501f9",
   "metadata": {},
   "source": [
    "What qualifies ASCII text as a form of Unicode text?"
   ]
  },
  {
   "cell_type": "markdown",
   "id": "d0122b7a",
   "metadata": {},
   "source": [
    "## Answer to the Question 7"
   ]
  },
  {
   "cell_type": "markdown",
   "id": "ce05670a",
   "metadata": {},
   "source": [
    "Because it can represent the same characters as Unicode, ASCII text is a type of Unicode text. ASCII text is effectively a subset of Unicode text because the first 128 Unicode code points represent the comparable ASCII characters. Furthermore, Unicode text can be encoded in ASCII in some circumstances, allowing ASCII text to represent more complex letters and symbols."
   ]
  },
  {
   "cell_type": "markdown",
   "id": "d8764e57",
   "metadata": {},
   "source": [
    "## Question 8"
   ]
  },
  {
   "cell_type": "markdown",
   "id": "d36f6e9b",
   "metadata": {},
   "source": [
    "How much of an effect does the change in string types in Python 3.X have on your code?"
   ]
  },
  {
   "cell_type": "markdown",
   "id": "c91be4c8",
   "metadata": {},
   "source": [
    "## Answer to the Question 8"
   ]
  },
  {
   "cell_type": "markdown",
   "id": "3ec5976a",
   "metadata": {},
   "source": [
    "Strings in Python 3.X are now Unicode by default, which means that all strings are saved as Unicode. This can have a big impact on our code since if we use any non-ASCII characters in our code, we must explicitly encode them as Unicode (e.g. with str.encode('utf-8')). We may also need to decode incoming strings to Unicode when processing strings. This change in string types may have an impact on how ew interface with external services such as databases and web APIs, as they may not always be able to handle Unicode strings correctly."
   ]
  },
  {
   "cell_type": "code",
   "execution_count": null,
   "id": "3d8d9dc0",
   "metadata": {},
   "outputs": [],
   "source": []
  },
  {
   "cell_type": "code",
   "execution_count": null,
   "id": "4ef082c3",
   "metadata": {},
   "outputs": [],
   "source": []
  }
 ],
 "metadata": {
  "kernelspec": {
   "display_name": "Python 3 (ipykernel)",
   "language": "python",
   "name": "python3"
  },
  "language_info": {
   "codemirror_mode": {
    "name": "ipython",
    "version": 3
   },
   "file_extension": ".py",
   "mimetype": "text/x-python",
   "name": "python",
   "nbconvert_exporter": "python",
   "pygments_lexer": "ipython3",
   "version": "3.9.13"
  }
 },
 "nbformat": 4,
 "nbformat_minor": 5
}
