{
 "cells": [
  {
   "cell_type": "markdown",
   "id": "05cd45e9",
   "metadata": {},
   "source": [
    "# Assignment 23"
   ]
  },
  {
   "cell_type": "markdown",
   "id": "3f5c31e5",
   "metadata": {},
   "source": [
    "## Question 1"
   ]
  },
  {
   "cell_type": "markdown",
   "id": "bcfcd840",
   "metadata": {},
   "source": [
    "If you have any, what are your choices for increasing the comparison between different figures on the same graph?"
   ]
  },
  {
   "cell_type": "markdown",
   "id": "16983ccc",
   "metadata": {},
   "source": [
    "## Answer to the Question 1"
   ]
  },
  {
   "cell_type": "markdown",
   "id": "81641e0a",
   "metadata": {},
   "source": [
    "You can use numerous ways to improve the comparison between multiple figures on the same graph:\n",
    "\n",
    "1. **Use scatter plot:** Use scatter plot to compare two values.\n",
    "\n",
    "2. **Use spider or radar chart:** Use spider or radar chart to compare multiple values on the same graph.\n",
    "\n",
    "3. **Use multi-line graph:** We can also use multi-line graph to oplot multiple lines  on the same graph.\n",
    "\n",
    "4. **Use Box and Whisker pplot:** Use Box and WShisker plot to compare multiple values on the same graph.\n",
    "\n",
    "5. **Use a grouped or stacked bar chart:** When comparing many variables, a grouped or stacked bar chart can aid viewers to see the differences. Stack bar charts stack the variables on top of each other, whereas grouped bar charts show each variable side by side.\n",
    "\n",
    "6. **Use distinct colors or patterns:** Assigning different colors or patterns to each figure can help viewers differentiate between them. Ensure that the colors and patterns are unique and not overly identical, as this might lead to confusion.\n",
    "\n",
    "7. **Change the scale of y-axis:** If the data points' values are near to each other, you can adjust the y-axis scale to highlight the differences between them. You can, for example, employ a logarithmic or non-linear scale to emphasize the contrasts between the data points.\n",
    "\n",
    "8. **Include reference lines:** Adding horizontal or vertical reference lines can assist viewers in comparing the various data. You can, for example, add a horizontal line at the mean value of the data points to show visitors how each figure relates to the average.\n",
    "\n"
   ]
  },
  {
   "cell_type": "markdown",
   "id": "e3fd8ada",
   "metadata": {},
   "source": [
    "## Question 2"
   ]
  },
  {
   "cell_type": "markdown",
   "id": "a544247d",
   "metadata": {},
   "source": [
    "Can you explain the benefit of compound interest over a higher rate of interest that does not compound after reading this chapter?"
   ]
  },
  {
   "cell_type": "markdown",
   "id": "512da666",
   "metadata": {},
   "source": [
    "## Answer to the Question 2"
   ]
  },
  {
   "cell_type": "markdown",
   "id": "fbde0563",
   "metadata": {},
   "source": [
    "Compound interest can be a great instrument for accumulating money since it allows you to earn interest on both your investment and any interest earned previously. This means that your money increases at an exponential rate because each period of interest is put on a larger principal. As a result, compound interest can produce a significantly bigger return than a higher rate of interest that does not compound, especially over long periods of time. \n",
    "\n",
    "Compounding's effects can be significant over long periods of time. Even little differences in interest rate or compounding frequency might result in significant differences in total interest earned. While compound interest can be an effective technique for accumulating wealth, we need to keep in mind that all investments involve some level of risk, so we need to be cautious before investing our money. Furthermore, because previous performance is not a guarantee of future outcomes, actual returns may differ from what we might expect based on historical statistics."
   ]
  },
  {
   "cell_type": "markdown",
   "id": "18db1f75",
   "metadata": {},
   "source": [
    "## Question 3"
   ]
  },
  {
   "cell_type": "markdown",
   "id": "f290e655",
   "metadata": {},
   "source": [
    "What is a histogram, exactly? Name a numpy method for creating such a graph."
   ]
  },
  {
   "cell_type": "markdown",
   "id": "674b7495",
   "metadata": {},
   "source": [
    "## Answer to the Question 3"
   ]
  },
  {
   "cell_type": "markdown",
   "id": "c8b2defc",
   "metadata": {},
   "source": [
    "A histogram is a sort of graph that depicts a set of data's frequency distribution. It is a bar chart that displays how frequently distinct values appear in a dataset. It is made up of a series of contiguous rectangles, with the width of each rectangle representing a range of values and the height representing the frequency with which those values occur. The numpy method for creating a histogram is the numpy.histogram() function. Below is an example code to generate histogram using Numpy's `histogram`."
   ]
  },
  {
   "cell_type": "code",
   "execution_count": 7,
   "id": "24fc0e45",
   "metadata": {},
   "outputs": [
    {
     "data": {
      "image/png": "[encoded data removed]",
      "text/plain": [
       "<Figure size 640x480 with 1 Axes>"
      ]
     },
     "metadata": {},
     "output_type": "display_data"
    }
   ],
   "source": [
    "import numpy as np\n",
    "import matplotlib.pyplot as plt\n",
    "\n",
    "# Generate some random data\n",
    "data = np.random.normal(size=100000)\n",
    "\n",
    "# Create a histogram with 30 bins\n",
    "hist, bins = np.histogram(data, bins=30)\n",
    "\n",
    "# Plot the histogram using matplotlib\n",
    "plt.hist(data, bins=bins)\n",
    "plt.show()"
   ]
  },
  {
   "cell_type": "markdown",
   "id": "d71aa5ec",
   "metadata": {},
   "source": [
    "## Question 4"
   ]
  },
  {
   "cell_type": "markdown",
   "id": "c8cf9d40",
   "metadata": {},
   "source": [
    "If necessary, how do you change the aspect ratios between the X and Y axes?"
   ]
  },
  {
   "cell_type": "markdown",
   "id": "a6b5d53e",
   "metadata": {},
   "source": [
    "## Answer to the Question 4"
   ]
  },
  {
   "cell_type": "markdown",
   "id": "865dedbe",
   "metadata": {},
   "source": [
    "To modify the aspect ratios of the X and Y axes in Python, we can use the matplotlib library's `pyplot.axes()` method. This method accepts two optional parameters, `aspect` and `adjustable`, which can be used to change the plot's aspect ratio. For example, we can use the following code to make the Y axis thrice as long as the X axis:"
   ]
  },
  {
   "cell_type": "code",
   "execution_count": 6,
   "id": "36c93ec7",
   "metadata": {},
   "outputs": [
    {
     "data": {
      "text/plain": [
       "<AxesSubplot:>"
      ]
     },
     "execution_count": 6,
     "metadata": {},
     "output_type": "execute_result"
    },
    {
     "data": {
      "image/png": "[encoded data removed]",
      "text/plain": [
       "<Figure size 640x480 with 1 Axes>"
      ]
     },
     "metadata": {},
     "output_type": "display_data"
    }
   ],
   "source": [
    "import matplotlib.pyplot as plt\n",
    "plt.axes(aspect=3)"
   ]
  },
  {
   "cell_type": "markdown",
   "id": "d6d5d9d1",
   "metadata": {},
   "source": [
    "## Question 5"
   ]
  },
  {
   "cell_type": "markdown",
   "id": "567a373b",
   "metadata": {},
   "source": [
    "Compare and contrast the three types of array multiplication between two numpy arrays: dot product, outer product, and regular multiplication of two numpy arrays."
   ]
  },
  {
   "cell_type": "markdown",
   "id": "6b5251ea",
   "metadata": {},
   "source": [
    "## Answer to the Question 5"
   ]
  },
  {
   "cell_type": "markdown",
   "id": "19137df1",
   "metadata": {},
   "source": [
    "The dot product, commonly known as the scalar product, is a kind of multiplication that accepts two identical arrays and returns a single scalar integer. It is the sum of the elements in each array multiplied together.\n",
    "\n",
    "The outer product, also known as the tensor product, is a type of multiplication that accepts two arrays of different sizes and returns a multidimensional array. It is the product of the elements of one array with the elements of the other array.\n",
    "\n",
    "In regular multipliction, two numpy arrays of the same size are multiplied together resulting into an array of the same size as the source arrays. It is the product of each element in one array with the corresponding element in another."
   ]
  },
  {
   "cell_type": "markdown",
   "id": "90502bee",
   "metadata": {},
   "source": [
    "## Question 6"
   ]
  },
  {
   "cell_type": "markdown",
   "id": "fbc7edc1",
   "metadata": {},
   "source": [
    "Before you buy a home, which numpy function will you use to measure your monthly mortgage payment?"
   ]
  },
  {
   "cell_type": "markdown",
   "id": "f9e512e8",
   "metadata": {},
   "source": [
    "## Answer to the Question 6"
   ]
  },
  {
   "cell_type": "markdown",
   "id": "ea1441bc",
   "metadata": {},
   "source": [
    "We can use `numpy.pmt()` function in this case which has the following form:"
   ]
  },
  {
   "cell_type": "markdown",
   "id": "1a99482b",
   "metadata": {},
   "source": [
    "`numpy.pmt(rate, nper, pv, fv=0, when='end')`\n",
    "\n",
    "where \n",
    "\n",
    "* rate: rate of interest\n",
    "* nper: number of compounding periods\n",
    "* pv: present value\n",
    "* fv: future value\n",
    "* when: when payments are due"
   ]
  },
  {
   "cell_type": "markdown",
   "id": "28c550c6",
   "metadata": {},
   "source": [
    "## Question 7"
   ]
  },
  {
   "cell_type": "markdown",
   "id": "4c1203c9",
   "metadata": {},
   "source": [
    "Can string data be stored in numpy arrays? If so, list at least one restriction that applies to this data."
   ]
  },
  {
   "cell_type": "markdown",
   "id": "d0122b7a",
   "metadata": {},
   "source": [
    "## Answer to the Question 7"
   ]
  },
  {
   "cell_type": "markdown",
   "id": "ce05670a",
   "metadata": {},
   "source": [
    "NumPy arrays can hold string data using the numpy.ndarray data type `numpy.str_` (for variable-length strings) or `numpy.unicode_` (for Unicode strings). NumPy arrays are intended to store homogeneous data, which means that all array components must be the same data type and size. This means that in the case of string data, all strings in the array must be of the same length, and this length must be given when the array is built. If you try to store variable length strings in a NumPy array, they will be trimmed or padded with spaces to meet the fixed length."
   ]
  }
 ],
 "metadata": {
  "kernelspec": {
   "display_name": "Python 3 (ipykernel)",
   "language": "python",
   "name": "python3"
  },
  "language_info": {
   "codemirror_mode": {
    "name": "ipython",
    "version": 3
   },
   "file_extension": ".py",
   "mimetype": "text/x-python",
   "name": "python",
   "nbconvert_exporter": "python",
   "pygments_lexer": "ipython3",
   "version": "3.9.13"
  }
 },
 "nbformat": 4,
 "nbformat_minor": 5
}
