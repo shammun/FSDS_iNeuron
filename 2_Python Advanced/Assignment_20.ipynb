{
 "cells": [
  {
   "cell_type": "markdown",
   "id": "05cd45e9",
   "metadata": {},
   "source": [
    "# Assignment 20"
   ]
  },
  {
   "cell_type": "markdown",
   "id": "3f5c31e5",
   "metadata": {},
   "source": [
    "## Question 1"
   ]
  },
  {
   "cell_type": "markdown",
   "id": "bcfcd840",
   "metadata": {},
   "source": [
    "Compare and contrast the float and Decimal classes' benefits and drawbacks."
   ]
  },
  {
   "cell_type": "markdown",
   "id": "16983ccc",
   "metadata": {},
   "source": [
    "## Answer to the Question 1"
   ]
  },
  {
   "cell_type": "markdown",
   "id": "81641e0a",
   "metadata": {},
   "source": [
    "The main difference between float and Decimal classes in Python is the fact that the float class is used for floating-point numbers and the Decimal class is used for decimal numbers. Because it can represent a wider range of values and has a higher level of precision, the float class is better suited for scientific and engineering computations. Yet, due to its lack of precision, it is unsuitable for financial calculations. Due to its higher level of precision, the Decimal class is better suited for financial calculations. Unfortunately, due to its limited numerical range, it is unsuitable for scientific and technical computations."
   ]
  },
  {
   "cell_type": "markdown",
   "id": "e3fd8ada",
   "metadata": {},
   "source": [
    "## Question 2"
   ]
  },
  {
   "cell_type": "markdown",
   "id": "a544247d",
   "metadata": {},
   "source": [
    "Decimal('1.200') and Decimal('1.2') are two objects to consider. In what sense are these the same object? Are these just two ways of representing the exact same value, or do they correspond to different internal states?"
   ]
  },
  {
   "cell_type": "markdown",
   "id": "512da666",
   "metadata": {},
   "source": [
    "## Answer to the Question 2"
   ]
  },
  {
   "cell_type": "markdown",
   "id": "fbde0563",
   "metadata": {},
   "source": [
    "Decimal('1.200') and Decimal('1.2') are not the same object in Python, but they represent the same value.\n",
    "\n",
    "When you create a Decimal object in Python, it is stored as an exact decimal value with a fixed precision. A Decimal object's internal state comprises the decimal value itself, as well as the precision (number of decimal places) and rounding mode.\n",
    "\n",
    "In the case of Decimal('1.200') and Decimal('1.2,') both objects indicate the same value, 1.2. They do, however, correspond to different internal states since the first object has a precision of 3 (three decimal places) and the second item has a precision of 1 (one decimal place).\n",
    "\n",
    "We can verify this using the following code:"
   ]
  },
  {
   "cell_type": "code",
   "execution_count": 3,
   "id": "62019874",
   "metadata": {},
   "outputs": [
    {
     "name": "stdout",
     "output_type": "stream",
     "text": [
      "False\n"
     ]
    }
   ],
   "source": [
    "from decimal import Decimal\n",
    "\n",
    "a = Decimal('1.200')\n",
    "b = Decimal('1.2')\n",
    "\n",
    "print(a is b)"
   ]
  },
  {
   "cell_type": "markdown",
   "id": "b0c311b9",
   "metadata": {},
   "source": [
    "Python prints `False` indicating that `Decimal('1.200')` and `Decimal('1.2')` are not the same object."
   ]
  },
  {
   "cell_type": "markdown",
   "id": "18db1f75",
   "metadata": {},
   "source": [
    "## Question 3"
   ]
  },
  {
   "cell_type": "markdown",
   "id": "f290e655",
   "metadata": {},
   "source": [
    "What happens if the equality of Decimal('1.200') and Decimal('1.2') is checked?"
   ]
  },
  {
   "cell_type": "markdown",
   "id": "674b7495",
   "metadata": {},
   "source": [
    "## Answer to the Question 3"
   ]
  },
  {
   "cell_type": "code",
   "execution_count": 2,
   "id": "d0d2426d",
   "metadata": {},
   "outputs": [
    {
     "name": "stdout",
     "output_type": "stream",
     "text": [
      "False\n"
     ]
    }
   ],
   "source": [
    "from decimal import Decimal\n",
    "\n",
    "a = Decimal('1.200')\n",
    "b = Decimal('1.2')\n",
    "\n",
    "print(a is b)"
   ]
  },
  {
   "cell_type": "markdown",
   "id": "d71aa5ec",
   "metadata": {},
   "source": [
    "## Question 4"
   ]
  },
  {
   "cell_type": "markdown",
   "id": "c8cf9d40",
   "metadata": {},
   "source": [
    "Why is it preferable to start a Decimal object with a string rather than a floating-point value?"
   ]
  },
  {
   "cell_type": "markdown",
   "id": "a6b5d53e",
   "metadata": {},
   "source": [
    "## Answer to the Question 4"
   ]
  },
  {
   "cell_type": "markdown",
   "id": "865dedbe",
   "metadata": {},
   "source": [
    "In Python, it is preferable to begin a Decimal object with a string rather than a floating-point value because a Decimal object constructed from a string will retain precision and accuracy, whereas a Decimal object constructed from a floating-point value may lose precision and accuracy due to the way floating-point numbers are stored in memory. Furthermore, while generating a Decimal object from a string, the user has complete choice over the precision, whereas when constructing a Decimal object from a floating-point value, the precision is decided by the floating-point value's precision."
   ]
  },
  {
   "cell_type": "markdown",
   "id": "d6d5d9d1",
   "metadata": {},
   "source": [
    "## Question 5"
   ]
  },
  {
   "cell_type": "markdown",
   "id": "567a373b",
   "metadata": {},
   "source": [
    "In an arithmetic phrase, how simple is it to combine Decimal objects with integers?"
   ]
  },
  {
   "cell_type": "markdown",
   "id": "6b5251ea",
   "metadata": {},
   "source": [
    "## Answer to the Question 5"
   ]
  },
  {
   "cell_type": "markdown",
   "id": "19137df1",
   "metadata": {},
   "source": [
    "In Python, combining Decimal objects with integers is fairly simple because integers are automatically transformed to Decimal objects when used in arithmetic operations. This means that any arithmetic operation that involves Decimal objects and integers will result in a Decimal object. Furthermore, Decimal objects also support the `+`, `-`, `*`, and `/` operators, making it easy to combine them with integers in any arithmetic statement."
   ]
  },
  {
   "cell_type": "markdown",
   "id": "90502bee",
   "metadata": {},
   "source": [
    "## Question 6"
   ]
  },
  {
   "cell_type": "markdown",
   "id": "fbc7edc1",
   "metadata": {},
   "source": [
    "Can Decimal objects and floating-point values be combined easily?"
   ]
  },
  {
   "cell_type": "markdown",
   "id": "f9e512e8",
   "metadata": {},
   "source": [
    "## Answer to the Question 6"
   ]
  },
  {
   "cell_type": "markdown",
   "id": "ea1441bc",
   "metadata": {},
   "source": [
    "Yes, in Python, we can easily combine decimal objects and floating-point values. It is crucial to remember, however, that the precision of the result is dictated by the precision of the floating-point number, therefore ensure that the floating-point number has adequate precision to provide an accurate result. Furthermore, Decimal objects support the `+`, `-`, `*`, and `/` operators, making it extremely easy to combine them with floating-point integers in any arithmetic statement."
   ]
  },
  {
   "cell_type": "markdown",
   "id": "28c550c6",
   "metadata": {},
   "source": [
    "## Question 7"
   ]
  },
  {
   "cell_type": "markdown",
   "id": "4c1203c9",
   "metadata": {},
   "source": [
    "Using the Fraction class but not the Decimal class, give an example of a quantity that can be expressed with absolute precision."
   ]
  },
  {
   "cell_type": "markdown",
   "id": "d0122b7a",
   "metadata": {},
   "source": [
    "## Answer to the Question 7"
   ]
  },
  {
   "cell_type": "markdown",
   "id": "ce05670a",
   "metadata": {},
   "source": [
    "The value of `1/3` is one example of a quantity that may be stated with absolute precision using Python's `Fraction` class. `1/3` is an infinitely repeating decimal in decimal notation (0.3333...). But, we may represent `1/3` precisely as a fraction with a numerator and denominator using the `Fraction` class:"
   ]
  },
  {
   "cell_type": "code",
   "execution_count": 4,
   "id": "326ba964",
   "metadata": {},
   "outputs": [
    {
     "name": "stdout",
     "output_type": "stream",
     "text": [
      "1/3\n"
     ]
    }
   ],
   "source": [
    "from fractions import Fraction\n",
    "one_third = Fraction(1, 3)\n",
    "print(one_third)"
   ]
  },
  {
   "cell_type": "markdown",
   "id": "d8764e57",
   "metadata": {},
   "source": [
    "## Question 8"
   ]
  },
  {
   "cell_type": "markdown",
   "id": "d36f6e9b",
   "metadata": {},
   "source": [
    "Describe a quantity that can be accurately expressed by the Decimal or Fraction classes but not by a floating-point value."
   ]
  },
  {
   "cell_type": "markdown",
   "id": "c91be4c8",
   "metadata": {},
   "source": [
    "## Answer to the Question 8"
   ]
  },
  {
   "cell_type": "markdown",
   "id": "3ec5976a",
   "metadata": {},
   "source": [
    "Many values in Python can be accurately described using the Decimal or Fraction classes, but not by a floating-point value. 1/10 is an example of such a number.\n",
    "\n",
    "1/10 is represented in decimal notation by the non-repeating decimal 0.1. In floating-point arithmetic, however, 0.1 is really represented as a finite-length binary fraction that approximates 1/10. This is due to the fact that computers use binary arithmetic, which cannot accurately represent all decimal fractions."
   ]
  },
  {
   "cell_type": "markdown",
   "id": "42250ef4",
   "metadata": {},
   "source": [
    "## Question 9"
   ]
  },
  {
   "cell_type": "markdown",
   "id": "cfd24504",
   "metadata": {},
   "source": [
    "Consider the following two fraction objects: Fraction(1, 2) and Fraction(1, 2). (5, 10). Is the internal state of these two objects the same? Why do you think that is?"
   ]
  },
  {
   "cell_type": "markdown",
   "id": "b21782fd",
   "metadata": {},
   "source": [
    "## Answer to the Question 9"
   ]
  },
  {
   "cell_type": "markdown",
   "id": "69c38868",
   "metadata": {},
   "source": [
    "Fraction(1, 2) and Fraction(5, 10) have the same internal state because they reflect the same mathematical fraction, while having different numerators and denominators.\n",
    "\n",
    "Both fractions can be reduced to the same simplified form, which is 1/2. Below is example code to test this:"
   ]
  },
  {
   "cell_type": "code",
   "execution_count": 5,
   "id": "d01fb2d9",
   "metadata": {},
   "outputs": [
    {
     "name": "stdout",
     "output_type": "stream",
     "text": [
      "0.5\n",
      "0.5\n"
     ]
    }
   ],
   "source": [
    "from fractions import Fraction\n",
    "\n",
    "a = Fraction(1, 2)\n",
    "b = Fraction(5, 10)\n",
    "\n",
    "print(float(a))\n",
    "print(float(b))"
   ]
  },
  {
   "cell_type": "markdown",
   "id": "90cb1ce6",
   "metadata": {},
   "source": [
    "## Question 10"
   ]
  },
  {
   "cell_type": "markdown",
   "id": "6babb769",
   "metadata": {},
   "source": [
    "How do the Fraction class and the integer type (int) relate to each other? Containment or inheritance?"
   ]
  },
  {
   "cell_type": "markdown",
   "id": "cdd1a1f4",
   "metadata": {},
   "source": [
    "## Answer to the Question 10"
   ]
  },
  {
   "cell_type": "markdown",
   "id": "7b0b9280",
   "metadata": {},
   "source": [
    "The Fraction class and the int type in Python are not related via containment or inheritance.\n",
    "\n",
    "In Python, the int type is a built-in numeric data type that represents integers, which are entire numbers without a fractional component. The Fraction class, on the other hand, is a part of Python's fractions module and represents rational numbers as fractions with a numerator and denominator.\n",
    "\n",
    "Despite the fact that int and Fraction can both be used in arithmetic operations, they represent different types of numbers and have different internal representations. When you use the Fraction class, Python will automatically convert integers to fractions by setting the numerator to the integer and the denominator to 1. For example, `Fraction(7)` is equal to `Fraction (7, 1)`.\n",
    "\n",
    "Thus, the Fraction class and the int type are related through their use in mathematical computations, but not via containment or inheritance in Python."
   ]
  }
 ],
 "metadata": {
  "kernelspec": {
   "display_name": "Python 3 (ipykernel)",
   "language": "python",
   "name": "python3"
  },
  "language_info": {
   "codemirror_mode": {
    "name": "ipython",
    "version": 3
   },
   "file_extension": ".py",
   "mimetype": "text/x-python",
   "name": "python",
   "nbconvert_exporter": "python",
   "pygments_lexer": "ipython3",
   "version": "3.9.13"
  }
 },
 "nbformat": 4,
 "nbformat_minor": 5
}
