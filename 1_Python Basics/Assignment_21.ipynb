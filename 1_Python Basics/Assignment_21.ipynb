{
 "cells": [
  {
   "cell_type": "markdown",
   "id": "05cd45e9",
   "metadata": {},
   "source": [
    "# Assignment 21"
   ]
  },
  {
   "cell_type": "markdown",
   "id": "3f5c31e5",
   "metadata": {},
   "source": [
    "## Question 1"
   ]
  },
  {
   "cell_type": "markdown",
   "id": "d09b67bb",
   "metadata": {},
   "source": [
    "Add the current date to the text file today.txt as a string."
   ]
  },
  {
   "cell_type": "markdown",
   "id": "16983ccc",
   "metadata": {},
   "source": [
    "## Answer to the Question 1"
   ]
  },
  {
   "cell_type": "code",
   "execution_count": 2,
   "id": "8b665c21",
   "metadata": {},
   "outputs": [],
   "source": [
    "import datetime\n",
    "\n",
    "date_string = str(datetime.datetime.now().date())\n",
    "\n",
    "with open(\"today.txt\", \"w\") as file:\n",
    "    file.write(date_string)"
   ]
  },
  {
   "cell_type": "markdown",
   "id": "e3fd8ada",
   "metadata": {},
   "source": [
    "## Question 2"
   ]
  },
  {
   "cell_type": "markdown",
   "id": "a544247d",
   "metadata": {},
   "source": [
    "Read the text file today.txt into the string today_string"
   ]
  },
  {
   "cell_type": "markdown",
   "id": "512da666",
   "metadata": {},
   "source": [
    "## Answer to the Question 2"
   ]
  },
  {
   "cell_type": "code",
   "execution_count": 3,
   "id": "e27b505f",
   "metadata": {},
   "outputs": [
    {
     "name": "stdout",
     "output_type": "stream",
     "text": [
      "2023-02-11\n"
     ]
    }
   ],
   "source": [
    "with open(\"today.txt\", \"r\") as file:\n",
    "    date_string = file.read()\n",
    "print(date_string)"
   ]
  },
  {
   "cell_type": "markdown",
   "id": "18db1f75",
   "metadata": {},
   "source": [
    "## Question 3"
   ]
  },
  {
   "cell_type": "markdown",
   "id": "f290e655",
   "metadata": {},
   "source": [
    "Parse the date from today_string."
   ]
  },
  {
   "cell_type": "markdown",
   "id": "674b7495",
   "metadata": {},
   "source": [
    "## Answer to the Question 3"
   ]
  },
  {
   "cell_type": "code",
   "execution_count": 4,
   "id": "ce9be63f",
   "metadata": {},
   "outputs": [
    {
     "name": "stdout",
     "output_type": "stream",
     "text": [
      "2023-02-11\n"
     ]
    }
   ],
   "source": [
    "from datetime import datetime\n",
    "date_object = datetime.strptime(date_string, \"%Y-%m-%d\").date()\n",
    "print(date_object)"
   ]
  },
  {
   "cell_type": "markdown",
   "id": "d71aa5ec",
   "metadata": {},
   "source": [
    "## Question 4"
   ]
  },
  {
   "cell_type": "markdown",
   "id": "c8cf9d40",
   "metadata": {},
   "source": [
    "List the files in your current directory."
   ]
  },
  {
   "cell_type": "markdown",
   "id": "a6b5d53e",
   "metadata": {},
   "source": [
    "## Answer to the Question 4"
   ]
  },
  {
   "cell_type": "code",
   "execution_count": 5,
   "id": "6a3cc409",
   "metadata": {},
   "outputs": [
    {
     "name": "stdout",
     "output_type": "stream",
     "text": [
      "['.ipynb_checkpoints', 'Assignment_1.ipynb', 'Assignment_10.ipynb', 'Assignment_11.ipynb', 'Assignment_12.ipynb', 'Assignment_13.ipynb', 'Assignment_14.ipynb', 'Assignment_15.ipynb', 'Assignment_16.ipynb', 'Assignment_17.ipynb', 'Assignment_18.ipynb', 'Assignment_19.ipynb', 'Assignment_2.ipynb', 'Assignment_20.ipynb', 'Assignment_21.ipynb', 'Assignment_3.ipynb', 'Assignment_4.ipynb', 'Assignment_5.ipynb', 'Assignment_6.ipynb', 'Assignment_7.ipynb', 'Assignment_8.ipynb', 'Assignment_9.ipynb', 'books.csv', 'books.db', 'ld.png', 'test1.txt', 'today.txt', 'zoo.py', '__pycache__']\n"
     ]
    }
   ],
   "source": [
    "import os\n",
    "current_directory = os.getcwd()\n",
    "files = os.listdir(current_directory)\n",
    "print(files)"
   ]
  },
  {
   "cell_type": "markdown",
   "id": "d6d5d9d1",
   "metadata": {},
   "source": [
    "## Question 5"
   ]
  },
  {
   "cell_type": "markdown",
   "id": "567a373b",
   "metadata": {},
   "source": [
    "Create a list of all of the files in your parent directory (minimum five files should be available)."
   ]
  },
  {
   "cell_type": "markdown",
   "id": "6b5251ea",
   "metadata": {},
   "source": [
    "## Answer to the Question 5"
   ]
  },
  {
   "cell_type": "code",
   "execution_count": 6,
   "id": "9844e659",
   "metadata": {},
   "outputs": [
    {
     "name": "stdout",
     "output_type": "stream",
     "text": [
      "['.git', '1_Python Basics', '2_Python Advanced', '3_DL Theory', '4_DL Practical Assignment', '5_ML Assignment', '6_CV Assignment', '7_NLP Assignment', '8_ML Practical Assignment']\n"
     ]
    }
   ],
   "source": [
    "import os\n",
    "current_directory = os.getcwd()\n",
    "parent_directory = os.path.dirname(current_directory)\n",
    "files = os.listdir(parent_directory)\n",
    "print(files)"
   ]
  },
  {
   "cell_type": "markdown",
   "id": "90502bee",
   "metadata": {},
   "source": [
    "## Question 6"
   ]
  },
  {
   "cell_type": "markdown",
   "id": "f56cd594",
   "metadata": {},
   "source": [
    "Use multiprocessing to create three separate processes. Make each one wait a random number of seconds between one and five, print the current time, and then exit."
   ]
  },
  {
   "cell_type": "markdown",
   "id": "f9e512e8",
   "metadata": {},
   "source": [
    "## Answer to the Question 6"
   ]
  },
  {
   "cell_type": "code",
   "execution_count": 8,
   "id": "b8e4d0de",
   "metadata": {},
   "outputs": [],
   "source": [
    "import multiprocessing\n",
    "import time\n",
    "import random\n",
    "\n",
    "def process_function(name):\n",
    "    wait_time = random.uniform(1, 5)\n",
    "    print(f\"Process {name} waiting {wait_time} seconds\")\n",
    "    time.sleep(wait_time)\n",
    "    print(f\"Process {name} finished at {time.ctime()}\")\n",
    "    \n",
    "processes = []\n",
    "for i in range(3):\n",
    "    p = multiprocessing.Process(target=process_function, args=(i,))\n",
    "    processes.append(p)\n",
    "    p.start()\n",
    "\n",
    "for process in processes:\n",
    "    process.join()"
   ]
  },
  {
   "cell_type": "markdown",
   "id": "28c550c6",
   "metadata": {},
   "source": [
    "## Question 7"
   ]
  },
  {
   "cell_type": "markdown",
   "id": "7f2ed8f3",
   "metadata": {},
   "source": [
    "Create a date object of your day of birth."
   ]
  },
  {
   "cell_type": "markdown",
   "id": "d0122b7a",
   "metadata": {},
   "source": [
    "## Answer to the Question 7"
   ]
  },
  {
   "cell_type": "code",
   "execution_count": 10,
   "id": "eff57999",
   "metadata": {},
   "outputs": [
    {
     "name": "stdout",
     "output_type": "stream",
     "text": [
      "1985-01-01\n"
     ]
    }
   ],
   "source": [
    "import datetime\n",
    "birthday = datetime.date(1985,1,1) # representing January 1, 1985\n",
    "print(birthday)"
   ]
  },
  {
   "cell_type": "markdown",
   "id": "d8764e57",
   "metadata": {},
   "source": [
    "## Question 8"
   ]
  },
  {
   "cell_type": "markdown",
   "id": "d36f6e9b",
   "metadata": {},
   "source": [
    "What day of the week was your day of birth?"
   ]
  },
  {
   "cell_type": "markdown",
   "id": "c91be4c8",
   "metadata": {},
   "source": [
    "## Answer to the Question 8"
   ]
  },
  {
   "cell_type": "code",
   "execution_count": 11,
   "id": "225f06d0",
   "metadata": {},
   "outputs": [
    {
     "name": "stdout",
     "output_type": "stream",
     "text": [
      "1\n"
     ]
    }
   ],
   "source": [
    "day = birthday.weekday()\n",
    "print(day)"
   ]
  },
  {
   "cell_type": "markdown",
   "id": "affeda1e",
   "metadata": {},
   "source": [
    "We get the day as integers between 0 and 6 where 0 stands for Monday and 6 stands for Sunday. `strftime` gives day in a more readable format."
   ]
  },
  {
   "cell_type": "code",
   "execution_count": 13,
   "id": "5f8c79a6",
   "metadata": {},
   "outputs": [
    {
     "name": "stdout",
     "output_type": "stream",
     "text": [
      "Tuesday\n"
     ]
    }
   ],
   "source": [
    "date_day = birthday.strftime(\"%A\")\n",
    "print(date_day)"
   ]
  },
  {
   "cell_type": "markdown",
   "id": "42250ef4",
   "metadata": {},
   "source": [
    "## Question 9"
   ]
  },
  {
   "cell_type": "markdown",
   "id": "cfd24504",
   "metadata": {},
   "source": [
    "When will you be (or when were you) 10,000 days old?"
   ]
  },
  {
   "cell_type": "markdown",
   "id": "b21782fd",
   "metadata": {},
   "source": [
    "## Answer to the Question 9"
   ]
  },
  {
   "cell_type": "code",
   "execution_count": 42,
   "id": "31477f0d",
   "metadata": {},
   "outputs": [
    {
     "name": "stdout",
     "output_type": "stream",
     "text": [
      "2012-05-20\n"
     ]
    }
   ],
   "source": [
    "import datetime\n",
    "birthday = datetime.date(1985,1,2)\n",
    "ten_thousand_days = birthday  + datetime.timedelta(days=10000)\n",
    "print(ten_thousand_days)"
   ]
  },
  {
   "cell_type": "code",
   "execution_count": null,
   "id": "3d04d2da",
   "metadata": {},
   "outputs": [],
   "source": []
  }
 ],
 "metadata": {
  "kernelspec": {
   "display_name": "Python 3 (ipykernel)",
   "language": "python",
   "name": "python3"
  },
  "language_info": {
   "codemirror_mode": {
    "name": "ipython",
    "version": 3
   },
   "file_extension": ".py",
   "mimetype": "text/x-python",
   "name": "python",
   "nbconvert_exporter": "python",
   "pygments_lexer": "ipython3",
   "version": "3.9.13"
  }
 },
 "nbformat": 4,
 "nbformat_minor": 5
}
