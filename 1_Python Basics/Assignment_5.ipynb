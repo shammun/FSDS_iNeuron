{
 "cells": [
  {
   "cell_type": "markdown",
   "id": "05cd45e9",
   "metadata": {},
   "source": [
    "# Assignment 5"
   ]
  },
  {
   "cell_type": "markdown",
   "id": "96dbf3e6",
   "metadata": {},
   "source": [
    "## Question 1"
   ]
  },
  {
   "cell_type": "markdown",
   "id": "83242489",
   "metadata": {},
   "source": [
    "What does an empty dictionary's code look like?"
   ]
  },
  {
   "cell_type": "markdown",
   "id": "16983ccc",
   "metadata": {},
   "source": [
    "## Answer to the Question 1"
   ]
  },
  {
   "cell_type": "markdown",
   "id": "81641e0a",
   "metadata": {},
   "source": [
    "It only has a curly brace without any key-value pair within it. So it will be like this **{}**."
   ]
  },
  {
   "cell_type": "code",
   "execution_count": 1,
   "id": "c7a58adc",
   "metadata": {},
   "outputs": [],
   "source": [
    "# an empty dictionary\n",
    "empty_dict = {}"
   ]
  },
  {
   "cell_type": "markdown",
   "id": "e3fd8ada",
   "metadata": {},
   "source": [
    "## Question 2"
   ]
  },
  {
   "cell_type": "markdown",
   "id": "a544247d",
   "metadata": {},
   "source": [
    "What is the value of a dictionary value with the key 'foo' and the value 42?"
   ]
  },
  {
   "cell_type": "markdown",
   "id": "512da666",
   "metadata": {},
   "source": [
    "## Answer to the Question 2"
   ]
  },
  {
   "cell_type": "markdown",
   "id": "fbde0563",
   "metadata": {},
   "source": [
    "It will have key **'foo'** and the value **42** and it will look like this {'foo': 42}."
   ]
  },
  {
   "cell_type": "code",
   "execution_count": 2,
   "id": "1873c121",
   "metadata": {},
   "outputs": [],
   "source": [
    "foo_dic = {'foo': 42}"
   ]
  },
  {
   "cell_type": "markdown",
   "id": "18db1f75",
   "metadata": {},
   "source": [
    "## Question 3"
   ]
  },
  {
   "cell_type": "markdown",
   "id": "f290e655",
   "metadata": {},
   "source": [
    "What is the most significant distinction between a dictionary and a list?"
   ]
  },
  {
   "cell_type": "markdown",
   "id": "674b7495",
   "metadata": {},
   "source": [
    "## Answer to the Question 3"
   ]
  },
  {
   "cell_type": "markdown",
   "id": "3a60e4cd",
   "metadata": {},
   "source": [
    "While dictionary is an unordered collection of key-value pairs, list is an ordered collection of elements of any type. We access the elements or values in a dictionary using key, while for list, we access different elements using index corresponding to their positions."
   ]
  },
  {
   "cell_type": "markdown",
   "id": "d71aa5ec",
   "metadata": {},
   "source": [
    "## Question 4"
   ]
  },
  {
   "cell_type": "markdown",
   "id": "70177c0e",
   "metadata": {},
   "source": [
    "What happens if you try to access spam['foo'] if spam is {'bar': 100}?"
   ]
  },
  {
   "cell_type": "markdown",
   "id": "a6b5d53e",
   "metadata": {},
   "source": [
    "## Answer to the Question 4"
   ]
  },
  {
   "cell_type": "markdown",
   "id": "7324361d",
   "metadata": {},
   "source": [
    "This code **spam['foo']** will try to give back the value corresponding to the key **foo** but as this key is absent within the dictionary variable spam defined by **{'bar': 100}**, this will throw a KeyError."
   ]
  },
  {
   "cell_type": "markdown",
   "id": "d6d5d9d1",
   "metadata": {},
   "source": [
    "## Question 5"
   ]
  },
  {
   "cell_type": "markdown",
   "id": "567a373b",
   "metadata": {},
   "source": [
    "If a dictionary is stored in spam, what is the difference between the expressions 'cat' in spam and 'cat' in spam.keys()?"
   ]
  },
  {
   "cell_type": "markdown",
   "id": "6b5251ea",
   "metadata": {},
   "source": [
    "## Answer to the Question 5"
   ]
  },
  {
   "cell_type": "markdown",
   "id": "19137df1",
   "metadata": {},
   "source": [
    "Both of these expressions **'cat' in spam** and **'cat' in spam.keys()** check whether a key **cat** is present in the dictionary **spam**. If it is present, it will return **True** and **Flase** otherwise. The only difference is that **'cat' in spam.keys()** does this first by getting a list of keys and then checking within that."
   ]
  },
  {
   "cell_type": "markdown",
   "id": "90502bee",
   "metadata": {},
   "source": [
    "## Question 6"
   ]
  },
  {
   "cell_type": "markdown",
   "id": "49bcbe66",
   "metadata": {},
   "source": [
    "If a dictionary is stored in spam, what is the difference between the expressions **'cat' in spam** and **'cat' in spam.values()**?"
   ]
  },
  {
   "cell_type": "markdown",
   "id": "f9e512e8",
   "metadata": {},
   "source": [
    "## Answer to the Question 6"
   ]
  },
  {
   "cell_type": "markdown",
   "id": "ea1441bc",
   "metadata": {},
   "source": [
    "**'cat' in spam** will check whether a key named **cat** is present in the dictionary **spam** and **'cat' in spam.values()** will check whether there is any value named **cat** is present in the list of values of the dictionary **spam**. "
   ]
  },
  {
   "cell_type": "code",
   "execution_count": 9,
   "id": "13fe460c",
   "metadata": {},
   "outputs": [
    {
     "data": {
      "text/plain": [
       "1"
      ]
     },
     "execution_count": 9,
     "metadata": {},
     "output_type": "execute_result"
    }
   ],
   "source": [
    "bacon = [3.14, 'cat', 11, 'cat', True]\n",
    "bacon.index('cat')"
   ]
  },
  {
   "cell_type": "markdown",
   "id": "28c550c6",
   "metadata": {},
   "source": [
    "## Question 7"
   ]
  },
  {
   "cell_type": "raw",
   "id": "ddf56a1c",
   "metadata": {},
   "source": [
    "What is a shortcut for the following code?\n",
    "if 'color' not in spam:\n",
    "    spam['color'] = 'black'"
   ]
  },
  {
   "cell_type": "markdown",
   "id": "d0122b7a",
   "metadata": {},
   "source": [
    "## Answer to the Question 7"
   ]
  },
  {
   "cell_type": "markdown",
   "id": "ce05670a",
   "metadata": {},
   "source": [
    "The shortcut for this is `spam['color'] = spam.get('color', 'black')`"
   ]
  },
  {
   "cell_type": "markdown",
   "id": "d8764e57",
   "metadata": {},
   "source": [
    "## Question 8"
   ]
  },
  {
   "cell_type": "markdown",
   "id": "d36f6e9b",
   "metadata": {},
   "source": [
    "How do you \"pretty print\" dictionary values using which module and function?"
   ]
  },
  {
   "cell_type": "markdown",
   "id": "1adf07d3",
   "metadata": {},
   "source": [
    "## Answer to the Question 8"
   ]
  },
  {
   "cell_type": "markdown",
   "id": "e1c17f76",
   "metadata": {},
   "source": [
    "We can use **pprint** function from the **pprint** module in Python to 'pretty print' a dictionary."
   ]
  },
  {
   "cell_type": "code",
   "execution_count": 5,
   "id": "5f272086",
   "metadata": {},
   "outputs": [
    {
     "name": "stdout",
     "output_type": "stream",
     "text": [
      "{'content': ['#@^&&', '$$$', '!!!!!'], 'number': 598}\n"
     ]
    }
   ],
   "source": [
    "from pprint import pprint\n",
    "spam = {'content': [\"#@^&&\", \"$$$\", \"!!!!!\"], 'number': 598}\n",
    "pprint(spam)"
   ]
  },
  {
   "cell_type": "code",
   "execution_count": null,
   "id": "9621da81",
   "metadata": {},
   "outputs": [],
   "source": []
  }
 ],
 "metadata": {
  "kernelspec": {
   "display_name": "Python 3 (ipykernel)",
   "language": "python",
   "name": "python3"
  },
  "language_info": {
   "codemirror_mode": {
    "name": "ipython",
    "version": 3
   },
   "file_extension": ".py",
   "mimetype": "text/x-python",
   "name": "python",
   "nbconvert_exporter": "python",
   "pygments_lexer": "ipython3",
   "version": "3.9.13"
  }
 },
 "nbformat": 4,
 "nbformat_minor": 5
}
