{
 "cells": [
  {
   "cell_type": "markdown",
   "id": "05cd45e9",
   "metadata": {},
   "source": [
    "# Question 1"
   ]
  },
  {
   "cell_type": "raw",
   "id": "ea2c2c52",
   "metadata": {},
   "source": [
    "1. In the below elements which of them are values or an expression? eg:- values can be integer or string and expressions will be mathematical operators.\n",
    "* \n",
    "'hello'\n",
    "-87.8\n",
    "- \n",
    "/ \n",
    "+\t\n",
    "6 \n"
   ]
  },
  {
   "cell_type": "markdown",
   "id": "b403b966",
   "metadata": {},
   "source": [
    "# Answer to the Question 1"
   ]
  },
  {
   "cell_type": "markdown",
   "id": "c7f1b3ab",
   "metadata": {},
   "source": [
    "The following are considered as values:\n",
    "* 'hello' (a string value)\n",
    "* -87.8 (a float value)\n",
    "* 6 (an integer value)\n",
    "\n",
    "The following are considered as expressions:\n",
    "* * (multiplication operator)\n",
    "* - (subtraction operator)\n",
    "* / (division operator)\n",
    "* + (addition operator)"
   ]
  },
  {
   "cell_type": "markdown",
   "id": "0e8e2900",
   "metadata": {},
   "source": [
    "# Question 2"
   ]
  },
  {
   "cell_type": "markdown",
   "id": "da7a6db6",
   "metadata": {},
   "source": [
    "What is the difference between string and variable?"
   ]
  },
  {
   "cell_type": "markdown",
   "id": "0707b35d",
   "metadata": {},
   "source": [
    "# Answer to the Question 2"
   ]
  },
  {
   "cell_type": "markdown",
   "id": "bc4c62da",
   "metadata": {},
   "source": [
    "String is a value of sequence of characters. String is immutable and so its values can't be changed after being assigned. Whereas a variable is a placeholder for any type of value including string. Varioable's values can be changed."
   ]
  },
  {
   "cell_type": "markdown",
   "id": "024af9c2",
   "metadata": {},
   "source": [
    "# Question 3"
   ]
  },
  {
   "cell_type": "markdown",
   "id": "97c3548a",
   "metadata": {},
   "source": [
    "Describe three different data types."
   ]
  },
  {
   "cell_type": "markdown",
   "id": "6ef7ec94",
   "metadata": {},
   "source": [
    "# Answer to the Question 3"
   ]
  },
  {
   "cell_type": "markdown",
   "id": "103e58d8",
   "metadata": {},
   "source": [
    "There are many built-in data types. 3 of them are described below:\n",
    "\n",
    "* Numeric:\n",
    " - **int** for integer values such as -2,-1,0,1,2 etc.\n",
    " - **float** for floating-point numbers such as 0.0, 16.89, 212.984 etc.\n",
    " - **complex** for complex numbers such as 2 + 4j, 10 - 2j, -20 + 3j etc.\n",
    " \n",
    "* Text:\n",
    " - **str** for representing sequence of characters such as \"potato\", \"deep_learning\", \"New York\" etc.\n",
    " \n",
    "* Boolean\n",
    " - **bool** for representing truth values such as True or False"
   ]
  },
  {
   "cell_type": "markdown",
   "id": "5f17e307",
   "metadata": {},
   "source": [
    "# Question 4"
   ]
  },
  {
   "cell_type": "markdown",
   "id": "12484e67",
   "metadata": {},
   "source": [
    "What is an expression made up of? What do all expressions do?"
   ]
  },
  {
   "cell_type": "markdown",
   "id": "3efb3071",
   "metadata": {},
   "source": [
    "# Answer to the Question 4"
   ]
  },
  {
   "cell_type": "markdown",
   "id": "4dba5c73",
   "metadata": {},
   "source": [
    "Expression is made up of values, variables and operators. Expressions evaluate to a single value that can be assigned to a variable, used as an input in other expression, or as a parameter to a function, or can be displayed."
   ]
  },
  {
   "cell_type": "markdown",
   "id": "14b50b4d",
   "metadata": {},
   "source": [
    "# Question 5"
   ]
  },
  {
   "cell_type": "markdown",
   "id": "8e311a4f",
   "metadata": {},
   "source": [
    "This assignment statements, like spam = 10. What is the difference between an expression and a statement?"
   ]
  },
  {
   "cell_type": "markdown",
   "id": "0404ae0f",
   "metadata": {},
   "source": [
    "# Answer to the Question 5"
   ]
  },
  {
   "cell_type": "markdown",
   "id": "da839227",
   "metadata": {},
   "source": [
    "In the example given in the question, 10 is an expression which evaluates to a single value 10 and **spam = 10** is a statement that assigns the value of **10** to the variable **spam**."
   ]
  },
  {
   "cell_type": "markdown",
   "id": "fdefeb31",
   "metadata": {},
   "source": [
    "Whereas expression evaluates to a single value, statement performs some actions such as assigning values to a variables, displaying result on the screen, checking conditions etc. "
   ]
  },
  {
   "cell_type": "markdown",
   "id": "af2a59be",
   "metadata": {},
   "source": [
    "# Question 6"
   ]
  },
  {
   "cell_type": "raw",
   "id": "42858a06",
   "metadata": {},
   "source": [
    "After running the following code, what does the variable bacon contain?\n",
    "bacon = 22\n",
    "bacon + 1"
   ]
  },
  {
   "cell_type": "markdown",
   "id": "e065a0d1",
   "metadata": {},
   "source": [
    "# Answer to the Question 6"
   ]
  },
  {
   "cell_type": "markdown",
   "id": "497d3414",
   "metadata": {},
   "source": [
    "The value of the variable **bacon** will be still 22 as the value of the expression **bacon + 1** will be 23 and it is not assigned to **bacon** again."
   ]
  },
  {
   "cell_type": "markdown",
   "id": "0364b097",
   "metadata": {},
   "source": [
    "# Question 7"
   ]
  },
  {
   "cell_type": "raw",
   "id": "85942470",
   "metadata": {},
   "source": [
    "What should the values of the following two terms be?\n",
    "'spam' + 'spamspam'\n",
    "'spam' * 3"
   ]
  },
  {
   "cell_type": "markdown",
   "id": "3de03c13",
   "metadata": {},
   "source": [
    "# Answer to the Question 7"
   ]
  },
  {
   "cell_type": "markdown",
   "id": "a6953e08",
   "metadata": {},
   "source": [
    "The value for the first term **'spam' + 'spamspam'** will be **'spamspamspam'**"
   ]
  },
  {
   "cell_type": "markdown",
   "id": "bf0821a6",
   "metadata": {},
   "source": [
    "The value for the second term **'spam' * 3'** will be **'spamspamspam'**."
   ]
  },
  {
   "cell_type": "markdown",
   "id": "55ad1421",
   "metadata": {},
   "source": [
    "# Question 8"
   ]
  },
  {
   "cell_type": "markdown",
   "id": "c3c7c58b",
   "metadata": {},
   "source": [
    "Why is eggs a valid variable name while 100 is invalid?"
   ]
  },
  {
   "cell_type": "markdown",
   "id": "d0349e4a",
   "metadata": {},
   "source": [
    "# Answer to the Question 8"
   ]
  },
  {
   "cell_type": "markdown",
   "id": "cc7f5345",
   "metadata": {},
   "source": [
    "This is because variable names can contain letters, numbers and underscores and can't start with a number. **eggs** have all alphabets, so it's a valid name and **100** has a number as  the starting alphabet and so an invalid variable name."
   ]
  },
  {
   "cell_type": "markdown",
   "id": "1bf026f5",
   "metadata": {},
   "source": [
    "# Question 9"
   ]
  },
  {
   "cell_type": "markdown",
   "id": "551243e7",
   "metadata": {},
   "source": [
    "What three functions can be used to get the integer, floating-point number, or string version of a value?"
   ]
  },
  {
   "cell_type": "markdown",
   "id": "317284ee",
   "metadata": {},
   "source": [
    "# Answer to the Question 9"
   ]
  },
  {
   "cell_type": "markdown",
   "id": "98db0f32",
   "metadata": {},
   "source": [
    "The three functions to get the integer, floating-point number, or string version of a value are **int()**, **float()** and **str()** respectively."
   ]
  },
  {
   "cell_type": "markdown",
   "id": "1be8f5cd",
   "metadata": {},
   "source": [
    "# Question 10"
   ]
  },
  {
   "cell_type": "markdown",
   "id": "5204ccac",
   "metadata": {},
   "source": [
    "Why does this expression cause an error? How can you fix it?\n",
    "'I have eaten ' + 99 + ' burritos.'"
   ]
  },
  {
   "cell_type": "markdown",
   "id": "1ce48b4b",
   "metadata": {},
   "source": [
    "# Answer to the Question 10"
   ]
  },
  {
   "cell_type": "markdown",
   "id": "8cc472c6",
   "metadata": {},
   "source": [
    "The expression **'I have eaten ' + 99 + ' burritos.'** will throw a **TypeError** as integer is concatenated with string. A very easy fix is to convert int value **99** to string and then concatenate it with strings. The fix is written below:"
   ]
  },
  {
   "cell_type": "code",
   "execution_count": 4,
   "id": "ccc12ff8",
   "metadata": {},
   "outputs": [
    {
     "data": {
      "text/plain": [
       "'I have eaten 99 burritos.'"
      ]
     },
     "execution_count": 4,
     "metadata": {},
     "output_type": "execute_result"
    }
   ],
   "source": [
    "'I have eaten ' + str(99) + ' burritos.'"
   ]
  },
  {
   "cell_type": "code",
   "execution_count": null,
   "id": "244f7f3a",
   "metadata": {},
   "outputs": [],
   "source": []
  }
 ],
 "metadata": {
  "kernelspec": {
   "display_name": "Python 3 (ipykernel)",
   "language": "python",
   "name": "python3"
  },
  "language_info": {
   "codemirror_mode": {
    "name": "ipython",
    "version": 3
   },
   "file_extension": ".py",
   "mimetype": "text/x-python",
   "name": "python",
   "nbconvert_exporter": "python",
   "pygments_lexer": "ipython3",
   "version": "3.9.13"
  }
 },
 "nbformat": 4,
 "nbformat_minor": 5
}
