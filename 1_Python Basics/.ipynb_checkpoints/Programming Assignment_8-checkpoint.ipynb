{
 "cells": [
  {
   "cell_type": "markdown",
   "id": "05cd45e9",
   "metadata": {},
   "source": [
    "# Programming Assignment 8"
   ]
  },
  {
   "cell_type": "markdown",
   "id": "96dbf3e6",
   "metadata": {},
   "source": [
    "## Question 1"
   ]
  },
  {
   "cell_type": "markdown",
   "id": "83242489",
   "metadata": {},
   "source": [
    "Write a Python Program to Add Two Matrices?"
   ]
  },
  {
   "cell_type": "markdown",
   "id": "16983ccc",
   "metadata": {},
   "source": [
    "## Answer to the Question 1"
   ]
  },
  {
   "cell_type": "code",
   "execution_count": 1,
   "id": "b9d0dfee",
   "metadata": {},
   "outputs": [],
   "source": [
    "def add_matrices(x, y):\n",
    "    # Assumption is that x and y have same dimension\n",
    "    rows = len(x)\n",
    "    cols = len(x[0])\n",
    "    import numpy as np\n",
    "    result = np.zeros((rows, cols))\n",
    "    for i in range(rows):\n",
    "        for j in range(cols):\n",
    "            result[i][j] = x[i][j] + y[i][j]\n",
    "    return result"
   ]
  },
  {
   "cell_type": "code",
   "execution_count": 2,
   "id": "dd90dd95",
   "metadata": {},
   "outputs": [
    {
     "data": {
      "text/plain": [
       "array([[ 2.,  5.,  7.,  9.],\n",
       "       [17., 28., 39., 50.],\n",
       "       [ 6.,  8.,  4.,  6.]])"
      ]
     },
     "execution_count": 2,
     "metadata": {},
     "output_type": "execute_result"
    }
   ],
   "source": [
    "matrix_A = [[1,2,3,4],[10,20,30,40],[3,5,1,3]]\n",
    "matrix_B = [[1,3,4,5], [7,8,9,10], [3,3,3,3]]\n",
    "add_matrices(matrix_A, matrix_B)"
   ]
  },
  {
   "cell_type": "markdown",
   "id": "e3fd8ada",
   "metadata": {},
   "source": [
    "## Question 2"
   ]
  },
  {
   "cell_type": "markdown",
   "id": "a544247d",
   "metadata": {},
   "source": [
    "Write a Python Program to Multiply Two Matrices?"
   ]
  },
  {
   "cell_type": "markdown",
   "id": "512da666",
   "metadata": {},
   "source": [
    "## Answer to the Question 2"
   ]
  },
  {
   "cell_type": "code",
   "execution_count": 3,
   "id": "c1778599",
   "metadata": {},
   "outputs": [],
   "source": [
    "def multiply_matrices(x, y):\n",
    "    # Assumption is that x and y have same dimension\n",
    "    rows = len(x)\n",
    "    cols = len(x[0])\n",
    "    import numpy as np\n",
    "    result = np.zeros((rows, cols))\n",
    "    for i in range(rows):\n",
    "        for j in range(cols):\n",
    "            result[i][j] = x[i][j] * y[i][j]\n",
    "    return result"
   ]
  },
  {
   "cell_type": "code",
   "execution_count": 4,
   "id": "ee532b52",
   "metadata": {},
   "outputs": [
    {
     "data": {
      "text/plain": [
       "array([[  1.,   6.,  12.,  20.],\n",
       "       [ 70., 160., 270., 400.],\n",
       "       [  9.,  15.,   3.,   9.]])"
      ]
     },
     "execution_count": 4,
     "metadata": {},
     "output_type": "execute_result"
    }
   ],
   "source": [
    "multiply_matrices(matrix_A, matrix_B)"
   ]
  },
  {
   "cell_type": "markdown",
   "id": "18db1f75",
   "metadata": {},
   "source": [
    "## Question 3"
   ]
  },
  {
   "cell_type": "markdown",
   "id": "f290e655",
   "metadata": {},
   "source": [
    "Write a Python Program to Transpose a Matrix?"
   ]
  },
  {
   "cell_type": "markdown",
   "id": "674b7495",
   "metadata": {},
   "source": [
    "## Answer to the Question 3"
   ]
  },
  {
   "cell_type": "code",
   "execution_count": 11,
   "id": "2783c5e1",
   "metadata": {},
   "outputs": [],
   "source": [
    "def transpose_matrices(x):\n",
    "    rows = len(x)\n",
    "    cols = len(x[0])\n",
    "    import numpy as np\n",
    "    result = np.zeros((cols, rows))\n",
    "    for i in range(cols):\n",
    "        for j in range(rows):\n",
    "            result[i][j] = x[j][i]\n",
    "    print(result)"
   ]
  },
  {
   "cell_type": "code",
   "execution_count": 13,
   "id": "1cbf3068",
   "metadata": {},
   "outputs": [
    {
     "name": "stdout",
     "output_type": "stream",
     "text": [
      "[[1, 2, 3, 4], [10, 20, 30, 40], [3, 5, 1, 3]]\n"
     ]
    }
   ],
   "source": [
    "print(matrix_A)"
   ]
  },
  {
   "cell_type": "code",
   "execution_count": 12,
   "id": "523c2c83",
   "metadata": {},
   "outputs": [
    {
     "name": "stdout",
     "output_type": "stream",
     "text": [
      "[[ 1. 10.  3.]\n",
      " [ 2. 20.  5.]\n",
      " [ 3. 30.  1.]\n",
      " [ 4. 40.  3.]]\n"
     ]
    }
   ],
   "source": [
    "transpose_matrices(matrix_A)"
   ]
  },
  {
   "cell_type": "markdown",
   "id": "d71aa5ec",
   "metadata": {},
   "source": [
    "## Question 4"
   ]
  },
  {
   "cell_type": "markdown",
   "id": "70177c0e",
   "metadata": {},
   "source": [
    "Write a Python Program to Sort Words in Alphabetic Order?"
   ]
  },
  {
   "cell_type": "markdown",
   "id": "a6b5d53e",
   "metadata": {},
   "source": [
    "## Answer to the Question 4"
   ]
  },
  {
   "cell_type": "code",
   "execution_count": 16,
   "id": "470dc716",
   "metadata": {},
   "outputs": [],
   "source": [
    "def sort_words(words):\n",
    "    words.sort()\n",
    "    return words"
   ]
  },
  {
   "cell_type": "code",
   "execution_count": 17,
   "id": "c6c2be92",
   "metadata": {},
   "outputs": [
    {
     "data": {
      "text/plain": [
       "['banana', 'mango', 'orange', 'pineapple', 'strawberry']"
      ]
     },
     "execution_count": 17,
     "metadata": {},
     "output_type": "execute_result"
    }
   ],
   "source": [
    "sort_words([\"banana\", \"pineapple\", \"mango\", \"strawberry\", \"orange\"])"
   ]
  },
  {
   "cell_type": "markdown",
   "id": "d6d5d9d1",
   "metadata": {},
   "source": [
    "## Question 5"
   ]
  },
  {
   "cell_type": "markdown",
   "id": "567a373b",
   "metadata": {},
   "source": [
    "Write a Python Program to Remove Punctuation From a String?"
   ]
  },
  {
   "cell_type": "markdown",
   "id": "6b5251ea",
   "metadata": {},
   "source": [
    "## Answer to the Question 5"
   ]
  },
  {
   "cell_type": "code",
   "execution_count": 18,
   "id": "873d756a",
   "metadata": {},
   "outputs": [],
   "source": [
    "def remove_punctuation(string):\n",
    "    punctuations = '''!()-[]{};:'\"\\,<>.?@#$%^&*_~'''\n",
    "    without_punc = \"\"\n",
    "    for char in string:\n",
    "        if char not in punctuations:\n",
    "            without_punc += char\n",
    "    return without_punc"
   ]
  },
  {
   "cell_type": "code",
   "execution_count": 19,
   "id": "31747f0e",
   "metadata": {},
   "outputs": [
    {
     "data": {
      "text/plain": [
       "'nfvafdksjvnmvsdafmv'"
      ]
     },
     "execution_count": 19,
     "metadata": {},
     "output_type": "execute_result"
    }
   ],
   "source": [
    "remove_punctuation(\"nfvafdksjvn!@#$%%^mvsdafmv:\")"
   ]
  },
  {
   "cell_type": "code",
   "execution_count": 20,
   "id": "d60fce0d",
   "metadata": {},
   "outputs": [
    {
     "data": {
      "text/plain": [
       "'Hi I am Klingerslokas  Got it'"
      ]
     },
     "execution_count": 20,
     "metadata": {},
     "output_type": "execute_result"
    }
   ],
   "source": [
    "remove_punctuation(\"@#Hi, I am Klingerslokas ^^&&& Got it\")"
   ]
  },
  {
   "cell_type": "code",
   "execution_count": null,
   "id": "8d35b63f",
   "metadata": {},
   "outputs": [],
   "source": []
  }
 ],
 "metadata": {
  "kernelspec": {
   "display_name": "Python 3 (ipykernel)",
   "language": "python",
   "name": "python3"
  },
  "language_info": {
   "codemirror_mode": {
    "name": "ipython",
    "version": 3
   },
   "file_extension": ".py",
   "mimetype": "text/x-python",
   "name": "python",
   "nbconvert_exporter": "python",
   "pygments_lexer": "ipython3",
   "version": "3.9.13"
  }
 },
 "nbformat": 4,
 "nbformat_minor": 5
}
