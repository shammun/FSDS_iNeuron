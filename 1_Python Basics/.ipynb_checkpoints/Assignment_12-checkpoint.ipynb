{
 "cells": [
  {
   "cell_type": "markdown",
   "id": "05cd45e9",
   "metadata": {},
   "source": [
    "# Assignment 12"
   ]
  },
  {
   "cell_type": "markdown",
   "id": "23278d13",
   "metadata": {},
   "source": [
    "## Question 1"
   ]
  },
  {
   "cell_type": "markdown",
   "id": "83242489",
   "metadata": {},
   "source": [
    "In what modes should the PdfFileReader() and PdfFileWriter() File objects will be opened?"
   ]
  },
  {
   "cell_type": "markdown",
   "id": "16983ccc",
   "metadata": {},
   "source": [
    "## Answer to the Question 1"
   ]
  },
  {
   "cell_type": "markdown",
   "id": "dd524e0f",
   "metadata": {},
   "source": [
    "**PdfFileReader()** should be opened in binary read (rb) and **PdfFileWriter()** should be opened in binary write (wb) mode."
   ]
  },
  {
   "cell_type": "markdown",
   "id": "e3fd8ada",
   "metadata": {},
   "source": [
    "## Question 2"
   ]
  },
  {
   "cell_type": "markdown",
   "id": "a544247d",
   "metadata": {},
   "source": [
    "From a PdfFileReader object, how do you get a Page object for page 5?"
   ]
  },
  {
   "cell_type": "markdown",
   "id": "512da666",
   "metadata": {},
   "source": [
    "## Answer to the Question 2"
   ]
  },
  {
   "cell_type": "markdown",
   "id": "fbde0563",
   "metadata": {},
   "source": [
    "We will need to use **getPage()** method of the **PdfFileReader** object. Below is the code to get a Page object for page 5."
   ]
  },
  {
   "cell_type": "markdown",
   "id": "f6ab7b3e",
   "metadata": {},
   "source": [
    "`page5_object = pdfFileReader.getPage(5)`"
   ]
  },
  {
   "cell_type": "markdown",
   "id": "18db1f75",
   "metadata": {},
   "source": [
    "## Question 3"
   ]
  },
  {
   "cell_type": "markdown",
   "id": "f290e655",
   "metadata": {},
   "source": [
    "What PdfFileReader variable stores the number of pages in the PDF document?"
   ]
  },
  {
   "cell_type": "markdown",
   "id": "674b7495",
   "metadata": {},
   "source": [
    "## Answer to the Question 3"
   ]
  },
  {
   "cell_type": "markdown",
   "id": "3a60e4cd",
   "metadata": {},
   "source": [
    "The variable **numPages** of the PdfFileReader variable stores the number of pages in the PDF document. Following is an example code."
   ]
  },
  {
   "cell_type": "markdown",
   "id": "790a6250",
   "metadata": {},
   "source": [
    "`num_of_pages = pdfFileReader.numPages`"
   ]
  },
  {
   "cell_type": "markdown",
   "id": "d71aa5ec",
   "metadata": {},
   "source": [
    "## Question 4"
   ]
  },
  {
   "cell_type": "markdown",
   "id": "42ca2d92",
   "metadata": {},
   "source": [
    "If a PdfFileReader object’s PDF is encrypted with the password swordfish, what must you do before you can obtain Page objects from it?"
   ]
  },
  {
   "cell_type": "markdown",
   "id": "a6b5d53e",
   "metadata": {},
   "source": [
    "## Answer to the Question 4"
   ]
  },
  {
   "cell_type": "markdown",
   "id": "80a38bdf",
   "metadata": {},
   "source": [
    "Using **decrypt()** method and providing the password as argument to this function, we can obtain Page object. Below is the code:"
   ]
  },
  {
   "cell_type": "markdown",
   "id": "dd81a3a1",
   "metadata": {},
   "source": [
    "`pdfFileReader.decrypt('swordfish')`"
   ]
  },
  {
   "cell_type": "markdown",
   "id": "d6d5d9d1",
   "metadata": {},
   "source": [
    "## Question 5"
   ]
  },
  {
   "cell_type": "markdown",
   "id": "567a373b",
   "metadata": {},
   "source": [
    "What methods do you use to rotate a page?"
   ]
  },
  {
   "cell_type": "markdown",
   "id": "6b5251ea",
   "metadata": {},
   "source": [
    "## Answer to the Question 5"
   ]
  },
  {
   "cell_type": "markdown",
   "id": "19137df1",
   "metadata": {},
   "source": [
    "We can use three methods to rotate a page: `rotate`, `rotateClockWise()`, and `rotateCounterClockWise()`. If we want to rotate clockwise by 90 degrees, following are the two options. "
   ]
  },
  {
   "cell_type": "markdown",
   "id": "9341e255",
   "metadata": {},
   "source": [
    "`page.rotate(90, True) # True for clockwise`"
   ]
  },
  {
   "cell_type": "markdown",
   "id": "c6df3579",
   "metadata": {},
   "source": [
    "`page.rotateClockWise(90) # This also rotate clockwise by 90 degree`"
   ]
  },
  {
   "cell_type": "markdown",
   "id": "33d95947",
   "metadata": {},
   "source": [
    "If we want to rotate counter clockwise by 90 degrees, following are the two options. "
   ]
  },
  {
   "cell_type": "markdown",
   "id": "f7cc1b71",
   "metadata": {},
   "source": [
    "`page.rotate(90, False) # False for counterclockwise`"
   ]
  },
  {
   "cell_type": "markdown",
   "id": "d164ccfc",
   "metadata": {},
   "source": [
    "`page.rotateCounterClockWise(90) # This also rotate counter-clockwise by 90 degree`"
   ]
  },
  {
   "cell_type": "markdown",
   "id": "90502bee",
   "metadata": {},
   "source": [
    "## Question 6"
   ]
  },
  {
   "cell_type": "markdown",
   "id": "49bcbe66",
   "metadata": {},
   "source": [
    "What is the difference between a Run object and a Paragraph object?"
   ]
  },
  {
   "cell_type": "markdown",
   "id": "f9e512e8",
   "metadata": {},
   "source": [
    "## Answer to the Question 6"
   ]
  },
  {
   "cell_type": "markdown",
   "id": "ea1441bc",
   "metadata": {},
   "source": [
    "Run object represents a portion of a paragraph and has a collection of character-level formatting properties, such as font size, color, bold etc. A Paragraph object represents a full paragrpah and is a collection of Run objects. In addition to character-level formatting properties, it also has paragrpah-level formatting properties, such as alignment, indentation, and spacing. "
   ]
  },
  {
   "cell_type": "markdown",
   "id": "28c550c6",
   "metadata": {},
   "source": [
    "## Question 7"
   ]
  },
  {
   "cell_type": "markdown",
   "id": "4496fba6",
   "metadata": {},
   "source": [
    "How do you obtain a list of Paragraph objects for a Document object that’s stored in a variable named doc?"
   ]
  },
  {
   "cell_type": "markdown",
   "id": "d0122b7a",
   "metadata": {},
   "source": [
    "## Answer to the Question 7"
   ]
  },
  {
   "cell_type": "markdown",
   "id": "ce05670a",
   "metadata": {},
   "source": [
    "To obtain a list of Paragraph objects for a Document object that’s stored in a variable named doc, we can use the `paragraphs` property. Below is the code we can use here:"
   ]
  },
  {
   "cell_type": "markdown",
   "id": "6afbf2c5",
   "metadata": {},
   "source": [
    "`doc.paragraphs`"
   ]
  },
  {
   "cell_type": "markdown",
   "id": "d8764e57",
   "metadata": {},
   "source": [
    "## Question 8"
   ]
  },
  {
   "cell_type": "markdown",
   "id": "d36f6e9b",
   "metadata": {},
   "source": [
    "What type of object has bold, underline, italic, strike, and outline variables?"
   ]
  },
  {
   "cell_type": "markdown",
   "id": "1adf07d3",
   "metadata": {},
   "source": [
    "## Answer to the Question 8"
   ]
  },
  {
   "cell_type": "markdown",
   "id": "264d0d88",
   "metadata": {},
   "source": [
    "The Run object in the Python-Docx library has bold, underline, italic, strike, and outline variables."
   ]
  },
  {
   "cell_type": "markdown",
   "id": "c91be4c8",
   "metadata": {},
   "source": [
    "## Question 9"
   ]
  },
  {
   "cell_type": "markdown",
   "id": "3ec5976a",
   "metadata": {},
   "source": [
    "What is the difference between False, True, and None for the bold variable?"
   ]
  },
  {
   "cell_type": "markdown",
   "id": "42250ef4",
   "metadata": {},
   "source": [
    "## Answer to the Question 9"
   ]
  },
  {
   "cell_type": "markdown",
   "id": "d533bf5c",
   "metadata": {},
   "source": [
    "False value for `bold` variable means that no bold formatting should be applied, `True` means that bold formatting should be applied and `None` indicates that no new formatting should be applied and existing formatting should be preserved."
   ]
  },
  {
   "cell_type": "markdown",
   "id": "d41445a7",
   "metadata": {},
   "source": [
    "## Question 10"
   ]
  },
  {
   "cell_type": "markdown",
   "id": "cfd24504",
   "metadata": {},
   "source": [
    "How do you create a Document object for a new Word document?"
   ]
  },
  {
   "cell_type": "markdown",
   "id": "b21782fd",
   "metadata": {},
   "source": [
    "## Answer to the Question 10"
   ]
  },
  {
   "cell_type": "markdown",
   "id": "69c38868",
   "metadata": {},
   "source": [
    "To create a Document object for a new Word document, we can use the `Document` class from the **python-docx** library. Below is an example code:"
   ]
  },
  {
   "cell_type": "markdown",
   "id": "f5737b8d",
   "metadata": {},
   "source": [
    "`!pip install python-docx`"
   ]
  },
  {
   "cell_type": "markdown",
   "id": "a58152f8",
   "metadata": {},
   "source": [
    "`from docx import Document`"
   ]
  },
  {
   "cell_type": "markdown",
   "id": "05dc51f1",
   "metadata": {},
   "source": [
    "`doc = Document()`"
   ]
  },
  {
   "cell_type": "markdown",
   "id": "90cb1ce6",
   "metadata": {},
   "source": [
    "## Question 11"
   ]
  },
  {
   "cell_type": "markdown",
   "id": "6babb769",
   "metadata": {},
   "source": [
    "How do you add a paragraph with the text 'Hello, there!' to a Document object stored in a variable named doc?"
   ]
  },
  {
   "cell_type": "markdown",
   "id": "cdd1a1f4",
   "metadata": {},
   "source": [
    "## Answer to the Question 11"
   ]
  },
  {
   "cell_type": "markdown",
   "id": "7b0b9280",
   "metadata": {},
   "source": [
    "To add a paragraph with the text 'Hello, there!' to a Document object stored in a variable named doc, we can use the `add_paragraph()` method of the Document object. Below is an example code:"
   ]
  },
  {
   "cell_type": "markdown",
   "id": "f0331f23",
   "metadata": {},
   "source": [
    "`doc.add_paragraph('Hello, there!')`"
   ]
  },
  {
   "cell_type": "markdown",
   "id": "33943841",
   "metadata": {},
   "source": [
    "## Question 12"
   ]
  },
  {
   "cell_type": "markdown",
   "id": "eda5d9c2",
   "metadata": {},
   "source": [
    "What integers represent the levels of headings available in Word documents?"
   ]
  },
  {
   "cell_type": "markdown",
   "id": "e841c91b",
   "metadata": {},
   "source": [
    "## Answer to the Question 12"
   ]
  },
  {
   "cell_type": "markdown",
   "id": "ba5c5c16",
   "metadata": {},
   "source": [
    "The integers that represent the levels of headings available in Word documents are the integers between 1 and 9 the lower the number, the higher the heading and vice versa."
   ]
  },
  {
   "cell_type": "code",
   "execution_count": null,
   "id": "516ac283",
   "metadata": {},
   "outputs": [],
   "source": []
  }
 ],
 "metadata": {
  "kernelspec": {
   "display_name": "Python 3 (ipykernel)",
   "language": "python",
   "name": "python3"
  },
  "language_info": {
   "codemirror_mode": {
    "name": "ipython",
    "version": 3
   },
   "file_extension": ".py",
   "mimetype": "text/x-python",
   "name": "python",
   "nbconvert_exporter": "python",
   "pygments_lexer": "ipython3",
   "version": "3.9.13"
  }
 },
 "nbformat": 4,
 "nbformat_minor": 5
}
