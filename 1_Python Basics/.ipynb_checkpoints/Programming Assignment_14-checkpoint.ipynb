{
 "cells": [
  {
   "cell_type": "markdown",
   "id": "05cd45e9",
   "metadata": {},
   "source": [
    "# Programming Assignment 14"
   ]
  },
  {
   "cell_type": "markdown",
   "id": "96dbf3e6",
   "metadata": {},
   "source": [
    "## Question 1"
   ]
  },
  {
   "cell_type": "markdown",
   "id": "83242489",
   "metadata": {},
   "source": [
    "Define a class with a generator which can iterate the numbers, which are divisible by 7, between a given range 0 and n."
   ]
  },
  {
   "cell_type": "markdown",
   "id": "16983ccc",
   "metadata": {},
   "source": [
    "## Answer to the Question 1"
   ]
  },
  {
   "cell_type": "code",
   "execution_count": 1,
   "id": "b9d0dfee",
   "metadata": {},
   "outputs": [],
   "source": [
    "class DivisibleBySevenGenerator:\n",
    "    def __init__(self, n):\n",
    "        self.n = n\n",
    "    def divisible(self):\n",
    "        for i in range(self.n):\n",
    "            if i % 7 == 0:\n",
    "                yield i"
   ]
  },
  {
   "cell_type": "code",
   "execution_count": 4,
   "id": "dd90dd95",
   "metadata": {},
   "outputs": [
    {
     "name": "stdout",
     "output_type": "stream",
     "text": [
      "0\n",
      "7\n",
      "14\n",
      "21\n",
      "28\n",
      "35\n",
      "42\n",
      "49\n",
      "56\n"
     ]
    }
   ],
   "source": [
    "d = DivisibleBySevenGenerator(60)\n",
    "for i in d.divisible():\n",
    "    print(i)"
   ]
  },
  {
   "cell_type": "markdown",
   "id": "e3fd8ada",
   "metadata": {},
   "source": [
    "## Question 2"
   ]
  },
  {
   "cell_type": "markdown",
   "id": "a544247d",
   "metadata": {},
   "source": [
    "Write a program to compute the frequency of the words from the input. The output should output after sorting the key alphanumerically. \n",
    "\n",
    "Suppose the following input is supplied to the program:\n",
    "\n",
    "New to Python or choosing between Python 2 and Python 3? Read Python 2 or Python 3.\n",
    "\n",
    "Then, the output should be:\n",
    "\n",
    "2:2\n",
    "\n",
    "3.:1\n",
    "\n",
    "3?:1\n",
    "\n",
    "New:1\n",
    "\n",
    "Python:5\n",
    "\n",
    "Read:1\n",
    "\n",
    "and:1\n",
    "\n",
    "between:1\n",
    "\n",
    "choosing:1\n",
    "\n",
    "or:2\n",
    "\n",
    "to:1\n"
   ]
  },
  {
   "cell_type": "markdown",
   "id": "512da666",
   "metadata": {},
   "source": [
    "## Answer to the Question 2"
   ]
  },
  {
   "cell_type": "code",
   "execution_count": 5,
   "id": "c1778599",
   "metadata": {},
   "outputs": [],
   "source": [
    "def word_frequency(sentence):\n",
    "    words = sentence.split()\n",
    "    word_count = {}\n",
    "    for word in words:\n",
    "        if word in word_count:\n",
    "            word_count[word] += 1\n",
    "        else:\n",
    "            word_count[word] = 1\n",
    "    sorted_words = sorted(word_count.keys())\n",
    "    for word in sorted_words:\n",
    "        print(f\"{word}:{word_count[word]}\")"
   ]
  },
  {
   "cell_type": "code",
   "execution_count": 8,
   "id": "ee532b52",
   "metadata": {},
   "outputs": [
    {
     "name": "stdout",
     "output_type": "stream",
     "text": [
      "2:2\n",
      "3.:1\n",
      "3?:1\n",
      "New:1\n",
      "Python:5\n",
      "Read:1\n",
      "and:1\n",
      "between:1\n",
      "choosing:1\n",
      "or:2\n",
      "to:1\n"
     ]
    }
   ],
   "source": [
    "sentence = \"New to Python or choosing between Python 2 and Python 3? Read Python 2 or Python 3.\"\n",
    "word_frequency(sentence)"
   ]
  },
  {
   "cell_type": "markdown",
   "id": "18db1f75",
   "metadata": {},
   "source": [
    "## Question 3"
   ]
  },
  {
   "cell_type": "markdown",
   "id": "f290e655",
   "metadata": {},
   "source": [
    "Define a class Person and its two child classes: Male and Female. All classes have a method \"getGender\" which can print \"Male\" for Male class and \"Female\" for Female class."
   ]
  },
  {
   "cell_type": "markdown",
   "id": "674b7495",
   "metadata": {},
   "source": [
    "## Answer to the Question 3"
   ]
  },
  {
   "cell_type": "code",
   "execution_count": 10,
   "id": "2783c5e1",
   "metadata": {},
   "outputs": [
    {
     "name": "stdout",
     "output_type": "stream",
     "text": [
      "Male\n",
      "Female\n"
     ]
    }
   ],
   "source": [
    "class Person(object):\n",
    "    def __init__(self, gender):\n",
    "        self.gender = gender\n",
    "    def getGender(self):\n",
    "        return self.gender\n",
    "    \n",
    "class Male(Person):\n",
    "    def getGender(self):\n",
    "        return \"Male\"\n",
    "    \n",
    "class Female(Person):\n",
    "    def getGender(self):\n",
    "        return \"Female\"\n",
    "    \n",
    "male = Male(\"Male\")\n",
    "female = Female(\"Female\")\n",
    "print(male.getGender())\n",
    "print(female.getGender())"
   ]
  },
  {
   "cell_type": "markdown",
   "id": "d71aa5ec",
   "metadata": {},
   "source": [
    "## Question 4"
   ]
  },
  {
   "cell_type": "markdown",
   "id": "70177c0e",
   "metadata": {},
   "source": [
    "Please write a program to generate all sentences where subject is in [\"I\", \"You\"] and verb is in [\"Play\", \"Love\"] and the object is in [\"Hockey\",\"Football\"]."
   ]
  },
  {
   "cell_type": "markdown",
   "id": "a6b5d53e",
   "metadata": {},
   "source": [
    "## Answer to the Question 4"
   ]
  },
  {
   "cell_type": "code",
   "execution_count": 11,
   "id": "470dc716",
   "metadata": {},
   "outputs": [
    {
     "name": "stdout",
     "output_type": "stream",
     "text": [
      "I Play Hockey\n",
      "I Play Football\n",
      "I Love Hockey\n",
      "I Love Football\n",
      "You Play Hockey\n",
      "You Play Football\n",
      "You Love Hockey\n",
      "You Love Football\n"
     ]
    }
   ],
   "source": [
    "subjects = [\"I\", \"You\"]\n",
    "verbs = [\"Play\", \"Love\"]\n",
    "objects = [\"Hockey\",\"Football\"]\n",
    "\n",
    "for i in subjects:\n",
    "    for j in verbs:\n",
    "        for k in objects:\n",
    "            print(f\"{i} {j} {k}\")"
   ]
  },
  {
   "cell_type": "markdown",
   "id": "d6d5d9d1",
   "metadata": {},
   "source": [
    "## Question 5"
   ]
  },
  {
   "cell_type": "markdown",
   "id": "567a373b",
   "metadata": {},
   "source": [
    "Please write a program to compress and decompress the string \"hello world!hello world!hello world!hello world!\"."
   ]
  },
  {
   "cell_type": "markdown",
   "id": "6b5251ea",
   "metadata": {},
   "source": [
    "## Answer to the Question 5"
   ]
  },
  {
   "cell_type": "code",
   "execution_count": 15,
   "id": "873d756a",
   "metadata": {},
   "outputs": [
    {
     "name": "stdout",
     "output_type": "stream",
     "text": [
      "Compressed form of the string: b'x\\x9c\\xcbH\\xcd\\xc9\\xc9W(\\xcf/\\xcaIQ\\xcc \\x82\\r\\x00\\xbd[\\x11\\xf5'\n",
      "Decompressed string: hello world!hello world!hello world!hello world!\n"
     ]
    }
   ],
   "source": [
    "import zlib\n",
    "\n",
    "def compress_string(string):\n",
    "    return zlib.compress(string.encode())\n",
    "\n",
    "def decompress_string(compressed):\n",
    "    return zlib.decompress(compressed).decode()\n",
    "\n",
    "string = \"hello world!hello world!hello world!hello world!\"\n",
    "compressed = compress_string(string)\n",
    "print(\"Compressed form of the string:\", compressed)\n",
    "\n",
    "decompressed = decompress_string(compressed) \n",
    "print(\"Decompressed string:\", decompressed)"
   ]
  },
  {
   "cell_type": "markdown",
   "id": "968ce2f0",
   "metadata": {},
   "source": [
    "## Question 6"
   ]
  },
  {
   "cell_type": "markdown",
   "id": "533c96da",
   "metadata": {},
   "source": [
    "Please write a binary search function which searches an item in a sorted list. The function should return the index of element to be searched in the list."
   ]
  },
  {
   "cell_type": "markdown",
   "id": "27c5c915",
   "metadata": {},
   "source": [
    "## Answer to the Question 6"
   ]
  },
  {
   "cell_type": "code",
   "execution_count": 20,
   "id": "44fee782",
   "metadata": {},
   "outputs": [],
   "source": [
    "def binary_search(l, n):\n",
    "    low = 0\n",
    "    high = len(l) - 1\n",
    "    \n",
    "    while low <= high:\n",
    "        mid = (low + high)//2\n",
    "        if arr[mid] == n:\n",
    "            return mid\n",
    "        elif arr[mid] > n:\n",
    "            high = mid - 1\n",
    "        else:\n",
    "            low = mid + 1\n",
    "    return -1"
   ]
  },
  {
   "cell_type": "code",
   "execution_count": 21,
   "id": "ef175b3e",
   "metadata": {},
   "outputs": [
    {
     "data": {
      "text/plain": [
       "4"
      ]
     },
     "execution_count": 21,
     "metadata": {},
     "output_type": "execute_result"
    }
   ],
   "source": [
    "arr = [1,3,4,10,20,30,40,45,50, 60, 80,90,100] \n",
    "binary_search(arr, 20)"
   ]
  },
  {
   "cell_type": "code",
   "execution_count": 22,
   "id": "1cfcae60",
   "metadata": {},
   "outputs": [
    {
     "data": {
      "text/plain": [
       "10"
      ]
     },
     "execution_count": 22,
     "metadata": {},
     "output_type": "execute_result"
    }
   ],
   "source": [
    "binary_search(arr, 80)"
   ]
  }
 ],
 "metadata": {
  "kernelspec": {
   "display_name": "Python 3 (ipykernel)",
   "language": "python",
   "name": "python3"
  },
  "language_info": {
   "codemirror_mode": {
    "name": "ipython",
    "version": 3
   },
   "file_extension": ".py",
   "mimetype": "text/x-python",
   "name": "python",
   "nbconvert_exporter": "python",
   "pygments_lexer": "ipython3",
   "version": "3.9.13"
  }
 },
 "nbformat": 4,
 "nbformat_minor": 5
}
