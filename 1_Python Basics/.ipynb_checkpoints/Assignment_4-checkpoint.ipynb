{
 "cells": [
  {
   "cell_type": "markdown",
   "id": "05cd45e9",
   "metadata": {},
   "source": [
    "# Assignment 4"
   ]
  },
  {
   "cell_type": "markdown",
   "id": "96dbf3e6",
   "metadata": {},
   "source": [
    "## Question 1"
   ]
  },
  {
   "cell_type": "markdown",
   "id": "83242489",
   "metadata": {},
   "source": [
    "1. What exactly is []??"
   ]
  },
  {
   "cell_type": "markdown",
   "id": "16983ccc",
   "metadata": {},
   "source": [
    "## Answer to the Question 1"
   ]
  },
  {
   "cell_type": "markdown",
   "id": "81641e0a",
   "metadata": {},
   "source": [
    "It stands for an empty list. We can later add element of any type to an empty list using **append()**."
   ]
  },
  {
   "cell_type": "markdown",
   "id": "e3fd8ada",
   "metadata": {},
   "source": [
    "## Question 2"
   ]
  },
  {
   "cell_type": "markdown",
   "id": "a544247d",
   "metadata": {},
   "source": [
    "In a list of values stored in a variable called spam, how would you assign the value 'hello' as the third value? (Assume [2, 4, 6, 8, 10] are in spam.)"
   ]
  },
  {
   "cell_type": "markdown",
   "id": "512da666",
   "metadata": {},
   "source": [
    "## Answer to the Question 2"
   ]
  },
  {
   "cell_type": "markdown",
   "id": "fbde0563",
   "metadata": {},
   "source": [
    "By using **append()**, we can add a new value to the variable **spam**. To do this, we need to follow the variable by . which then needs to be followed by **append('hello')**. Following is an example:"
   ]
  },
  {
   "cell_type": "code",
   "execution_count": 2,
   "id": "760d643a",
   "metadata": {},
   "outputs": [
    {
     "data": {
      "text/plain": [
       "[2, 4, 6, 8, 10, 'hello']"
      ]
     },
     "execution_count": 2,
     "metadata": {},
     "output_type": "execute_result"
    }
   ],
   "source": [
    "spam = [2, 4, 6, 8, 10]\n",
    "spam.append('hello')\n",
    "spam"
   ]
  },
  {
   "cell_type": "markdown",
   "id": "18db1f75",
   "metadata": {},
   "source": [
    "## Question 3"
   ]
  },
  {
   "cell_type": "markdown",
   "id": "f290e655",
   "metadata": {},
   "source": [
    "What is the value of spam[int(int('3' * 2) / 11)]?"
   ]
  },
  {
   "cell_type": "markdown",
   "id": "674b7495",
   "metadata": {},
   "source": [
    "## Answer to the Question 3"
   ]
  },
  {
   "cell_type": "markdown",
   "id": "3a60e4cd",
   "metadata": {},
   "source": [
    "Here '3' * 2 returns '33', int('3' * 2) converts it to 33 and then (int('3' * 2) / 11) converts 33 to 3 and thus spam[int(int('3' * 2) / 11)] becomes spam[3] and thus returns the fourth value. For the variable **spam** defined above, fourth element of the variable is 8 and thus we get 8."
   ]
  },
  {
   "cell_type": "code",
   "execution_count": 4,
   "id": "8215c8ed",
   "metadata": {},
   "outputs": [
    {
     "data": {
      "text/plain": [
       "8"
      ]
     },
     "execution_count": 4,
     "metadata": {},
     "output_type": "execute_result"
    }
   ],
   "source": [
    "spam[int(int('3' * 2) / 11)]"
   ]
  },
  {
   "cell_type": "markdown",
   "id": "d71aa5ec",
   "metadata": {},
   "source": [
    "## Question 4"
   ]
  },
  {
   "cell_type": "markdown",
   "id": "70177c0e",
   "metadata": {},
   "source": [
    "What is the value of spam[-1]?"
   ]
  },
  {
   "cell_type": "markdown",
   "id": "a6b5d53e",
   "metadata": {},
   "source": [
    "## Answer to the Question 4"
   ]
  },
  {
   "cell_type": "markdown",
   "id": "7324361d",
   "metadata": {},
   "source": [
    "This returns the last element of the list **spam**. For our case, it is **hello**."
   ]
  },
  {
   "cell_type": "code",
   "execution_count": 5,
   "id": "34e1c6c8",
   "metadata": {},
   "outputs": [
    {
     "data": {
      "text/plain": [
       "'hello'"
      ]
     },
     "execution_count": 5,
     "metadata": {},
     "output_type": "execute_result"
    }
   ],
   "source": [
    "spam[-1]"
   ]
  },
  {
   "cell_type": "markdown",
   "id": "d6d5d9d1",
   "metadata": {},
   "source": [
    "## Question 5"
   ]
  },
  {
   "cell_type": "markdown",
   "id": "567a373b",
   "metadata": {},
   "source": [
    "What is the value of spam[:2]?"
   ]
  },
  {
   "cell_type": "markdown",
   "id": "6b5251ea",
   "metadata": {},
   "source": [
    "## Answer to the Question 5"
   ]
  },
  {
   "cell_type": "markdown",
   "id": "19137df1",
   "metadata": {},
   "source": [
    "It returns the first two elements of the list spam. For our case, it will return **2** and **4**."
   ]
  },
  {
   "cell_type": "code",
   "execution_count": 6,
   "id": "868400df",
   "metadata": {},
   "outputs": [
    {
     "data": {
      "text/plain": [
       "[2, 4]"
      ]
     },
     "execution_count": 6,
     "metadata": {},
     "output_type": "execute_result"
    }
   ],
   "source": [
    "spam[:2]"
   ]
  },
  {
   "cell_type": "markdown",
   "id": "ff4326f5",
   "metadata": {},
   "source": [
    "Let's pretend bacon has the list [3.14, 'cat' 11, 'cat' True] for the next three questions."
   ]
  },
  {
   "cell_type": "markdown",
   "id": "90502bee",
   "metadata": {},
   "source": [
    "## Question 6"
   ]
  },
  {
   "cell_type": "markdown",
   "id": "49bcbe66",
   "metadata": {},
   "source": [
    "What is the value of bacon.index('cat')?"
   ]
  },
  {
   "cell_type": "markdown",
   "id": "f9e512e8",
   "metadata": {},
   "source": [
    "## Answer to the Question 6"
   ]
  },
  {
   "cell_type": "markdown",
   "id": "ea1441bc",
   "metadata": {},
   "source": [
    "This returns the first position of the string **'cat'** in the list **bacon**. Here, it will be 1."
   ]
  },
  {
   "cell_type": "code",
   "execution_count": 9,
   "id": "6baabc59",
   "metadata": {},
   "outputs": [
    {
     "data": {
      "text/plain": [
       "1"
      ]
     },
     "execution_count": 9,
     "metadata": {},
     "output_type": "execute_result"
    }
   ],
   "source": [
    "bacon = [3.14, 'cat', 11, 'cat', True]\n",
    "bacon.index('cat')"
   ]
  },
  {
   "cell_type": "markdown",
   "id": "28c550c6",
   "metadata": {},
   "source": [
    "## Question 7"
   ]
  },
  {
   "cell_type": "markdown",
   "id": "2522d957",
   "metadata": {},
   "source": [
    "How does **bacon.append(99)** change the look of the list value in bacon?"
   ]
  },
  {
   "cell_type": "markdown",
   "id": "d0122b7a",
   "metadata": {},
   "source": [
    "## Answer to the Question 7"
   ]
  },
  {
   "cell_type": "markdown",
   "id": "ce05670a",
   "metadata": {},
   "source": [
    "This will add 99 to the end of the list **bacon**. Now, the value of the list **bacon** will be **[3.14, 'cat', 11, 'cat', True, 99]**."
   ]
  },
  {
   "cell_type": "code",
   "execution_count": 10,
   "id": "e07cd448",
   "metadata": {},
   "outputs": [
    {
     "name": "stdout",
     "output_type": "stream",
     "text": [
      "[3.14, 'cat', 11, 'cat', True, 99]\n"
     ]
    }
   ],
   "source": [
    "bacon.append(99)\n",
    "print(bacon)"
   ]
  },
  {
   "cell_type": "markdown",
   "id": "d8764e57",
   "metadata": {},
   "source": [
    "## Question 8"
   ]
  },
  {
   "cell_type": "markdown",
   "id": "d36f6e9b",
   "metadata": {},
   "source": [
    "How does **bacon.remove('cat')** change the look of the list in bacon?"
   ]
  },
  {
   "cell_type": "markdown",
   "id": "1adf07d3",
   "metadata": {},
   "source": [
    "## Answer to the Question 8"
   ]
  },
  {
   "cell_type": "markdown",
   "id": "e1c17f76",
   "metadata": {},
   "source": [
    "**bacon.remove('cat')** will remove the first occurrence of **'cat'** from the list **bacon**. This will change the list **bacon** to **[3.14, 11, 'cat', True, 99]**."
   ]
  },
  {
   "cell_type": "code",
   "execution_count": 11,
   "id": "5256b994",
   "metadata": {},
   "outputs": [
    {
     "name": "stdout",
     "output_type": "stream",
     "text": [
      "[3.14, 11, 'cat', True, 99]\n"
     ]
    }
   ],
   "source": [
    "bacon.remove('cat')\n",
    "print(bacon)"
   ]
  },
  {
   "cell_type": "markdown",
   "id": "c91be4c8",
   "metadata": {},
   "source": [
    "## Question 9"
   ]
  },
  {
   "cell_type": "markdown",
   "id": "3ec5976a",
   "metadata": {},
   "source": [
    "What are the **list concatenation** and **list replication** operators?"
   ]
  },
  {
   "cell_type": "markdown",
   "id": "42250ef4",
   "metadata": {},
   "source": [
    "## Answer to the Question 9"
   ]
  },
  {
   "cell_type": "markdown",
   "id": "d533bf5c",
   "metadata": {},
   "source": [
    "**List concatenation** is used to concatenate elements of two list together. If we concatenate list1 with list2, then elements of list1 and li9st2 are added together. Using **+**, we can concatenate two lists. An example is given below:"
   ]
  },
  {
   "cell_type": "code",
   "execution_count": 12,
   "id": "d83166c4",
   "metadata": {},
   "outputs": [
    {
     "data": {
      "text/plain": [
       "[10, 34, 2, 67, 8, 90, 100, 200, 300, 400, 500]"
      ]
     },
     "execution_count": 12,
     "metadata": {},
     "output_type": "execute_result"
    }
   ],
   "source": [
    "list1 = [10, 34, 2, 67, 8, 90]\n",
    "list2 = [100, 200, 300, 400, 500]\n",
    "list1 + list2"
   ]
  },
  {
   "cell_type": "markdown",
   "id": "802996be",
   "metadata": {},
   "source": [
    "**List replication** is used to replicate a list and using `*` operator, it can be done. Example code for doing this is given below:"
   ]
  },
  {
   "cell_type": "code",
   "execution_count": 13,
   "id": "6146e355",
   "metadata": {},
   "outputs": [
    {
     "name": "stdout",
     "output_type": "stream",
     "text": [
      "[10, 34, 2, 67, 8, 90, 10, 34, 2, 67, 8, 90]\n"
     ]
    }
   ],
   "source": [
    "list1 = [10, 34, 2, 67, 8, 90]\n",
    "list3 = list1 * 2\n",
    "print(list3)"
   ]
  },
  {
   "cell_type": "markdown",
   "id": "d41445a7",
   "metadata": {},
   "source": [
    "## Question 10"
   ]
  },
  {
   "cell_type": "markdown",
   "id": "cfd24504",
   "metadata": {},
   "source": [
    "What is difference between the list methods **append()** and **insert()**?"
   ]
  },
  {
   "cell_type": "markdown",
   "id": "b21782fd",
   "metadata": {},
   "source": [
    "## Answer to the Question 10"
   ]
  },
  {
   "cell_type": "markdown",
   "id": "69c38868",
   "metadata": {},
   "source": [
    "**append()** inserts an element to the end of the list whiile **insert()** inserts an element at a specified position in a list. Exam,ple code is given below:"
   ]
  },
  {
   "cell_type": "code",
   "execution_count": 15,
   "id": "ca8d7a88",
   "metadata": {},
   "outputs": [
    {
     "name": "stdout",
     "output_type": "stream",
     "text": [
      "[20, 30, 40, 90]\n"
     ]
    }
   ],
   "source": [
    "price = [20, 30, 40]\n",
    "price.append(90) # adds 90 to the end of the list price\n",
    "print(price)"
   ]
  },
  {
   "cell_type": "code",
   "execution_count": 16,
   "id": "f2bee8ec",
   "metadata": {},
   "outputs": [
    {
     "name": "stdout",
     "output_type": "stream",
     "text": [
      "[20, 100, 30, 40, 90]\n"
     ]
    }
   ],
   "source": [
    "# add 100 at position 2 or index 1\n",
    "price.insert(1, 100)\n",
    "print(price)"
   ]
  },
  {
   "cell_type": "markdown",
   "id": "90cb1ce6",
   "metadata": {},
   "source": [
    "## Question 11"
   ]
  },
  {
   "cell_type": "markdown",
   "id": "6babb769",
   "metadata": {},
   "source": [
    "What are the two methods for removing items from a list?"
   ]
  },
  {
   "cell_type": "markdown",
   "id": "cdd1a1f4",
   "metadata": {},
   "source": [
    "## Answer to the Question 11"
   ]
  },
  {
   "cell_type": "markdown",
   "id": "7b0b9280",
   "metadata": {},
   "source": [
    "Using **remove** method, we can remove a specified value from a list. Using **pop**, we can remove and return the last element of the list. Example code is given below:"
   ]
  },
  {
   "cell_type": "code",
   "execution_count": 22,
   "id": "e231cf87",
   "metadata": {},
   "outputs": [
    {
     "name": "stdout",
     "output_type": "stream",
     "text": [
      "[20, 40, 60, 100, 10, 0, 15]\n"
     ]
    }
   ],
   "source": [
    "price = [20, 30, 40, 60, 100, 10, 0, 15]\n",
    "price.remove(30) # remove the element 30 from the list price\n",
    "print(price)"
   ]
  },
  {
   "cell_type": "code",
   "execution_count": 23,
   "id": "cd5c26b8",
   "metadata": {},
   "outputs": [
    {
     "name": "stdout",
     "output_type": "stream",
     "text": [
      "[20, 40, 60, 100, 10, 0]\n"
     ]
    }
   ],
   "source": [
    "last = price.pop() # the last value 15 is removed from the list price and it is assigned to last\n",
    "print(price)"
   ]
  },
  {
   "cell_type": "markdown",
   "id": "d468b17c",
   "metadata": {},
   "source": [
    "## Question 12"
   ]
  },
  {
   "cell_type": "markdown",
   "id": "1d03e5de",
   "metadata": {},
   "source": [
    "What's the difference between tuples and lists?"
   ]
  },
  {
   "cell_type": "markdown",
   "id": "915b5490",
   "metadata": {},
   "source": [
    "## Answer to the Question 12"
   ]
  },
  {
   "cell_type": "markdown",
   "id": "bab2133c",
   "metadata": {},
   "source": [
    "They are both used for representing or storing collection of elements. List can have elements of any data types, including string. Both of them can be accessed using positional indexing. Elements of a list can be accessed using **[]**, similarly characters of a string can also be accessed using **[]**."
   ]
  },
  {
   "cell_type": "code",
   "execution_count": 27,
   "id": "31d18230",
   "metadata": {},
   "outputs": [
    {
     "data": {
      "text/plain": [
       "10"
      ]
     },
     "execution_count": 27,
     "metadata": {},
     "output_type": "execute_result"
    }
   ],
   "source": [
    "price = [20, 30, 40, 60, 100, 10, 0, 15]\n",
    "price[5] # Access 6th element of the list price"
   ]
  },
  {
   "cell_type": "code",
   "execution_count": 25,
   "id": "0d28bd9e",
   "metadata": {},
   "outputs": [
    {
     "data": {
      "text/plain": [
       "'k'"
      ]
     },
     "execution_count": 25,
     "metadata": {},
     "output_type": "execute_result"
    }
   ],
   "source": [
    "ac = \"bbbbbkbjksaldfgnvsakjdfvn\"\n",
    "ac[8] # returns the 9th character of the string ac"
   ]
  },
  {
   "cell_type": "markdown",
   "id": "dae59953",
   "metadata": {},
   "source": [
    "import spam\n",
    "spam.bacon()"
   ]
  },
  {
   "cell_type": "markdown",
   "id": "e5de3d07",
   "metadata": {},
   "source": [
    "## Question 13"
   ]
  },
  {
   "cell_type": "markdown",
   "id": "af510494",
   "metadata": {},
   "source": [
    "What's the difference between tuples and lists?"
   ]
  },
  {
   "cell_type": "markdown",
   "id": "b6550b9b",
   "metadata": {},
   "source": [
    "## Answer to the Question 13"
   ]
  },
  {
   "cell_type": "markdown",
   "id": "f5a79d44",
   "metadata": {},
   "source": [
    "Tuples are defined using **()** and list is defined using **[]**. While elements of a list are mutable or changeable, elements of tuple are immutable or unchangeable. Tuple are normally faster than tuple."
   ]
  },
  {
   "cell_type": "markdown",
   "id": "4e0681c8",
   "metadata": {},
   "source": [
    "## Question 14"
   ]
  },
  {
   "cell_type": "markdown",
   "id": "ae1353a1",
   "metadata": {},
   "source": [
    "How do you type a tuple value that only contains the integer 42?"
   ]
  },
  {
   "cell_type": "markdown",
   "id": "4c3bff48",
   "metadata": {},
   "source": [
    "## Answer to the Question 14"
   ]
  },
  {
   "cell_type": "markdown",
   "id": "e4f4edfc",
   "metadata": {},
   "source": [
    "We can use the syntax `(42, )` to create a tuple that only contains the integer 42."
   ]
  },
  {
   "cell_type": "code",
   "execution_count": 28,
   "id": "15321ce0",
   "metadata": {},
   "outputs": [
    {
     "data": {
      "text/plain": [
       "(42,)"
      ]
     },
     "execution_count": 28,
     "metadata": {},
     "output_type": "execute_result"
    }
   ],
   "source": [
    "(42, )"
   ]
  },
  {
   "cell_type": "markdown",
   "id": "0c3ab1ca",
   "metadata": {},
   "source": [
    "## Question 15 "
   ]
  },
  {
   "cell_type": "markdown",
   "id": "30798fc2",
   "metadata": {},
   "source": [
    "How do you get a list value's tuple form? How do you get a tuple value's list form?"
   ]
  },
  {
   "cell_type": "markdown",
   "id": "6be2e9ec",
   "metadata": {},
   "source": [
    "## Answer to the Question 15"
   ]
  },
  {
   "cell_type": "markdown",
   "id": "f8b7b9fd",
   "metadata": {},
   "source": [
    "By using **tuple()**, we can convert a list to tuple. We can use **list()** to get a tuple value's list form."
   ]
  },
  {
   "cell_type": "code",
   "execution_count": 30,
   "id": "d7d50c22",
   "metadata": {},
   "outputs": [
    {
     "name": "stdout",
     "output_type": "stream",
     "text": [
      "(20, 30, 40, 60, 100, 10, 0, 15)\n"
     ]
    }
   ],
   "source": [
    "# convert a list to tuple\n",
    "price = [20, 30, 40, 60, 100, 10, 0, 15]\n",
    "price_tuple = tuple(price)\n",
    "print(price_tuple)"
   ]
  },
  {
   "cell_type": "code",
   "execution_count": 31,
   "id": "42242a1c",
   "metadata": {},
   "outputs": [
    {
     "name": "stdout",
     "output_type": "stream",
     "text": [
      "[20, 30, 40, 60, 100, 10, 0, 15]\n"
     ]
    }
   ],
   "source": [
    "# convert a tuple back to list\n",
    "price_list_again = list(price_tuple)\n",
    "print(price_list_again)"
   ]
  },
  {
   "cell_type": "markdown",
   "id": "78fff6da",
   "metadata": {},
   "source": [
    "## Question 16"
   ]
  },
  {
   "cell_type": "markdown",
   "id": "cc4a8a64",
   "metadata": {},
   "source": [
    "Variables that \"contain\" list values are not necessarily lists themselves. Instead, what do they contain?"
   ]
  },
  {
   "cell_type": "markdown",
   "id": "4bf94d47",
   "metadata": {},
   "source": [
    "## Answer to the Question 16"
   ]
  },
  {
   "cell_type": "markdown",
   "id": "f8961a60",
   "metadata": {},
   "source": [
    "They actually contain reference to list objects and not the list values."
   ]
  },
  {
   "cell_type": "code",
   "execution_count": null,
   "id": "32944513",
   "metadata": {},
   "outputs": [],
   "source": []
  }
 ],
 "metadata": {
  "kernelspec": {
   "display_name": "Python 3 (ipykernel)",
   "language": "python",
   "name": "python3"
  },
  "language_info": {
   "codemirror_mode": {
    "name": "ipython",
    "version": 3
   },
   "file_extension": ".py",
   "mimetype": "text/x-python",
   "name": "python",
   "nbconvert_exporter": "python",
   "pygments_lexer": "ipython3",
   "version": "3.9.13"
  }
 },
 "nbformat": 4,
 "nbformat_minor": 5
}
