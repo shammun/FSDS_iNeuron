{
 "cells": [
  {
   "cell_type": "markdown",
   "id": "05cd45e9",
   "metadata": {},
   "source": [
    "# Programming Assignment 12"
   ]
  },
  {
   "cell_type": "markdown",
   "id": "96dbf3e6",
   "metadata": {},
   "source": [
    "## Question 1"
   ]
  },
  {
   "cell_type": "markdown",
   "id": "83242489",
   "metadata": {},
   "source": [
    "Write a Python program to Extract Unique values dictionary values?"
   ]
  },
  {
   "cell_type": "markdown",
   "id": "16983ccc",
   "metadata": {},
   "source": [
    "## Answer to the Question 1"
   ]
  },
  {
   "cell_type": "code",
   "execution_count": 5,
   "id": "b9d0dfee",
   "metadata": {},
   "outputs": [],
   "source": [
    "def unique_values_dict(d):\n",
    "    return list(set(d.values()))"
   ]
  },
  {
   "cell_type": "code",
   "execution_count": 6,
   "id": "dd90dd95",
   "metadata": {},
   "outputs": [],
   "source": [
    "d = {\"ab\": 1234, \"mm\": 234, \"nn\": 234, \"ac\": 879}"
   ]
  },
  {
   "cell_type": "code",
   "execution_count": 7,
   "id": "ba749f3e",
   "metadata": {},
   "outputs": [
    {
     "name": "stdout",
     "output_type": "stream",
     "text": [
      "[1234, 234, 879]\n"
     ]
    }
   ],
   "source": [
    "print(unique_values_dict(d))"
   ]
  },
  {
   "cell_type": "markdown",
   "id": "e3fd8ada",
   "metadata": {},
   "source": [
    "## Question 2"
   ]
  },
  {
   "cell_type": "markdown",
   "id": "a544247d",
   "metadata": {},
   "source": [
    "Write a Python program to find the sum of all items in a dictionary?"
   ]
  },
  {
   "cell_type": "markdown",
   "id": "512da666",
   "metadata": {},
   "source": [
    "## Answer to the Question 2"
   ]
  },
  {
   "cell_type": "code",
   "execution_count": 8,
   "id": "c1778599",
   "metadata": {},
   "outputs": [],
   "source": [
    "def sum_dict(d):\n",
    "    return sum(d.values())"
   ]
  },
  {
   "cell_type": "code",
   "execution_count": 9,
   "id": "ee532b52",
   "metadata": {},
   "outputs": [
    {
     "data": {
      "text/plain": [
       "2581"
      ]
     },
     "execution_count": 9,
     "metadata": {},
     "output_type": "execute_result"
    }
   ],
   "source": [
    "sum_dict(d)"
   ]
  },
  {
   "cell_type": "markdown",
   "id": "18db1f75",
   "metadata": {},
   "source": [
    "## Question 3"
   ]
  },
  {
   "cell_type": "markdown",
   "id": "f290e655",
   "metadata": {},
   "source": [
    "Write a Python program to Merging two Dictionaries?"
   ]
  },
  {
   "cell_type": "markdown",
   "id": "674b7495",
   "metadata": {},
   "source": [
    "## Answer to the Question 3"
   ]
  },
  {
   "cell_type": "code",
   "execution_count": 10,
   "id": "2783c5e1",
   "metadata": {},
   "outputs": [],
   "source": [
    "def merge_dict(d1, d2):\n",
    "    return {**d1, **d2}"
   ]
  },
  {
   "cell_type": "code",
   "execution_count": 11,
   "id": "523c2c83",
   "metadata": {},
   "outputs": [],
   "source": [
    "d1 = {\"ab\": 1234, \"mm\": 234, \"nn\": 234, \"ac\": 879}\n",
    "d2 = {\"potato\": 30, \"rice\": 95, \"pulse\": 110, \"cabbage\": 20}"
   ]
  },
  {
   "cell_type": "code",
   "execution_count": 12,
   "id": "62722a21",
   "metadata": {},
   "outputs": [
    {
     "data": {
      "text/plain": [
       "{'ab': 1234,\n",
       " 'mm': 234,\n",
       " 'nn': 234,\n",
       " 'ac': 879,\n",
       " 'potato': 30,\n",
       " 'rice': 95,\n",
       " 'pulse': 110,\n",
       " 'cabbage': 20}"
      ]
     },
     "execution_count": 12,
     "metadata": {},
     "output_type": "execute_result"
    }
   ],
   "source": [
    "merge_dict(d1, d2)"
   ]
  },
  {
   "cell_type": "markdown",
   "id": "d71aa5ec",
   "metadata": {},
   "source": [
    "## Question 4"
   ]
  },
  {
   "cell_type": "markdown",
   "id": "70177c0e",
   "metadata": {},
   "source": [
    "Write a Python program to convert key-values list to flat dictionary?"
   ]
  },
  {
   "cell_type": "markdown",
   "id": "a6b5d53e",
   "metadata": {},
   "source": [
    "## Answer to the Question 4"
   ]
  },
  {
   "cell_type": "code",
   "execution_count": 13,
   "id": "470dc716",
   "metadata": {},
   "outputs": [],
   "source": [
    "def flat_dict(l):\n",
    "    return dict(l)"
   ]
  },
  {
   "cell_type": "code",
   "execution_count": 14,
   "id": "c6c2be92",
   "metadata": {},
   "outputs": [],
   "source": [
    "l1 = [(\"potato\", 30), (\"rice\", 95), (\"pulse\", 110), (\"cabbage\", 20)]"
   ]
  },
  {
   "cell_type": "code",
   "execution_count": 15,
   "id": "ce051715",
   "metadata": {},
   "outputs": [
    {
     "name": "stdout",
     "output_type": "stream",
     "text": [
      "{'potato': 30, 'rice': 95, 'pulse': 110, 'cabbage': 20}\n"
     ]
    }
   ],
   "source": [
    "print(flat_dict(l1))"
   ]
  },
  {
   "cell_type": "markdown",
   "id": "d6d5d9d1",
   "metadata": {},
   "source": [
    "## Question 5"
   ]
  },
  {
   "cell_type": "markdown",
   "id": "567a373b",
   "metadata": {},
   "source": [
    "Write a Python program to insertion at the beginning in OrderedDict?"
   ]
  },
  {
   "cell_type": "markdown",
   "id": "6b5251ea",
   "metadata": {},
   "source": [
    "## Answer to the Question 5"
   ]
  },
  {
   "cell_type": "code",
   "execution_count": 24,
   "id": "873d756a",
   "metadata": {},
   "outputs": [],
   "source": [
    "import collections\n",
    "from collections import OrderedDict\n",
    "def insert_beginning_orddict(od, k, v):\n",
    "    od.update({k: v})\n",
    "    od.move_to_end(k, last = False) # This line moves the key to the beginning\n",
    "    return od"
   ]
  },
  {
   "cell_type": "code",
   "execution_count": 25,
   "id": "31747f0e",
   "metadata": {},
   "outputs": [],
   "source": [
    "od = OrderedDict([(\"potato\", 30), (\"rice\", 95), (\"pulse\", 110)])"
   ]
  },
  {
   "cell_type": "code",
   "execution_count": 26,
   "id": "d60fce0d",
   "metadata": {},
   "outputs": [
    {
     "name": "stdout",
     "output_type": "stream",
     "text": [
      "OrderedDict([('cabbage', 20), ('potato', 30), ('rice', 95), ('pulse', 110)])\n"
     ]
    }
   ],
   "source": [
    "print(insert_beginning_orddict(od, \"cabbage\", 20))"
   ]
  },
  {
   "cell_type": "code",
   "execution_count": 27,
   "id": "bce9a9a8",
   "metadata": {},
   "outputs": [
    {
     "data": {
      "text/plain": [
       "OrderedDict([('cabbage', 20), ('potato', 30), ('rice', 95), ('pulse', 110)])"
      ]
     },
     "execution_count": 27,
     "metadata": {},
     "output_type": "execute_result"
    }
   ],
   "source": [
    "od"
   ]
  },
  {
   "cell_type": "markdown",
   "id": "968ce2f0",
   "metadata": {},
   "source": [
    "## Question 6"
   ]
  },
  {
   "cell_type": "markdown",
   "id": "533c96da",
   "metadata": {},
   "source": [
    "Write a Python program to check order of character in string using OrderedDict()?"
   ]
  },
  {
   "cell_type": "markdown",
   "id": "27c5c915",
   "metadata": {},
   "source": [
    "## Answer to the Question 6"
   ]
  },
  {
   "cell_type": "code",
   "execution_count": 35,
   "id": "44fee782",
   "metadata": {},
   "outputs": [],
   "source": [
    "from collections import OrderedDict\n",
    "def check_order(string, pattern):\n",
    "    od = OrderedDict.fromkeys(string)\n",
    "    pos = 0\n",
    "    for key, value in od.items():\n",
    "        if key == pattern[pos]:\n",
    "            pos += 1\n",
    "        if pos == len(pattern):\n",
    "            return True\n",
    "    return False"
   ]
  },
  {
   "cell_type": "code",
   "execution_count": 36,
   "id": "ef175b3e",
   "metadata": {},
   "outputs": [
    {
     "name": "stdout",
     "output_type": "stream",
     "text": [
      "True\n"
     ]
    }
   ],
   "source": [
    "string = \"apple banana mango\"\n",
    "pattern = \"le \"\n",
    "print(check_order(string, pattern))"
   ]
  },
  {
   "cell_type": "code",
   "execution_count": 42,
   "id": "1cfcae60",
   "metadata": {},
   "outputs": [
    {
     "name": "stdout",
     "output_type": "stream",
     "text": [
      "True\n"
     ]
    }
   ],
   "source": [
    "string = \"apple banana mango\"\n",
    "pattern = \"le\"\n",
    "print(check_order(string, pattern))"
   ]
  },
  {
   "cell_type": "markdown",
   "id": "e2d7e3ef",
   "metadata": {},
   "source": [
    "## Question 7"
   ]
  },
  {
   "cell_type": "markdown",
   "id": "4cea995c",
   "metadata": {},
   "source": [
    "Write a Python program to sort Python Dictionaries by Key or Value?"
   ]
  },
  {
   "cell_type": "markdown",
   "id": "511539f1",
   "metadata": {},
   "source": [
    "## Answer to the Question 7"
   ]
  },
  {
   "cell_type": "code",
   "execution_count": 43,
   "id": "e318f50a",
   "metadata": {},
   "outputs": [],
   "source": [
    "def sort_dict(d):\n",
    "    return OrderedDict(sorted(d.items()))"
   ]
  },
  {
   "cell_type": "code",
   "execution_count": 45,
   "id": "f3dfd348",
   "metadata": {},
   "outputs": [],
   "source": [
    "d2 = {\"potato\": 30, \"rice\": 95, \"pulse\": 110, \"cabbage\": 20}"
   ]
  },
  {
   "cell_type": "code",
   "execution_count": 46,
   "id": "aa917a4b",
   "metadata": {},
   "outputs": [
    {
     "name": "stdout",
     "output_type": "stream",
     "text": [
      "OrderedDict([('cabbage', 20), ('potato', 30), ('pulse', 110), ('rice', 95)])\n"
     ]
    }
   ],
   "source": [
    "print(sort_dict(d2))"
   ]
  }
 ],
 "metadata": {
  "kernelspec": {
   "display_name": "Python 3 (ipykernel)",
   "language": "python",
   "name": "python3"
  },
  "language_info": {
   "codemirror_mode": {
    "name": "ipython",
    "version": 3
   },
   "file_extension": ".py",
   "mimetype": "text/x-python",
   "name": "python",
   "nbconvert_exporter": "python",
   "pygments_lexer": "ipython3",
   "version": "3.9.13"
  }
 },
 "nbformat": 4,
 "nbformat_minor": 5
}
