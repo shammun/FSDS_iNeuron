{
 "cells": [
  {
   "cell_type": "markdown",
   "id": "05cd45e9",
   "metadata": {},
   "source": [
    "# Assignment 25"
   ]
  },
  {
   "cell_type": "markdown",
   "id": "96dbf3e6",
   "metadata": {},
   "source": [
    "## Question 1"
   ]
  },
  {
   "cell_type": "markdown",
   "id": "83242489",
   "metadata": {},
   "source": [
    "What is the difference between enclosing a list comprehension in square brackets and parentheses?"
   ]
  },
  {
   "cell_type": "markdown",
   "id": "16983ccc",
   "metadata": {},
   "source": [
    "## Answer to the Question 1"
   ]
  },
  {
   "cell_type": "markdown",
   "id": "b787b77c",
   "metadata": {},
   "source": [
    "The square brackets `[]` in the list comprehension produces a list and parentheses `()` indicates generator expression. Generators are more memory-efficient than list as they generate  elements on demand instead of storing all of them at once."
   ]
  },
  {
   "cell_type": "markdown",
   "id": "e3fd8ada",
   "metadata": {},
   "source": [
    "## Question 2"
   ]
  },
  {
   "cell_type": "markdown",
   "id": "a544247d",
   "metadata": {},
   "source": [
    "What is the relationship between generators and iterators?"
   ]
  },
  {
   "cell_type": "markdown",
   "id": "512da666",
   "metadata": {},
   "source": [
    "## Answer to the Question 2"
   ]
  },
  {
   "cell_type": "markdown",
   "id": "0ed52ed7",
   "metadata": {},
   "source": [
    "Generator is implemented using the **yield** keywod and it leverages lazy evaluation. Iterators are objects that can be iterated on and using **iter()** function on the list, we can convert a list into iterator. Now, using **next()** function, we can return the next item in this iterator. "
   ]
  },
  {
   "cell_type": "markdown",
   "id": "18db1f75",
   "metadata": {},
   "source": [
    "## Question 3"
   ]
  },
  {
   "cell_type": "markdown",
   "id": "f290e655",
   "metadata": {},
   "source": [
    "What are the signs that a function is a generator function?"
   ]
  },
  {
   "cell_type": "markdown",
   "id": "674b7495",
   "metadata": {},
   "source": [
    "## Answer to the Question 3"
   ]
  },
  {
   "cell_type": "markdown",
   "id": "3a60e4cd",
   "metadata": {},
   "source": [
    "The function will have a `yield` statement."
   ]
  },
  {
   "cell_type": "markdown",
   "id": "d71aa5ec",
   "metadata": {},
   "source": [
    "## Question 4"
   ]
  },
  {
   "cell_type": "markdown",
   "id": "70177c0e",
   "metadata": {},
   "source": [
    "What is the purpose of a yield statement?"
   ]
  },
  {
   "cell_type": "markdown",
   "id": "a6b5d53e",
   "metadata": {},
   "source": [
    "## Answer to the Question 4"
   ]
  },
  {
   "cell_type": "markdown",
   "id": "796d6369",
   "metadata": {},
   "source": [
    "`yield` returns a generator object instead of a value."
   ]
  },
  {
   "cell_type": "markdown",
   "id": "d6d5d9d1",
   "metadata": {},
   "source": [
    "## Question 5"
   ]
  },
  {
   "cell_type": "markdown",
   "id": "567a373b",
   "metadata": {},
   "source": [
    "What is the relationship between map calls and list comprehensions? Make a comparison and contrast between the two."
   ]
  },
  {
   "cell_type": "markdown",
   "id": "6b5251ea",
   "metadata": {},
   "source": [
    "## Answer to the Question 5"
   ]
  },
  {
   "cell_type": "markdown",
   "id": "20c49d36",
   "metadata": {},
   "source": [
    "Both of the `map` and list comprehension are used to apply a function to each element of an iterable and creates a new list. `map` takes two or more arguments: a function and one or more iterables. It returns a `map` object which can be converted into different data structures. Below is an example code to illustrate its use."
   ]
  },
  {
   "cell_type": "code",
   "execution_count": 1,
   "id": "c72a7dd0",
   "metadata": {},
   "outputs": [
    {
     "name": "stdout",
     "output_type": "stream",
     "text": [
      "[16, 25, 3600, 144, 4]\n"
     ]
    }
   ],
   "source": [
    "def square(x):\n",
    "    return x**2\n",
    "squared_num = list(map(square, [4, 5, 60, 12, -2]))\n",
    "print(squared_num)"
   ]
  },
  {
   "cell_type": "markdown",
   "id": "d1c2b97e",
   "metadata": {},
   "source": [
    "List comprehension provides a concise and easy way to create new list. The above functionality showed in the code can be also replicated using list comprehension as below:"
   ]
  },
  {
   "cell_type": "code",
   "execution_count": 2,
   "id": "450b1567",
   "metadata": {},
   "outputs": [
    {
     "name": "stdout",
     "output_type": "stream",
     "text": [
      "[16, 25, 3600, 144, 4]\n"
     ]
    }
   ],
   "source": [
    "squared_num = [x**2 for x in [4, 5, 60, 12, -2]]\n",
    "print(squared_num)"
   ]
  },
  {
   "cell_type": "code",
   "execution_count": null,
   "id": "bcb42413",
   "metadata": {},
   "outputs": [],
   "source": []
  }
 ],
 "metadata": {
  "kernelspec": {
   "display_name": "Python 3 (ipykernel)",
   "language": "python",
   "name": "python3"
  },
  "language_info": {
   "codemirror_mode": {
    "name": "ipython",
    "version": 3
   },
   "file_extension": ".py",
   "mimetype": "text/x-python",
   "name": "python",
   "nbconvert_exporter": "python",
   "pygments_lexer": "ipython3",
   "version": "3.9.13"
  }
 },
 "nbformat": 4,
 "nbformat_minor": 5
}
