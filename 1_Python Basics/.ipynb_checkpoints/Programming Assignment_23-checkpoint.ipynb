{
 "cells": [
  {
   "cell_type": "markdown",
   "id": "05cd45e9",
   "metadata": {},
   "source": [
    "# Programming Assignment 23"
   ]
  },
  {
   "cell_type": "markdown",
   "id": "96dbf3e6",
   "metadata": {},
   "source": [
    "## Question 1"
   ]
  },
  {
   "cell_type": "markdown",
   "id": "83242489",
   "metadata": {},
   "source": [
    "Create a function that takes a number as an argument and returns True or False depending on whether the number is symmetrical or not. A number is symmetrical when it is the same as its reverse.\n",
    "\n",
    "#### Examples\n",
    "\n",
    "is_symmetrical(7227) ➞ True\n",
    "\n",
    "is_symmetrical(12567) ➞ False\n",
    "\n",
    "is_symmetrical(44444444) ➞ True\n",
    "\n",
    "is_symmetrical(9939) ➞ False\n",
    "\n",
    "is_symmetrical(1112111) ➞ True\n"
   ]
  },
  {
   "cell_type": "markdown",
   "id": "16983ccc",
   "metadata": {},
   "source": [
    "## Answer to the Question 1"
   ]
  },
  {
   "cell_type": "code",
   "execution_count": 1,
   "id": "b9d0dfee",
   "metadata": {},
   "outputs": [],
   "source": [
    "def is_symmetrical(n):\n",
    "    return str(n) == str(n)[::-1]"
   ]
  },
  {
   "cell_type": "code",
   "execution_count": 2,
   "id": "dd90dd95",
   "metadata": {},
   "outputs": [
    {
     "data": {
      "text/plain": [
       "True"
      ]
     },
     "execution_count": 2,
     "metadata": {},
     "output_type": "execute_result"
    }
   ],
   "source": [
    "is_symmetrical(7227)"
   ]
  },
  {
   "cell_type": "code",
   "execution_count": 3,
   "id": "a7d6adf3",
   "metadata": {},
   "outputs": [
    {
     "data": {
      "text/plain": [
       "False"
      ]
     },
     "execution_count": 3,
     "metadata": {},
     "output_type": "execute_result"
    }
   ],
   "source": [
    "is_symmetrical(12567)"
   ]
  },
  {
   "cell_type": "code",
   "execution_count": 4,
   "id": "959089d4",
   "metadata": {},
   "outputs": [
    {
     "data": {
      "text/plain": [
       "True"
      ]
     },
     "execution_count": 4,
     "metadata": {},
     "output_type": "execute_result"
    }
   ],
   "source": [
    "is_symmetrical(44444444) "
   ]
  },
  {
   "cell_type": "code",
   "execution_count": 5,
   "id": "2965223a",
   "metadata": {},
   "outputs": [
    {
     "data": {
      "text/plain": [
       "False"
      ]
     },
     "execution_count": 5,
     "metadata": {},
     "output_type": "execute_result"
    }
   ],
   "source": [
    "is_symmetrical(9939)"
   ]
  },
  {
   "cell_type": "code",
   "execution_count": 6,
   "id": "e6a7e8c2",
   "metadata": {},
   "outputs": [
    {
     "data": {
      "text/plain": [
       "True"
      ]
     },
     "execution_count": 6,
     "metadata": {},
     "output_type": "execute_result"
    }
   ],
   "source": [
    "is_symmetrical(1112111)"
   ]
  },
  {
   "cell_type": "markdown",
   "id": "e3fd8ada",
   "metadata": {},
   "source": [
    "## Question 2"
   ]
  },
  {
   "cell_type": "markdown",
   "id": "a544247d",
   "metadata": {},
   "source": [
    "Given a string of numbers separated by a comma and space, return the product of the numbers.\n",
    "\n",
    "#### Examples\n",
    "\n",
    "multiply_nums(\"2, 3\") ➞ 6\n",
    "\n",
    "multiply_nums(\"1, 2, 3, 4\") ➞ 24\n",
    "\n",
    "multiply_nums(\"54, 75, 453, 0\") ➞ 0\n",
    "\n",
    "multiply_nums(\"10, -2\") ➞ -20\n"
   ]
  },
  {
   "cell_type": "markdown",
   "id": "512da666",
   "metadata": {},
   "source": [
    "## Answer to the Question 2"
   ]
  },
  {
   "cell_type": "code",
   "execution_count": 10,
   "id": "c1778599",
   "metadata": {},
   "outputs": [],
   "source": [
    "from functools import reduce\n",
    "def multiply_nums(str):\n",
    "    lst = str.split(\",\")\n",
    "    return reduce(lambda x, y: int(x)*int(y), lst)"
   ]
  },
  {
   "cell_type": "code",
   "execution_count": 11,
   "id": "ee532b52",
   "metadata": {},
   "outputs": [
    {
     "data": {
      "text/plain": [
       "6"
      ]
     },
     "execution_count": 11,
     "metadata": {},
     "output_type": "execute_result"
    }
   ],
   "source": [
    "multiply_nums(\"2, 3\") "
   ]
  },
  {
   "cell_type": "code",
   "execution_count": 12,
   "id": "9d907ccd",
   "metadata": {},
   "outputs": [
    {
     "data": {
      "text/plain": [
       "24"
      ]
     },
     "execution_count": 12,
     "metadata": {},
     "output_type": "execute_result"
    }
   ],
   "source": [
    "multiply_nums(\"1, 2, 3, 4\")"
   ]
  },
  {
   "cell_type": "code",
   "execution_count": 13,
   "id": "6d2b0dc4",
   "metadata": {},
   "outputs": [
    {
     "data": {
      "text/plain": [
       "0"
      ]
     },
     "execution_count": 13,
     "metadata": {},
     "output_type": "execute_result"
    }
   ],
   "source": [
    "multiply_nums(\"54, 75, 453, 0\")"
   ]
  },
  {
   "cell_type": "code",
   "execution_count": 14,
   "id": "afdf8b86",
   "metadata": {},
   "outputs": [
    {
     "data": {
      "text/plain": [
       "-20"
      ]
     },
     "execution_count": 14,
     "metadata": {},
     "output_type": "execute_result"
    }
   ],
   "source": [
    "multiply_nums(\"10, -2\")"
   ]
  },
  {
   "cell_type": "markdown",
   "id": "18db1f75",
   "metadata": {},
   "source": [
    "## Question 3"
   ]
  },
  {
   "cell_type": "markdown",
   "id": "f290e655",
   "metadata": {},
   "source": [
    "Create a function that squares every digit of a number.\n",
    "\n",
    "#### Examples\n",
    "\n",
    "square_digits(9119) ➞ 811181\n",
    "\n",
    "square_digits(2483) ➞ 416649\n",
    "\n",
    "square_digits(3212) ➞ 9414\n",
    "\n",
    "#### Notes\n",
    "\n",
    "The function receives an integer and must return an integer.\n"
   ]
  },
  {
   "cell_type": "markdown",
   "id": "674b7495",
   "metadata": {},
   "source": [
    "## Answer to the Question 3"
   ]
  },
  {
   "cell_type": "code",
   "execution_count": 21,
   "id": "2783c5e1",
   "metadata": {},
   "outputs": [],
   "source": [
    "def square_digits(digit):\n",
    "    return int(''.join([str((int(ch))**2) for ch in str(digit)]))"
   ]
  },
  {
   "cell_type": "code",
   "execution_count": 22,
   "id": "523c2c83",
   "metadata": {},
   "outputs": [
    {
     "data": {
      "text/plain": [
       "811181"
      ]
     },
     "execution_count": 22,
     "metadata": {},
     "output_type": "execute_result"
    }
   ],
   "source": [
    "square_digits(9119)"
   ]
  },
  {
   "cell_type": "code",
   "execution_count": 23,
   "id": "62722a21",
   "metadata": {},
   "outputs": [
    {
     "data": {
      "text/plain": [
       "416649"
      ]
     },
     "execution_count": 23,
     "metadata": {},
     "output_type": "execute_result"
    }
   ],
   "source": [
    "square_digits(2483)"
   ]
  },
  {
   "cell_type": "code",
   "execution_count": 24,
   "id": "3c52184e",
   "metadata": {},
   "outputs": [
    {
     "data": {
      "text/plain": [
       "9414"
      ]
     },
     "execution_count": 24,
     "metadata": {},
     "output_type": "execute_result"
    }
   ],
   "source": [
    "square_digits(3212) "
   ]
  },
  {
   "cell_type": "markdown",
   "id": "d71aa5ec",
   "metadata": {},
   "source": [
    "## Question 4"
   ]
  },
  {
   "cell_type": "markdown",
   "id": "70177c0e",
   "metadata": {},
   "source": [
    "Create a function that sorts a list and removes all duplicate items from it.\n",
    "\n",
    "#### Examples\n",
    "\n",
    "setify([1, 3, 3, 5, 5]) ➞ [1, 3, 5]\n",
    "\n",
    "setify([4, 4, 4, 4]) ➞ [4]\n",
    "\n",
    "setify([5, 7, 8, 9, 10, 15]) ➞ [5, 7, 8, 9, 10, 15]\n",
    "\n",
    "setify([3, 3, 3, 2, 1]) ➞ [1, 2, 3]\n"
   ]
  },
  {
   "cell_type": "markdown",
   "id": "a6b5d53e",
   "metadata": {},
   "source": [
    "## Answer to the Question 4"
   ]
  },
  {
   "cell_type": "code",
   "execution_count": 34,
   "id": "feddbc56",
   "metadata": {},
   "outputs": [],
   "source": [
    "def setify(lst):\n",
    "    return sorted(list(set(lst)), key=int)"
   ]
  },
  {
   "cell_type": "code",
   "execution_count": 35,
   "id": "470dc716",
   "metadata": {},
   "outputs": [
    {
     "data": {
      "text/plain": [
       "[1, 3, 5]"
      ]
     },
     "execution_count": 35,
     "metadata": {},
     "output_type": "execute_result"
    }
   ],
   "source": [
    "setify([1, 3, 3, 5, 5]) "
   ]
  },
  {
   "cell_type": "code",
   "execution_count": 36,
   "id": "c6c2be92",
   "metadata": {},
   "outputs": [
    {
     "data": {
      "text/plain": [
       "[4]"
      ]
     },
     "execution_count": 36,
     "metadata": {},
     "output_type": "execute_result"
    }
   ],
   "source": [
    "setify([4, 4, 4, 4])"
   ]
  },
  {
   "cell_type": "code",
   "execution_count": 37,
   "id": "ce051715",
   "metadata": {},
   "outputs": [
    {
     "data": {
      "text/plain": [
       "[5, 7, 8, 9, 10, 15]"
      ]
     },
     "execution_count": 37,
     "metadata": {},
     "output_type": "execute_result"
    }
   ],
   "source": [
    "setify([5, 7, 8, 9, 10, 15])"
   ]
  },
  {
   "cell_type": "code",
   "execution_count": 38,
   "id": "83b1d0ed",
   "metadata": {},
   "outputs": [
    {
     "data": {
      "text/plain": [
       "[1, 2, 3]"
      ]
     },
     "execution_count": 38,
     "metadata": {},
     "output_type": "execute_result"
    }
   ],
   "source": [
    "setify([3, 3, 3, 2, 1]) "
   ]
  },
  {
   "cell_type": "markdown",
   "id": "d6d5d9d1",
   "metadata": {},
   "source": [
    "## Question 5"
   ]
  },
  {
   "cell_type": "markdown",
   "id": "567a373b",
   "metadata": {},
   "source": [
    "Create a function that returns the mean of all digits.\n",
    "\n",
    "#### Examples\n",
    "\n",
    "mean(42) ➞ 3\n",
    "\n",
    "mean(12345) ➞ 3\n",
    "\n",
    "mean(666) ➞ 6\n",
    "\n",
    "#### Notes\n",
    "\n",
    "* The mean of all digits is the sum of digits / how many digits there are (e.g. mean of digits in 512 is (5+1+2)/3(number of digits) = 8/3=2).\n",
    "* The mean will always be an integer.\n"
   ]
  },
  {
   "cell_type": "markdown",
   "id": "6b5251ea",
   "metadata": {},
   "source": [
    "## Answer to the Question 5"
   ]
  },
  {
   "cell_type": "code",
   "execution_count": 53,
   "id": "c0f62fbc",
   "metadata": {},
   "outputs": [],
   "source": [
    "def mean(digit):\n",
    "    s = str(digit)\n",
    "    n = len(s)\n",
    "    s_sep = ','.join(s)\n",
    "    s_list = s_sep.split(\",\")\n",
    "    return int(reduce(lambda x,y: int(x)+int(y), s_list) / n)"
   ]
  },
  {
   "cell_type": "code",
   "execution_count": 54,
   "id": "410d2722",
   "metadata": {},
   "outputs": [
    {
     "data": {
      "text/plain": [
       "3"
      ]
     },
     "execution_count": 54,
     "metadata": {},
     "output_type": "execute_result"
    }
   ],
   "source": [
    "mean(42)"
   ]
  },
  {
   "cell_type": "code",
   "execution_count": 55,
   "id": "eebc1e64",
   "metadata": {},
   "outputs": [
    {
     "data": {
      "text/plain": [
       "3"
      ]
     },
     "execution_count": 55,
     "metadata": {},
     "output_type": "execute_result"
    }
   ],
   "source": [
    "mean(12345)"
   ]
  },
  {
   "cell_type": "code",
   "execution_count": 56,
   "id": "f867d019",
   "metadata": {},
   "outputs": [
    {
     "data": {
      "text/plain": [
       "6"
      ]
     },
     "execution_count": 56,
     "metadata": {},
     "output_type": "execute_result"
    }
   ],
   "source": [
    "mean(666)"
   ]
  }
 ],
 "metadata": {
  "kernelspec": {
   "display_name": "Python 3 (ipykernel)",
   "language": "python",
   "name": "python3"
  },
  "language_info": {
   "codemirror_mode": {
    "name": "ipython",
    "version": 3
   },
   "file_extension": ".py",
   "mimetype": "text/x-python",
   "name": "python",
   "nbconvert_exporter": "python",
   "pygments_lexer": "ipython3",
   "version": "3.9.13"
  }
 },
 "nbformat": 4,
 "nbformat_minor": 5
}
