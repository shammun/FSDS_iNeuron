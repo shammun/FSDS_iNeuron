{
 "cells": [
  {
   "cell_type": "markdown",
   "id": "05cd45e9",
   "metadata": {},
   "source": [
    "# Question 1"
   ]
  },
  {
   "cell_type": "markdown",
   "id": "83242489",
   "metadata": {},
   "source": [
    "1. Why are functions advantageous to have in your programs?"
   ]
  },
  {
   "cell_type": "markdown",
   "id": "16983ccc",
   "metadata": {},
   "source": [
    "# Answer to the Question 1"
   ]
  },
  {
   "cell_type": "markdown",
   "id": "81641e0a",
   "metadata": {},
   "source": [
    "Functions provide us with many advantages including reducing duplicating code, shorter code, reusable code, abstraction, testing, maintanibility and scalibility. Instead of duplicating code again and again, we can use function to reuse the duplicate code blocks. The code also gets shorter and we can reuse it. Using function, we can hide away the implementation details and it makes it easier to identify and fix bugs in the code. It also makes it easier to maintain long, complex code and scale it."
   ]
  },
  {
   "cell_type": "markdown",
   "id": "e3fd8ada",
   "metadata": {},
   "source": [
    "# Question 2"
   ]
  },
  {
   "cell_type": "markdown",
   "id": "a544247d",
   "metadata": {},
   "source": [
    "When does the code in a function run: when it's specified or when it's called?"
   ]
  },
  {
   "cell_type": "markdown",
   "id": "512da666",
   "metadata": {},
   "source": [
    "# Answer to the Question 2"
   ]
  },
  {
   "cell_type": "markdown",
   "id": "fbde0563",
   "metadata": {},
   "source": [
    "The code in a function is run only when it is called. Unless we invoke the function by calling, it will not be executed."
   ]
  },
  {
   "cell_type": "markdown",
   "id": "18db1f75",
   "metadata": {},
   "source": [
    "# Question 3"
   ]
  },
  {
   "cell_type": "markdown",
   "id": "f290e655",
   "metadata": {},
   "source": [
    "What statement creates a function?"
   ]
  },
  {
   "cell_type": "markdown",
   "id": "674b7495",
   "metadata": {},
   "source": [
    "# Answer to the Question 3"
   ]
  },
  {
   "cell_type": "markdown",
   "id": "3a60e4cd",
   "metadata": {},
   "source": [
    "**def** statement creates a fuinction. For example, following is an example to create a function"
   ]
  },
  {
   "cell_type": "code",
   "execution_count": 9,
   "id": "d1a57ed9",
   "metadata": {},
   "outputs": [],
   "source": [
    "def hello():\n",
    "    print(\"Hello world\")"
   ]
  },
  {
   "cell_type": "markdown",
   "id": "d71aa5ec",
   "metadata": {},
   "source": [
    "# Question 4"
   ]
  },
  {
   "cell_type": "markdown",
   "id": "b9d33e02",
   "metadata": {},
   "source": [
    "What is the difference between a function and a function call?"
   ]
  },
  {
   "cell_type": "markdown",
   "id": "a6b5d53e",
   "metadata": {},
   "source": [
    "# Answer to the Question 4"
   ]
  },
  {
   "cell_type": "markdown",
   "id": "04146914",
   "metadata": {},
   "source": [
    "A function is a block of code to do one or many operations. It may or may not return a result. A function call invokes a function or executes the code written inside the function definition. Below is an example of a function:"
   ]
  },
  {
   "cell_type": "code",
   "execution_count": 3,
   "id": "f7cf23f2",
   "metadata": {},
   "outputs": [],
   "source": [
    "def hello():\n",
    "    print(\"Hello world\")"
   ]
  },
  {
   "cell_type": "markdown",
   "id": "b545cbc4",
   "metadata": {},
   "source": [
    "The above expression defines a function. Now, to invoke this function, we need to call this."
   ]
  },
  {
   "cell_type": "code",
   "execution_count": 4,
   "id": "5e37594f",
   "metadata": {},
   "outputs": [
    {
     "name": "stdout",
     "output_type": "stream",
     "text": [
      "Hello world\n"
     ]
    }
   ],
   "source": [
    "hello()"
   ]
  },
  {
   "cell_type": "markdown",
   "id": "9d77ab6a",
   "metadata": {},
   "source": [
    "By writing **hello()**, we invoked the function or executed the code written inside this function, here we just simply printed **Hello world**"
   ]
  },
  {
   "cell_type": "markdown",
   "id": "d6d5d9d1",
   "metadata": {},
   "source": [
    "# Question 5"
   ]
  },
  {
   "cell_type": "markdown",
   "id": "567a373b",
   "metadata": {},
   "source": [
    "How many global scopes are there in a Python program? How many local scopes?"
   ]
  },
  {
   "cell_type": "markdown",
   "id": "6b5251ea",
   "metadata": {},
   "source": [
    "# Answer to the Question 5"
   ]
  },
  {
   "cell_type": "markdown",
   "id": "19137df1",
   "metadata": {},
   "source": [
    "There is only global scope and as many local scopes depending on how many times a function is called in a program."
   ]
  },
  {
   "cell_type": "markdown",
   "id": "90502bee",
   "metadata": {},
   "source": [
    "# Question 6"
   ]
  },
  {
   "cell_type": "markdown",
   "id": "49bcbe66",
   "metadata": {},
   "source": [
    "What happens to variables in a local scope when the function call returns?"
   ]
  },
  {
   "cell_type": "markdown",
   "id": "f9e512e8",
   "metadata": {},
   "source": [
    "# Answer to the Question 6"
   ]
  },
  {
   "cell_type": "markdown",
   "id": "ea1441bc",
   "metadata": {},
   "source": [
    "Variables in a local scope are lost when the function call returns as the local scope created for that function call is destroyed."
   ]
  },
  {
   "cell_type": "markdown",
   "id": "28c550c6",
   "metadata": {},
   "source": [
    "# Question 7"
   ]
  },
  {
   "cell_type": "markdown",
   "id": "943a146b",
   "metadata": {},
   "source": [
    "What is the concept of a return value? Is it possible to have a return value in an expression?"
   ]
  },
  {
   "cell_type": "markdown",
   "id": "d0122b7a",
   "metadata": {},
   "source": [
    "# Answer to the Question 7"
   ]
  },
  {
   "cell_type": "markdown",
   "id": "ce05670a",
   "metadata": {},
   "source": [
    "A return value is a value that is returned by a function to the caller after the function is finished executing. This is specifid using **return** statement inside a function. The return value can be of any data types such as numbers, strings, booleans, lists etc. "
   ]
  },
  {
   "cell_type": "code",
   "execution_count": 5,
   "id": "d747cf71",
   "metadata": {},
   "outputs": [],
   "source": [
    "def isEven(x):\n",
    "    return x % 2 == 0"
   ]
  },
  {
   "cell_type": "markdown",
   "id": "436a4562",
   "metadata": {},
   "source": [
    "The above code tests whether a value is even or not. It returns True if it is even and False otherwise."
   ]
  },
  {
   "cell_type": "markdown",
   "id": "e665cbd3",
   "metadata": {},
   "source": [
    "It is possible to have a return value in an expression. If we use function as an expression, we can do this. For example, we can assign the value returned by a function to a variable."
   ]
  },
  {
   "cell_type": "code",
   "execution_count": 8,
   "id": "c56361fd",
   "metadata": {},
   "outputs": [],
   "source": [
    "even = isEven(34)\n",
    "# print(even)"
   ]
  },
  {
   "cell_type": "markdown",
   "id": "d8764e57",
   "metadata": {},
   "source": [
    "# Question 8"
   ]
  },
  {
   "cell_type": "markdown",
   "id": "d36f6e9b",
   "metadata": {},
   "source": [
    "If a function does not have a return statement, what is the return value of a call to that function?"
   ]
  },
  {
   "cell_type": "markdown",
   "id": "1adf07d3",
   "metadata": {},
   "source": [
    "# Answer to the Question 8"
   ]
  },
  {
   "cell_type": "markdown",
   "id": "3d417d32",
   "metadata": {},
   "source": [
    "The return value when a function does not have any return statement is **None**."
   ]
  },
  {
   "cell_type": "markdown",
   "id": "c91be4c8",
   "metadata": {},
   "source": [
    "# Question 9"
   ]
  },
  {
   "cell_type": "markdown",
   "id": "3ec5976a",
   "metadata": {},
   "source": [
    "How do you make a function variable refer to the global variable?"
   ]
  },
  {
   "cell_type": "markdown",
   "id": "42250ef4",
   "metadata": {},
   "source": [
    "# Answer to the Question 9"
   ]
  },
  {
   "cell_type": "markdown",
   "id": "d533bf5c",
   "metadata": {},
   "source": [
    "We can use the keyword **global** to make a function refer to a global variable. Using this keyword, we can access global scope from inside a function."
   ]
  },
  {
   "cell_type": "markdown",
   "id": "d41445a7",
   "metadata": {},
   "source": [
    "# Question 10"
   ]
  },
  {
   "cell_type": "markdown",
   "id": "cfd24504",
   "metadata": {},
   "source": [
    "What is the data type of None?"
   ]
  },
  {
   "cell_type": "markdown",
   "id": "b21782fd",
   "metadata": {},
   "source": [
    "# Answer to the Question 10"
   ]
  },
  {
   "cell_type": "markdown",
   "id": "69c38868",
   "metadata": {},
   "source": [
    "Although **None** is not a data type in Python, but an object of the **NoneType** datatype."
   ]
  },
  {
   "cell_type": "markdown",
   "id": "90cb1ce6",
   "metadata": {},
   "source": [
    "# Question 11"
   ]
  },
  {
   "cell_type": "markdown",
   "id": "6babb769",
   "metadata": {},
   "source": [
    "What does the sentence import areallyourpetsnamederic do?"
   ]
  },
  {
   "cell_type": "markdown",
   "id": "cdd1a1f4",
   "metadata": {},
   "source": [
    "# Answer to the Question 11"
   ]
  },
  {
   "cell_type": "markdown",
   "id": "7b0b9280",
   "metadata": {},
   "source": [
    " **import areallyourpetsnamedericIt** will import a module named **areallyourpetsnamedericIt**. This will import all the functions and constants defined within this module."
   ]
  },
  {
   "cell_type": "markdown",
   "id": "d468b17c",
   "metadata": {},
   "source": [
    "# Question 12"
   ]
  },
  {
   "cell_type": "markdown",
   "id": "1d03e5de",
   "metadata": {},
   "source": [
    "If you had a bacon() feature in a spam module, what would you call it after importing spam?"
   ]
  },
  {
   "cell_type": "markdown",
   "id": "915b5490",
   "metadata": {},
   "source": [
    "# Answer to the Question 12"
   ]
  },
  {
   "cell_type": "markdown",
   "id": "a6a8e3fc",
   "metadata": {},
   "source": [
    "If we had a bacon() feature in a spam module, then we will import spam first. After that to access the feature, we will first write the name of the module followed by a dot and the feature or function name like the following."
   ]
  },
  {
   "cell_type": "markdown",
   "id": "0b1ee6ba",
   "metadata": {},
   "source": [
    "import spam\n",
    "spam.bacon()"
   ]
  },
  {
   "cell_type": "markdown",
   "id": "e5de3d07",
   "metadata": {},
   "source": [
    "# Question 13"
   ]
  },
  {
   "cell_type": "markdown",
   "id": "af510494",
   "metadata": {},
   "source": [
    "What can you do to save a programme from crashing if it encounters an error?"
   ]
  },
  {
   "cell_type": "markdown",
   "id": "b6550b9b",
   "metadata": {},
   "source": [
    "# Answer to the Question 13"
   ]
  },
  {
   "cell_type": "markdown",
   "id": "f5a79d44",
   "metadata": {},
   "source": [
    "We can use exception handling such as using try-except block, using logging module to log exceptions, or we can also use simply if and else to validate that the values met some condition and will not throw error before we can proceed further."
   ]
  },
  {
   "cell_type": "markdown",
   "id": "498d124d",
   "metadata": {},
   "source": [
    "# Question 14"
   ]
  },
  {
   "cell_type": "markdown",
   "id": "985d1800",
   "metadata": {},
   "source": [
    "What is the purpose of the try clause? What is the purpose of the except clause?"
   ]
  },
  {
   "cell_type": "markdown",
   "id": "d33423b3",
   "metadata": {},
   "source": [
    "# Answer to the Question 14"
   ]
  },
  {
   "cell_type": "markdown",
   "id": "791ff1a0",
   "metadata": {},
   "source": [
    "The purpose of the **try** clause is to detect when the program might not work properly and the puspose of the **except** block is to specify what to do if such event(s) occur. In the **try** block, we define what to do if no exception occurs and in the **except** clause, we define what to do when such exception occurs. So, when trying the **try** block, if any exception is raised, the code inside the **except** block will be executed. Here is an example:"
   ]
  },
  {
   "cell_type": "code",
   "execution_count": 10,
   "id": "8918593f",
   "metadata": {},
   "outputs": [
    {
     "name": "stdout",
     "output_type": "stream",
     "text": [
      "There is no such file\n"
     ]
    }
   ],
   "source": [
    "try:\n",
    "    with open(\"file1.txt\") as f:\n",
    "        data = f.read()\n",
    "except FileNotFoundError:\n",
    "    print(\"There is no such file\")"
   ]
  },
  {
   "cell_type": "markdown",
   "id": "b991a211",
   "metadata": {},
   "source": [
    "In the above, we see an example of trying to open a file and to read it specified inside the **try** clause. The **except** clause mentions what to do if this file is not found. Here, as this file is not found in the computer where it is run, it prints the message **There is no such file**. "
   ]
  }
 ],
 "metadata": {
  "kernelspec": {
   "display_name": "Python 3 (ipykernel)",
   "language": "python",
   "name": "python3"
  },
  "language_info": {
   "codemirror_mode": {
    "name": "ipython",
    "version": 3
   },
   "file_extension": ".py",
   "mimetype": "text/x-python",
   "name": "python",
   "nbconvert_exporter": "python",
   "pygments_lexer": "ipython3",
   "version": "3.9.13"
  }
 },
 "nbformat": 4,
 "nbformat_minor": 5
}
