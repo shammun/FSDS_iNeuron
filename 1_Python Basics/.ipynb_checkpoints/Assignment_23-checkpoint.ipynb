{
 "cells": [
  {
   "cell_type": "markdown",
   "id": "05cd45e9",
   "metadata": {},
   "source": [
    "# Assignment 23"
   ]
  },
  {
   "cell_type": "markdown",
   "id": "96dbf3e6",
   "metadata": {},
   "source": [
    "## Question 1"
   ]
  },
  {
   "cell_type": "markdown",
   "id": "83242489",
   "metadata": {},
   "source": [
    "What is the result of the code, and why?\n",
    "\n",
    "`\n",
    "def func(a, b=6, c=8):\n",
    "    print(a, b, c)\n",
    "func(1, 2)`"
   ]
  },
  {
   "cell_type": "markdown",
   "id": "16983ccc",
   "metadata": {},
   "source": [
    "## Answer to the Question 1"
   ]
  },
  {
   "cell_type": "markdown",
   "id": "b787b77c",
   "metadata": {},
   "source": [
    "Here, the function `func(a, b=6, c=8)` has one non-default arguments `a` and two default arguments `b` and `c` with values `6` and `8` respectively. So, when this function is called and the values for the arguments `b` and `c` are not provided, they are automatically asisgned `6` and `8` respectively."
   ]
  },
  {
   "cell_type": "code",
   "execution_count": 2,
   "id": "bf1d2930",
   "metadata": {},
   "outputs": [
    {
     "name": "stdout",
     "output_type": "stream",
     "text": [
      "1 2 8\n"
     ]
    }
   ],
   "source": [
    "def func(a, b=6, c=8):\n",
    "    print(a, b, c)\n",
    "func(1, 2)"
   ]
  },
  {
   "cell_type": "markdown",
   "id": "c413ae86",
   "metadata": {},
   "source": [
    "So, when we call the function as `func(1, 2)`, argument `a` is assigned 1, argument `b` is assigned 2 and argument `c` is assigned default value of 8. Thus, this will print `1 2 8`."
   ]
  },
  {
   "cell_type": "markdown",
   "id": "e3fd8ada",
   "metadata": {},
   "source": [
    "## Question 2"
   ]
  },
  {
   "cell_type": "markdown",
   "id": "a544247d",
   "metadata": {},
   "source": [
    "What is the result of this code, and why?\n",
    "\n",
    "`\n",
    "def func(a, b, c=5):\n",
    "    print(a, b, c)\n",
    "func(1, c=3, b=2)`"
   ]
  },
  {
   "cell_type": "markdown",
   "id": "512da666",
   "metadata": {},
   "source": [
    "## Answer to the Question 2"
   ]
  },
  {
   "cell_type": "markdown",
   "id": "0ed52ed7",
   "metadata": {},
   "source": [
    "This will print `1 2 3`. In the funcxtion call `func(1, c=3, b=2)`, as 1 is used for first argument, this is assigned to a and the first value to print is the value of a or 1. The value of the argument `b` is assigned to 2 by writing `b=2` inside the function call, and so 2 is printed although it was written in the third position in the function call. Similarly, the value of the argument `c` is assigned to 3 by writing `c=3` inside the function call, and so 3 is printed although it was written in the second position in the function call. So the result is the printing of `1 2 3`"
   ]
  },
  {
   "cell_type": "markdown",
   "id": "18db1f75",
   "metadata": {},
   "source": [
    "## Question 3"
   ]
  },
  {
   "cell_type": "markdown",
   "id": "f290e655",
   "metadata": {},
   "source": [
    "How about this code: what is its result, and why?\n",
    "\n",
    "`\n",
    "def func(a, *pargs):\n",
    "    print(a, pargs)\n",
    "func(1, 2, 3)`"
   ]
  },
  {
   "cell_type": "markdown",
   "id": "674b7495",
   "metadata": {},
   "source": [
    "## Answer to the Question 3"
   ]
  },
  {
   "cell_type": "markdown",
   "id": "3a60e4cd",
   "metadata": {},
   "source": [
    "This will print `1 (2, 3)`. For the function call `func(1, 2, 3)`, the value of the argument will be assigned to 1 and all other argument values or 2 and 3 will be assigned to pargs as a tuple. So the value of `tuple` will be `(2, 3)`. Thus, `1 (2, 3)` will be printed."
   ]
  },
  {
   "cell_type": "markdown",
   "id": "d71aa5ec",
   "metadata": {},
   "source": [
    "## Question 4"
   ]
  },
  {
   "cell_type": "markdown",
   "id": "70177c0e",
   "metadata": {},
   "source": [
    "What does this code print, and why?\n",
    "\n",
    "`\n",
    "def func(a, **kargs):\n",
    "    print(a, kargs)\n",
    "func(a=1, c=3, b=2)`"
   ]
  },
  {
   "cell_type": "markdown",
   "id": "a6b5d53e",
   "metadata": {},
   "source": [
    "## Answer to the Question 4"
   ]
  },
  {
   "cell_type": "markdown",
   "id": "796d6369",
   "metadata": {},
   "source": [
    "This will print `1 {'c': 3, 'b': 2}`. This function assigns first positioned argument to a, and all other arguments as key value pairs or as dictionaries to kargs. Thus, calling `func(a=1, c=3, d=2)` will assign 1 to a and will assign key value pairs of `'c': 3, 'b': 2` to kargs."
   ]
  },
  {
   "cell_type": "markdown",
   "id": "d6d5d9d1",
   "metadata": {},
   "source": [
    "## Question 5"
   ]
  },
  {
   "cell_type": "markdown",
   "id": "567a373b",
   "metadata": {},
   "source": [
    "What gets printed by this, and explain?\n",
    "\n",
    "`\n",
    "def func(a, b, c=8, d=5): print(a, b, c, d)\n",
    "func(1, *(5, 6))`"
   ]
  },
  {
   "cell_type": "markdown",
   "id": "6b5251ea",
   "metadata": {},
   "source": [
    "## Answer to the Question 5"
   ]
  },
  {
   "cell_type": "markdown",
   "id": "20c49d36",
   "metadata": {},
   "source": [
    "The result is `1 5 6 5`. Here `*` operator is used to unpack the tuple elements (5, 6) and pass them as separate positional arguments. So, `*(5, 6)` becomes 5 and 6 and `func(1, *(5, 6))` becoomes equivalent to `func(1, 5, 6)` and so a is 1 now, b is 5 now, c is 6 now and default value of 5 is assigned to d."
   ]
  },
  {
   "cell_type": "markdown",
   "id": "83b5d4cb",
   "metadata": {},
   "source": [
    "## Question 6"
   ]
  },
  {
   "cell_type": "markdown",
   "id": "c09ab589",
   "metadata": {},
   "source": [
    "what is the result of this, and explain?\n",
    "\n",
    "`\n",
    "def func(a, b, c): a = 2; b[0] = 'x'; c['a'] = 'y'\n",
    "l=1; m=[1]; n={'a':0}\n",
    "func(l, m, n)\n",
    "l, m, n`"
   ]
  },
  {
   "cell_type": "markdown",
   "id": "3a63e70f",
   "metadata": {},
   "source": [
    "## Answer to the Question 6"
   ]
  },
  {
   "cell_type": "markdown",
   "id": "1cc957de",
   "metadata": {},
   "source": [
    "This returns `(1, ['x'], {'a': 'y'})`. In the `func()` function, the first argument is passed by value while the lst two arguments are passed by refernce. So, if the values of a, b and c are changed inside the function, the changed values will persist outside the function for b and c only. Although `a` is assigned 2 inside the function, this will not change the value of l outside the function and hence its value will be 1. For the second argument, the first element of b is assigned to `x`, so the frist value of m which is a list will also change to x. Similarly, for the third argument, the key `a` is assigned a value of `y` and so the value for this will be changed as such."
   ]
  },
  {
   "cell_type": "code",
   "execution_count": null,
   "id": "f54f1e81",
   "metadata": {},
   "outputs": [],
   "source": []
  }
 ],
 "metadata": {
  "kernelspec": {
   "display_name": "Python 3 (ipykernel)",
   "language": "python",
   "name": "python3"
  },
  "language_info": {
   "codemirror_mode": {
    "name": "ipython",
    "version": 3
   },
   "file_extension": ".py",
   "mimetype": "text/x-python",
   "name": "python",
   "nbconvert_exporter": "python",
   "pygments_lexer": "ipython3",
   "version": "3.9.13"
  }
 },
 "nbformat": 4,
 "nbformat_minor": 5
}
