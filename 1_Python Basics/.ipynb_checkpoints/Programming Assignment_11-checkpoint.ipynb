{
 "cells": [
  {
   "cell_type": "markdown",
   "id": "05cd45e9",
   "metadata": {},
   "source": [
    "# Programming Assignment 11"
   ]
  },
  {
   "cell_type": "markdown",
   "id": "96dbf3e6",
   "metadata": {},
   "source": [
    "## Question 1"
   ]
  },
  {
   "cell_type": "markdown",
   "id": "83242489",
   "metadata": {},
   "source": [
    "Write a Python program to find words which are greater than given length k?"
   ]
  },
  {
   "cell_type": "markdown",
   "id": "16983ccc",
   "metadata": {},
   "source": [
    "## Answer to the Question 1"
   ]
  },
  {
   "cell_type": "code",
   "execution_count": 2,
   "id": "b9d0dfee",
   "metadata": {},
   "outputs": [],
   "source": [
    "def greater_length(l, n):\n",
    "    return [x for x in l if len(x) > n]"
   ]
  },
  {
   "cell_type": "code",
   "execution_count": 3,
   "id": "dd90dd95",
   "metadata": {},
   "outputs": [],
   "source": [
    "list0 = [\"hi\", \"over\", \"excruciating\", \"this\", \"these\", \"exactly\"]"
   ]
  },
  {
   "cell_type": "code",
   "execution_count": 4,
   "id": "ad5e884c",
   "metadata": {},
   "outputs": [
    {
     "data": {
      "text/plain": [
       "['excruciating', 'these', 'exactly']"
      ]
     },
     "execution_count": 4,
     "metadata": {},
     "output_type": "execute_result"
    }
   ],
   "source": [
    "greater_length(list0, 4)"
   ]
  },
  {
   "cell_type": "markdown",
   "id": "e3fd8ada",
   "metadata": {},
   "source": [
    "## Question 2"
   ]
  },
  {
   "cell_type": "markdown",
   "id": "a544247d",
   "metadata": {},
   "source": [
    "Write a Python program for removing i-th character from a string?"
   ]
  },
  {
   "cell_type": "markdown",
   "id": "512da666",
   "metadata": {},
   "source": [
    "## Answer to the Question 2"
   ]
  },
  {
   "cell_type": "code",
   "execution_count": 7,
   "id": "c1778599",
   "metadata": {},
   "outputs": [],
   "source": [
    "def remove_char(string, i):\n",
    "    return string[:i] + string[i+1:]"
   ]
  },
  {
   "cell_type": "code",
   "execution_count": 8,
   "id": "ee532b52",
   "metadata": {},
   "outputs": [
    {
     "data": {
      "text/plain": [
       "'xcruciating'"
      ]
     },
     "execution_count": 8,
     "metadata": {},
     "output_type": "execute_result"
    }
   ],
   "source": [
    "remove_char(\"excruciating\", 0)"
   ]
  },
  {
   "cell_type": "code",
   "execution_count": 9,
   "id": "04915a7c",
   "metadata": {},
   "outputs": [
    {
     "data": {
      "text/plain": [
       "'excruiating'"
      ]
     },
     "execution_count": 9,
     "metadata": {},
     "output_type": "execute_result"
    }
   ],
   "source": [
    "remove_char(\"excruciating\", 5)"
   ]
  },
  {
   "cell_type": "markdown",
   "id": "18db1f75",
   "metadata": {},
   "source": [
    "## Question 3"
   ]
  },
  {
   "cell_type": "markdown",
   "id": "f290e655",
   "metadata": {},
   "source": [
    "Write a Python program to split and join a string?"
   ]
  },
  {
   "cell_type": "markdown",
   "id": "674b7495",
   "metadata": {},
   "source": [
    "## Answer to the Question 3"
   ]
  },
  {
   "cell_type": "code",
   "execution_count": 10,
   "id": "2783c5e1",
   "metadata": {},
   "outputs": [],
   "source": [
    "def split_join(s, symbol):\n",
    "    return symbol.join(s.split())"
   ]
  },
  {
   "cell_type": "code",
   "execution_count": 12,
   "id": "523c2c83",
   "metadata": {},
   "outputs": [
    {
     "data": {
      "text/plain": [
       "'Shammunul-Islam-is-attempting-to-complete-this-bootcamp'"
      ]
     },
     "execution_count": 12,
     "metadata": {},
     "output_type": "execute_result"
    }
   ],
   "source": [
    "split_join(\"Shammunul Islam is attempting to complete this bootcamp\", \"-\")"
   ]
  },
  {
   "cell_type": "code",
   "execution_count": 13,
   "id": "62722a21",
   "metadata": {},
   "outputs": [
    {
     "data": {
      "text/plain": [
       "'Shammunul@@Islam@@is@@attempting@@to@@complete@@this@@bootcamp'"
      ]
     },
     "execution_count": 13,
     "metadata": {},
     "output_type": "execute_result"
    }
   ],
   "source": [
    "split_join(\"Shammunul Islam is attempting to complete this bootcamp\", \"@@\")"
   ]
  },
  {
   "cell_type": "markdown",
   "id": "d71aa5ec",
   "metadata": {},
   "source": [
    "## Question 4"
   ]
  },
  {
   "cell_type": "markdown",
   "id": "70177c0e",
   "metadata": {},
   "source": [
    "Write a Python to check if a given string is binary string or not?"
   ]
  },
  {
   "cell_type": "markdown",
   "id": "a6b5d53e",
   "metadata": {},
   "source": [
    "## Answer to the Question 4"
   ]
  },
  {
   "cell_type": "code",
   "execution_count": 14,
   "id": "470dc716",
   "metadata": {},
   "outputs": [],
   "source": [
    "def is_binary(s):\n",
    "    for i in s:\n",
    "        if i not in \"01\":\n",
    "            return False\n",
    "    return True"
   ]
  },
  {
   "cell_type": "code",
   "execution_count": 15,
   "id": "c6c2be92",
   "metadata": {},
   "outputs": [
    {
     "data": {
      "text/plain": [
       "True"
      ]
     },
     "execution_count": 15,
     "metadata": {},
     "output_type": "execute_result"
    }
   ],
   "source": [
    "is_binary(\"001101010\")"
   ]
  },
  {
   "cell_type": "code",
   "execution_count": 18,
   "id": "ce051715",
   "metadata": {},
   "outputs": [
    {
     "data": {
      "text/plain": [
       "False"
      ]
     },
     "execution_count": 18,
     "metadata": {},
     "output_type": "execute_result"
    }
   ],
   "source": [
    "is_binary(\"0011m01010ll\")"
   ]
  },
  {
   "cell_type": "code",
   "execution_count": 17,
   "id": "83b1d0ed",
   "metadata": {},
   "outputs": [
    {
     "data": {
      "text/plain": [
       "False"
      ]
     },
     "execution_count": 17,
     "metadata": {},
     "output_type": "execute_result"
    }
   ],
   "source": [
    "is_binary(\"sldnbdf\")"
   ]
  },
  {
   "cell_type": "markdown",
   "id": "d6d5d9d1",
   "metadata": {},
   "source": [
    "## Question 5"
   ]
  },
  {
   "cell_type": "markdown",
   "id": "567a373b",
   "metadata": {},
   "source": [
    "Write a Python program to find uncommon words from two Strings?"
   ]
  },
  {
   "cell_type": "markdown",
   "id": "6b5251ea",
   "metadata": {},
   "source": [
    "## Answer to the Question 5"
   ]
  },
  {
   "cell_type": "code",
   "execution_count": 29,
   "id": "873d756a",
   "metadata": {},
   "outputs": [],
   "source": [
    "def uncommon_words(s1, s2):\n",
    "    s1 = s1.split()\n",
    "    s2 = s2.split()\n",
    "    return [x for x in s1 if x not in s2] + [x for x in s2 if x not in s1]"
   ]
  },
  {
   "cell_type": "code",
   "execution_count": 30,
   "id": "31747f0e",
   "metadata": {},
   "outputs": [],
   "source": [
    "s1 = \"potato rice pulse\"\n",
    "s2 = \"chair computer potato pulse\""
   ]
  },
  {
   "cell_type": "code",
   "execution_count": 31,
   "id": "d60fce0d",
   "metadata": {},
   "outputs": [
    {
     "data": {
      "text/plain": [
       "['rice', 'chair', 'computer']"
      ]
     },
     "execution_count": 31,
     "metadata": {},
     "output_type": "execute_result"
    }
   ],
   "source": [
    "uncommon_words(s1, s2)"
   ]
  },
  {
   "cell_type": "markdown",
   "id": "968ce2f0",
   "metadata": {},
   "source": [
    "## Question 6"
   ]
  },
  {
   "cell_type": "markdown",
   "id": "533c96da",
   "metadata": {},
   "source": [
    "Write a Python to find all duplicate characters in string?"
   ]
  },
  {
   "cell_type": "markdown",
   "id": "27c5c915",
   "metadata": {},
   "source": [
    "## Answer to the Question 6"
   ]
  },
  {
   "cell_type": "code",
   "execution_count": 39,
   "id": "6733f1f4",
   "metadata": {},
   "outputs": [],
   "source": [
    "def duplicate_char(s):\n",
    "    return [x  for x in set(s) if s.count(x) > 1]"
   ]
  },
  {
   "cell_type": "code",
   "execution_count": 40,
   "id": "44fee782",
   "metadata": {},
   "outputs": [],
   "source": [
    "s = \"potato rice pulse\""
   ]
  },
  {
   "cell_type": "code",
   "execution_count": 41,
   "id": "ef175b3e",
   "metadata": {},
   "outputs": [
    {
     "data": {
      "text/plain": [
       "['o', 'e', 'p', ' ', 't']"
      ]
     },
     "execution_count": 41,
     "metadata": {},
     "output_type": "execute_result"
    }
   ],
   "source": [
    "duplicate_char(s)"
   ]
  },
  {
   "cell_type": "markdown",
   "id": "e75b65f4",
   "metadata": {},
   "source": [
    "## Question 7"
   ]
  },
  {
   "cell_type": "markdown",
   "id": "197fd99b",
   "metadata": {},
   "source": [
    "Write a Python Program to check if a string contains any special character?"
   ]
  },
  {
   "cell_type": "markdown",
   "id": "9bb93af8",
   "metadata": {},
   "source": [
    "## Answer to the Question 7"
   ]
  },
  {
   "cell_type": "code",
   "execution_count": 42,
   "id": "918937b1",
   "metadata": {},
   "outputs": [],
   "source": [
    "def special_character(s):\n",
    "    for i in s:\n",
    "        if i in \"!@#$%^&*()_+{}|~'\":\n",
    "            return True\n",
    "    return False"
   ]
  },
  {
   "cell_type": "code",
   "execution_count": 44,
   "id": "837bb588",
   "metadata": {},
   "outputs": [
    {
     "data": {
      "text/plain": [
       "True"
      ]
     },
     "execution_count": 44,
     "metadata": {},
     "output_type": "execute_result"
    }
   ],
   "source": [
    "special_character(\"Hello, How are you?^^&&\")"
   ]
  },
  {
   "cell_type": "code",
   "execution_count": 45,
   "id": "5a485e69",
   "metadata": {},
   "outputs": [
    {
     "data": {
      "text/plain": [
       "False"
      ]
     },
     "execution_count": 45,
     "metadata": {},
     "output_type": "execute_result"
    }
   ],
   "source": [
    "special_character(\"Hello, How are you\")"
   ]
  },
  {
   "cell_type": "code",
   "execution_count": null,
   "id": "7ef574dc",
   "metadata": {},
   "outputs": [],
   "source": []
  }
 ],
 "metadata": {
  "kernelspec": {
   "display_name": "Python 3 (ipykernel)",
   "language": "python",
   "name": "python3"
  },
  "language_info": {
   "codemirror_mode": {
    "name": "ipython",
    "version": 3
   },
   "file_extension": ".py",
   "mimetype": "text/x-python",
   "name": "python",
   "nbconvert_exporter": "python",
   "pygments_lexer": "ipython3",
   "version": "3.9.13"
  }
 },
 "nbformat": 4,
 "nbformat_minor": 5
}
