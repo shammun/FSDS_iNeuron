{
 "cells": [
  {
   "cell_type": "markdown",
   "id": "05cd45e9",
   "metadata": {},
   "source": [
    "# Assignment 24"
   ]
  },
  {
   "cell_type": "markdown",
   "id": "96dbf3e6",
   "metadata": {},
   "source": [
    "## Question 1"
   ]
  },
  {
   "cell_type": "markdown",
   "id": "83242489",
   "metadata": {},
   "source": [
    "What is the relationship between def statements and lambda expressions?"
   ]
  },
  {
   "cell_type": "markdown",
   "id": "16983ccc",
   "metadata": {},
   "source": [
    "## Answer to the Question 1"
   ]
  },
  {
   "cell_type": "markdown",
   "id": "b787b77c",
   "metadata": {},
   "source": [
    "Lambda expression are shorthand for function definition. Unlike  functions, lambda functions are anonymous or they don't have a name. Lambda expressions are mostly used when we don't need to use a function more than once. Unlike function definition which used `def` statements, lambda expressions use `lambda` statement."
   ]
  },
  {
   "cell_type": "markdown",
   "id": "e3fd8ada",
   "metadata": {},
   "source": [
    "## Question 2"
   ]
  },
  {
   "cell_type": "markdown",
   "id": "a544247d",
   "metadata": {},
   "source": [
    "What are the benefit of lambda?"
   ]
  },
  {
   "cell_type": "markdown",
   "id": "512da666",
   "metadata": {},
   "source": [
    "## Answer to the Question 2"
   ]
  },
  {
   "cell_type": "markdown",
   "id": "0ed52ed7",
   "metadata": {},
   "source": [
    "We can define a function in a single line of code and use it immediately which save both time and space."
   ]
  },
  {
   "cell_type": "markdown",
   "id": "18db1f75",
   "metadata": {},
   "source": [
    "## Question 3"
   ]
  },
  {
   "cell_type": "markdown",
   "id": "f290e655",
   "metadata": {},
   "source": [
    "Compare and contrast map, filter, and reduce."
   ]
  },
  {
   "cell_type": "markdown",
   "id": "674b7495",
   "metadata": {},
   "source": [
    "## Answer to the Question 3"
   ]
  },
  {
   "cell_type": "markdown",
   "id": "3a60e4cd",
   "metadata": {},
   "source": [
    "`map()` iterates through all items in an iterable and executes a function passed as argument to each one of them. It has the following syntax: `map(function, iterable(s))`"
   ]
  },
  {
   "cell_type": "markdown",
   "id": "5a2f2439",
   "metadata": {},
   "source": [
    "`filter` is similar to `map()` which takes a function as the first argument and an iterable as the second argument. It creates a list that satisfies a certain condition defined in the function. So it iterates through each element of the iterable and if a certain condition defined in the function is satisfied by this element, it is added to the new list. It has the following syntax: `filter(function, iterable(s))`"
   ]
  },
  {
   "cell_type": "markdown",
   "id": "5e51537b",
   "metadata": {},
   "source": [
    "`reduce()` returns a single value unlike `map()` and `filter()`. `reduce()` function also has two arguments: a function and a list. First, the function is applied on the first two elements of the list and it returns a single value, then the function is again applied to the returned single value and the third element, and so on. At last, in this way, we get a single value."
   ]
  },
  {
   "cell_type": "markdown",
   "id": "d71aa5ec",
   "metadata": {},
   "source": [
    "## Question 4"
   ]
  },
  {
   "cell_type": "markdown",
   "id": "70177c0e",
   "metadata": {},
   "source": [
    "What are function annotations, and how are they used?"
   ]
  },
  {
   "cell_type": "markdown",
   "id": "a6b5d53e",
   "metadata": {},
   "source": [
    "## Answer to the Question 4"
   ]
  },
  {
   "cell_type": "markdown",
   "id": "796d6369",
   "metadata": {},
   "source": [
    "Function annotations are a way to provide information about the type of the arguments used in the function and also to provide information on the type of the return value for that function. This helps code readability, documentation, and debugging.  "
   ]
  },
  {
   "cell_type": "markdown",
   "id": "6219bad7",
   "metadata": {},
   "source": [
    "To use function annotation for function argument, we should use `:`, followed by a space and then the type of the arguiment. For return value, after the end of `)` in the function definition, follow this by a space ` `, followed by `->` and then a space, followed by the return type. Here is a code example:"
   ]
  },
  {
   "cell_type": "code",
   "execution_count": 1,
   "id": "33f6412c",
   "metadata": {},
   "outputs": [],
   "source": [
    "def square(x: int) -> int:\n",
    "    return x**2"
   ]
  },
  {
   "cell_type": "markdown",
   "id": "d6d5d9d1",
   "metadata": {},
   "source": [
    "## Question 5"
   ]
  },
  {
   "cell_type": "markdown",
   "id": "567a373b",
   "metadata": {},
   "source": [
    "What are recursive functions, and how are they used?"
   ]
  },
  {
   "cell_type": "markdown",
   "id": "6b5251ea",
   "metadata": {},
   "source": [
    "## Answer to the Question 5"
   ]
  },
  {
   "cell_type": "markdown",
   "id": "20c49d36",
   "metadata": {},
   "source": [
    "Recursive functions are functions that call themselves. Using this we solve a problem by dividing it into subproblem which are then again divided into sub-problem until we get to a position where the sub-problem is solved, or we reach a base case. For example, factorial of a number can be computed using recursion as following:"
   ]
  },
  {
   "cell_type": "code",
   "execution_count": 4,
   "id": "5f39acaf",
   "metadata": {},
   "outputs": [],
   "source": [
    "def factorial(n):\n",
    "    if n == 1:\n",
    "        return 1\n",
    "    else:\n",
    "        return n * factorial(n - 1)"
   ]
  },
  {
   "cell_type": "code",
   "execution_count": 5,
   "id": "435699fe",
   "metadata": {},
   "outputs": [
    {
     "data": {
      "text/plain": [
       "120"
      ]
     },
     "execution_count": 5,
     "metadata": {},
     "output_type": "execute_result"
    }
   ],
   "source": [
    "factorial(5)"
   ]
  },
  {
   "cell_type": "markdown",
   "id": "83b5d4cb",
   "metadata": {},
   "source": [
    "## Question 6"
   ]
  },
  {
   "cell_type": "markdown",
   "id": "c09ab589",
   "metadata": {},
   "source": [
    "What are some general design guidelines for coding functions?"
   ]
  },
  {
   "cell_type": "markdown",
   "id": "3a63e70f",
   "metadata": {},
   "source": [
    "## Answer to the Question 6"
   ]
  },
  {
   "cell_type": "markdown",
   "id": "1cc957de",
   "metadata": {},
   "source": [
    "Here are some of the general design guidelines for coding functions:"
   ]
  },
  {
   "cell_type": "markdown",
   "id": "3389e5e2",
   "metadata": {},
   "source": [
    "* Every function should perform only one task.\n",
    "* Make functions short, cocise and easy to understand.\n",
    "* Use meaningful names representing the task the function is intnded for.\n",
    "* Avoid using global variables.\n",
    "* Functions should return values and not modify variables.\n",
    "* Have clear and concise documentation for every function.\n",
    "* Test each function properly to ensure that it is behaving as expected.\n",
    "* Divide long complex code into different functions."
   ]
  },
  {
   "cell_type": "markdown",
   "id": "815ecc97",
   "metadata": {},
   "source": [
    "## Question 7\n"
   ]
  },
  {
   "cell_type": "markdown",
   "id": "05b8bf33",
   "metadata": {},
   "source": [
    "Name three or more ways that functions can communicate results to a caller."
   ]
  },
  {
   "cell_type": "markdown",
   "id": "e3b1bc50",
   "metadata": {},
   "source": [
    "## Answer to the Question 7"
   ]
  },
  {
   "cell_type": "markdown",
   "id": "ce67f5ed",
   "metadata": {},
   "source": [
    "Some of the ways functions can communicate results to a caller are detailed below:"
   ]
  },
  {
   "cell_type": "markdown",
   "id": "d480d66a",
   "metadata": {},
   "source": [
    "* Using `return` statement, functions can return value to a caller.\n",
    "* Changing the value of the mutable objects inside a function. These changes will persist outside the function, and then the caller can access these data.\n",
    "* Raising exception, function can return this excpetion to the caller.\n",
    "* Functions can output parameters which are passed as arguments to the function.\n",
    "* Functions can modify global variables which can then be accessed outside the program."
   ]
  },
  {
   "cell_type": "code",
   "execution_count": null,
   "id": "c72a7dd0",
   "metadata": {},
   "outputs": [],
   "source": []
  }
 ],
 "metadata": {
  "kernelspec": {
   "display_name": "Python 3 (ipykernel)",
   "language": "python",
   "name": "python3"
  },
  "language_info": {
   "codemirror_mode": {
    "name": "ipython",
    "version": 3
   },
   "file_extension": ".py",
   "mimetype": "text/x-python",
   "name": "python",
   "nbconvert_exporter": "python",
   "pygments_lexer": "ipython3",
   "version": "3.9.13"
  }
 },
 "nbformat": 4,
 "nbformat_minor": 5
}
