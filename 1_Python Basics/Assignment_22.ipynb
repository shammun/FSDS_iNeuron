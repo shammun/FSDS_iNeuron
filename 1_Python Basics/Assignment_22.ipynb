{
 "cells": [
  {
   "cell_type": "markdown",
   "id": "05cd45e9",
   "metadata": {},
   "source": [
    "# Assignment 22"
   ]
  },
  {
   "cell_type": "markdown",
   "id": "96dbf3e6",
   "metadata": {},
   "source": [
    "## Question 1"
   ]
  },
  {
   "cell_type": "markdown",
   "id": "83242489",
   "metadata": {},
   "source": [
    "What is the result of the code, and explain?\n",
    "\n",
    "`\n",
    "X = 'iNeuron'\n",
    "def func():\n",
    "    print(X)\n",
    "func()`"
   ]
  },
  {
   "cell_type": "markdown",
   "id": "16983ccc",
   "metadata": {},
   "source": [
    "## Answer to the Question 1"
   ]
  },
  {
   "cell_type": "markdown",
   "id": "81641e0a",
   "metadata": {},
   "source": [
    "The above code will print **iNeuron**. The function `func()` prints the value of the variable `X` and as the value of X is **iNeuron**, it is printed."
   ]
  },
  {
   "cell_type": "markdown",
   "id": "e3fd8ada",
   "metadata": {},
   "source": [
    "## Question 2"
   ]
  },
  {
   "cell_type": "markdown",
   "id": "a544247d",
   "metadata": {},
   "source": [
    "What is the result of the code, and explain?\n",
    "\n",
    "`\n",
    "X = 'iNeuron'\n",
    "def func():\n",
    "    X = 'NI!'\n",
    "func()\n",
    "print(X)`"
   ]
  },
  {
   "cell_type": "markdown",
   "id": "512da666",
   "metadata": {},
   "source": [
    "## Answer to the Question 2"
   ]
  },
  {
   "cell_type": "markdown",
   "id": "0ed52ed7",
   "metadata": {},
   "source": [
    "This will print `iNeuron`. The reason is that calling **func()** sets the local variable X to **NI!** which has no effect on the global variable X. When we call **print(X)**, we are basically printing the value of the global variable X which is **iNeuron** and has not been effected by calling the function **func()**. So **iNeuron** gets printed."
   ]
  },
  {
   "cell_type": "markdown",
   "id": "18db1f75",
   "metadata": {},
   "source": [
    "## Question 3"
   ]
  },
  {
   "cell_type": "markdown",
   "id": "f290e655",
   "metadata": {},
   "source": [
    "What does this code print, and why?\n",
    "\n",
    "`\n",
    "X = 'iNeuron'\n",
    "def func():\n",
    "    X = 'NI'\n",
    "    print(X)\n",
    "func()\n",
    "print(X)`"
   ]
  },
  {
   "cell_type": "markdown",
   "id": "674b7495",
   "metadata": {},
   "source": [
    "## Answer to the Question 3"
   ]
  },
  {
   "cell_type": "markdown",
   "id": "3a60e4cd",
   "metadata": {},
   "source": [
    "For the first function call **func()**, **NI** gets pprinted and for the **print(X)** statement, **iNeuron** gets printed. This is because, **func()** prints the value of `X` defined in the local scope which is **NI** and **print(X)** prints the value of X defined outside the function scope, which is **iNeuron**."
   ]
  },
  {
   "cell_type": "markdown",
   "id": "d71aa5ec",
   "metadata": {},
   "source": [
    "## Question 4"
   ]
  },
  {
   "cell_type": "markdown",
   "id": "70177c0e",
   "metadata": {},
   "source": [
    "What output does this code produce? Why?\n",
    "\n",
    "`\n",
    "X = 'iNeuron'\n",
    "def func():\n",
    "    global X\n",
    "    X = 'NI'\n",
    "func()\n",
    "print(X)`\n"
   ]
  },
  {
   "cell_type": "markdown",
   "id": "a6b5d53e",
   "metadata": {},
   "source": [
    "## Answer to the Question 4"
   ]
  },
  {
   "cell_type": "markdown",
   "id": "796d6369",
   "metadata": {},
   "source": [
    "Both of the function call **func()** and print statement **print(X)** will print **NI**. This is because, we declared the variable X inside the function as `global` variable and so if we now change the value of X inside the function, it will change the value of it in the global scope also. So if we access the variable outside this function, as we have done here for **print(X)**, we see that its value is no more **iNeuron** and the effect of the function goes outside its scope."
   ]
  },
  {
   "cell_type": "markdown",
   "id": "d6d5d9d1",
   "metadata": {},
   "source": [
    "## Question 5"
   ]
  },
  {
   "cell_type": "markdown",
   "id": "567a373b",
   "metadata": {},
   "source": [
    "What about this code—what’s the output, and why?\n",
    "\n",
    "`\n",
    "X = 'iNeuron'\n",
    "def func():\n",
    "    X = 'NI'\n",
    "    def nested():\n",
    "        print(X)\n",
    "    nested()\n",
    "func()`\n"
   ]
  },
  {
   "cell_type": "markdown",
   "id": "6b5251ea",
   "metadata": {},
   "source": [
    "## Answer to the Question 5"
   ]
  },
  {
   "cell_type": "markdown",
   "id": "20c49d36",
   "metadata": {},
   "source": [
    "This will print **NI** as when we call the function `func()`, it calls the function **nested()** defined inside the function `func()`. Now, inside the nested function `nested()`, there is a print statement `print(X)`, but there is no variable **X** defined inside `nested()`, so it then searches in the function scope `func()` where the value of X is defined as **NI**. So this value of X is set in the function `nested()` and this gets printed. Thus, the value **NI** is printed and not the value **iNeuron**."
   ]
  },
  {
   "cell_type": "markdown",
   "id": "83b5d4cb",
   "metadata": {},
   "source": [
    "## Question 6"
   ]
  },
  {
   "cell_type": "markdown",
   "id": "c09ab589",
   "metadata": {},
   "source": [
    "How about this code: what is its output in Python 3, and explain?\n",
    "\n",
    "`\n",
    "def func():\n",
    "    X = 'NI'\n",
    "    def nested():\n",
    "        nonlocal X\n",
    "        X = 'Spam'\n",
    "    nested()\n",
    "    print(X)\n",
    "func()`"
   ]
  },
  {
   "cell_type": "markdown",
   "id": "3a63e70f",
   "metadata": {},
   "source": [
    "## Answer to the Question 6"
   ]
  },
  {
   "cell_type": "markdown",
   "id": "1cc957de",
   "metadata": {},
   "source": [
    "When the keyword **nonlocal** is used, the value from the nearest enclosing block is taken, this is not the case if we use **global** keyword. When the function `nested()` is called, it sees that X is declared as `nonlocal` and so it accesses the variable X outside its function scope and after the assignment `X = 'Spam'`, the value of X in the nearest enclosing space defined inside the function `func()` also changes  from **NI** to **Spam**. Thus, `print(X)` defined inside the outer function scope will print **Spam** . Finally, calling `func()` prints **Spam**."
   ]
  },
  {
   "cell_type": "code",
   "execution_count": null,
   "id": "f54f1e81",
   "metadata": {},
   "outputs": [],
   "source": []
  }
 ],
 "metadata": {
  "kernelspec": {
   "display_name": "Python 3 (ipykernel)",
   "language": "python",
   "name": "python3"
  },
  "language_info": {
   "codemirror_mode": {
    "name": "ipython",
    "version": 3
   },
   "file_extension": ".py",
   "mimetype": "text/x-python",
   "name": "python",
   "nbconvert_exporter": "python",
   "pygments_lexer": "ipython3",
   "version": "3.9.13"
  }
 },
 "nbformat": 4,
 "nbformat_minor": 5
}
