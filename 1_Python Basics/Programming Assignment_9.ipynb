{
 "cells": [
  {
   "cell_type": "markdown",
   "id": "05cd45e9",
   "metadata": {},
   "source": [
    "# Programming Assignment 9"
   ]
  },
  {
   "cell_type": "markdown",
   "id": "96dbf3e6",
   "metadata": {},
   "source": [
    "## Question 1"
   ]
  },
  {
   "cell_type": "markdown",
   "id": "83242489",
   "metadata": {},
   "source": [
    "Write a Python program to check if the given number is a Disarium Number?"
   ]
  },
  {
   "cell_type": "markdown",
   "id": "16983ccc",
   "metadata": {},
   "source": [
    "## Answer to the Question 1"
   ]
  },
  {
   "cell_type": "code",
   "execution_count": 24,
   "id": "b9d0dfee",
   "metadata": {},
   "outputs": [],
   "source": [
    "# First approach\n",
    "def disarium(n):\n",
    "    total = 0\n",
    "    temp = n\n",
    "    while temp > 0:\n",
    "        digit = temp % 10\n",
    "        total += digit ** len(str(temp))\n",
    "        temp //= 10\n",
    "    return total == n"
   ]
  },
  {
   "cell_type": "code",
   "execution_count": 25,
   "id": "c7fb0424",
   "metadata": {},
   "outputs": [],
   "source": [
    "# Second approach\n",
    "def disarium(n):\n",
    "    num = str(n)\n",
    "    length = len(num)\n",
    "    total = 0\n",
    "    for i in range(length):\n",
    "        total += int(num[i])**(i+1)\n",
    "    return total == n"
   ]
  },
  {
   "cell_type": "code",
   "execution_count": 23,
   "id": "dd90dd95",
   "metadata": {},
   "outputs": [
    {
     "data": {
      "text/plain": [
       "True"
      ]
     },
     "execution_count": 23,
     "metadata": {},
     "output_type": "execute_result"
    }
   ],
   "source": [
    "disarium(135)"
   ]
  },
  {
   "cell_type": "markdown",
   "id": "e3fd8ada",
   "metadata": {},
   "source": [
    "## Question 2"
   ]
  },
  {
   "cell_type": "markdown",
   "id": "a544247d",
   "metadata": {},
   "source": [
    "Write a Python program to print all disarium numbers between 1 to 100?"
   ]
  },
  {
   "cell_type": "markdown",
   "id": "512da666",
   "metadata": {},
   "source": [
    "## Answer to the Question 2"
   ]
  },
  {
   "cell_type": "code",
   "execution_count": 26,
   "id": "c1778599",
   "metadata": {},
   "outputs": [],
   "source": [
    "def all_disarium(lowest, highest):\n",
    "    for i in range(lowest, highest+1):\n",
    "        if disarium(i):\n",
    "            print(i)"
   ]
  },
  {
   "cell_type": "code",
   "execution_count": 27,
   "id": "ee532b52",
   "metadata": {},
   "outputs": [
    {
     "name": "stdout",
     "output_type": "stream",
     "text": [
      "0\n",
      "1\n",
      "2\n",
      "3\n",
      "4\n",
      "5\n",
      "6\n",
      "7\n",
      "8\n",
      "9\n",
      "89\n",
      "135\n",
      "175\n"
     ]
    }
   ],
   "source": [
    "all_disarium(0, 300)"
   ]
  },
  {
   "cell_type": "markdown",
   "id": "18db1f75",
   "metadata": {},
   "source": [
    "## Question 3"
   ]
  },
  {
   "cell_type": "markdown",
   "id": "f290e655",
   "metadata": {},
   "source": [
    "Write a Python program to check if the given number is Happy Number?"
   ]
  },
  {
   "cell_type": "markdown",
   "id": "674b7495",
   "metadata": {},
   "source": [
    "## Answer to the Question 3"
   ]
  },
  {
   "cell_type": "code",
   "execution_count": 28,
   "id": "2783c5e1",
   "metadata": {},
   "outputs": [],
   "source": [
    "def is_happy(n):\n",
    "    past = set()\n",
    "    while n != 1:\n",
    "        n = sum(int(i)**2 for i in str(n))\n",
    "        if n in past:\n",
    "            return False\n",
    "        past.add(n)\n",
    "    return True"
   ]
  },
  {
   "cell_type": "code",
   "execution_count": 30,
   "id": "523c2c83",
   "metadata": {},
   "outputs": [
    {
     "name": "stdout",
     "output_type": "stream",
     "text": [
      "True\n"
     ]
    }
   ],
   "source": [
    "print(is_happy(932))"
   ]
  },
  {
   "cell_type": "code",
   "execution_count": 31,
   "id": "62722a21",
   "metadata": {},
   "outputs": [
    {
     "name": "stdout",
     "output_type": "stream",
     "text": [
      "False\n"
     ]
    }
   ],
   "source": [
    "print(is_happy(12))"
   ]
  },
  {
   "cell_type": "markdown",
   "id": "d71aa5ec",
   "metadata": {},
   "source": [
    "## Question 4"
   ]
  },
  {
   "cell_type": "markdown",
   "id": "70177c0e",
   "metadata": {},
   "source": [
    "Write a Python program to print all happy numbers between 1 and 100?"
   ]
  },
  {
   "cell_type": "markdown",
   "id": "a6b5d53e",
   "metadata": {},
   "source": [
    "## Answer to the Question 4"
   ]
  },
  {
   "cell_type": "code",
   "execution_count": 32,
   "id": "470dc716",
   "metadata": {},
   "outputs": [],
   "source": [
    "def all_happy_numbers(lowest, highest):\n",
    "    for i in range(lowest, highest+1):\n",
    "        if is_happy(i):\n",
    "            print(i)"
   ]
  },
  {
   "cell_type": "code",
   "execution_count": 35,
   "id": "c6c2be92",
   "metadata": {},
   "outputs": [
    {
     "name": "stdout",
     "output_type": "stream",
     "text": [
      "68\n",
      "70\n",
      "79\n",
      "82\n",
      "86\n",
      "91\n",
      "94\n",
      "97\n",
      "100\n"
     ]
    }
   ],
   "source": [
    "all_happy_numbers(60, 100)"
   ]
  },
  {
   "cell_type": "markdown",
   "id": "d6d5d9d1",
   "metadata": {},
   "source": [
    "## Question 5"
   ]
  },
  {
   "cell_type": "markdown",
   "id": "567a373b",
   "metadata": {},
   "source": [
    "Write a Python program to determine whether the given number is a Harshad Number?"
   ]
  },
  {
   "cell_type": "markdown",
   "id": "6b5251ea",
   "metadata": {},
   "source": [
    "## Answer to the Question 5"
   ]
  },
  {
   "cell_type": "code",
   "execution_count": 39,
   "id": "873d756a",
   "metadata": {},
   "outputs": [],
   "source": [
    "# One approach\n",
    "# the number is divisible by the sum of the digits of the number \n",
    "def harshad(n):\n",
    "    sum = 0\n",
    "    temp = n\n",
    "    while temp > 0:\n",
    "        digit = temp % 10\n",
    "        sum += digit\n",
    "        temp //= 10\n",
    "    return n % sum == 0"
   ]
  },
  {
   "cell_type": "code",
   "execution_count": 37,
   "id": "31747f0e",
   "metadata": {},
   "outputs": [
    {
     "data": {
      "text/plain": [
       "True"
      ]
     },
     "execution_count": 37,
     "metadata": {},
     "output_type": "execute_result"
    }
   ],
   "source": [
    "harshad(156)"
   ]
  },
  {
   "cell_type": "code",
   "execution_count": 44,
   "id": "f65aabdc",
   "metadata": {},
   "outputs": [
    {
     "data": {
      "text/plain": [
       "False"
      ]
     },
     "execution_count": 44,
     "metadata": {},
     "output_type": "execute_result"
    }
   ],
   "source": [
    "harshad(157)"
   ]
  },
  {
   "cell_type": "code",
   "execution_count": 41,
   "id": "d60fce0d",
   "metadata": {},
   "outputs": [],
   "source": [
    "# second approach\n",
    "def harshad(n):\n",
    "    sum = 0\n",
    "    number = str(n)\n",
    "    for i in range(len(number)):\n",
    "        sum += int(number[i])\n",
    "    return n % sum == 0"
   ]
  },
  {
   "cell_type": "code",
   "execution_count": 42,
   "id": "fa8688ca",
   "metadata": {},
   "outputs": [
    {
     "data": {
      "text/plain": [
       "True"
      ]
     },
     "execution_count": 42,
     "metadata": {},
     "output_type": "execute_result"
    }
   ],
   "source": [
    "harshad(156)"
   ]
  },
  {
   "cell_type": "code",
   "execution_count": 45,
   "id": "5cdec948",
   "metadata": {},
   "outputs": [
    {
     "data": {
      "text/plain": [
       "False"
      ]
     },
     "execution_count": 45,
     "metadata": {},
     "output_type": "execute_result"
    }
   ],
   "source": [
    "harshad(157)"
   ]
  },
  {
   "cell_type": "markdown",
   "id": "968ce2f0",
   "metadata": {},
   "source": [
    "## Question 6"
   ]
  },
  {
   "cell_type": "markdown",
   "id": "533c96da",
   "metadata": {},
   "source": [
    "Write a Python program to print all pronic numbers between 1 and 100?"
   ]
  },
  {
   "cell_type": "markdown",
   "id": "27c5c915",
   "metadata": {},
   "source": [
    "## Answer to the Question 6"
   ]
  },
  {
   "cell_type": "code",
   "execution_count": 50,
   "id": "44fee782",
   "metadata": {},
   "outputs": [],
   "source": [
    "def pronic(n):\n",
    "    if n == 0:\n",
    "        return True\n",
    "    else:\n",
    "        for i in range(1, n+1):\n",
    "            if i * (i+1) == n:\n",
    "                return True\n",
    "        return False"
   ]
  },
  {
   "cell_type": "code",
   "execution_count": 51,
   "id": "ef175b3e",
   "metadata": {},
   "outputs": [
    {
     "data": {
      "text/plain": [
       "True"
      ]
     },
     "execution_count": 51,
     "metadata": {},
     "output_type": "execute_result"
    }
   ],
   "source": [
    "pronic(0)"
   ]
  },
  {
   "cell_type": "code",
   "execution_count": 52,
   "id": "1cfcae60",
   "metadata": {},
   "outputs": [
    {
     "data": {
      "text/plain": [
       "True"
      ]
     },
     "execution_count": 52,
     "metadata": {},
     "output_type": "execute_result"
    }
   ],
   "source": [
    "pronic(2)"
   ]
  },
  {
   "cell_type": "code",
   "execution_count": 53,
   "id": "541503b8",
   "metadata": {},
   "outputs": [
    {
     "data": {
      "text/plain": [
       "True"
      ]
     },
     "execution_count": 53,
     "metadata": {},
     "output_type": "execute_result"
    }
   ],
   "source": [
    "pronic(6)"
   ]
  },
  {
   "cell_type": "code",
   "execution_count": 54,
   "id": "f4a2f606",
   "metadata": {},
   "outputs": [
    {
     "data": {
      "text/plain": [
       "True"
      ]
     },
     "execution_count": 54,
     "metadata": {},
     "output_type": "execute_result"
    }
   ],
   "source": [
    "pronic(12)"
   ]
  },
  {
   "cell_type": "code",
   "execution_count": 55,
   "id": "29a05ee7",
   "metadata": {},
   "outputs": [
    {
     "data": {
      "text/plain": [
       "False"
      ]
     },
     "execution_count": 55,
     "metadata": {},
     "output_type": "execute_result"
    }
   ],
   "source": [
    "pronic(14)"
   ]
  },
  {
   "cell_type": "code",
   "execution_count": 56,
   "id": "60fc7822",
   "metadata": {},
   "outputs": [],
   "source": [
    "def all_pronics(lowest, highest):\n",
    "    for i in range(lowest, highest+1):\n",
    "        if pronic(i):\n",
    "            print(i)"
   ]
  },
  {
   "cell_type": "code",
   "execution_count": 57,
   "id": "051d5dba",
   "metadata": {},
   "outputs": [
    {
     "name": "stdout",
     "output_type": "stream",
     "text": [
      "2\n",
      "6\n",
      "12\n",
      "20\n",
      "30\n",
      "42\n",
      "56\n",
      "72\n",
      "90\n"
     ]
    }
   ],
   "source": [
    "all_pronics(1, 100)"
   ]
  },
  {
   "cell_type": "code",
   "execution_count": null,
   "id": "641cad0c",
   "metadata": {},
   "outputs": [],
   "source": []
  }
 ],
 "metadata": {
  "kernelspec": {
   "display_name": "Python 3 (ipykernel)",
   "language": "python",
   "name": "python3"
  },
  "language_info": {
   "codemirror_mode": {
    "name": "ipython",
    "version": 3
   },
   "file_extension": ".py",
   "mimetype": "text/x-python",
   "name": "python",
   "nbconvert_exporter": "python",
   "pygments_lexer": "ipython3",
   "version": "3.9.13"
  }
 },
 "nbformat": 4,
 "nbformat_minor": 5
}
