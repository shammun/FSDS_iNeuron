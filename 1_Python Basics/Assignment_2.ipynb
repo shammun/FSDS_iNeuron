{
 "cells": [
  {
   "cell_type": "markdown",
   "id": "05cd45e9",
   "metadata": {},
   "source": [
    "# Assignment 2"
   ]
  },
  {
   "cell_type": "markdown",
   "id": "7e9a4b17",
   "metadata": {},
   "source": [
    "## Question 1"
   ]
  },
  {
   "cell_type": "markdown",
   "id": "83242489",
   "metadata": {},
   "source": [
    "1. What are the two values of the Boolean data type? How do you write them?"
   ]
  },
  {
   "cell_type": "markdown",
   "id": "16983ccc",
   "metadata": {},
   "source": [
    "## Answer to the Question 1"
   ]
  },
  {
   "cell_type": "markdown",
   "id": "81641e0a",
   "metadata": {},
   "source": [
    "There are two types of values for Boolean data type: **True** and **False**. **True** is normally used when a condition is met and **False** is used when not."
   ]
  },
  {
   "cell_type": "markdown",
   "id": "e3fd8ada",
   "metadata": {},
   "source": [
    "## Question 2"
   ]
  },
  {
   "cell_type": "markdown",
   "id": "a544247d",
   "metadata": {},
   "source": [
    "What are the three different types of Boolean operators?"
   ]
  },
  {
   "cell_type": "markdown",
   "id": "512da666",
   "metadata": {},
   "source": [
    "## Answer to the Question 2"
   ]
  },
  {
   "cell_type": "markdown",
   "id": "fbde0563",
   "metadata": {},
   "source": [
    "The three different types of Boolean operators are **and**, **or** and **not** operators. \n",
    "* **and** operator returns True if both operands are True, False otherwise.\n",
    "* **or** operator returns True if one of the operands is True, False otherwise.\n",
    "* **not** operator returns the opposite of the operand it is used on, for example, if the operand is True, it will return False, and vice versa."
   ]
  },
  {
   "cell_type": "markdown",
   "id": "18db1f75",
   "metadata": {},
   "source": [
    "## Question 3"
   ]
  },
  {
   "cell_type": "markdown",
   "id": "f290e655",
   "metadata": {},
   "source": [
    "Make a list of each Boolean operator's truth tables (i.e. every possible combination of Boolean values for the operator and what it evaluate )."
   ]
  },
  {
   "cell_type": "markdown",
   "id": "674b7495",
   "metadata": {},
   "source": [
    "## Answer to the Question 3"
   ]
  },
  {
   "cell_type": "markdown",
   "id": "3a60e4cd",
   "metadata": {},
   "source": [
    "Truth table for **and** opperator."
   ]
  },
  {
   "cell_type": "markdown",
   "id": "c8b2defc",
   "metadata": {},
   "source": [
    "| A | B | A and B |\n",
    "|----------|----------|----------|\n",
    "|True |True |True |\n",
    "|True |False |False |\n",
    "|False |True |False |\n",
    "|False |False |False |"
   ]
  },
  {
   "cell_type": "markdown",
   "id": "d4e7ef4e",
   "metadata": {},
   "source": [
    "Truth table for **or** opperator."
   ]
  },
  {
   "cell_type": "markdown",
   "id": "d039a990",
   "metadata": {},
   "source": [
    "| A | B | A or B |\n",
    "|----------|----------|----------|\n",
    "|True |True |True |\n",
    "|True |False |True |\n",
    "|False |True |True |\n",
    "|False |False |False |"
   ]
  },
  {
   "cell_type": "markdown",
   "id": "16eeab71",
   "metadata": {},
   "source": [
    "Truth table for **not** opperator."
   ]
  },
  {
   "cell_type": "markdown",
   "id": "be90f251",
   "metadata": {},
   "source": [
    "| A | not A|\n",
    "|----------|----------|\n",
    "|True |False |\n",
    "|False |True |"
   ]
  },
  {
   "cell_type": "markdown",
   "id": "d71aa5ec",
   "metadata": {},
   "source": [
    "## Question 4"
   ]
  },
  {
   "cell_type": "raw",
   "id": "cafa19c8",
   "metadata": {},
   "source": [
    "What is an expression made up of? What do all expressions do?What are the values of the following expressions?\n",
    "(5 > 4) and (3 == 5)\n",
    "not (5 > 4)\n",
    "(5 > 4) or (3 == 5)\n",
    "not ((5 > 4) or (3 == 5))\n",
    "(True and True) and (True == False)\n",
    "(not False) or (not True)"
   ]
  },
  {
   "cell_type": "markdown",
   "id": "a6b5d53e",
   "metadata": {},
   "source": [
    "## Answer to the Question 4"
   ]
  },
  {
   "cell_type": "raw",
   "id": "fbfca0d5",
   "metadata": {},
   "source": [
    "(5 > 4) and (3 == 5)  equals to False\n",
    "not (5 > 4) equals to False\n",
    "(5 > 4) or (3 == 5) equals to True\n",
    "not ((5 > 4) or (3 == 5)) equals to False\n",
    "(True and True) and (True == False) equals to False\n",
    "(not False) or (not True) equals to True"
   ]
  },
  {
   "cell_type": "markdown",
   "id": "d6d5d9d1",
   "metadata": {},
   "source": [
    "## Question 5"
   ]
  },
  {
   "cell_type": "markdown",
   "id": "567a373b",
   "metadata": {},
   "source": [
    "What are the six comparison operators?"
   ]
  },
  {
   "cell_type": "markdown",
   "id": "6b5251ea",
   "metadata": {},
   "source": [
    "## Answer to the Question 5"
   ]
  },
  {
   "cell_type": "markdown",
   "id": "19137df1",
   "metadata": {},
   "source": [
    "The six comparison operators are:\n",
    "\n",
    "* **>** greater than operator which will return True if the left operand is greater than the right operand and False otherwise.\n",
    "* **<** less than operator which will return True if the left operand is less than the right operand and False otherwise.\n",
    "* **==** equal operator which will return True if the left operand is the same as the right operand and False otherwise.\n",
    "* **!=** not equal to operator which will return True if the left operand is not equal to the right operand and False otherwise.\n",
    "* **>=** greater than or equal to operator which will return True if the left operand is greater than or equal to the right operand and False otherwise.\n",
    "* **<=** less than or equal to operator which will return True if the left operand is less than or equal to the right operand and False otherwise."
   ]
  },
  {
   "cell_type": "markdown",
   "id": "9d2fa58b",
   "metadata": {},
   "source": [
    "Whereas expression evaluates to a single value, statement performs some actions such as assigning values to a variables, displaying result on the screen, checking conditions etc. "
   ]
  },
  {
   "cell_type": "markdown",
   "id": "90502bee",
   "metadata": {},
   "source": [
    "## Question 6"
   ]
  },
  {
   "cell_type": "markdown",
   "id": "49bcbe66",
   "metadata": {},
   "source": [
    "How do you tell the difference between the equal to and assignment operators? Describe a condition and when you would use one."
   ]
  },
  {
   "cell_type": "markdown",
   "id": "f9e512e8",
   "metadata": {},
   "source": [
    "## Answer to the Question 6"
   ]
  },
  {
   "cell_type": "markdown",
   "id": "ea1441bc",
   "metadata": {},
   "source": [
    "In Python, equal to or **==** is used for comparing two variables on whether they have the same values whereas **=** is used for assigning a value to a variable. Here is an example to illustrate this further:"
   ]
  },
  {
   "cell_type": "code",
   "execution_count": 7,
   "id": "53ed4d7b",
   "metadata": {},
   "outputs": [
    {
     "name": "stdout",
     "output_type": "stream",
     "text": [
      "False\n"
     ]
    }
   ],
   "source": [
    "price_a = 200 # assign a value of 200 to price_a variable\n",
    "price_b = 300 # assign a value of 300 to price_b variable\n",
    "print(price_a == price_b) # are these two variables equal"
   ]
  },
  {
   "cell_type": "markdown",
   "id": "58ff28f3",
   "metadata": {},
   "source": [
    "In the above example, **=** is used 2 times in two expressions, first for assigning **200** to variable **price_a** and second time, for assigning 300 to variable **price_b**. In the third line, **==** is used to check whether the value of these two variables are same, which is not the case and so returns **False** here."
   ]
  },
  {
   "cell_type": "markdown",
   "id": "28c550c6",
   "metadata": {},
   "source": [
    "## Question 7"
   ]
  },
  {
   "cell_type": "raw",
   "id": "159ef8ee",
   "metadata": {},
   "source": [
    "Identify the three blocks in this code:\n",
    "\n",
    "spam = 0\n",
    "if spam == 10:\n",
    "    print('eggs')\n",
    "if spam > 5:\n",
    "    print('bacon')\n",
    "else:\n",
    "    print('ham')\n",
    "    print('spam')\n",
    "    print('spam')"
   ]
  },
  {
   "cell_type": "markdown",
   "id": "d0122b7a",
   "metadata": {},
   "source": [
    "## Answer to the Question 7"
   ]
  },
  {
   "cell_type": "markdown",
   "id": "ce05670a",
   "metadata": {},
   "source": [
    "The first block is the assignment statement **spam = 0**."
   ]
  },
  {
   "cell_type": "markdown",
   "id": "e665cbd3",
   "metadata": {},
   "source": [
    "The second block is the first **if** statement **if spam==10** and the indented **print('eggs')** expression."
   ]
  },
  {
   "cell_type": "markdown",
   "id": "1704dd91",
   "metadata": {},
   "source": [
    "The third block is the second **if** statement **if spam > 5** and the associated **else** block. So starting from line 4 up to the last line belong to the third block."
   ]
  },
  {
   "cell_type": "markdown",
   "id": "d8764e57",
   "metadata": {},
   "source": [
    "## Question 8"
   ]
  },
  {
   "cell_type": "markdown",
   "id": "d36f6e9b",
   "metadata": {},
   "source": [
    "Write code that prints Hello if 1 is stored in spam, prints Howdy if 2 is stored in spam, and prints Greetings! if anything else is stored in spam."
   ]
  },
  {
   "cell_type": "markdown",
   "id": "1adf07d3",
   "metadata": {},
   "source": [
    "## Answer to the Question 8"
   ]
  },
  {
   "cell_type": "code",
   "execution_count": 12,
   "id": "a37f8083",
   "metadata": {},
   "outputs": [
    {
     "name": "stdout",
     "output_type": "stream",
     "text": [
      "Greetings!\n"
     ]
    }
   ],
   "source": [
    "spam = 4 # change its value to see whether this code is working or not\n",
    "\n",
    "if spam == 1:\n",
    "    print('Hello')\n",
    "elif spam == 2:\n",
    "    print('Howdy')\n",
    "else:\n",
    "    print('Greetings!')"
   ]
  },
  {
   "cell_type": "markdown",
   "id": "c91be4c8",
   "metadata": {},
   "source": [
    "## Question 9"
   ]
  },
  {
   "cell_type": "markdown",
   "id": "3ec5976a",
   "metadata": {},
   "source": [
    "If your programme is stuck in an endless loop, what keys you’ll press?"
   ]
  },
  {
   "cell_type": "markdown",
   "id": "42250ef4",
   "metadata": {},
   "source": [
    "## Answer to the Question 9"
   ]
  },
  {
   "cell_type": "markdown",
   "id": "d533bf5c",
   "metadata": {},
   "source": [
    "We can press  **CTRL + C** to stop the execution of the code."
   ]
  },
  {
   "cell_type": "markdown",
   "id": "d41445a7",
   "metadata": {},
   "source": [
    "## Question 10"
   ]
  },
  {
   "cell_type": "markdown",
   "id": "cfd24504",
   "metadata": {},
   "source": [
    "How can you tell the difference between break and continue?"
   ]
  },
  {
   "cell_type": "markdown",
   "id": "b21782fd",
   "metadata": {},
   "source": [
    "## Answer to the Question 10"
   ]
  },
  {
   "cell_type": "markdown",
   "id": "69c38868",
   "metadata": {},
   "source": [
    "**break** is used to terminate a loop and it moves the program flow to the next statement after the loop. Whereas **continue** stops executing the current loop and moves on to the next iteration of the loop. Both **break** and **continue** can be used in loops such as **for** and **while**."
   ]
  },
  {
   "cell_type": "markdown",
   "id": "90cb1ce6",
   "metadata": {},
   "source": [
    "## Question 11"
   ]
  },
  {
   "cell_type": "markdown",
   "id": "6babb769",
   "metadata": {},
   "source": [
    "In a for loop, what is the difference between **range(10)**, **range(0, 10)**, and **range(0, 10, 1)**?"
   ]
  },
  {
   "cell_type": "markdown",
   "id": "cdd1a1f4",
   "metadata": {},
   "source": [
    "## Answer to the Question 11"
   ]
  },
  {
   "cell_type": "markdown",
   "id": "7b0b9280",
   "metadata": {},
   "source": [
    "All of these three here give the same result as they generate a sequence of 10 numbers from 0 to 9. For **range** function has three arguments **start**, **stop** and **end**. Here, **start** is the starting value for the sequence, **end** is the end value below which numbers will be generated and **step** is the value by which the numbers in the sequence will be increased. By default **start** value is 0 and **step** value is 1 and so **range(10)** becomes equivalent to **range(0,10,1)** and **range(0,10)** becomes equivalent to **range(0,10,1)**."
   ]
  },
  {
   "cell_type": "markdown",
   "id": "d468b17c",
   "metadata": {},
   "source": [
    "## Question 12"
   ]
  },
  {
   "cell_type": "markdown",
   "id": "1d03e5de",
   "metadata": {},
   "source": [
    "Write a short program that prints the numbers 1 to 10 using a for loop. Then write an equivalent program that prints the numbers 1 to 10 using a while loop."
   ]
  },
  {
   "cell_type": "markdown",
   "id": "915b5490",
   "metadata": {},
   "source": [
    "## Answer to the Question 12"
   ]
  },
  {
   "cell_type": "code",
   "execution_count": 14,
   "id": "58468629",
   "metadata": {},
   "outputs": [
    {
     "name": "stdout",
     "output_type": "stream",
     "text": [
      "1\n",
      "2\n",
      "3\n",
      "4\n",
      "5\n",
      "6\n",
      "7\n",
      "8\n",
      "9\n",
      "10\n"
     ]
    }
   ],
   "source": [
    "# numbers from 1 to 10 using for loop\n",
    "for i in range(1, 11):\n",
    "    print(i)"
   ]
  },
  {
   "cell_type": "code",
   "execution_count": 15,
   "id": "b42e9ff0",
   "metadata": {},
   "outputs": [
    {
     "name": "stdout",
     "output_type": "stream",
     "text": [
      "1\n",
      "2\n",
      "3\n",
      "4\n",
      "5\n",
      "6\n",
      "7\n",
      "8\n",
      "9\n",
      "10\n"
     ]
    }
   ],
   "source": [
    "# numbers from 1 to 10 using while loop\n",
    "i = 1\n",
    "while i < 11:\n",
    "    print(i)\n",
    "    i = i + 1"
   ]
  },
  {
   "cell_type": "markdown",
   "id": "e5de3d07",
   "metadata": {},
   "source": [
    "## Question 13"
   ]
  },
  {
   "cell_type": "markdown",
   "id": "af510494",
   "metadata": {},
   "source": [
    "If you had a function named bacon() inside a module named spam, how would you call it after importing spam?"
   ]
  },
  {
   "cell_type": "markdown",
   "id": "b6550b9b",
   "metadata": {},
   "source": [
    "## Answer to the Question 13"
   ]
  },
  {
   "cell_type": "markdown",
   "id": "f5a79d44",
   "metadata": {},
   "source": [
    "import spam\n",
    "spam.bacon()"
   ]
  },
  {
   "cell_type": "code",
   "execution_count": null,
   "id": "954e08f6",
   "metadata": {},
   "outputs": [],
   "source": []
  }
 ],
 "metadata": {
  "kernelspec": {
   "display_name": "Python 3 (ipykernel)",
   "language": "python",
   "name": "python3"
  },
  "language_info": {
   "codemirror_mode": {
    "name": "ipython",
    "version": 3
   },
   "file_extension": ".py",
   "mimetype": "text/x-python",
   "name": "python",
   "nbconvert_exporter": "python",
   "pygments_lexer": "ipython3",
   "version": "3.9.13"
  }
 },
 "nbformat": 4,
 "nbformat_minor": 5
}
