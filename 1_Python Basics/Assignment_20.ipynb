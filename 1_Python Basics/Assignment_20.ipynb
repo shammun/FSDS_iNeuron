{
 "cells": [
  {
   "cell_type": "markdown",
   "id": "05cd45e9",
   "metadata": {},
   "source": [
    "# Assignment 20"
   ]
  },
  {
   "cell_type": "markdown",
   "id": "3f5c31e5",
   "metadata": {},
   "source": [
    "## Question 1"
   ]
  },
  {
   "cell_type": "markdown",
   "id": "d09b67bb",
   "metadata": {},
   "source": [
    "Set the variable test1 to the string 'This is a test of the emergency text system,' and save test1 to a file named test.txt."
   ]
  },
  {
   "cell_type": "markdown",
   "id": "16983ccc",
   "metadata": {},
   "source": [
    "## Answer to the Question 1"
   ]
  },
  {
   "cell_type": "code",
   "execution_count": 2,
   "id": "8b665c21",
   "metadata": {},
   "outputs": [],
   "source": [
    "test1 = \"This is a test of the emergency text system\"\n",
    "with open(\"test1.txt\", \"w\") as file:\n",
    "    print(test1, file=file) # starting with Python 3.6, this option is available"
   ]
  },
  {
   "cell_type": "markdown",
   "id": "e3fd8ada",
   "metadata": {},
   "source": [
    "## Question 2"
   ]
  },
  {
   "cell_type": "markdown",
   "id": "a544247d",
   "metadata": {},
   "source": [
    "Read the contents of the file test.txt into the variable test2. Is there a difference between test 1 and test 2?"
   ]
  },
  {
   "cell_type": "markdown",
   "id": "512da666",
   "metadata": {},
   "source": [
    "## Answer to the Question 2"
   ]
  },
  {
   "cell_type": "code",
   "execution_count": 8,
   "id": "e27b505f",
   "metadata": {},
   "outputs": [
    {
     "name": "stdout",
     "output_type": "stream",
     "text": [
      "['This is a test of the emergency text system\\n']\n"
     ]
    }
   ],
   "source": [
    "with open(\"test1.txt\", \"r\") as file:\n",
    "    test2 = file.readlines()\n",
    "print(test2)"
   ]
  },
  {
   "cell_type": "code",
   "execution_count": 9,
   "id": "367ed6d2",
   "metadata": {},
   "outputs": [
    {
     "name": "stdout",
     "output_type": "stream",
     "text": [
      "This is a test of the emergency text system\n",
      "\n"
     ]
    }
   ],
   "source": [
    "# another way to read\n",
    "file  = open(\"test1.txt\", \"r\")\n",
    "test2 = file.read()\n",
    "print(test2)\n",
    "# close the file\n",
    "file.close()"
   ]
  },
  {
   "cell_type": "markdown",
   "id": "14ac5733",
   "metadata": {},
   "source": [
    "We can see that if we open the file using the second method using **read()**, there is no difference between test1 and test2. But if we use **readlines()**, we will observe difference as it loads each line as a separate element of a list."
   ]
  },
  {
   "cell_type": "markdown",
   "id": "18db1f75",
   "metadata": {},
   "source": [
    "## Question 3"
   ]
  },
  {
   "cell_type": "markdown",
   "id": "f290e655",
   "metadata": {},
   "source": [
    "Create a CSV file called books.csv by using these lines:\n",
    "title,author,year\n",
    "The Weirdstone of Brisingamen,Alan Garner,1960\n",
    "Perdido Street Station,China Miéville,2000\n",
    "Thud!,Terry Pratchett,2005\n",
    "The Spellman Files,Lisa Lutz,2007\n",
    "Small Gods,Terry Pratchett,1992\n"
   ]
  },
  {
   "cell_type": "markdown",
   "id": "674b7495",
   "metadata": {},
   "source": [
    "## Answer to the Question 3"
   ]
  },
  {
   "cell_type": "code",
   "execution_count": 10,
   "id": "ce9be63f",
   "metadata": {},
   "outputs": [],
   "source": [
    "import csv\n",
    "header = [\"title\", \"author\", \"year\"]\n",
    "data = [[\"The Weirdstone of Brisingamen\",\"Alan Garner\",1960],\n",
    "       [\"Perdido Street Station\",\"China Miéville\",2000],\n",
    "       [\"Thud!\",\"Terry Pratchett\",2005],\n",
    "       [\"The Spellman Files\",\"Lisa Lutz\",2007],\n",
    "       [\"Small Gods\",\"Terry Pratchett\",1992]]\n",
    "\n",
    "filename = \"books.csv\"\n",
    "\n",
    "with open(filename, mode=\"w\", newline='') as file:\n",
    "    writer = csv.writer(file)\n",
    "    writer.writerow(header)\n",
    "    writer.writerows(data)"
   ]
  },
  {
   "cell_type": "markdown",
   "id": "d71aa5ec",
   "metadata": {},
   "source": [
    "## Question 4"
   ]
  },
  {
   "cell_type": "markdown",
   "id": "c8cf9d40",
   "metadata": {},
   "source": [
    "Use the sqlite3 module to create a SQLite database called books.db, and a table called books with these fields: title (text), author (text), and year (integer)."
   ]
  },
  {
   "cell_type": "markdown",
   "id": "a6b5d53e",
   "metadata": {},
   "source": [
    "## Answer to the Question 4"
   ]
  },
  {
   "cell_type": "code",
   "execution_count": 16,
   "id": "6a3cc409",
   "metadata": {},
   "outputs": [],
   "source": [
    "import sqlite3\n",
    "\n",
    "# connect to the database, here it creates this as it doesn't exist yet\n",
    "conn = sqlite3.connect('books.db')\n",
    "\n",
    "# create a cursor object \n",
    "cursor = conn.cursor()\n",
    "\n",
    "# execute SQL statement\n",
    "cursor.execute(\"\"\"\n",
    "CREATE TABLE IF NOT EXISTS books (\n",
    "    title TEXT,\n",
    "    author TEXT,\n",
    "    year INTEGER\n",
    ")\n",
    "\"\"\")\n",
    "\n",
    "# commit the changes and close the connection\n",
    "conn.commit()\n",
    "conn.close()"
   ]
  },
  {
   "cell_type": "markdown",
   "id": "d6d5d9d1",
   "metadata": {},
   "source": [
    "## Question 5"
   ]
  },
  {
   "cell_type": "markdown",
   "id": "567a373b",
   "metadata": {},
   "source": [
    "Read books.csv and insert its data into the book table."
   ]
  },
  {
   "cell_type": "markdown",
   "id": "6b5251ea",
   "metadata": {},
   "source": [
    "## Answer to the Question 5"
   ]
  },
  {
   "cell_type": "code",
   "execution_count": 17,
   "id": "9844e659",
   "metadata": {},
   "outputs": [],
   "source": [
    "import csv\n",
    "import sqlite3\n",
    "\n",
    "# connect to the database\n",
    "conn = sqlite3.connect('books.db')\n",
    "cursor = conn.cursor()\n",
    "\n",
    "# open the CSV file and insert data into the books table\n",
    "with open('books.csv', 'r') as file:\n",
    "    reader = csv.DictReader(file)\n",
    "    next(reader) # skip the header\n",
    "    for row in reader:\n",
    "        cursor.execute(\"\"\"\n",
    "        INSERT INTO books (title, author, year)\n",
    "        VALUES (?, ?, ?)\n",
    "        \"\"\", (row['title'], row['author'], row['year']))\n",
    "        \n",
    "# commit the changes and close the connection\n",
    "conn.commit()\n",
    "conn.close()"
   ]
  },
  {
   "cell_type": "markdown",
   "id": "90502bee",
   "metadata": {},
   "source": [
    "## Question 6"
   ]
  },
  {
   "cell_type": "markdown",
   "id": "f56cd594",
   "metadata": {},
   "source": [
    "Select and print the title column from the book table in alphabetical order."
   ]
  },
  {
   "cell_type": "markdown",
   "id": "f9e512e8",
   "metadata": {},
   "source": [
    "## Answer to the Question 6"
   ]
  },
  {
   "cell_type": "code",
   "execution_count": 18,
   "id": "b8e4d0de",
   "metadata": {},
   "outputs": [
    {
     "name": "stdout",
     "output_type": "stream",
     "text": [
      "Perdido Street Station\n",
      "Perdido Street Station\n",
      "Perdido Street Station\n",
      "Small Gods\n",
      "Small Gods\n",
      "Small Gods\n",
      "The Spellman Files\n",
      "The Spellman Files\n",
      "The Spellman Files\n",
      "Thud!\n",
      "Thud!\n",
      "Thud!\n"
     ]
    }
   ],
   "source": [
    "import csv\n",
    "import sqlite3\n",
    "\n",
    "# connect to the database\n",
    "conn = sqlite3.connect('books.db')\n",
    "cursor = conn.cursor()\n",
    "\n",
    "# Select the title column from the book table in alphabetical order\n",
    "cursor.execute(\"\"\"\n",
    "SELECT title\n",
    "FROM books\n",
    "ORDER BY title ASC\n",
    "\"\"\")\n",
    "\n",
    "# Fetch the results\n",
    "results = cursor.fetchall()\n",
    "for result in results:\n",
    "    print(result[0])\n",
    "    \n",
    "# close the connection\n",
    "conn.close()"
   ]
  },
  {
   "cell_type": "markdown",
   "id": "3348b361",
   "metadata": {},
   "source": [
    "We are seeing thge same result thrice as I inserted three times by running the answer to question 5, 3 times."
   ]
  },
  {
   "cell_type": "markdown",
   "id": "28c550c6",
   "metadata": {},
   "source": [
    "## Question 7"
   ]
  },
  {
   "cell_type": "markdown",
   "id": "7f2ed8f3",
   "metadata": {},
   "source": [
    "From the book table, select and print all columns in the order of publication."
   ]
  },
  {
   "cell_type": "markdown",
   "id": "d0122b7a",
   "metadata": {},
   "source": [
    "## Answer to the Question 7"
   ]
  },
  {
   "cell_type": "code",
   "execution_count": 19,
   "id": "eff57999",
   "metadata": {},
   "outputs": [
    {
     "name": "stdout",
     "output_type": "stream",
     "text": [
      "('Small Gods', 'Terry Pratchett', 1992)\n",
      "('Small Gods', 'Terry Pratchett', 1992)\n",
      "('Small Gods', 'Terry Pratchett', 1992)\n",
      "('Perdido Street Station', 'China Miéville', 2000)\n",
      "('Perdido Street Station', 'China Miéville', 2000)\n",
      "('Perdido Street Station', 'China Miéville', 2000)\n",
      "('Thud!', 'Terry Pratchett', 2005)\n",
      "('Thud!', 'Terry Pratchett', 2005)\n",
      "('Thud!', 'Terry Pratchett', 2005)\n",
      "('The Spellman Files', 'Lisa Lutz', 2007)\n",
      "('The Spellman Files', 'Lisa Lutz', 2007)\n",
      "('The Spellman Files', 'Lisa Lutz', 2007)\n"
     ]
    }
   ],
   "source": [
    "import sqlite3\n",
    "\n",
    "# connect to the database\n",
    "conn = sqlite3.connect('books.db')\n",
    "cursor = conn.cursor()\n",
    "\n",
    "# select all columns in the order of publication\n",
    "cursor.execute(\"\"\"\n",
    "SELECT  *\n",
    "FROM books\n",
    "ORDER BY year ASC\n",
    "\"\"\")\n",
    "\n",
    "# Fetch the results\n",
    "results = cursor.fetchall()\n",
    "for result in results:\n",
    "    print(result)"
   ]
  },
  {
   "cell_type": "code",
   "execution_count": 20,
   "id": "ed416bd4",
   "metadata": {},
   "outputs": [],
   "source": [
    "# close the connection\n",
    "conn.close()"
   ]
  },
  {
   "cell_type": "markdown",
   "id": "d8764e57",
   "metadata": {},
   "source": [
    "## Question 8"
   ]
  },
  {
   "cell_type": "markdown",
   "id": "d36f6e9b",
   "metadata": {},
   "source": [
    "Use the sqlalchemy module to connect to the sqlite3 database books.db that you just made in exercise 6."
   ]
  },
  {
   "cell_type": "markdown",
   "id": "c91be4c8",
   "metadata": {},
   "source": [
    "## Answer to the Question 8"
   ]
  },
  {
   "cell_type": "code",
   "execution_count": 21,
   "id": "225f06d0",
   "metadata": {},
   "outputs": [],
   "source": [
    "import sqlalchemy\n",
    "# Create an SQLite database engine\n",
    "dbEngine = sqlalchemy.create_engine('sqlite:///books.db')"
   ]
  },
  {
   "cell_type": "markdown",
   "id": "42250ef4",
   "metadata": {},
   "source": [
    "## Question 9"
   ]
  },
  {
   "cell_type": "markdown",
   "id": "cfd24504",
   "metadata": {},
   "source": [
    "Install the Redis server and the Python redis library (pip install redis) on your computer. Create a Redis hash called test with the fields count (1) and name ('Fester Bestertester'). Print all the fields for test."
   ]
  },
  {
   "cell_type": "markdown",
   "id": "b21782fd",
   "metadata": {},
   "source": [
    "## Answer to the Question 9"
   ]
  },
  {
   "cell_type": "code",
   "execution_count": 2,
   "id": "31477f0d",
   "metadata": {},
   "outputs": [
    {
     "name": "stdout",
     "output_type": "stream",
     "text": [
      "{b'count': b'1', b'name': b'Fester Bestertester'}\n"
     ]
    },
    {
     "name": "stderr",
     "output_type": "stream",
     "text": [
      "C:\\Users\\User\\AppData\\Local\\Temp\\ipykernel_35592\\1679797616.py:7: DeprecationWarning: Redis.hmset() is deprecated. Use Redis.hset() instead.\n",
      "  r.hmset('test', {'count': 1, 'name': 'Fester Bestertester'})\n"
     ]
    }
   ],
   "source": [
    "import redis\n",
    "\n",
    "# Connect to the Redis server\n",
    "r = redis.Redis(host = 'localhost', port=6379, db=0)\n",
    "\n",
    "# Create Redis hash\n",
    "r.hmset('test', {'count': 1, 'name': 'Fester Bestertester'})\n",
    "\n",
    "# Print all the fields for test\n",
    "print(r.hgetall('test'))"
   ]
  },
  {
   "cell_type": "code",
   "execution_count": 3,
   "id": "49b32dc2",
   "metadata": {},
   "outputs": [],
   "source": [
    "# import sys; print(sys.path)"
   ]
  },
  {
   "cell_type": "markdown",
   "id": "90cb1ce6",
   "metadata": {},
   "source": [
    "## Question 10"
   ]
  },
  {
   "cell_type": "markdown",
   "id": "6babb769",
   "metadata": {},
   "source": [
    "Increment the count field of test and print it."
   ]
  },
  {
   "cell_type": "markdown",
   "id": "cdd1a1f4",
   "metadata": {},
   "source": [
    "## Answer to the Question 10"
   ]
  },
  {
   "cell_type": "code",
   "execution_count": 4,
   "id": "a8e046f0",
   "metadata": {},
   "outputs": [
    {
     "name": "stdout",
     "output_type": "stream",
     "text": [
      "2\n"
     ]
    }
   ],
   "source": [
    "import redis\n",
    "\n",
    "r = redis.Redis(host = 'localhost', port = 6379, db = 0)\n",
    "r.hincrby('test', 'count', 1)\n",
    "count = r.hget('test', 'count')\n",
    "print(count.decode())"
   ]
  },
  {
   "cell_type": "code",
   "execution_count": null,
   "id": "3d04d2da",
   "metadata": {},
   "outputs": [],
   "source": []
  }
 ],
 "metadata": {
  "kernelspec": {
   "display_name": "Python 3 (ipykernel)",
   "language": "python",
   "name": "python3"
  },
  "language_info": {
   "codemirror_mode": {
    "name": "ipython",
    "version": 3
   },
   "file_extension": ".py",
   "mimetype": "text/x-python",
   "name": "python",
   "nbconvert_exporter": "python",
   "pygments_lexer": "ipython3",
   "version": "3.9.13"
  }
 },
 "nbformat": 4,
 "nbformat_minor": 5
}
