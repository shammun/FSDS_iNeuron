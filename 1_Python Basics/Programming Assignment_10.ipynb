{
 "cells": [
  {
   "cell_type": "markdown",
   "id": "05cd45e9",
   "metadata": {},
   "source": [
    "# Programming Assignment 10"
   ]
  },
  {
   "cell_type": "markdown",
   "id": "96dbf3e6",
   "metadata": {},
   "source": [
    "## Question 1"
   ]
  },
  {
   "cell_type": "markdown",
   "id": "83242489",
   "metadata": {},
   "source": [
    "Write a Python program to find sum of elements in list?"
   ]
  },
  {
   "cell_type": "markdown",
   "id": "16983ccc",
   "metadata": {},
   "source": [
    "## Answer to the Question 1"
   ]
  },
  {
   "cell_type": "code",
   "execution_count": 1,
   "id": "b9d0dfee",
   "metadata": {},
   "outputs": [],
   "source": [
    "# Using for loop\n",
    "def sum_list(l):\n",
    "    sum = 0\n",
    "    for i in l:\n",
    "        sum += i\n",
    "    return sum"
   ]
  },
  {
   "cell_type": "code",
   "execution_count": 2,
   "id": "dd90dd95",
   "metadata": {},
   "outputs": [],
   "source": [
    "list1 = [10,20,30,40]"
   ]
  },
  {
   "cell_type": "code",
   "execution_count": 3,
   "id": "b610db8b",
   "metadata": {},
   "outputs": [
    {
     "data": {
      "text/plain": [
       "100"
      ]
     },
     "execution_count": 3,
     "metadata": {},
     "output_type": "execute_result"
    }
   ],
   "source": [
    "sum_list(list1)"
   ]
  },
  {
   "cell_type": "code",
   "execution_count": 25,
   "id": "fcd99f7e",
   "metadata": {},
   "outputs": [],
   "source": [
    "# using reduce()\n",
    "def sum_list_reduce(l):\n",
    "    from functools import reduce\n",
    "    return reduce(lambda x, y: x+y, l)"
   ]
  },
  {
   "cell_type": "code",
   "execution_count": 26,
   "id": "3dad7f26",
   "metadata": {},
   "outputs": [
    {
     "data": {
      "text/plain": [
       "100"
      ]
     },
     "execution_count": 26,
     "metadata": {},
     "output_type": "execute_result"
    }
   ],
   "source": [
    "sum_list_reduce(list1)"
   ]
  },
  {
   "cell_type": "markdown",
   "id": "e3fd8ada",
   "metadata": {},
   "source": [
    "## Question 2"
   ]
  },
  {
   "cell_type": "markdown",
   "id": "a544247d",
   "metadata": {},
   "source": [
    "Write a Python program to  Multiply all numbers in the list?"
   ]
  },
  {
   "cell_type": "markdown",
   "id": "512da666",
   "metadata": {},
   "source": [
    "## Answer to the Question 2"
   ]
  },
  {
   "cell_type": "code",
   "execution_count": 10,
   "id": "c1778599",
   "metadata": {},
   "outputs": [],
   "source": [
    "# Using for loop\n",
    "def multiply_list(l):\n",
    "    product = 1\n",
    "    for i in l:\n",
    "        product *= i\n",
    "    return product"
   ]
  },
  {
   "cell_type": "code",
   "execution_count": 11,
   "id": "ee532b52",
   "metadata": {},
   "outputs": [],
   "source": [
    "list2 = [3, 2, 1, 4, 5]"
   ]
  },
  {
   "cell_type": "code",
   "execution_count": 12,
   "id": "e20c6af6",
   "metadata": {},
   "outputs": [
    {
     "data": {
      "text/plain": [
       "120"
      ]
     },
     "execution_count": 12,
     "metadata": {},
     "output_type": "execute_result"
    }
   ],
   "source": [
    "multiply_list(list2)"
   ]
  },
  {
   "cell_type": "code",
   "execution_count": 23,
   "id": "20743e30",
   "metadata": {},
   "outputs": [],
   "source": [
    "# Using reduce\n",
    "from functools import reduce\n",
    "def multiply_list_reduce(l):\n",
    "    return reduce(lambda x, y: x*y, l)"
   ]
  },
  {
   "cell_type": "code",
   "execution_count": 24,
   "id": "a4d31575",
   "metadata": {},
   "outputs": [
    {
     "data": {
      "text/plain": [
       "120"
      ]
     },
     "execution_count": 24,
     "metadata": {},
     "output_type": "execute_result"
    }
   ],
   "source": [
    "multiply_list_reduce(list2)"
   ]
  },
  {
   "cell_type": "markdown",
   "id": "18db1f75",
   "metadata": {},
   "source": [
    "## Question 3"
   ]
  },
  {
   "cell_type": "markdown",
   "id": "f290e655",
   "metadata": {},
   "source": [
    "Write a Python program to find smallest number in a list?"
   ]
  },
  {
   "cell_type": "markdown",
   "id": "674b7495",
   "metadata": {},
   "source": [
    "## Answer to the Question 3"
   ]
  },
  {
   "cell_type": "code",
   "execution_count": 22,
   "id": "2783c5e1",
   "metadata": {},
   "outputs": [],
   "source": [
    "# using for loop\n",
    "def smallest_element_in_list(l):\n",
    "    smallest = l[0]\n",
    "    for i in range(1, len(l)):\n",
    "        if l[i] < smallest:\n",
    "            smallest = l[i]\n",
    "    return smallest"
   ]
  },
  {
   "cell_type": "code",
   "execution_count": 18,
   "id": "523c2c83",
   "metadata": {},
   "outputs": [
    {
     "data": {
      "text/plain": [
       "1"
      ]
     },
     "execution_count": 18,
     "metadata": {},
     "output_type": "execute_result"
    }
   ],
   "source": [
    "smallest_element_in_list(list2)"
   ]
  },
  {
   "cell_type": "code",
   "execution_count": 28,
   "id": "267f833c",
   "metadata": {},
   "outputs": [],
   "source": [
    "list3 = [100, 200, -60, 500, -30]"
   ]
  },
  {
   "cell_type": "code",
   "execution_count": 29,
   "id": "62722a21",
   "metadata": {},
   "outputs": [
    {
     "data": {
      "text/plain": [
       "-60"
      ]
     },
     "execution_count": 29,
     "metadata": {},
     "output_type": "execute_result"
    }
   ],
   "source": [
    "smallest_element_in_list(list3)"
   ]
  },
  {
   "cell_type": "code",
   "execution_count": 40,
   "id": "8995cbf2",
   "metadata": {},
   "outputs": [],
   "source": [
    "# using reduce\n",
    "from functools import reduce\n",
    "def smallest_element_in_list_reduce(l):\n",
    "    return reduce(lambda x,y: x if x < y else y, l)"
   ]
  },
  {
   "cell_type": "code",
   "execution_count": 32,
   "id": "d8811638",
   "metadata": {},
   "outputs": [
    {
     "data": {
      "text/plain": [
       "-60"
      ]
     },
     "execution_count": 32,
     "metadata": {},
     "output_type": "execute_result"
    }
   ],
   "source": [
    "smallest_element_in_list_reduce(list3)"
   ]
  },
  {
   "cell_type": "markdown",
   "id": "d71aa5ec",
   "metadata": {},
   "source": [
    "## Question 4"
   ]
  },
  {
   "cell_type": "markdown",
   "id": "70177c0e",
   "metadata": {},
   "source": [
    "Write a Python program to find largest number in a list?"
   ]
  },
  {
   "cell_type": "markdown",
   "id": "a6b5d53e",
   "metadata": {},
   "source": [
    "## Answer to the Question 4"
   ]
  },
  {
   "cell_type": "code",
   "execution_count": 33,
   "id": "470dc716",
   "metadata": {},
   "outputs": [],
   "source": [
    "# using for loop\n",
    "def largest_element_in_list(l):\n",
    "    greatest = l[0]\n",
    "    for i in range(1, len(l)):\n",
    "        if l[i] > greatest:\n",
    "            greatest = l[i]\n",
    "    return greatest"
   ]
  },
  {
   "cell_type": "code",
   "execution_count": 36,
   "id": "c2920946",
   "metadata": {},
   "outputs": [],
   "source": [
    "list2 = [3, 2, 1, 4, 5]"
   ]
  },
  {
   "cell_type": "code",
   "execution_count": 37,
   "id": "c6c2be92",
   "metadata": {},
   "outputs": [
    {
     "data": {
      "text/plain": [
       "5"
      ]
     },
     "execution_count": 37,
     "metadata": {},
     "output_type": "execute_result"
    }
   ],
   "source": [
    "largest_element_in_list(list2)"
   ]
  },
  {
   "cell_type": "code",
   "execution_count": 38,
   "id": "ce051715",
   "metadata": {},
   "outputs": [],
   "source": [
    "list3 = [100, 200, -60, 500, -30]"
   ]
  },
  {
   "cell_type": "code",
   "execution_count": 39,
   "id": "83b1d0ed",
   "metadata": {},
   "outputs": [
    {
     "data": {
      "text/plain": [
       "500"
      ]
     },
     "execution_count": 39,
     "metadata": {},
     "output_type": "execute_result"
    }
   ],
   "source": [
    "largest_element_in_list(list3)"
   ]
  },
  {
   "cell_type": "code",
   "execution_count": 1,
   "id": "ad65e87a",
   "metadata": {},
   "outputs": [],
   "source": [
    "# using reduce\n",
    "from functools import reduce\n",
    "def largest_element_in_list_reduce(l):\n",
    "    return reduce(lambda x,y: x if x > y else y, l)"
   ]
  },
  {
   "cell_type": "code",
   "execution_count": 42,
   "id": "705769a9",
   "metadata": {},
   "outputs": [
    {
     "data": {
      "text/plain": [
       "500"
      ]
     },
     "execution_count": 42,
     "metadata": {},
     "output_type": "execute_result"
    }
   ],
   "source": [
    "largest_element_in_list_reduce(list3)"
   ]
  },
  {
   "cell_type": "markdown",
   "id": "d6d5d9d1",
   "metadata": {},
   "source": [
    "## Question 5"
   ]
  },
  {
   "cell_type": "markdown",
   "id": "567a373b",
   "metadata": {},
   "source": [
    "Write a Python program to find second largest number in a list?"
   ]
  },
  {
   "cell_type": "markdown",
   "id": "6b5251ea",
   "metadata": {},
   "source": [
    "## Answer to the Question 5"
   ]
  },
  {
   "cell_type": "code",
   "execution_count": 43,
   "id": "873d756a",
   "metadata": {},
   "outputs": [],
   "source": [
    "def second_largest(numbers):\n",
    "    first =  float(\"-inf\")\n",
    "    second = float(\"-inf\")\n",
    "    for num in numbers:\n",
    "        if num > first:\n",
    "            second = first\n",
    "            first = num\n",
    "        elif num > second and num != first:\n",
    "            second = num\n",
    "    return second"
   ]
  },
  {
   "cell_type": "code",
   "execution_count": 45,
   "id": "31747f0e",
   "metadata": {},
   "outputs": [
    {
     "data": {
      "text/plain": [
       "200"
      ]
     },
     "execution_count": 45,
     "metadata": {},
     "output_type": "execute_result"
    }
   ],
   "source": [
    "second_largest(list3)"
   ]
  },
  {
   "cell_type": "markdown",
   "id": "968ce2f0",
   "metadata": {},
   "source": [
    "## Question 6"
   ]
  },
  {
   "cell_type": "markdown",
   "id": "533c96da",
   "metadata": {},
   "source": [
    "Write a Python program to find N largest elements from a list?"
   ]
  },
  {
   "cell_type": "markdown",
   "id": "27c5c915",
   "metadata": {},
   "source": [
    "## Answer to the Question 6"
   ]
  },
  {
   "cell_type": "code",
   "execution_count": 46,
   "id": "44fee782",
   "metadata": {},
   "outputs": [],
   "source": [
    "def largest_n_elements(numbers, n):\n",
    "    largest_numbers = []\n",
    "    for num in numbers:\n",
    "        if len(largest_numbers) < n:\n",
    "            largest_numbers.append(n)\n",
    "        elif num > min(largest_numbers):\n",
    "            largest_numbers.remove(min(largest_numbers))\n",
    "            largest_numbers.append(num)\n",
    "    return largest_numbers"
   ]
  },
  {
   "cell_type": "code",
   "execution_count": 47,
   "id": "ef175b3e",
   "metadata": {},
   "outputs": [],
   "source": [
    "list4 = [100, 200, -60, 500, -30, 400, 30, 5000, 60, 3500, 8000, 10, 90, 5100]"
   ]
  },
  {
   "cell_type": "code",
   "execution_count": 48,
   "id": "0d7d51c8",
   "metadata": {},
   "outputs": [
    {
     "data": {
      "text/plain": [
       "[5000, 3500, 8000, 5100]"
      ]
     },
     "execution_count": 48,
     "metadata": {},
     "output_type": "execute_result"
    }
   ],
   "source": [
    "largest_n_elements(list4, 4)"
   ]
  },
  {
   "cell_type": "markdown",
   "id": "27bfb28c",
   "metadata": {},
   "source": [
    "## Question 7"
   ]
  },
  {
   "cell_type": "markdown",
   "id": "c24a5566",
   "metadata": {},
   "source": [
    "Write a Python program to print even numbers in a list?"
   ]
  },
  {
   "cell_type": "markdown",
   "id": "71b3ff37",
   "metadata": {},
   "source": [
    "## Answer to the Question 7"
   ]
  },
  {
   "cell_type": "code",
   "execution_count": 55,
   "id": "25842497",
   "metadata": {},
   "outputs": [],
   "source": [
    "# one approach using for loop\n",
    "def print_even_numbers(list_numbers):\n",
    "    for number in list_numbers:\n",
    "        if number % 2 == 0:\n",
    "            print(number)"
   ]
  },
  {
   "cell_type": "code",
   "execution_count": 56,
   "id": "49289f82",
   "metadata": {},
   "outputs": [],
   "source": [
    "list5 = [3, 2, 1, 4, 5, 9,10,11,12]"
   ]
  },
  {
   "cell_type": "code",
   "execution_count": 52,
   "id": "dbeb9728",
   "metadata": {},
   "outputs": [
    {
     "name": "stdout",
     "output_type": "stream",
     "text": [
      "2\n",
      "4\n",
      "10\n",
      "12\n"
     ]
    }
   ],
   "source": [
    "print_even_numbers(list5)"
   ]
  },
  {
   "cell_type": "code",
   "execution_count": 72,
   "id": "3729474a",
   "metadata": {},
   "outputs": [],
   "source": [
    "# another approach using list comprehension\n",
    "def print_even_numbers(list_numbers):\n",
    "    return [x for x in list_numbers if x % 2 == 0]"
   ]
  },
  {
   "cell_type": "code",
   "execution_count": 73,
   "id": "d372d6d2",
   "metadata": {},
   "outputs": [
    {
     "data": {
      "text/plain": [
       "[2, 4, 10, 12]"
      ]
     },
     "execution_count": 73,
     "metadata": {},
     "output_type": "execute_result"
    }
   ],
   "source": [
    "print_even_numbers(list5)"
   ]
  },
  {
   "cell_type": "markdown",
   "id": "b7ae4d4f",
   "metadata": {},
   "source": [
    "## Question 8"
   ]
  },
  {
   "cell_type": "markdown",
   "id": "0c28d680",
   "metadata": {},
   "source": [
    "Write a Python program to print odd numbers in a List?"
   ]
  },
  {
   "cell_type": "markdown",
   "id": "906da6a3",
   "metadata": {},
   "source": [
    "## Answer to the Question 8"
   ]
  },
  {
   "cell_type": "code",
   "execution_count": 57,
   "id": "b3cabfb5",
   "metadata": {},
   "outputs": [],
   "source": [
    "def print_odd_numbers(list_numbers):\n",
    "    for number in list_numbers:\n",
    "        if number % 2 != 0:\n",
    "            print(number)"
   ]
  },
  {
   "cell_type": "code",
   "execution_count": 58,
   "id": "ac8ae818",
   "metadata": {},
   "outputs": [
    {
     "name": "stdout",
     "output_type": "stream",
     "text": [
      "3\n",
      "1\n",
      "5\n",
      "9\n",
      "11\n"
     ]
    }
   ],
   "source": [
    "print_odd_numbers(list5)"
   ]
  },
  {
   "cell_type": "code",
   "execution_count": 74,
   "id": "854d4d71",
   "metadata": {},
   "outputs": [],
   "source": [
    "# another approach using list comprehension\n",
    "def print_odd_numbers(list_numbers):\n",
    "    return [x for x in list_numbers if x % 2 != 0]"
   ]
  },
  {
   "cell_type": "code",
   "execution_count": 75,
   "id": "1fe084a6",
   "metadata": {},
   "outputs": [
    {
     "data": {
      "text/plain": [
       "[3, 1, 5, 9, 11]"
      ]
     },
     "execution_count": 75,
     "metadata": {},
     "output_type": "execute_result"
    }
   ],
   "source": [
    "print_odd_numbers(list5)"
   ]
  },
  {
   "cell_type": "markdown",
   "id": "c88dc774",
   "metadata": {},
   "source": [
    "## Question 9"
   ]
  },
  {
   "cell_type": "markdown",
   "id": "961b0c7d",
   "metadata": {},
   "source": [
    "Write a Python program to Remove empty List from List?"
   ]
  },
  {
   "cell_type": "markdown",
   "id": "3b7e09c6",
   "metadata": {},
   "source": [
    "## Answer to the Question 9"
   ]
  },
  {
   "cell_type": "code",
   "execution_count": 65,
   "id": "6b77b8ca",
   "metadata": {},
   "outputs": [],
   "source": [
    "# one approach\n",
    "def remove_empty_list(lst):\n",
    "    new_list = []\n",
    "    for x in lst:\n",
    "        if x != []:\n",
    "            new_list.append(x)\n",
    "    return new_list"
   ]
  },
  {
   "cell_type": "code",
   "execution_count": 66,
   "id": "0a272cd4",
   "metadata": {},
   "outputs": [],
   "source": [
    "list6 = [[10, 30, 30, 56, 66], [], [100,200,234,231], [], [1,2,3]]"
   ]
  },
  {
   "cell_type": "code",
   "execution_count": 67,
   "id": "e0b41f2c",
   "metadata": {},
   "outputs": [
    {
     "data": {
      "text/plain": [
       "[[10, 30, 30, 56, 66], [100, 200, 234, 231], [1, 2, 3]]"
      ]
     },
     "execution_count": 67,
     "metadata": {},
     "output_type": "execute_result"
    }
   ],
   "source": [
    "remove_empty_list(list6)"
   ]
  },
  {
   "cell_type": "code",
   "execution_count": 68,
   "id": "f83ab22b",
   "metadata": {},
   "outputs": [],
   "source": [
    "# another approach using list comprehension\n",
    "def remove_empty_list(lst):\n",
    "    return [x for x in lst if x!= []]"
   ]
  },
  {
   "cell_type": "code",
   "execution_count": 69,
   "id": "65211acd",
   "metadata": {},
   "outputs": [
    {
     "data": {
      "text/plain": [
       "[[10, 30, 30, 56, 66], [100, 200, 234, 231], [1, 2, 3]]"
      ]
     },
     "execution_count": 69,
     "metadata": {},
     "output_type": "execute_result"
    }
   ],
   "source": [
    "remove_empty_list(list6)"
   ]
  },
  {
   "cell_type": "markdown",
   "id": "6a4c8c9c",
   "metadata": {},
   "source": [
    "## Question 10"
   ]
  },
  {
   "cell_type": "markdown",
   "id": "64248d1c",
   "metadata": {},
   "source": [
    "Write a Python program to Cloning or Copying a list?"
   ]
  },
  {
   "cell_type": "markdown",
   "id": "109d4e61",
   "metadata": {},
   "source": [
    "## Answer to the Question 10"
   ]
  },
  {
   "cell_type": "code",
   "execution_count": 77,
   "id": "8d4062f1",
   "metadata": {},
   "outputs": [],
   "source": [
    "def clone_list(l):\n",
    "    return l[:]"
   ]
  },
  {
   "cell_type": "code",
   "execution_count": 78,
   "id": "e840f17e",
   "metadata": {},
   "outputs": [],
   "source": [
    "cloned_list = clone_list(list6)"
   ]
  },
  {
   "cell_type": "code",
   "execution_count": 79,
   "id": "bf37123c",
   "metadata": {},
   "outputs": [
    {
     "data": {
      "text/plain": [
       "[[10, 30, 30, 56, 66], [], [100, 200, 234, 231], [], [1, 2, 3]]"
      ]
     },
     "execution_count": 79,
     "metadata": {},
     "output_type": "execute_result"
    }
   ],
   "source": [
    "cloned_list"
   ]
  },
  {
   "cell_type": "markdown",
   "id": "e0113ff8",
   "metadata": {},
   "source": [
    "## Question 11"
   ]
  },
  {
   "cell_type": "markdown",
   "id": "9f2388c2",
   "metadata": {},
   "source": [
    "Write a Python program to Count occurrences of an element in a list?"
   ]
  },
  {
   "cell_type": "markdown",
   "id": "a04a06d9",
   "metadata": {},
   "source": [
    "## Answer to the Question 11"
   ]
  },
  {
   "cell_type": "code",
   "execution_count": 80,
   "id": "4a84be54",
   "metadata": {},
   "outputs": [],
   "source": [
    "# using built-in function\n",
    "def count_occurrence(l, element):\n",
    "    return l.count(element)"
   ]
  },
  {
   "cell_type": "code",
   "execution_count": 81,
   "id": "0005882e",
   "metadata": {},
   "outputs": [],
   "source": [
    "list7 = [1,4,5,1,3,4,5,6,7,84,3,4,5]"
   ]
  },
  {
   "cell_type": "code",
   "execution_count": 82,
   "id": "dcf7f09b",
   "metadata": {},
   "outputs": [
    {
     "data": {
      "text/plain": [
       "3"
      ]
     },
     "execution_count": 82,
     "metadata": {},
     "output_type": "execute_result"
    }
   ],
   "source": [
    "count_occurrence(list7, 4)"
   ]
  },
  {
   "cell_type": "code",
   "execution_count": 83,
   "id": "8250b186",
   "metadata": {},
   "outputs": [
    {
     "data": {
      "text/plain": [
       "2"
      ]
     },
     "execution_count": 83,
     "metadata": {},
     "output_type": "execute_result"
    }
   ],
   "source": [
    "count_occurrence(list7, 1)"
   ]
  },
  {
   "cell_type": "code",
   "execution_count": 84,
   "id": "afc53eff",
   "metadata": {},
   "outputs": [],
   "source": [
    "# using no built-in function\n",
    "def count_occurrence(l, element):\n",
    "    count = 0\n",
    "    for x in l:\n",
    "        if x == element:\n",
    "            count += 1\n",
    "    return count"
   ]
  },
  {
   "cell_type": "code",
   "execution_count": 85,
   "id": "4c00324c",
   "metadata": {},
   "outputs": [
    {
     "data": {
      "text/plain": [
       "3"
      ]
     },
     "execution_count": 85,
     "metadata": {},
     "output_type": "execute_result"
    }
   ],
   "source": [
    "count_occurrence(list7, 4)"
   ]
  },
  {
   "cell_type": "code",
   "execution_count": 86,
   "id": "f98ad169",
   "metadata": {},
   "outputs": [
    {
     "data": {
      "text/plain": [
       "2"
      ]
     },
     "execution_count": 86,
     "metadata": {},
     "output_type": "execute_result"
    }
   ],
   "source": [
    "count_occurrence(list7, 1)"
   ]
  },
  {
   "cell_type": "code",
   "execution_count": null,
   "id": "c2879c71",
   "metadata": {},
   "outputs": [],
   "source": []
  }
 ],
 "metadata": {
  "kernelspec": {
   "display_name": "Python 3 (ipykernel)",
   "language": "python",
   "name": "python3"
  },
  "language_info": {
   "codemirror_mode": {
    "name": "ipython",
    "version": 3
   },
   "file_extension": ".py",
   "mimetype": "text/x-python",
   "name": "python",
   "nbconvert_exporter": "python",
   "pygments_lexer": "ipython3",
   "version": "3.9.13"
  }
 },
 "nbformat": 4,
 "nbformat_minor": 5
}
