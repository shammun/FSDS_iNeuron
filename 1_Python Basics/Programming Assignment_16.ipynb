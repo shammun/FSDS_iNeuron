{
 "cells": [
  {
   "cell_type": "markdown",
   "id": "05cd45e9",
   "metadata": {},
   "source": [
    "# Programming Assignment 4"
   ]
  },
  {
   "cell_type": "markdown",
   "id": "96dbf3e6",
   "metadata": {},
   "source": [
    "## Question 1"
   ]
  },
  {
   "cell_type": "markdown",
   "id": "83242489",
   "metadata": {},
   "source": [
    "Write a function that stutters a word as if someone is struggling to read it. The first two letters are repeated twice with an ellipsis ... and space after each, and then the word is pronounced with a question mark?"
   ]
  },
  {
   "cell_type": "markdown",
   "id": "dc6f468f",
   "metadata": {},
   "source": [
    "Examples\n",
    "stutter(\"incredible\") ➞ \"in... in... incredible?\"\n",
    "\n",
    "stutter(\"enthusiastic\") ➞ \"en... en... enthusiastic?\"\n",
    "\n",
    "stutter(\"outstanding\") ➞ \"ou... ou... outstanding?\"\n",
    "\n",
    "Hint :- Assume all input is in lower case and at least two characters long.\n"
   ]
  },
  {
   "cell_type": "markdown",
   "id": "16983ccc",
   "metadata": {},
   "source": [
    "## Answer to the Question 1"
   ]
  },
  {
   "cell_type": "code",
   "execution_count": 2,
   "id": "b9d0dfee",
   "metadata": {},
   "outputs": [],
   "source": [
    "def stutter(word):\n",
    "    return f\"{word[:2]}... {word[:2]}... {word}?\""
   ]
  },
  {
   "cell_type": "code",
   "execution_count": 3,
   "id": "dd90dd95",
   "metadata": {},
   "outputs": [
    {
     "data": {
      "text/plain": [
       "'in... in... incredible?'"
      ]
     },
     "execution_count": 3,
     "metadata": {},
     "output_type": "execute_result"
    }
   ],
   "source": [
    "stutter(\"incredible\")"
   ]
  },
  {
   "cell_type": "code",
   "execution_count": 4,
   "id": "9a8887fb",
   "metadata": {},
   "outputs": [
    {
     "data": {
      "text/plain": [
       "'en... en... enthusiastic?'"
      ]
     },
     "execution_count": 4,
     "metadata": {},
     "output_type": "execute_result"
    }
   ],
   "source": [
    "stutter(\"enthusiastic\")"
   ]
  },
  {
   "cell_type": "code",
   "execution_count": 5,
   "id": "f9a85e1a",
   "metadata": {},
   "outputs": [
    {
     "data": {
      "text/plain": [
       "'ou... ou... outstanding?'"
      ]
     },
     "execution_count": 5,
     "metadata": {},
     "output_type": "execute_result"
    }
   ],
   "source": [
    "stutter(\"outstanding\")"
   ]
  },
  {
   "cell_type": "markdown",
   "id": "e3fd8ada",
   "metadata": {},
   "source": [
    "## Question 2"
   ]
  },
  {
   "cell_type": "markdown",
   "id": "a544247d",
   "metadata": {},
   "source": [
    "Question 2.Create a function that takes an angle in radians and returns the corresponding angle in degrees rounded to one decimal place."
   ]
  },
  {
   "cell_type": "markdown",
   "id": "01bf6d8b",
   "metadata": {},
   "source": [
    "Examples\n",
    "radians_to_degrees(1) ➞ 57.3\n",
    "\n",
    "radians_to_degrees(20) ➞ 1145.9\n",
    "\n",
    "radians_to_degrees(50) ➞ 2864.8\n"
   ]
  },
  {
   "cell_type": "markdown",
   "id": "512da666",
   "metadata": {},
   "source": [
    "## Answer to the Question 2"
   ]
  },
  {
   "cell_type": "code",
   "execution_count": 19,
   "id": "c1778599",
   "metadata": {},
   "outputs": [],
   "source": [
    "from math import pi\n",
    "def radians_to_degrees(radian):\n",
    "    degrees = round(radian * (180 / pi), 1)\n",
    "    return degrees"
   ]
  },
  {
   "cell_type": "code",
   "execution_count": 20,
   "id": "ee532b52",
   "metadata": {},
   "outputs": [
    {
     "name": "stdout",
     "output_type": "stream",
     "text": [
      "57.3\n"
     ]
    }
   ],
   "source": [
    "print(radians_to_degrees(1))"
   ]
  },
  {
   "cell_type": "code",
   "execution_count": 21,
   "id": "9fe7cfbd",
   "metadata": {},
   "outputs": [
    {
     "data": {
      "text/plain": [
       "1145.9"
      ]
     },
     "execution_count": 21,
     "metadata": {},
     "output_type": "execute_result"
    }
   ],
   "source": [
    "radians_to_degrees(20)"
   ]
  },
  {
   "cell_type": "code",
   "execution_count": 22,
   "id": "b93273af",
   "metadata": {},
   "outputs": [
    {
     "data": {
      "text/plain": [
       "2864.8"
      ]
     },
     "execution_count": 22,
     "metadata": {},
     "output_type": "execute_result"
    }
   ],
   "source": [
    "radians_to_degrees(50)"
   ]
  },
  {
   "cell_type": "markdown",
   "id": "18db1f75",
   "metadata": {},
   "source": [
    "## Question 3"
   ]
  },
  {
   "cell_type": "markdown",
   "id": "f290e655",
   "metadata": {},
   "source": [
    "In this challenge, establish if a given integer num is a Curzon number. If 1 plus 2 elevated to num is exactly divisible by 1 plus 2 multiplied by num, then num is a Curzon number.\n",
    "Given a non-negative integer num, implement a function that returns True if num is a Curzon number, or False otherwise.\n"
   ]
  },
  {
   "cell_type": "markdown",
   "id": "2bd0b411",
   "metadata": {},
   "source": [
    "Examples\n",
    "is_curzon(5) ➞ True\n",
    "* 2 ** 5 + 1 = 33\n",
    "* 2 * 5 + 1 = 11\n",
    "* 33 is a multiple of 11\n",
    "\n",
    "is_curzon(10) ➞ False\n",
    "* 2 ** 10 + 1 = 1025\n",
    "* 2 * 10 + 1 = 21\n",
    "* 1025 is not a multiple of 21\n",
    "\n",
    "is_curzon(14) ➞ True\n",
    "* 2 ** 14 + 1 = 16385\n",
    "* 2 * 14 + 1 = 29\n",
    "* 16385 is a multiple of 29\n"
   ]
  },
  {
   "cell_type": "markdown",
   "id": "674b7495",
   "metadata": {},
   "source": [
    "## Answer to the Question 3"
   ]
  },
  {
   "cell_type": "code",
   "execution_count": 23,
   "id": "2783c5e1",
   "metadata": {},
   "outputs": [],
   "source": [
    "def is_curzon(number):\n",
    "    numerator = 2**number + 1\n",
    "    denominator = 2*number + 1\n",
    "    return numerator % denominator == 0"
   ]
  },
  {
   "cell_type": "code",
   "execution_count": 24,
   "id": "523c2c83",
   "metadata": {},
   "outputs": [
    {
     "data": {
      "text/plain": [
       "True"
      ]
     },
     "execution_count": 24,
     "metadata": {},
     "output_type": "execute_result"
    }
   ],
   "source": [
    "is_curzon(5)"
   ]
  },
  {
   "cell_type": "code",
   "execution_count": 25,
   "id": "62722a21",
   "metadata": {},
   "outputs": [
    {
     "data": {
      "text/plain": [
       "False"
      ]
     },
     "execution_count": 25,
     "metadata": {},
     "output_type": "execute_result"
    }
   ],
   "source": [
    "is_curzon(10)"
   ]
  },
  {
   "cell_type": "code",
   "execution_count": 26,
   "id": "56387c8f",
   "metadata": {},
   "outputs": [
    {
     "data": {
      "text/plain": [
       "True"
      ]
     },
     "execution_count": 26,
     "metadata": {},
     "output_type": "execute_result"
    }
   ],
   "source": [
    "is_curzon(14)"
   ]
  },
  {
   "cell_type": "markdown",
   "id": "d71aa5ec",
   "metadata": {},
   "source": [
    "## Question 4"
   ]
  },
  {
   "cell_type": "markdown",
   "id": "70177c0e",
   "metadata": {},
   "source": [
    "Given the side length x find the area of a hexagon."
   ]
  },
  {
   "cell_type": "markdown",
   "id": "8c0411ce",
   "metadata": {},
   "source": [
    "![](pic.jpg)"
   ]
  },
  {
   "cell_type": "markdown",
   "id": "82bc5e2b",
   "metadata": {},
   "source": [
    "#### Examples\n",
    "\n",
    "area_of_hexagon(1) ➞ 2.6\n",
    "\n",
    "area_of_hexagon(2) ➞ 10.4\n",
    "\n",
    "area_of_hexagon(3) ➞ 23.4\n"
   ]
  },
  {
   "cell_type": "markdown",
   "id": "a6b5d53e",
   "metadata": {},
   "source": [
    "## Answer to the Question 4"
   ]
  },
  {
   "cell_type": "code",
   "execution_count": 27,
   "id": "470dc716",
   "metadata": {},
   "outputs": [],
   "source": [
    "from math import sqrt\n",
    "def area_of_hexagon(s):\n",
    "    return round(3*sqrt(3)*(s**2)*0.5, 1)"
   ]
  },
  {
   "cell_type": "code",
   "execution_count": 28,
   "id": "c6c2be92",
   "metadata": {},
   "outputs": [
    {
     "data": {
      "text/plain": [
       "2.6"
      ]
     },
     "execution_count": 28,
     "metadata": {},
     "output_type": "execute_result"
    }
   ],
   "source": [
    "area_of_hexagon(1)"
   ]
  },
  {
   "cell_type": "code",
   "execution_count": 29,
   "id": "ce051715",
   "metadata": {},
   "outputs": [
    {
     "data": {
      "text/plain": [
       "10.4"
      ]
     },
     "execution_count": 29,
     "metadata": {},
     "output_type": "execute_result"
    }
   ],
   "source": [
    "area_of_hexagon(2)"
   ]
  },
  {
   "cell_type": "code",
   "execution_count": 30,
   "id": "83b1d0ed",
   "metadata": {},
   "outputs": [
    {
     "data": {
      "text/plain": [
       "23.4"
      ]
     },
     "execution_count": 30,
     "metadata": {},
     "output_type": "execute_result"
    }
   ],
   "source": [
    "area_of_hexagon(3)"
   ]
  },
  {
   "cell_type": "markdown",
   "id": "d6d5d9d1",
   "metadata": {},
   "source": [
    "## Question 5"
   ]
  },
  {
   "cell_type": "markdown",
   "id": "567a373b",
   "metadata": {},
   "source": [
    "Create a function that returns a base-2 (binary) representation of a base-10 (decimal) string number. To convert is simple: ((2) means base-2 and (10) means base-10) 010101001(2) = 1 + 8 + 32 + 128.\n",
    "Going from right to left, the value of the most right bit is 1, now from that every bit to the left will be x2 the value, value of an 8 bit binary numbers are (256, 128, 64, 32, 16, 8, 4, 2, 1)."
   ]
  },
  {
   "cell_type": "markdown",
   "id": "8ba23f53",
   "metadata": {},
   "source": [
    "#### Examples\n",
    "\n",
    "binary(1) ➞ \"1\"\n",
    "* 1*1 = 1\n",
    "\n",
    "binary(5) ➞ \"101\"\n",
    "* 1*1 + 1*4 = 5\n",
    "\n",
    "binary(10) ➞ \"1010\"\n",
    "* 1*2 + 1*8 = 10\n"
   ]
  },
  {
   "cell_type": "markdown",
   "id": "6b5251ea",
   "metadata": {},
   "source": [
    "## Answer to the Question 5"
   ]
  },
  {
   "cell_type": "code",
   "execution_count": 33,
   "id": "3a6f02aa",
   "metadata": {},
   "outputs": [],
   "source": [
    "def binary(n):\n",
    "    if n > 1:\n",
    "        binary(n // 2)\n",
    "    print(n % 2, end = \"\")"
   ]
  },
  {
   "cell_type": "code",
   "execution_count": 34,
   "id": "7ece72f5",
   "metadata": {},
   "outputs": [
    {
     "name": "stdout",
     "output_type": "stream",
     "text": [
      "1"
     ]
    }
   ],
   "source": [
    "binary(1) "
   ]
  },
  {
   "cell_type": "code",
   "execution_count": 35,
   "id": "1cfcae60",
   "metadata": {},
   "outputs": [
    {
     "name": "stdout",
     "output_type": "stream",
     "text": [
      "101"
     ]
    }
   ],
   "source": [
    "binary(5)"
   ]
  },
  {
   "cell_type": "code",
   "execution_count": 36,
   "id": "541503b8",
   "metadata": {},
   "outputs": [
    {
     "name": "stdout",
     "output_type": "stream",
     "text": [
      "1010"
     ]
    }
   ],
   "source": [
    "binary(10) "
   ]
  },
  {
   "cell_type": "code",
   "execution_count": null,
   "id": "026ddfcd",
   "metadata": {},
   "outputs": [],
   "source": []
  }
 ],
 "metadata": {
  "kernelspec": {
   "display_name": "Python 3 (ipykernel)",
   "language": "python",
   "name": "python3"
  },
  "language_info": {
   "codemirror_mode": {
    "name": "ipython",
    "version": 3
   },
   "file_extension": ".py",
   "mimetype": "text/x-python",
   "name": "python",
   "nbconvert_exporter": "python",
   "pygments_lexer": "ipython3",
   "version": "3.9.13"
  }
 },
 "nbformat": 4,
 "nbformat_minor": 5
}
