{
 "cells": [
  {
   "cell_type": "markdown",
   "id": "05cd45e9",
   "metadata": {},
   "source": [
    "# Assignment 7"
   ]
  },
  {
   "cell_type": "markdown",
   "id": "96dbf3e6",
   "metadata": {},
   "source": [
    "## Question 1"
   ]
  },
  {
   "cell_type": "markdown",
   "id": "83242489",
   "metadata": {},
   "source": [
    "What is the name of the feature responsible for generating Regex objects?"
   ]
  },
  {
   "cell_type": "markdown",
   "id": "16983ccc",
   "metadata": {},
   "source": [
    "## Answer to the Question 1"
   ]
  },
  {
   "cell_type": "markdown",
   "id": "81641e0a",
   "metadata": {},
   "source": [
    "The feature responsible for generating Regex objects in Python is called \"Raw String Literals\"."
   ]
  },
  {
   "cell_type": "markdown",
   "id": "e3fd8ada",
   "metadata": {},
   "source": [
    "## Question 2"
   ]
  },
  {
   "cell_type": "markdown",
   "id": "a544247d",
   "metadata": {},
   "source": [
    "Why do raw strings often appear in Regex objects?"
   ]
  },
  {
   "cell_type": "markdown",
   "id": "512da666",
   "metadata": {},
   "source": [
    "## Answer to the Question 2"
   ]
  },
  {
   "cell_type": "markdown",
   "id": "fbde0563",
   "metadata": {},
   "source": [
    "As backlash chracter has special meaning in Regex, raw strings often appear in Regex objects. By writing raw string, we don't need to escape any backlash in the string. This makes the Regex pattern easy to read and write."
   ]
  },
  {
   "cell_type": "markdown",
   "id": "18db1f75",
   "metadata": {},
   "source": [
    "## Question 3"
   ]
  },
  {
   "cell_type": "markdown",
   "id": "f290e655",
   "metadata": {},
   "source": [
    "What is the return value of the search() method?"
   ]
  },
  {
   "cell_type": "markdown",
   "id": "674b7495",
   "metadata": {},
   "source": [
    "## Answer to the Question 3"
   ]
  },
  {
   "cell_type": "markdown",
   "id": "3a60e4cd",
   "metadata": {},
   "source": [
    "The **search()** method returns a match object if found in the searched string, otherwise it returns none."
   ]
  },
  {
   "cell_type": "markdown",
   "id": "d71aa5ec",
   "metadata": {},
   "source": [
    "## Question 4"
   ]
  },
  {
   "cell_type": "markdown",
   "id": "70177c0e",
   "metadata": {},
   "source": [
    "From a Match item, how do you get the actual strings that match the pattern?"
   ]
  },
  {
   "cell_type": "markdown",
   "id": "a6b5d53e",
   "metadata": {},
   "source": [
    "## Answer to the Question 4"
   ]
  },
  {
   "cell_type": "markdown",
   "id": "7324361d",
   "metadata": {},
   "source": [
    "Using **group()** method will return the string that matched the pattern."
   ]
  },
  {
   "cell_type": "markdown",
   "id": "d6d5d9d1",
   "metadata": {},
   "source": [
    "## Question 5"
   ]
  },
  {
   "cell_type": "markdown",
   "id": "567a373b",
   "metadata": {},
   "source": [
    "In the regex which created from the r'(\\d\\d\\d)-(\\d\\d\\d-\\d\\d\\d\\d)', what does group zero cover? Group 2? Group 1?"
   ]
  },
  {
   "cell_type": "markdown",
   "id": "6b5251ea",
   "metadata": {},
   "source": [
    "## Answer to the Question 5"
   ]
  },
  {
   "cell_type": "markdown",
   "id": "19137df1",
   "metadata": {},
   "source": [
    "Suppose the string **123-345-7899** matches this patter. Then group zero covers **123-345-7899**, group one covers **345** and group two covers **345-7899**."
   ]
  },
  {
   "cell_type": "markdown",
   "id": "90502bee",
   "metadata": {},
   "source": [
    "## Question 6"
   ]
  },
  {
   "cell_type": "markdown",
   "id": "49bcbe66",
   "metadata": {},
   "source": [
    "In standard expression syntax, parentheses and intervals have distinct meanings. How can you tell a regex that you want it to fit real parentheses and periods?"
   ]
  },
  {
   "cell_type": "markdown",
   "id": "f9e512e8",
   "metadata": {},
   "source": [
    "## Answer to the Question 6"
   ]
  },
  {
   "cell_type": "raw",
   "id": "9dfd3198",
   "metadata": {},
   "source": [
    "In standard expression syntax, parentheses and intervals have distinct meanings. We can tell a regex that weant it to fit real parentheses and periods by escaping these character by placing backlash '\\' before them. So to match parenthesis, we can escape it as '\\(' or '\\)'. To escape period '.', we can escape it using '\\.'."
   ]
  },
  {
   "cell_type": "markdown",
   "id": "28c550c6",
   "metadata": {},
   "source": [
    "## Question 7"
   ]
  },
  {
   "cell_type": "markdown",
   "id": "2522d957",
   "metadata": {},
   "source": [
    "The **findall()** method returns a string list or a list of string tuples. What causes it to return one of the two options?"
   ]
  },
  {
   "cell_type": "markdown",
   "id": "d0122b7a",
   "metadata": {},
   "source": [
    "## Answer to the Question 7"
   ]
  },
  {
   "cell_type": "markdown",
   "id": "ce05670a",
   "metadata": {},
   "source": [
    "**findall()** returns all the different matches of a specified pattern in a string. A list of strings is returned if there is no capturing groups or no parentheses around a portion of the pattern in the regular expression is defined. But if the pattern has one or more capturing groups, **findall()** returns a list of tuples representing capturing group of a single match."
   ]
  },
  {
   "cell_type": "markdown",
   "id": "d8764e57",
   "metadata": {},
   "source": [
    "## Question 8"
   ]
  },
  {
   "cell_type": "markdown",
   "id": "d36f6e9b",
   "metadata": {},
   "source": [
    "In standard expressions, what does the | character mean?"
   ]
  },
  {
   "cell_type": "markdown",
   "id": "1adf07d3",
   "metadata": {},
   "source": [
    "## Answer to the Question 8"
   ]
  },
  {
   "cell_type": "markdown",
   "id": "e1c17f76",
   "metadata": {},
   "source": [
    "This means **or** operator and so instead of **or** operator, we can use **|**."
   ]
  },
  {
   "cell_type": "markdown",
   "id": "c91be4c8",
   "metadata": {},
   "source": [
    "## Question 9"
   ]
  },
  {
   "cell_type": "markdown",
   "id": "3ec5976a",
   "metadata": {},
   "source": [
    "In regular expressions, what does the character stand for?"
   ]
  },
  {
   "cell_type": "markdown",
   "id": "42250ef4",
   "metadata": {},
   "source": [
    "## Answer to the Question 9"
   ]
  },
  {
   "cell_type": "markdown",
   "id": "d533bf5c",
   "metadata": {},
   "source": [
    "Using **.**, we can match any single character."
   ]
  },
  {
   "cell_type": "markdown",
   "id": "d41445a7",
   "metadata": {},
   "source": [
    "## Question 10"
   ]
  },
  {
   "cell_type": "markdown",
   "id": "cfd24504",
   "metadata": {},
   "source": [
    "In regular expressions, what is the difference between the + and * characters?"
   ]
  },
  {
   "cell_type": "markdown",
   "id": "b21782fd",
   "metadata": {},
   "source": [
    "## Answer to the Question 10"
   ]
  },
  {
   "cell_type": "markdown",
   "id": "69c38868",
   "metadata": {},
   "source": [
    "**+** means that the preceding character or group should be matched one or more times. `*` means that the preceding character or group should be matched one or more times."
   ]
  },
  {
   "cell_type": "markdown",
   "id": "90cb1ce6",
   "metadata": {},
   "source": [
    "## Question 11"
   ]
  },
  {
   "cell_type": "markdown",
   "id": "6babb769",
   "metadata": {},
   "source": [
    "What is the difference between {4} and {4,5} in regular expression?"
   ]
  },
  {
   "cell_type": "markdown",
   "id": "cdd1a1f4",
   "metadata": {},
   "source": [
    "## Answer to the Question 11"
   ]
  },
  {
   "cell_type": "markdown",
   "id": "7b0b9280",
   "metadata": {},
   "source": [
    "The expression {4} means that the preceding character or group should be matched exactly 4 times. The expression {4} means that the preceding character or group should be matched at least 4 times and at most 5 times. "
   ]
  },
  {
   "cell_type": "markdown",
   "id": "d468b17c",
   "metadata": {},
   "source": [
    "## Question 12"
   ]
  },
  {
   "cell_type": "markdown",
   "id": "1d03e5de",
   "metadata": {},
   "source": [
    "What do you mean by the \\d, \\w, and \\s shorthand character classes signify in regular expressions?"
   ]
  },
  {
   "cell_type": "markdown",
   "id": "915b5490",
   "metadata": {},
   "source": [
    "## Answer to the Question 12"
   ]
  },
  {
   "cell_type": "markdown",
   "id": "bab2133c",
   "metadata": {},
   "source": [
    "\\d matches a digits, \\w matches word character and it matches the ASCII characters [A-Za-z0-9_] and \\s matches for whitespace character."
   ]
  },
  {
   "cell_type": "markdown",
   "id": "e5de3d07",
   "metadata": {},
   "source": [
    "## Question 13"
   ]
  },
  {
   "cell_type": "markdown",
   "id": "af510494",
   "metadata": {},
   "source": [
    "What do means by \\D, \\W, and \\S shorthand character classes signify in regular expressions?"
   ]
  },
  {
   "cell_type": "markdown",
   "id": "b6550b9b",
   "metadata": {},
   "source": [
    "## Answer to the Question 13"
   ]
  },
  {
   "cell_type": "markdown",
   "id": "f5a79d44",
   "metadata": {},
   "source": [
    "\\D matches any non-digit character, \\W matches any non-word character and \\S matches any non-whitespace character."
   ]
  },
  {
   "cell_type": "markdown",
   "id": "4e0681c8",
   "metadata": {},
   "source": [
    "## Question 14"
   ]
  },
  {
   "cell_type": "markdown",
   "id": "ae1353a1",
   "metadata": {},
   "source": [
    "What is the difference between `.*?` and `.*?`"
   ]
  },
  {
   "cell_type": "markdown",
   "id": "4c3bff48",
   "metadata": {},
   "source": [
    "## Answer to the Question 14"
   ]
  },
  {
   "cell_type": "markdown",
   "id": "e4f4edfc",
   "metadata": {},
   "source": [
    "`.*?` matches any character represented by `.` any number of times represented by `*`, as few times as possible represented by `?`. "
   ]
  },
  {
   "cell_type": "markdown",
   "id": "0c3ab1ca",
   "metadata": {},
   "source": [
    "## Question 15 "
   ]
  },
  {
   "cell_type": "markdown",
   "id": "61d6a7a6",
   "metadata": {},
   "source": [
    "matching both numbers and lowercase letters with a character class"
   ]
  },
  {
   "cell_type": "markdown",
   "id": "62cc9d0b",
   "metadata": {},
   "source": [
    "## Answer to the Question 15"
   ]
  },
  {
   "cell_type": "markdown",
   "id": "f026e918",
   "metadata": {},
   "source": [
    "Use this [a-z0-9]"
   ]
  },
  {
   "cell_type": "markdown",
   "id": "143a4fc6",
   "metadata": {},
   "source": [
    "## Question 16"
   ]
  },
  {
   "cell_type": "markdown",
   "id": "d8c05f39",
   "metadata": {},
   "source": [
    "What is the procedure for making a normal expression in regax case insensitive?"
   ]
  },
  {
   "cell_type": "markdown",
   "id": "e034d206",
   "metadata": {},
   "source": [
    "## Answer to the Question 16"
   ]
  },
  {
   "cell_type": "markdown",
   "id": "017e9dcb",
   "metadata": {},
   "source": [
    "We can use either this **flags=re.IGNORECASE** inside re.search() function as additional argument or we can use case-insensitive marker `(?i)` inside the regex pattern."
   ]
  },
  {
   "cell_type": "markdown",
   "id": "2423ad5c",
   "metadata": {},
   "source": [
    "## Question 17"
   ]
  },
  {
   "cell_type": "markdown",
   "id": "589e29b2",
   "metadata": {},
   "source": [
    "What does the . character normally match? What does it match if re.DOTALL is passed as 2nd argument in re.compile()?"
   ]
  },
  {
   "cell_type": "markdown",
   "id": "e68045f8",
   "metadata": {},
   "source": [
    "## Answer to the Question 17"
   ]
  },
  {
   "cell_type": "markdown",
   "id": "21905230",
   "metadata": {},
   "source": [
    "`.` matches any character except line breaks. If `re.DOTALL` is passed as 2nd argument to `re.compile()`, then `.` will match any character including newline."
   ]
  },
  {
   "cell_type": "markdown",
   "id": "5b147f92",
   "metadata": {},
   "source": [
    "## Question 18"
   ]
  },
  {
   "cell_type": "markdown",
   "id": "1449dc35",
   "metadata": {},
   "source": [
    "If **numReg = re.compile(r'\\d+')**, what will **numRegex.sub('X', '11 drummers, 10 pipers, five rings, 4 hen')** return?"
   ]
  },
  {
   "cell_type": "markdown",
   "id": "c7ae7e76",
   "metadata": {},
   "source": [
    "## Answer to the Question 18"
   ]
  },
  {
   "cell_type": "markdown",
   "id": "029aaddf",
   "metadata": {},
   "source": [
    "It will return AttributeError as tuple object has no attribute sub."
   ]
  },
  {
   "cell_type": "markdown",
   "id": "6435241f",
   "metadata": {},
   "source": [
    "## Question 19"
   ]
  },
  {
   "cell_type": "markdown",
   "id": "eaa62fbf",
   "metadata": {},
   "source": [
    "What does passing **re.VERBOSE** as the 2nd argument to **re.compile()** allow to do?"
   ]
  },
  {
   "cell_type": "markdown",
   "id": "5c985a23",
   "metadata": {},
   "source": [
    "## Answer to the Question 19"
   ]
  },
  {
   "cell_type": "markdown",
   "id": "988758e3",
   "metadata": {},
   "source": [
    "Passing **re.VERBOSE** as the 2nd argument to **re.compile()** allows us |to write regular expressions that look nicer and are more readable as it allws to visually separate logical sections of the pattern and add comments."
   ]
  },
  {
   "cell_type": "markdown",
   "id": "343fa539",
   "metadata": {},
   "source": [
    "## Question 20"
   ]
  },
  {
   "cell_type": "markdown",
   "id": "c6d69155",
   "metadata": {},
   "source": [
    "How would you write a regex that match a number with comma for every three digits? It must match the given following:\n",
    "'42'\n",
    "'1,234'\n",
    "'6,368,745'\n",
    "but not the following:\n",
    "'12,34,567' (which has only two digits between the commas)\n",
    "'1234' (which lacks commas)"
   ]
  },
  {
   "cell_type": "markdown",
   "id": "ce5c857a",
   "metadata": {},
   "source": [
    "## Answer to the Question 20"
   ]
  },
  {
   "cell_type": "markdown",
   "id": "931ea338",
   "metadata": {},
   "source": [
    "^\\d{1,3}(,\\d{3})*$"
   ]
  },
  {
   "cell_type": "markdown",
   "id": "08c82316",
   "metadata": {},
   "source": [
    "## Question 21"
   ]
  },
  {
   "cell_type": "markdown",
   "id": "6599f59c",
   "metadata": {},
   "source": [
    "How would you write a regex that matches the full name of someone whose last name is Watanabe? You can assume that the first name that comes before it will always be one word that begins with a capital letter. The regex must match the following:\n",
    "\n",
    "`\n",
    "'Haruto Watanabe'\n",
    "'Alice Watanabe'\n",
    "'RoboCop Watanabe'\n",
    "but not the following:\n",
    "'haruto Watanabe' (where the first name is not capitalized)\n",
    "'Mr. Watanabe' (where the preceding word has a nonletter character)\n",
    "'Watanabe' (which has no first name)\n",
    "'Haruto watanabe' (where Watanabe is not capitalized)`"
   ]
  },
  {
   "cell_type": "markdown",
   "id": "de315202",
   "metadata": {},
   "source": [
    "## Answer to the Question 21"
   ]
  },
  {
   "cell_type": "markdown",
   "id": "2731408d",
   "metadata": {},
   "source": [
    "^[A-Z][a-z]+\\sWatanabe$"
   ]
  },
  {
   "cell_type": "markdown",
   "id": "7587cbab",
   "metadata": {},
   "source": [
    "## Question 22"
   ]
  },
  {
   "cell_type": "markdown",
   "id": "26f24a5e",
   "metadata": {},
   "source": [
    "How would you write a regex that matches a sentence where the first word is either Alice, Bob, or Carol; the second word is either eats, pets, or throws; the third word is apples, cats, or baseballs; and the sentence ends with a period? This regex should be case-insensitive. It must match the following:\n",
    "'Alice eats apples.'\n",
    "'Bob pets cats.'\n",
    "'Carol throws baseballs.'\n",
    "'Alice throws Apples.'\n",
    "'BOB EATS CATS.'\n",
    "but not the following:\n",
    "'RoboCop eats apples.'\n",
    "'ALICE THROWS FOOTBALLS.'\n",
    "'Carol eats 7 cats.'"
   ]
  },
  {
   "cell_type": "markdown",
   "id": "15cfe9fd",
   "metadata": {},
   "source": [
    "## Answer to the Question 22"
   ]
  },
  {
   "cell_type": "markdown",
   "id": "a0715ec3",
   "metadata": {},
   "source": [
    "^(Alice|Bob|Carol)\\s(eats|pets|throws)\\s(apples|cats|baseballs)\\.$"
   ]
  },
  {
   "cell_type": "code",
   "execution_count": null,
   "id": "c72a8ad0",
   "metadata": {},
   "outputs": [],
   "source": []
  }
 ],
 "metadata": {
  "kernelspec": {
   "display_name": "Python 3 (ipykernel)",
   "language": "python",
   "name": "python3"
  },
  "language_info": {
   "codemirror_mode": {
    "name": "ipython",
    "version": 3
   },
   "file_extension": ".py",
   "mimetype": "text/x-python",
   "name": "python",
   "nbconvert_exporter": "python",
   "pygments_lexer": "ipython3",
   "version": "3.9.13"
  }
 },
 "nbformat": 4,
 "nbformat_minor": 5
}
